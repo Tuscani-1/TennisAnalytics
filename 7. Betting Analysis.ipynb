{
 "cells": [
  {
   "cell_type": "markdown",
   "metadata": {},
   "source": [
    "# 7. Betting Analysis\n",
    "\n",
    "In this notebook, we're going to analyse the results of our betting simulator built in the last stage.\n",
    "This will be useful to extract meaningful insights from the profits achieved.\n",
    "We'll be able to find which matches give us the most benefit.\n",
    "\n",
    "In order to make a realistic analysis, we'll use the bookmakers average odds per player"
   ]
  },
  {
   "cell_type": "code",
   "execution_count": 1,
   "metadata": {},
   "outputs": [],
   "source": [
    "import pandas as pd\n",
    "from matplotlib import pyplot as plt"
   ]
  },
  {
   "cell_type": "code",
   "execution_count": 2,
   "metadata": {},
   "outputs": [],
   "source": [
    "betting_df = pd.read_csv(\"csv/Betting_Data.csv\")"
   ]
  },
  {
   "cell_type": "markdown",
   "metadata": {},
   "source": [
    "We need to change the Date column data type to Date:"
   ]
  },
  {
   "cell_type": "code",
   "execution_count": 3,
   "metadata": {},
   "outputs": [],
   "source": [
    "betting_df['Date'] = pd.to_datetime(betting_df['Date'])"
   ]
  },
  {
   "cell_type": "code",
   "execution_count": 4,
   "metadata": {},
   "outputs": [],
   "source": [
    "def create_betting_history(betting_df, initial_bankroll, stake, value_threshold=0):\n",
    "    \n",
    "    history_df = betting_df[(betting_df[\"Bet on Pl0 Value\"]>value_threshold) | (betting_df[\"Bet on Pl1 Value\"]>value_threshold)].copy()\n",
    "    \n",
    "    bankroll = initial_bankroll\n",
    "    won_bets = 0\n",
    "    lost_bets = 0\n",
    "    total_bets = 0\n",
    "    for ix, row in betting_df.iterrows():\n",
    "        if bankroll < 0: break\n",
    "        \n",
    "        value_on_p0 = row['Bet on Pl0 Value']\n",
    "        value_on_p1 = row['Bet on Pl1 Value']\n",
    "        winner = row[\"Winner\"]\n",
    "                    \n",
    "        real_odds_p0 = row['Pl0 Avg odds']\n",
    "        real_odds_p1 = row['Pl1 Avg odds'] \n",
    "        \n",
    "        if pd.isna(real_odds_p0) or pd.isna(real_odds_p1): continue\n",
    "        \n",
    "        if value_on_p0 > value_threshold:\n",
    "            history_df.loc[total_bets, 'Bet on Player:'] = 0\n",
    "            history_df.loc[total_bets, 'Stake'] = stake\n",
    "            history_df.loc[total_bets, 'Odds'] = real_odds_p0\n",
    "            if winner == 0:\n",
    "                bankroll += (real_odds_p0 - 1) * stake\n",
    "                won_bets += 1\n",
    "                history_df.loc[total_bets, 'Won'] = \"YES\"\n",
    "                history_df.loc[total_bets, 'Profit'] = (real_odds_p0 - 1) * stake\n",
    "            else:\n",
    "                bankroll -= stake\n",
    "                lost_bets += 1\n",
    "                history_df.loc[total_bets, 'Won'] = \"NO\"\n",
    "                history_df.loc[total_bets, 'Profit'] = stake * -1\n",
    "            total_bets += 1\n",
    "        \n",
    "        if value_on_p1 > value_threshold:\n",
    "            history_df.loc[total_bets, 'Bet on Player:'] = 1\n",
    "            history_df.loc[total_bets, 'Stake'] = stake\n",
    "            history_df.loc[total_bets, 'Odds'] = real_odds_p1\n",
    "            if winner == 1:\n",
    "                bankroll += (real_odds_p1 - 1) * stake\n",
    "                won_bets += 1\n",
    "                history_df.loc[total_bets, 'Won'] = \"YES\"\n",
    "                history_df.loc[total_bets, 'Profit'] = (real_odds_p1 - 1) * stake\n",
    "            else:\n",
    "                bankroll -= stake\n",
    "                lost_bets += 1\n",
    "                history_df.loc[total_bets, 'Won'] = \"NO\"\n",
    "                history_df.loc[total_bets, 'Profit'] = stake * -1\n",
    "            total_bets += 1\n",
    "    \n",
    "    profit = round(bankroll - initial_bankroll,2)\n",
    "    investment = total_bets*stake\n",
    "    roi = round(100 * profit / investment, 2)\n",
    "    print(\"Total bets placed: {}\\nBets won: {}, bets lost: {}\\nProfit: {}\\nMoney invested: {}\\nROI: {}%\"\n",
    "           .format(total_bets, won_bets, lost_bets, profit, investment, roi))\n",
    "    \n",
    "    return (history_df, roi)"
   ]
  },
  {
   "cell_type": "markdown",
   "metadata": {},
   "source": [
    "Let's analyse the ROI differences year by year from 2010 to 2019."
   ]
  },
  {
   "cell_type": "code",
   "execution_count": 5,
   "metadata": {},
   "outputs": [],
   "source": [
    "\"\"\"\n",
    "This function takes a betting dataframe in input, with a year parameter that's used to filter all matches in the dataframe\n",
    "played in that year. If a second year is specified (year_end attribute), then the matches returned will be between the first\n",
    "year parameter and the second year parameter included\n",
    "\"\"\"\n",
    "def bets_for_year(df, year, year_end=None):\n",
    "    if year_end is not None:\n",
    "        return df[(df['Date'] > pd.Timestamp(year-1,12,31)) & ((df['Date'] < pd.Timestamp(year_end,12,31)))].copy()\n",
    "    else: return df[(df['Date'] > pd.Timestamp(year-1,12,31)) & ((df['Date'] < pd.Timestamp(year,12,31)))].copy()"
   ]
  },
  {
   "cell_type": "code",
   "execution_count": 6,
   "metadata": {},
   "outputs": [
    {
     "name": "stdout",
     "output_type": "stream",
     "text": [
      "+++++++++\n",
      "Year 2010\n",
      "Total bets placed: 1303\n",
      "Bets won: 724, bets lost: 579\n",
      "Profit: 136.93\n",
      "Money invested: 1303\n",
      "ROI: 10.51%\n",
      "+++++++++\n",
      "+++++++++\n",
      "Year 2011\n",
      "Total bets placed: 2024\n",
      "Bets won: 1085, bets lost: 939\n",
      "Profit: 119.67\n",
      "Money invested: 2024\n",
      "ROI: 5.91%\n",
      "+++++++++\n",
      "+++++++++\n",
      "Year 2012\n",
      "Total bets placed: 2046\n",
      "Bets won: 1048, bets lost: 998\n",
      "Profit: 149.67\n",
      "Money invested: 2046\n",
      "ROI: 7.32%\n",
      "+++++++++\n",
      "+++++++++\n",
      "Year 2013\n",
      "Total bets placed: 2019\n",
      "Bets won: 1033, bets lost: 986\n",
      "Profit: 151.09\n",
      "Money invested: 2019\n",
      "ROI: 7.48%\n",
      "+++++++++\n",
      "+++++++++\n",
      "Year 2014\n",
      "Total bets placed: 1931\n",
      "Bets won: 1098, bets lost: 833\n",
      "Profit: 266.09\n",
      "Money invested: 1931\n",
      "ROI: 13.78%\n",
      "+++++++++\n",
      "+++++++++\n",
      "Year 2015\n",
      "Total bets placed: 2038\n",
      "Bets won: 1089, bets lost: 949\n",
      "Profit: 156.08\n",
      "Money invested: 2038\n",
      "ROI: 7.66%\n",
      "+++++++++\n",
      "+++++++++\n",
      "Year 2016\n",
      "Total bets placed: 2033\n",
      "Bets won: 1094, bets lost: 939\n",
      "Profit: 329.04\n",
      "Money invested: 2033\n",
      "ROI: 16.18%\n",
      "+++++++++\n",
      "+++++++++\n",
      "Year 2017\n",
      "Total bets placed: 2081\n",
      "Bets won: 1209, bets lost: 872\n",
      "Profit: 444.34\n",
      "Money invested: 2081\n",
      "ROI: 21.35%\n",
      "+++++++++\n",
      "+++++++++\n",
      "Year 2018\n",
      "Total bets placed: 2169\n",
      "Bets won: 1236, bets lost: 933\n",
      "Profit: 228.62\n",
      "Money invested: 2169\n",
      "ROI: 10.54%\n",
      "+++++++++\n",
      "+++++++++\n",
      "Year 2019\n",
      "Total bets placed: 2119\n",
      "Bets won: 1299, bets lost: 820\n",
      "Profit: 459.1\n",
      "Money invested: 2119\n",
      "ROI: 21.67%\n",
      "+++++++++\n"
     ]
    },
    {
     "data": {
      "text/plain": [
       "<matplotlib.axes._subplots.AxesSubplot at 0x186ef4d9288>"
      ]
     },
     "execution_count": 6,
     "metadata": {},
     "output_type": "execute_result"
    },
    {
     "data": {
      "image/png": "[encoded data removed]",
      "text/plain": [
       "<Figure size 432x288 with 1 Axes>"
      ]
     },
     "metadata": {
      "needs_background": "light"
     },
     "output_type": "display_data"
    }
   ],
   "source": [
    "years_result_df_list = []\n",
    "for y in range(2010,2020):\n",
    "    print(\"+++++++++\")\n",
    "    print(\"Year {}\".format(y))\n",
    "    result = create_betting_history(bets_for_year(betting_df,y), 1000, 1)\n",
    "    years_result_df_list.append({\"Year\":y, \"ROI\": result[1]})\n",
    "    print(\"+++++++++\")\n",
    "result_df = pd.DataFrame(years_result_df_list)\n",
    "result_df.plot.line(x='Year', y='ROI', title=\"ROI per year\")"
   ]
  },
  {
   "cell_type": "markdown",
   "metadata": {},
   "source": [
    "Now let's analyse all the period from 2010 to 2019"
   ]
  },
  {
   "cell_type": "code",
   "execution_count": 7,
   "metadata": {},
   "outputs": [
    {
     "name": "stdout",
     "output_type": "stream",
     "text": [
      "Total bets placed: 19808\n",
      "Bets won: 10942, bets lost: 8866\n",
      "Profit: 2446.13\n",
      "Money invested: 19808\n",
      "ROI: 12.35%\n"
     ]
    }
   ],
   "source": [
    "result = create_betting_history(bets_for_year(betting_df,2010,2019), 1000, 1)\n",
    "df_2010_2019 = result[0] \n",
    "roi_2010_2019 = result[1]"
   ]
  },
  {
   "cell_type": "code",
   "execution_count": 8,
   "metadata": {},
   "outputs": [
    {
     "data": {
      "text/plain": [
       "0.12349202342487885"
      ]
     },
     "execution_count": 8,
     "metadata": {},
     "output_type": "execute_result"
    }
   ],
   "source": [
    "#calculating ROI from dataframe\n",
    "df_2010_2019['Profit'].sum()/df_2010_2019.shape[0]"
   ]
  },
  {
   "cell_type": "code",
   "execution_count": 9,
   "metadata": {},
   "outputs": [
    {
     "data": {
      "text/plain": [
       "19808"
      ]
     },
     "execution_count": 9,
     "metadata": {},
     "output_type": "execute_result"
    }
   ],
   "source": [
    "#total matches\n",
    "df_2010_2019.shape[0]"
   ]
  },
  {
   "cell_type": "markdown",
   "metadata": {},
   "source": [
    "## ROI by Surface\n",
    "\n",
    "Since no matches have been played on carpet in surface in these last years, we'll now represents only Hard, Clay and Grass surfaces"
   ]
  },
  {
   "cell_type": "code",
   "execution_count": 10,
   "metadata": {},
   "outputs": [
    {
     "name": "stdout",
     "output_type": "stream",
     "text": [
      "ROI: 11.23%, Matches: 11032\n"
     ]
    }
   ],
   "source": [
    "df_hard = df_2010_2019[df_2010_2019['Hard'] == 1].copy()\n",
    "roi_hard = round(100*df_hard['Profit'].sum()/df_hard.shape[0],2)\n",
    "print(\"ROI: {}%, Matches: {}\".format(roi_hard,df_hard.shape[0]))"
   ]
  },
  {
   "cell_type": "code",
   "execution_count": 11,
   "metadata": {},
   "outputs": [
    {
     "name": "stdout",
     "output_type": "stream",
     "text": [
      "ROI: 9.69%, Matches: 6331\n"
     ]
    }
   ],
   "source": [
    "df_clay = df_2010_2019[df_2010_2019['Clay'] == 1].copy()\n",
    "roi_clay = round(100*df_clay['Profit'].sum()/df_clay.shape[0],2)\n",
    "print(\"ROI: {}%, Matches: {}\".format(roi_clay,df_clay.shape[0]))"
   ]
  },
  {
   "cell_type": "code",
   "execution_count": 12,
   "metadata": {},
   "outputs": [
    {
     "name": "stdout",
     "output_type": "stream",
     "text": [
      "ROI: 24.17%, Matches: 2442\n"
     ]
    }
   ],
   "source": [
    "df_grass = df_2010_2019[df_2010_2019['Grass'] == 1].copy()\n",
    "roi_grass = round(100*df_grass['Profit'].sum()/df_grass.shape[0],2)\n",
    "print(\"ROI: {}%, Matches: {}\".format(roi_grass,df_grass.shape[0]))"
   ]
  },
  {
   "cell_type": "code",
   "execution_count": 13,
   "metadata": {},
   "outputs": [
    {
     "data": {
      "image/png": "[encoded data removed]",
      "text/plain": [
       "<Figure size 648x216 with 1 Axes>"
      ]
     },
     "metadata": {
      "needs_background": "light"
     },
     "output_type": "display_data"
    }
   ],
   "source": [
    "names = ['Hard ROI','Clay ROI','Grass ROI']\n",
    "values = [roi_hard, roi_clay, roi_grass]\n",
    "\n",
    "plt.figure(figsize=(9, 3))\n",
    "\n",
    "plt.bar(names, values)\n",
    "plt.xlabel(\"Surface\")\n",
    "plt.ylabel(\"ROI %\")\n",
    "plt.title(\"ROI Against Different Surfaces\")\n",
    "plt.show()"
   ]
  },
  {
   "cell_type": "markdown",
   "metadata": {},
   "source": [
    "On Hard surface, we get a 11% ROI on a total of 11032 matches, above half of the matches in our betting dataset.\n",
    "On Clay the ROI drops to 9.6% on a total of 6331 matches.\n",
    "On grass, the ROI reaches an astonishing 24.1%! The matches are less (2442), since the grass season usually is very short."
   ]
  },
  {
   "cell_type": "markdown",
   "metadata": {},
   "source": [
    "## ROI by Tournament\n",
    "\n",
    "Next, we'll explore which categories provide us with the highest margin"
   ]
  },
  {
   "cell_type": "code",
   "execution_count": 14,
   "metadata": {},
   "outputs": [
    {
     "name": "stdout",
     "output_type": "stream",
     "text": [
      "ROI: 16.04%, Matches: 8656\n"
     ]
    }
   ],
   "source": [
    "df_atp250 = df_2010_2019[df_2010_2019['ATP250'] == 1].copy()\n",
    "roi_atp250 = round(100*df_atp250['Profit'].sum()/df_atp250.shape[0],2)\n",
    "print(\"ROI: {}%, Matches: {}\".format(roi_atp250,df_atp250.shape[0]))"
   ]
  },
  {
   "cell_type": "code",
   "execution_count": 15,
   "metadata": {},
   "outputs": [
    {
     "name": "stdout",
     "output_type": "stream",
     "text": [
      "ROI: 14.29%, Matches: 3116\n"
     ]
    }
   ],
   "source": [
    "df_atp500 = df_2010_2019[df_2010_2019['ATP500'] == 1].copy()\n",
    "roi_atp500 = round(100*df_atp500['Profit'].sum()/df_atp500.shape[0],2)\n",
    "print(\"ROI: {}%, Matches: {}\".format(roi_atp500,df_atp500.shape[0]))"
   ]
  },
  {
   "cell_type": "code",
   "execution_count": 16,
   "metadata": {},
   "outputs": [
    {
     "name": "stdout",
     "output_type": "stream",
     "text": [
      "ROI: 9.91%, Matches: 4087\n"
     ]
    }
   ],
   "source": [
    "df_atp1000 = df_2010_2019[df_2010_2019['Masters 1000'] == 1].copy()\n",
    "roi_atp1000 = round(100*df_atp1000['Profit'].sum()/df_atp1000.shape[0],2)\n",
    "print(\"ROI: {}%, Matches: {}\".format(roi_atp1000,df_atp1000.shape[0]))"
   ]
  },
  {
   "cell_type": "code",
   "execution_count": 17,
   "metadata": {},
   "outputs": [
    {
     "name": "stdout",
     "output_type": "stream",
     "text": [
      "ROI: -3.69%, Matches: 112\n"
     ]
    }
   ],
   "source": [
    "df_masters = df_2010_2019[df_2010_2019['Masters Cup'] == 1].copy()\n",
    "roi_masters = round(100*df_masters['Profit'].sum()/df_masters.shape[0],2)\n",
    "print(\"ROI: {}%, Matches: {}\".format(roi_masters,df_masters.shape[0]))"
   ]
  },
  {
   "cell_type": "code",
   "execution_count": 18,
   "metadata": {},
   "outputs": [
    {
     "name": "stdout",
     "output_type": "stream",
     "text": [
      "ROI: 5.42%, Matches: 3834\n"
     ]
    }
   ],
   "source": [
    "df_slam = df_2010_2019[df_2010_2019['Grand Slam'] == 1].copy()\n",
    "roi_slam = round(100*df_slam['Profit'].sum()/df_slam.shape[0],2)\n",
    "print(\"ROI: {}%, Matches: {}\".format(roi_slam,df_slam.shape[0]))"
   ]
  },
  {
   "cell_type": "code",
   "execution_count": 19,
   "metadata": {
    "scrolled": true
   },
   "outputs": [
    {
     "data": {
      "image/png": "[encoded data removed]",
      "text/plain": [
       "<Figure size 648x216 with 1 Axes>"
      ]
     },
     "metadata": {
      "needs_background": "light"
     },
     "output_type": "display_data"
    }
   ],
   "source": [
    "names = ['ATP250 ROI','ATP500 ROI','ATP 1000 ROI', 'Masters Cup ROI', 'Grand Slam ROI']\n",
    "values = [roi_atp250, roi_atp500, roi_atp1000, roi_masters, roi_slam]\n",
    "\n",
    "plt.figure(figsize=(9, 3))\n",
    "\n",
    "plt.bar(names, values)\n",
    "plt.xlabel(\"Tournament Type\")\n",
    "plt.ylabel(\"ROI %\")\n",
    "plt.title(\"ROI Against Different Tournament Types\")\n",
    "plt.show()"
   ]
  },
  {
   "cell_type": "markdown",
   "metadata": {},
   "source": [
    "Before analysing the difference in terms of ROI (negative for the Masters Cup!), we need to specify that the number of matches for Masters Cup is significantly lower than the other tournament types matches (112 against 3000/4000/8000 for other categories).\n",
    "However we note how smaller the ROI is for Grand Slam matches.\n",
    "\n",
    "GS matches are best of 5 games, against the traditional best of 3 games we see in the other tournaments, so that might be one cause.\n",
    "Another cause, as we'll discuss later, might be the liquidity for GS matches, that might make the relative markets much more efficient (wisdom of the crowd effect)"
   ]
  },
  {
   "cell_type": "markdown",
   "metadata": {},
   "source": [
    "## ROI by Round of Tournament\n",
    "\n",
    "Next, we'll explore which round in a tournament provide us with the highest margin"
   ]
  },
  {
   "cell_type": "code",
   "execution_count": 20,
   "metadata": {},
   "outputs": [
    {
     "name": "stdout",
     "output_type": "stream",
     "text": [
      "ROI: 3.43%, Matches: 89\n"
     ]
    }
   ],
   "source": [
    "df_rr = df_2010_2019[df_2010_2019['Round Robin'] == 1].copy()\n",
    "roi_rr = round(100*df_rr['Profit'].sum()/df_rr.shape[0],2)\n",
    "print(\"ROI: {}%, Matches: {}\".format(roi_rr,df_rr.shape[0]))"
   ]
  },
  {
   "cell_type": "code",
   "execution_count": 21,
   "metadata": {},
   "outputs": [
    {
     "name": "stdout",
     "output_type": "stream",
     "text": [
      "ROI: 15.4%, Matches: 9168\n"
     ]
    }
   ],
   "source": [
    "df_1st_round = df_2010_2019[df_2010_2019['1st Round'] == 1].copy()\n",
    "roi_1st_round = round(100*df_1st_round['Profit'].sum()/df_1st_round.shape[0],2)\n",
    "print(\"ROI: {}%, Matches: {}\".format(roi_1st_round,df_1st_round.shape[0]))"
   ]
  },
  {
   "cell_type": "code",
   "execution_count": 22,
   "metadata": {},
   "outputs": [
    {
     "name": "stdout",
     "output_type": "stream",
     "text": [
      "ROI: 13.22%, Matches: 5494\n"
     ]
    }
   ],
   "source": [
    "df_2nd_round = df_2010_2019[df_2010_2019['2nd Round'] == 1].copy()\n",
    "roi_2nd_round = round(100*df_2nd_round['Profit'].sum()/df_2nd_round.shape[0],2)\n",
    "print(\"ROI: {}%, Matches: {}\".format(roi_2nd_round,df_2nd_round.shape[0]))"
   ]
  },
  {
   "cell_type": "code",
   "execution_count": 23,
   "metadata": {},
   "outputs": [
    {
     "name": "stdout",
     "output_type": "stream",
     "text": [
      "ROI: 5.96%, Matches: 1360\n"
     ]
    }
   ],
   "source": [
    "df_3rd_round = df_2010_2019[df_2010_2019['3rd Round'] == 1].copy()\n",
    "roi_3rd_round = round(100*df_3rd_round['Profit'].sum()/df_3rd_round.shape[0],2)\n",
    "print(\"ROI: {}%, Matches: {}\".format(roi_3rd_round,df_3rd_round.shape[0]))"
   ]
  },
  {
   "cell_type": "code",
   "execution_count": 24,
   "metadata": {},
   "outputs": [
    {
     "name": "stdout",
     "output_type": "stream",
     "text": [
      "ROI: -8.23%, Matches: 349\n"
     ]
    }
   ],
   "source": [
    "df_4th_round = df_2010_2019[df_2010_2019['4th Round'] == 1].copy()\n",
    "roi_4th_round = round(100*df_4th_round['Profit'].sum()/df_4th_round.shape[0],2)\n",
    "print(\"ROI: {}%, Matches: {}\".format(roi_4th_round,df_4th_round.shape[0]))"
   ]
  },
  {
   "cell_type": "code",
   "execution_count": 25,
   "metadata": {},
   "outputs": [
    {
     "name": "stdout",
     "output_type": "stream",
     "text": [
      "ROI: 6.79%, Matches: 1894\n"
     ]
    }
   ],
   "source": [
    "df_qf = df_2010_2019[df_2010_2019['Quarterfinals'] == 1].copy()\n",
    "roi_qf = round(100*df_qf['Profit'].sum()/df_qf.shape[0],2)\n",
    "print(\"ROI: {}%, Matches: {}\".format(roi_qf,df_qf.shape[0]))"
   ]
  },
  {
   "cell_type": "code",
   "execution_count": 26,
   "metadata": {},
   "outputs": [
    {
     "name": "stdout",
     "output_type": "stream",
     "text": [
      "ROI: 7.77%, Matches: 958\n"
     ]
    }
   ],
   "source": [
    "df_sm = df_2010_2019[df_2010_2019['Semifinals'] == 1].copy()\n",
    "roi_sf = round(100*df_sm['Profit'].sum()/df_sm.shape[0],2)\n",
    "print(\"ROI: {}%, Matches: {}\".format(roi_sf,df_sm.shape[0]))"
   ]
  },
  {
   "cell_type": "code",
   "execution_count": 27,
   "metadata": {},
   "outputs": [
    {
     "name": "stdout",
     "output_type": "stream",
     "text": [
      "ROI: 9.29%, Matches: 493\n"
     ]
    }
   ],
   "source": [
    "df_final = df_2010_2019[df_2010_2019['The Final'] == 1].copy()\n",
    "roi_final = round(100*df_final['Profit'].sum()/df_final.shape[0],2)\n",
    "print(\"ROI: {}%, Matches: {}\".format(roi_final,df_final.shape[0]))"
   ]
  },
  {
   "cell_type": "code",
   "execution_count": 28,
   "metadata": {
    "scrolled": true
   },
   "outputs": [
    {
     "data": {
      "image/png": "[encoded data removed]",
      "text/plain": [
       "<Figure size 1080x288 with 1 Axes>"
      ]
     },
     "metadata": {
      "needs_background": "light"
     },
     "output_type": "display_data"
    }
   ],
   "source": [
    "names = ['Round Robin ROI','1st Round ROI','2nd Round ROI', '3rd Round ROI', '4th Round ROI', 'Quarterfinals ROI', 'Semifinals ROI', 'Final ROI']\n",
    "values = [roi_rr, roi_1st_round, roi_2nd_round, roi_3rd_round, roi_4th_round, roi_qf, roi_sf, roi_final]\n",
    "\n",
    "plt.figure(figsize=(15, 4))\n",
    "\n",
    "plt.bar(names, values)\n",
    "plt.xlabel(\"Tournament Round\")\n",
    "plt.ylabel(\"ROI %\")\n",
    "plt.title(\"ROI Against Different Tournament Rounds\")\n",
    "plt.show()"
   ]
  },
  {
   "cell_type": "markdown",
   "metadata": {},
   "source": [
    "This graph shows us how the ROI is much smaller for 4th rounds and round robins, but again, we need to look at the number of observations for these matches.\n",
    "\n",
    "Round Robins usually take place only in the Masters Cup tournament, once per year, and therefore we have only 89 matches in the dataframe. Thus the result is not statistically significant.\n",
    "\n",
    "We also need to know that 4th matches are played only in Grand Slam tournaments (slams have higher number of rounds) since, for other tournaments (with less rounds), the 4th round would be a quarterfinal or a semifinal. Therefore, although the ROI is well below breakeven (-8%), the limited amount of matches (349) don't give us the confidence to believe blindly at this result."
   ]
  },
  {
   "cell_type": "markdown",
   "metadata": {},
   "source": [
    "## ROI by Ranking Index\n",
    "\n",
    "Next, we'll analyse how the ranking index (difference between the rankings of Player 0 and Player 1) affects the ROI"
   ]
  },
  {
   "cell_type": "code",
   "execution_count": 29,
   "metadata": {},
   "outputs": [
    {
     "name": "stdout",
     "output_type": "stream",
     "text": [
      "ROI: 9.98%, Matches: 5126\n"
     ]
    }
   ],
   "source": [
    "df_very_high_ri_diff = df_2010_2019[abs(df_2010_2019['Rank Index']) > 0.5].copy()\n",
    "roi_very_high_ri_diff = round(100*df_very_high_ri_diff['Profit'].sum()/df_very_high_ri_diff.shape[0],2)\n",
    "print(\"ROI: {}%, Matches: {}\".format(roi_very_high_ri_diff,df_very_high_ri_diff.shape[0]))"
   ]
  },
  {
   "cell_type": "code",
   "execution_count": 30,
   "metadata": {},
   "outputs": [
    {
     "name": "stdout",
     "output_type": "stream",
     "text": [
      "ROI: 11.96%, Matches: 8629\n"
     ]
    }
   ],
   "source": [
    "df_medium_ri_diff = df_2010_2019[(abs(df_2010_2019['Rank Index']) > 0.1) & (abs(df_2010_2019['Rank Index']) <= 0.5)].copy()\n",
    "roi_medium_ri_diff = round(100*df_medium_ri_diff['Profit'].sum()/df_medium_ri_diff.shape[0],2)\n",
    "print(\"ROI: {}%, Matches: {}\".format(roi_medium_ri_diff,df_medium_ri_diff.shape[0]))"
   ]
  },
  {
   "cell_type": "code",
   "execution_count": 31,
   "metadata": {},
   "outputs": [
    {
     "name": "stdout",
     "output_type": "stream",
     "text": [
      "ROI: 14.86%, Matches: 6050\n"
     ]
    }
   ],
   "source": [
    "df_low_ri_diff = df_2010_2019[abs(df_2010_2019['Rank Index']) <= 0.1].copy()\n",
    "roi_low_ri_diff = round(100*df_low_ri_diff['Profit'].sum()/df_low_ri_diff.shape[0],2)\n",
    "print(\"ROI: {}%, Matches: {}\".format(roi_low_ri_diff,df_low_ri_diff.shape[0]))"
   ]
  },
  {
   "cell_type": "code",
   "execution_count": 32,
   "metadata": {
    "scrolled": true
   },
   "outputs": [
    {
     "data": {
      "image/png": "[encoded data removed]",
      "text/plain": [
       "<Figure size 648x216 with 1 Axes>"
      ]
     },
     "metadata": {
      "needs_background": "light"
     },
     "output_type": "display_data"
    }
   ],
   "source": [
    "names = ['Very High Ranking Difference','Medium Ranking Difference','Low Ranking Difference']\n",
    "values = [roi_very_high_ri_diff, roi_medium_ri_diff, roi_low_ri_diff]\n",
    "\n",
    "plt.figure(figsize=(9, 3))\n",
    "\n",
    "plt.bar(names, values)\n",
    "plt.xlabel(\"Ranking Difference\")\n",
    "plt.ylabel(\"ROI %\")\n",
    "plt.title(\"ROI Against Ranking Difference\")\n",
    "plt.show()"
   ]
  },
  {
   "cell_type": "markdown",
   "metadata": {},
   "source": [
    "Given the Ranking index, for each match, we can notice that the matches where the gap between the rankings of the players is smaller are the ones who give us more profit, while the matches of top players vs low ranked players are not as profitable.\n",
    "However, the ROI difference between the 3 groups is not huge."
   ]
  },
  {
   "cell_type": "markdown",
   "metadata": {},
   "source": [
    "## ROI by Absolute Ranking \n",
    "\n",
    "Next, we'll analyse how the rankings (Pl0_Rank and Pl1_Rank) affect the ROI"
   ]
  },
  {
   "cell_type": "code",
   "execution_count": 33,
   "metadata": {},
   "outputs": [
    {
     "name": "stdout",
     "output_type": "stream",
     "text": [
      "ROI: -3.27%, Matches: 173\n"
     ]
    }
   ],
   "source": [
    "df_top5 = df_2010_2019[(df_2010_2019['Pl0_Rank'] <= 5) & (df_2010_2019['Pl1_Rank'] <= 5)].copy()\n",
    "roi_top5 = round(100*df_top5['Profit'].sum()/df_top5.shape[0],2)\n",
    "print(\"ROI: {}%, Matches: {}\".format(roi_top5,df_top5.shape[0]))"
   ]
  },
  {
   "cell_type": "code",
   "execution_count": 34,
   "metadata": {},
   "outputs": [
    {
     "name": "stdout",
     "output_type": "stream",
     "text": [
      "ROI: -7.66%, Matches: 513\n"
     ]
    }
   ],
   "source": [
    "df_top10 = df_2010_2019[(df_2010_2019['Pl0_Rank'] <= 10) & (df_2010_2019['Pl1_Rank'] <= 10)].copy()\n",
    "roi_top10 = round(100*df_top10['Profit'].sum()/df_top10.shape[0],2)\n",
    "print(\"ROI: {}%, Matches: {}\".format(roi_top10,df_top10.shape[0]))"
   ]
  },
  {
   "cell_type": "code",
   "execution_count": 35,
   "metadata": {},
   "outputs": [
    {
     "name": "stdout",
     "output_type": "stream",
     "text": [
      "ROI: 16.26%, Matches: 11471\n"
     ]
    }
   ],
   "source": [
    "df_others = df_2010_2019[(df_2010_2019['Pl0_Rank'] > 25) & (df_2010_2019['Pl1_Rank'] > 25)].copy()\n",
    "roi_others = round(100*df_others['Profit'].sum()/df_others.shape[0],2)\n",
    "print(\"ROI: {}%, Matches: {}\".format(roi_others,df_others.shape[0]))"
   ]
  },
  {
   "cell_type": "code",
   "execution_count": 38,
   "metadata": {},
   "outputs": [
    {
     "data": {
      "image/png": "[encoded data removed]",
      "text/plain": [
       "<Figure size 648x216 with 1 Axes>"
      ]
     },
     "metadata": {
      "needs_background": "light"
     },
     "output_type": "display_data"
    }
   ],
   "source": [
    "names = ['Top 5 Matches','Top 10 Matches','Out of Top 25 Matches']\n",
    "values = [roi_top5, roi_top10, roi_others]\n",
    "\n",
    "plt.figure(figsize=(9, 3))\n",
    "\n",
    "plt.bar(names, values)\n",
    "plt.xlabel(\"Ranking Groups\")\n",
    "plt.ylabel(\"ROI %\")\n",
    "plt.title(\"ROI Against Ranking Groups\")\n",
    "plt.show()"
   ]
  },
  {
   "cell_type": "markdown",
   "metadata": {},
   "source": [
    "Looking at the last analysis, that grouped matches between the top 5 ranked players, the top 10 and the other players outside top 25, we can clearly see a pattern.\n",
    "\n",
    "In fact, the matches with the best players are not profitable to bet on (at average odds).\n",
    "If we take another look at the ROI by tournament category we'll also see that Grand Slam and Masters cup matches are not particularly profitable as well.\n",
    "\n",
    "Why is that? One reason I can think of is that these matches have a high liquidity, since many punters will bet upon these, and thus the market becomes much more efficient than regular matches between lower ranked players, or matches in not-so-important tournaments.\n",
    "As a proof, let's create two other dataframes. One containing matches between players in the top 10, being semifinals or finals and in tournaments like ATP Master 1000, Grand Slam or Masters Cup.\n",
    "The other will contain ordinary matches.\n",
    "\n",
    "We'll then proceed to compare the ROI of these 2 dataframes."
   ]
  },
  {
   "cell_type": "code",
   "execution_count": 36,
   "metadata": {},
   "outputs": [
    {
     "name": "stdout",
     "output_type": "stream",
     "text": [
      "ROI: 0.31%, Matches: 303\n"
     ]
    }
   ],
   "source": [
    "df_top = df_2010_2019[\n",
    "    (df_2010_2019['The Final']+df_2010_2019['Semifinals']==1) \n",
    "    & (df_2010_2019['Grand Slam']+df_2010_2019['Masters Cup']+df_2010_2019['Masters 1000']==1)\n",
    "].copy()\n",
    "roi_top = round(100*df_top['Profit'].sum()/df_top.shape[0],2)\n",
    "print(\"ROI: {}%, Matches: {}\".format(roi_top,df_top.shape[0]))"
   ]
  },
  {
   "cell_type": "code",
   "execution_count": 37,
   "metadata": {},
   "outputs": [
    {
     "name": "stdout",
     "output_type": "stream",
     "text": [
      "ROI: 16.13%, Matches: 10624\n"
     ]
    }
   ],
   "source": [
    "df_not_top = df_2010_2019[\n",
    "    (df_2010_2019['The Final']+df_2010_2019['Semifinals']==0) \n",
    "    & (df_2010_2019['Grand Slam']+df_2010_2019['Masters Cup']+df_2010_2019['Masters 1000']==0)\n",
    "].copy()\n",
    "roi_not_top = round(100*df_not_top['Profit'].sum()/df_not_top.shape[0],2)\n",
    "print(\"ROI: {}%, Matches: {}\".format(roi_not_top,df_not_top.shape[0]))"
   ]
  },
  {
   "cell_type": "markdown",
   "metadata": {},
   "source": [
    "As clearly shown here there's a big difference in terms of ROI between the 2 dataframes, but we also need to consider that the \"top\" matches were only 303, which makes this analysis not so much significant from a statistical standpoint."
   ]
  }
 ],
 "metadata": {
  "kernelspec": {
   "display_name": "Python 3",
   "language": "python",
   "name": "python3"
  },
  "language_info": {
   "codemirror_mode": {
    "name": "ipython",
    "version": 3
   },
   "file_extension": ".py",
   "mimetype": "text/x-python",
   "name": "python",
   "nbconvert_exporter": "python",
   "pygments_lexer": "ipython3",
   "version": "3.7.6"
  }
 },
 "nbformat": 4,
 "nbformat_minor": 4
}
