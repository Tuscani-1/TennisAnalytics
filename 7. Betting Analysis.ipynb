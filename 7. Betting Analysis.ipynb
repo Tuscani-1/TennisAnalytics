{
 "cells": [
  {
   "cell_type": "markdown",
   "metadata": {},
   "source": [
    "# 7. Betting Analysis\n",
    "\n",
    "In this notebook, we're going to analyse the results of our betting simulator built in the last stage.\n",
    "This will be useful to extract meaningful insights from the profits achieved.\n",
    "We'll be able to find which matches give us the most benefit.\n",
    "\n",
    "In order to make a realistic analysis, we'll use the bookmakers average odds per player"
   ]
  },
  {
   "cell_type": "code",
   "execution_count": 1,
   "metadata": {},
   "outputs": [],
   "source": [
    "import pandas as pd"
   ]
  },
  {
   "cell_type": "code",
   "execution_count": 2,
   "metadata": {},
   "outputs": [],
   "source": [
    "betting_df = pd.read_csv(\"csv/Betting_Data.csv\")"
   ]
  },
  {
   "cell_type": "markdown",
   "metadata": {},
   "source": [
    "We need to change the Date column data type to Date:"
   ]
  },
  {
   "cell_type": "code",
   "execution_count": 3,
   "metadata": {},
   "outputs": [],
   "source": [
    "betting_df['Date'] = pd.to_datetime(betting_df['Date'])"
   ]
  },
  {
   "cell_type": "code",
   "execution_count": 10,
   "metadata": {},
   "outputs": [],
   "source": [
    "def create_betting_history(betting_df, initial_bankroll, stake, value_threshold=0):\n",
    "    \n",
    "    history_df = betting_df.copy()\n",
    "    \n",
    "    bankroll = initial_bankroll\n",
    "    won_bets = 0\n",
    "    lost_bets = 0\n",
    "    total_bets = 0\n",
    "    for ix, row in betting_df.iterrows():\n",
    "        if bankroll < 0: break\n",
    "        \n",
    "        value_on_p0 = row['Bet on Pl0 Value']\n",
    "        value_on_p1 = row['Bet on Pl1 Value']\n",
    "        winner = row[\"Winner\"]\n",
    "                    \n",
    "        real_odds_p0 = row['Pl0 Avg odds']\n",
    "        real_odds_p1 = row['Pl1 Avg odds'] \n",
    "        \n",
    "        if pd.isna(real_odds_p0) or pd.isna(real_odds_p1): continue\n",
    "        \n",
    "        if value_on_p0 > value_threshold:\n",
    "            history_df.loc[total_bets, 'Bet on Player:'] = 0\n",
    "            history_df.loc[total_bets, 'Stake'] = stake\n",
    "            history_df.loc[total_bets, 'Odds'] = real_odds_p0\n",
    "            if winner == 0:\n",
    "                bankroll += (real_odds_p0 - 1) * stake\n",
    "                won_bets += 1\n",
    "                history_df.loc[total_bets, 'Won'] = \"YES\"\n",
    "                history_df.loc[total_bets, 'Profit'] = (real_odds_p0 - 1) * stake\n",
    "            else:\n",
    "                bankroll -= stake\n",
    "                lost_bets += 1\n",
    "                history_df.loc[total_bets, 'Won'] = \"NO\"\n",
    "                history_df.loc[total_bets, 'Profit'] = stake * -1\n",
    "            total_bets += 1\n",
    "        \n",
    "        if value_on_p1 > value_threshold:\n",
    "            history_df.loc[total_bets, 'Bet on Player:'] = 1\n",
    "            history_df.loc[total_bets, 'Stake'] = stake\n",
    "            history_df.loc[total_bets, 'Odds'] = real_odds_p1\n",
    "            if winner == 1:\n",
    "                bankroll += (real_odds_p1 - 1) * stake\n",
    "                won_bets += 1\n",
    "                history_df.loc[total_bets, 'Won'] = \"YES\"\n",
    "                history_df.loc[total_bets, 'Profit'] = (real_odds_p1 - 1) * stake\n",
    "            else:\n",
    "                bankroll -= stake\n",
    "                lost_bets += 1\n",
    "                history_df.loc[total_bets, 'Won'] = \"NO\"\n",
    "                history_df.loc[total_bets, 'Profit'] = stake * -1\n",
    "            total_bets += 1\n",
    "    \n",
    "    profit = round(bankroll - initial_bankroll,2)\n",
    "    investment = total_bets*stake\n",
    "    roi = round(100 * profit / investment, 2)\n",
    "    print(\"Total bets placed: {}\\nBets won: {}, bets lost: {}\\nProfit: {}\\nMoney invested: {}\\nROI: {}%\"\n",
    "           .format(total_bets, won_bets, lost_bets, profit, investment, roi))\n",
    "    \n",
    "    return (history_df, roi)"
   ]
  },
  {
   "cell_type": "markdown",
   "metadata": {},
   "source": [
    "Let's analyse the ROI differences year by year from 2010 to 2019."
   ]
  },
  {
   "cell_type": "code",
   "execution_count": 5,
   "metadata": {},
   "outputs": [],
   "source": [
    "\"\"\"\n",
    "This function takes a betting dataframe in input, with a year parameter that's used to filter all matches in the dataframe\n",
    "played in that year. If a second year is specified (year_end attribute), then the matches returned will be between the first\n",
    "year parameter and the second year parameter included\n",
    "\"\"\"\n",
    "def bets_for_year(df, year, year_end=None):\n",
    "    if year_end is not None:\n",
    "        return df[(df['Date'] > pd.Timestamp(year-1,12,31)) & ((df['Date'] < pd.Timestamp(year_end,12,31)))].copy()\n",
    "    else: return df[(df['Date'] > pd.Timestamp(year-1,12,31)) & ((df['Date'] < pd.Timestamp(year,12,31)))].copy()"
   ]
  },
  {
   "cell_type": "code",
   "execution_count": 11,
   "metadata": {},
   "outputs": [
    {
     "name": "stdout",
     "output_type": "stream",
     "text": [
      "+++++++++\n",
      "Year 2010\n",
      "Total bets placed: 1303\n",
      "Bets won: 724, bets lost: 579\n",
      "Profit: 136.93\n",
      "Money invested: 1303\n",
      "ROI: 10.51%\n",
      "+++++++++\n",
      "+++++++++\n",
      "Year 2011\n",
      "Total bets placed: 2024\n",
      "Bets won: 1085, bets lost: 939\n",
      "Profit: 119.67\n",
      "Money invested: 2024\n",
      "ROI: 5.91%\n",
      "+++++++++\n",
      "+++++++++\n",
      "Year 2012\n",
      "Total bets placed: 2046\n",
      "Bets won: 1048, bets lost: 998\n",
      "Profit: 149.67\n",
      "Money invested: 2046\n",
      "ROI: 7.32%\n",
      "+++++++++\n",
      "+++++++++\n",
      "Year 2013\n",
      "Total bets placed: 2019\n",
      "Bets won: 1033, bets lost: 986\n",
      "Profit: 151.09\n",
      "Money invested: 2019\n",
      "ROI: 7.48%\n",
      "+++++++++\n",
      "+++++++++\n",
      "Year 2014\n",
      "Total bets placed: 1931\n",
      "Bets won: 1098, bets lost: 833\n",
      "Profit: 266.09\n",
      "Money invested: 1931\n",
      "ROI: 13.78%\n",
      "+++++++++\n",
      "+++++++++\n",
      "Year 2015\n",
      "Total bets placed: 2038\n",
      "Bets won: 1089, bets lost: 949\n",
      "Profit: 156.08\n",
      "Money invested: 2038\n",
      "ROI: 7.66%\n",
      "+++++++++\n",
      "+++++++++\n",
      "Year 2016\n",
      "Total bets placed: 2033\n",
      "Bets won: 1094, bets lost: 939\n",
      "Profit: 329.04\n",
      "Money invested: 2033\n",
      "ROI: 16.18%\n",
      "+++++++++\n",
      "+++++++++\n",
      "Year 2017\n",
      "Total bets placed: 2081\n",
      "Bets won: 1209, bets lost: 872\n",
      "Profit: 444.34\n",
      "Money invested: 2081\n",
      "ROI: 21.35%\n",
      "+++++++++\n",
      "+++++++++\n",
      "Year 2018\n",
      "Total bets placed: 2169\n",
      "Bets won: 1236, bets lost: 933\n",
      "Profit: 228.62\n",
      "Money invested: 2169\n",
      "ROI: 10.54%\n",
      "+++++++++\n",
      "+++++++++\n",
      "Year 2019\n",
      "Total bets placed: 2119\n",
      "Bets won: 1299, bets lost: 820\n",
      "Profit: 459.1\n",
      "Money invested: 2119\n",
      "ROI: 21.67%\n",
      "+++++++++\n"
     ]
    },
    {
     "data": {
      "text/plain": [
       "<matplotlib.axes._subplots.AxesSubplot at 0x13534012d08>"
      ]
     },
     "execution_count": 11,
     "metadata": {},
     "output_type": "execute_result"
    },
    {
     "data": {
      "image/png": "[encoded data removed]",
      "text/plain": [
       "<Figure size 432x288 with 1 Axes>"
      ]
     },
     "metadata": {
      "needs_background": "light"
     },
     "output_type": "display_data"
    },
    {
     "data": {
      "image/png": "[encoded data removed]",
      "text/plain": [
       "<Figure size 432x288 with 1 Axes>"
      ]
     },
     "metadata": {
      "needs_background": "light"
     },
     "output_type": "display_data"
    }
   ],
   "source": [
    "years_result_df_list = []\n",
    "for y in range(2010,2020):\n",
    "    print(\"+++++++++\")\n",
    "    print(\"Year {}\".format(y))\n",
    "    result = create_betting_history(bets_for_year(betting_df,y), 1000, 1)\n",
    "    years_result_df_list.append({\"Year\":y, \"ROI\": result[1]})\n",
    "    print(\"+++++++++\")\n",
    "result_df = pd.DataFrame(years_result_df_list)\n",
    "result_df.plot.line(x='Year', y='ROI', title=\"ROI per year\")"
   ]
  },
  {
   "cell_type": "code",
   "execution_count": null,
   "metadata": {},
   "outputs": [],
   "source": []
  },
  {
   "cell_type": "code",
   "execution_count": null,
   "metadata": {},
   "outputs": [],
   "source": []
  }
 ],
 "metadata": {
  "kernelspec": {
   "display_name": "Python 3",
   "language": "python",
   "name": "python3"
  },
  "language_info": {
   "codemirror_mode": {
    "name": "ipython",
    "version": 3
   },
   "file_extension": ".py",
   "mimetype": "text/x-python",
   "name": "python",
   "nbconvert_exporter": "python",
   "pygments_lexer": "ipython3",
   "version": "3.7.6"
  }
 },
 "nbformat": 4,
 "nbformat_minor": 4
}
