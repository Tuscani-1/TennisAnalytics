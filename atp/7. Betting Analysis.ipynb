{
 "cells": [
  {
   "cell_type": "markdown",
   "metadata": {},
   "source": [
    "# 7. Betting Analysis\n",
    "\n",
    "In this notebook, we're going to analyse the results of our betting simulator built in the last stage.\n",
    "This will be useful to extract meaningful insights from the profits achieved.\n",
    "We'll be able to find which matches give us the most benefit.\n",
    "\n",
    "In order to make a realistic analysis, we'll use the bookmakers average odds per player"
   ]
  },
  {
   "cell_type": "code",
   "execution_count": 1,
   "metadata": {},
   "outputs": [],
   "source": [
    "import pandas as pd\n",
    "from matplotlib import pyplot as plt"
   ]
  },
  {
   "cell_type": "code",
   "execution_count": 2,
   "metadata": {},
   "outputs": [],
   "source": [
    "betting_df = pd.read_csv(\"csv/Betting_Data.csv\")"
   ]
  },
  {
   "cell_type": "markdown",
   "metadata": {},
   "source": [
    "We need to change the Date column data type to Date:"
   ]
  },
  {
   "cell_type": "code",
   "execution_count": 3,
   "metadata": {},
   "outputs": [],
   "source": [
    "betting_df['Date'] = pd.to_datetime(betting_df['Date'])"
   ]
  },
  {
   "cell_type": "code",
   "execution_count": 4,
   "metadata": {},
   "outputs": [],
   "source": [
    "def create_betting_history(betting_df, initial_bankroll, stake, value_threshold=0):\n",
    "    \n",
    "    history_df = betting_df[(betting_df[\"Bet on Pl0 Value\"]>value_threshold) | (betting_df[\"Bet on Pl1 Value\"]>value_threshold)].copy()\n",
    "    \n",
    "    bankroll = initial_bankroll\n",
    "    won_bets = 0\n",
    "    lost_bets = 0\n",
    "    total_bets = 0\n",
    "    for ix, row in betting_df.iterrows():\n",
    "        if bankroll < 0: break\n",
    "        \n",
    "        value_on_p0 = row['Bet on Pl0 Value']\n",
    "        value_on_p1 = row['Bet on Pl1 Value']\n",
    "        winner = row[\"Winner\"]\n",
    "                    \n",
    "        real_odds_p0 = row['Pl0 Avg odds']\n",
    "        real_odds_p1 = row['Pl1 Avg odds'] \n",
    "        \n",
    "        if pd.isna(real_odds_p0) or pd.isna(real_odds_p1): continue\n",
    "        \n",
    "        if value_on_p0 > value_threshold:\n",
    "            history_df.loc[total_bets, 'Bet on Player:'] = 0\n",
    "            history_df.loc[total_bets, 'Stake'] = stake\n",
    "            history_df.loc[total_bets, 'Odds'] = real_odds_p0\n",
    "            if winner == 0:\n",
    "                bankroll += (real_odds_p0 - 1) * stake\n",
    "                won_bets += 1\n",
    "                history_df.loc[total_bets, 'Won'] = \"YES\"\n",
    "                history_df.loc[total_bets, 'Profit'] = (real_odds_p0 - 1) * stake\n",
    "            else:\n",
    "                bankroll -= stake\n",
    "                lost_bets += 1\n",
    "                history_df.loc[total_bets, 'Won'] = \"NO\"\n",
    "                history_df.loc[total_bets, 'Profit'] = stake * -1\n",
    "            total_bets += 1\n",
    "        \n",
    "        if value_on_p1 > value_threshold:\n",
    "            history_df.loc[total_bets, 'Bet on Player:'] = 1\n",
    "            history_df.loc[total_bets, 'Stake'] = stake\n",
    "            history_df.loc[total_bets, 'Odds'] = real_odds_p1\n",
    "            if winner == 1:\n",
    "                bankroll += (real_odds_p1 - 1) * stake\n",
    "                won_bets += 1\n",
    "                history_df.loc[total_bets, 'Won'] = \"YES\"\n",
    "                history_df.loc[total_bets, 'Profit'] = (real_odds_p1 - 1) * stake\n",
    "            else:\n",
    "                bankroll -= stake\n",
    "                lost_bets += 1\n",
    "                history_df.loc[total_bets, 'Won'] = \"NO\"\n",
    "                history_df.loc[total_bets, 'Profit'] = stake * -1\n",
    "            total_bets += 1\n",
    "    \n",
    "    profit = round(bankroll - initial_bankroll,2)\n",
    "    investment = total_bets*stake\n",
    "    roi = round(100 * profit / investment, 2)\n",
    "    print(\"Total bets placed: {}\\nBets won: {}, bets lost: {}\\nProfit: {}\\nMoney invested: {}\\nROI: {}%\"\n",
    "           .format(total_bets, won_bets, lost_bets, profit, investment, roi))\n",
    "    \n",
    "    return (history_df, roi)"
   ]
  },
  {
   "cell_type": "markdown",
   "metadata": {},
   "source": [
    "Let's analyse the ROI differences year by year from 2010 to 2019."
   ]
  },
  {
   "cell_type": "code",
   "execution_count": 5,
   "metadata": {},
   "outputs": [],
   "source": [
    "\"\"\"\n",
    "This function takes a betting dataframe in input, with a year parameter that's used to filter all matches in the dataframe\n",
    "played in that year. If a second year is specified (year_end attribute), then the matches returned will be between the first\n",
    "year parameter and the second year parameter included\n",
    "\"\"\"\n",
    "def bets_for_year(df, year, year_end=None):\n",
    "    if year_end is not None:\n",
    "        return df[(df['Date'] > pd.Timestamp(year-1,12,31)) & ((df['Date'] < pd.Timestamp(year_end,12,31)))].copy()\n",
    "    else: return df[(df['Date'] > pd.Timestamp(year-1,12,31)) & ((df['Date'] < pd.Timestamp(year,12,31)))].copy()"
   ]
  },
  {
   "cell_type": "code",
   "execution_count": 6,
   "metadata": {},
   "outputs": [
    {
     "name": "stdout",
     "output_type": "stream",
     "text": [
      "+++++++++\n",
      "Year 2010\n",
      "Total bets placed: 1298\n",
      "Bets won: 721, bets lost: 577\n",
      "Profit: 135.02\n",
      "Money invested: 1298\n",
      "ROI: 10.4%\n",
      "+++++++++\n",
      "+++++++++\n",
      "Year 2011\n",
      "Total bets placed: 2012\n",
      "Bets won: 1083, bets lost: 929\n",
      "Profit: 132.55\n",
      "Money invested: 2012\n",
      "ROI: 6.59%\n",
      "+++++++++\n",
      "+++++++++\n",
      "Year 2012\n",
      "Total bets placed: 2031\n",
      "Bets won: 1044, bets lost: 987\n",
      "Profit: 152.48\n",
      "Money invested: 2031\n",
      "ROI: 7.51%\n",
      "+++++++++\n",
      "+++++++++\n",
      "Year 2013\n",
      "Total bets placed: 2018\n",
      "Bets won: 1035, bets lost: 983\n",
      "Profit: 157.76\n",
      "Money invested: 2018\n",
      "ROI: 7.82%\n",
      "+++++++++\n",
      "+++++++++\n",
      "Year 2014\n",
      "Total bets placed: 1934\n",
      "Bets won: 1097, bets lost: 837\n",
      "Profit: 265.47\n",
      "Money invested: 1934\n",
      "ROI: 13.73%\n",
      "+++++++++\n",
      "+++++++++\n",
      "Year 2015\n",
      "Total bets placed: 2036\n",
      "Bets won: 1093, bets lost: 943\n",
      "Profit: 163.52\n",
      "Money invested: 2036\n",
      "ROI: 8.03%\n",
      "+++++++++\n",
      "+++++++++\n",
      "Year 2016\n",
      "Total bets placed: 2028\n",
      "Bets won: 1095, bets lost: 933\n",
      "Profit: 336.38\n",
      "Money invested: 2028\n",
      "ROI: 16.59%\n",
      "+++++++++\n",
      "+++++++++\n",
      "Year 2017\n",
      "Total bets placed: 2079\n",
      "Bets won: 1208, bets lost: 871\n",
      "Profit: 433.34\n",
      "Money invested: 2079\n",
      "ROI: 20.84%\n",
      "+++++++++\n",
      "+++++++++\n",
      "Year 2018\n",
      "Total bets placed: 2165\n",
      "Bets won: 1230, bets lost: 935\n",
      "Profit: 220.39\n",
      "Money invested: 2165\n",
      "ROI: 10.18%\n",
      "+++++++++\n",
      "+++++++++\n",
      "Year 2019\n",
      "Total bets placed: 2115\n",
      "Bets won: 1295, bets lost: 820\n",
      "Profit: 461.86\n",
      "Money invested: 2115\n",
      "ROI: 21.84%\n",
      "+++++++++\n"
     ]
    },
    {
     "data": {
      "text/plain": [
       "<matplotlib.axes._subplots.AxesSubplot at 0x228e8b5d788>"
      ]
     },
     "execution_count": 6,
     "metadata": {},
     "output_type": "execute_result"
    },
    {
     "data": {
      "image/png": "[encoded data removed]",
      "text/plain": [
       "<Figure size 432x288 with 1 Axes>"
      ]
     },
     "metadata": {
      "needs_background": "light"
     },
     "output_type": "display_data"
    }
   ],
   "source": [
    "years_result_df_list = []\n",
    "for y in range(2010,2020):\n",
    "    print(\"+++++++++\")\n",
    "    print(\"Year {}\".format(y))\n",
    "    result = create_betting_history(bets_for_year(betting_df,y), 1000, 1)\n",
    "    years_result_df_list.append({\"Year\":y, \"ROI\": result[1]})\n",
    "    print(\"+++++++++\")\n",
    "result_df = pd.DataFrame(years_result_df_list)\n",
    "result_df.plot.line(x='Year', y='ROI', title=\"ROI per year\")"
   ]
  },
  {
   "cell_type": "markdown",
   "metadata": {},
   "source": [
    "Now let's analyse all the period from 2010 to 2019"
   ]
  },
  {
   "cell_type": "code",
   "execution_count": 7,
   "metadata": {},
   "outputs": [
    {
     "name": "stdout",
     "output_type": "stream",
     "text": [
      "Total bets placed: 19762\n",
      "Bets won: 10929, bets lost: 8833\n",
      "Profit: 2464.98\n",
      "Money invested: 19762\n",
      "ROI: 12.47%\n"
     ]
    }
   ],
   "source": [
    "result = create_betting_history(bets_for_year(betting_df,2010,2019), 1000, 1)\n",
    "df_2010_2019 = result[0] \n",
    "roi_2010_2019 = result[1]"
   ]
  },
  {
   "cell_type": "code",
   "execution_count": 8,
   "metadata": {},
   "outputs": [
    {
     "data": {
      "text/plain": [
       "0.12473332658637787"
      ]
     },
     "execution_count": 8,
     "metadata": {},
     "output_type": "execute_result"
    }
   ],
   "source": [
    "#calculating ROI from dataframe\n",
    "df_2010_2019['Profit'].sum()/df_2010_2019.shape[0]"
   ]
  },
  {
   "cell_type": "code",
   "execution_count": 9,
   "metadata": {},
   "outputs": [
    {
     "data": {
      "text/plain": [
       "19762"
      ]
     },
     "execution_count": 9,
     "metadata": {},
     "output_type": "execute_result"
    }
   ],
   "source": [
    "#total matches\n",
    "df_2010_2019.shape[0]"
   ]
  },
  {
   "cell_type": "markdown",
   "metadata": {},
   "source": [
    "## ROI by Surface\n",
    "\n",
    "Since no matches have been played on carpet in surface in these last years, we'll now represents only Hard, Clay and Grass surfaces"
   ]
  },
  {
   "cell_type": "code",
   "execution_count": 10,
   "metadata": {},
   "outputs": [
    {
     "name": "stdout",
     "output_type": "stream",
     "text": [
      "ROI: 11.3%, Matches: 11007\n"
     ]
    }
   ],
   "source": [
    "df_hard = df_2010_2019[df_2010_2019['Hard'] == 1].copy()\n",
    "roi_hard = round(100*df_hard['Profit'].sum()/df_hard.shape[0],2)\n",
    "print(\"ROI: {}%, Matches: {}\".format(roi_hard,df_hard.shape[0]))"
   ]
  },
  {
   "cell_type": "code",
   "execution_count": 11,
   "metadata": {},
   "outputs": [
    {
     "name": "stdout",
     "output_type": "stream",
     "text": [
      "ROI: 10.12%, Matches: 6312\n"
     ]
    }
   ],
   "source": [
    "df_clay = df_2010_2019[df_2010_2019['Clay'] == 1].copy()\n",
    "roi_clay = round(100*df_clay['Profit'].sum()/df_clay.shape[0],2)\n",
    "print(\"ROI: {}%, Matches: {}\".format(roi_clay,df_clay.shape[0]))"
   ]
  },
  {
   "cell_type": "code",
   "execution_count": 12,
   "metadata": {},
   "outputs": [
    {
     "name": "stdout",
     "output_type": "stream",
     "text": [
      "ROI: 23.71%, Matches: 2440\n"
     ]
    }
   ],
   "source": [
    "df_grass = df_2010_2019[df_2010_2019['Grass'] == 1].copy()\n",
    "roi_grass = round(100*df_grass['Profit'].sum()/df_grass.shape[0],2)\n",
    "print(\"ROI: {}%, Matches: {}\".format(roi_grass,df_grass.shape[0]))"
   ]
  },
  {
   "cell_type": "code",
   "execution_count": 13,
   "metadata": {},
   "outputs": [
    {
     "data": {
      "image/png": "[encoded data removed]",
      "text/plain": [
       "<Figure size 648x216 with 1 Axes>"
      ]
     },
     "metadata": {
      "needs_background": "light"
     },
     "output_type": "display_data"
    }
   ],
   "source": [
    "names = ['Hard ROI','Clay ROI','Grass ROI']\n",
    "values = [roi_hard, roi_clay, roi_grass]\n",
    "\n",
    "plt.figure(figsize=(9, 3))\n",
    "\n",
    "plt.bar(names, values)\n",
    "plt.xlabel(\"Surface\")\n",
    "plt.ylabel(\"ROI %\")\n",
    "plt.title(\"ROI Against Different Surfaces\")\n",
    "plt.show()"
   ]
  },
  {
   "cell_type": "markdown",
   "metadata": {},
   "source": [
    "On Hard surface, we get a 11.3% ROI on a total of 11007 matches, above half of the matches in our betting dataset.\n",
    "On Clay the ROI drops to 10.12% on a total of 6312 matches.\n",
    "On grass, the ROI reaches an astonishing 23.71%! The matches are less (2440), since the grass season usually is very short."
   ]
  },
  {
   "cell_type": "markdown",
   "metadata": {},
   "source": [
    "## ROI by Tournament\n",
    "\n",
    "Next, we'll explore which categories provide us with the highest margin"
   ]
  },
  {
   "cell_type": "code",
   "execution_count": 14,
   "metadata": {},
   "outputs": [
    {
     "name": "stdout",
     "output_type": "stream",
     "text": [
      "ROI: 16.18%, Matches: 8637\n"
     ]
    }
   ],
   "source": [
    "df_atp250 = df_2010_2019[df_2010_2019['ATP250'] == 1].copy()\n",
    "roi_atp250 = round(100*df_atp250['Profit'].sum()/df_atp250.shape[0],2)\n",
    "print(\"ROI: {}%, Matches: {}\".format(roi_atp250,df_atp250.shape[0]))"
   ]
  },
  {
   "cell_type": "code",
   "execution_count": 15,
   "metadata": {},
   "outputs": [
    {
     "name": "stdout",
     "output_type": "stream",
     "text": [
      "ROI: 13.99%, Matches: 3116\n"
     ]
    }
   ],
   "source": [
    "df_atp500 = df_2010_2019[df_2010_2019['ATP500'] == 1].copy()\n",
    "roi_atp500 = round(100*df_atp500['Profit'].sum()/df_atp500.shape[0],2)\n",
    "print(\"ROI: {}%, Matches: {}\".format(roi_atp500,df_atp500.shape[0]))"
   ]
  },
  {
   "cell_type": "code",
   "execution_count": 16,
   "metadata": {},
   "outputs": [
    {
     "name": "stdout",
     "output_type": "stream",
     "text": [
      "ROI: 10.03%, Matches: 4075\n"
     ]
    }
   ],
   "source": [
    "df_atp1000 = df_2010_2019[df_2010_2019['Masters 1000'] == 1].copy()\n",
    "roi_atp1000 = round(100*df_atp1000['Profit'].sum()/df_atp1000.shape[0],2)\n",
    "print(\"ROI: {}%, Matches: {}\".format(roi_atp1000,df_atp1000.shape[0]))"
   ]
  },
  {
   "cell_type": "code",
   "execution_count": 17,
   "metadata": {},
   "outputs": [
    {
     "name": "stdout",
     "output_type": "stream",
     "text": [
      "ROI: -2.82%, Matches: 111\n"
     ]
    }
   ],
   "source": [
    "df_masters = df_2010_2019[df_2010_2019['Masters Cup'] == 1].copy()\n",
    "roi_masters = round(100*df_masters['Profit'].sum()/df_masters.shape[0],2)\n",
    "print(\"ROI: {}%, Matches: {}\".format(roi_masters,df_masters.shape[0]))"
   ]
  },
  {
   "cell_type": "code",
   "execution_count": 18,
   "metadata": {},
   "outputs": [
    {
     "name": "stdout",
     "output_type": "stream",
     "text": [
      "ROI: 5.8%, Matches: 3820\n"
     ]
    }
   ],
   "source": [
    "df_slam = df_2010_2019[df_2010_2019['Grand Slam'] == 1].copy()\n",
    "roi_slam = round(100*df_slam['Profit'].sum()/df_slam.shape[0],2)\n",
    "print(\"ROI: {}%, Matches: {}\".format(roi_slam,df_slam.shape[0]))"
   ]
  },
  {
   "cell_type": "code",
   "execution_count": 19,
   "metadata": {
    "scrolled": true
   },
   "outputs": [
    {
     "data": {
      "image/png": "[encoded data removed]",
      "text/plain": [
       "<Figure size 648x216 with 1 Axes>"
      ]
     },
     "metadata": {
      "needs_background": "light"
     },
     "output_type": "display_data"
    }
   ],
   "source": [
    "names = ['ATP250 ROI','ATP500 ROI','ATP 1000 ROI', 'Masters Cup ROI', 'Grand Slam ROI']\n",
    "values = [roi_atp250, roi_atp500, roi_atp1000, roi_masters, roi_slam]\n",
    "\n",
    "plt.figure(figsize=(9, 3))\n",
    "\n",
    "plt.bar(names, values)\n",
    "plt.xlabel(\"Tournament Type\")\n",
    "plt.ylabel(\"ROI %\")\n",
    "plt.title(\"ROI Against Different Tournament Types\")\n",
    "plt.show()"
   ]
  },
  {
   "cell_type": "markdown",
   "metadata": {},
   "source": [
    "Before analysing the difference in terms of ROI (negative for the Masters Cup!), we need to specify that the number of matches for Masters Cup is significantly lower than the other tournament types matches (111 against 3000/4000/8000 for other categories).\n",
    "However we note how smaller the ROI is for Grand Slam matches.\n",
    "\n",
    "GS matches are best of 5 games, against the traditional best of 3 games we see in the other tournaments, so that might be one cause.\n",
    "Another cause, as we'll discuss later, might be the liquidity for GS matches, that might make the relative markets much more efficient (wisdom of the crowd effect)"
   ]
  },
  {
   "cell_type": "markdown",
   "metadata": {},
   "source": [
    "## ROI by Round of Tournament\n",
    "\n",
    "Next, we'll explore which round in a tournament provide us with the highest margin"
   ]
  },
  {
   "cell_type": "code",
   "execution_count": 20,
   "metadata": {},
   "outputs": [
    {
     "name": "stdout",
     "output_type": "stream",
     "text": [
      "ROI: 3.43%, Matches: 89\n"
     ]
    }
   ],
   "source": [
    "df_rr = df_2010_2019[df_2010_2019['Round Robin'] == 1].copy()\n",
    "roi_rr = round(100*df_rr['Profit'].sum()/df_rr.shape[0],2)\n",
    "print(\"ROI: {}%, Matches: {}\".format(roi_rr,df_rr.shape[0]))"
   ]
  },
  {
   "cell_type": "code",
   "execution_count": 21,
   "metadata": {},
   "outputs": [
    {
     "name": "stdout",
     "output_type": "stream",
     "text": [
      "ROI: 15.46%, Matches: 9149\n"
     ]
    }
   ],
   "source": [
    "df_1st_round = df_2010_2019[df_2010_2019['1st Round'] == 1].copy()\n",
    "roi_1st_round = round(100*df_1st_round['Profit'].sum()/df_1st_round.shape[0],2)\n",
    "print(\"ROI: {}%, Matches: {}\".format(roi_1st_round,df_1st_round.shape[0]))"
   ]
  },
  {
   "cell_type": "code",
   "execution_count": 22,
   "metadata": {},
   "outputs": [
    {
     "name": "stdout",
     "output_type": "stream",
     "text": [
      "ROI: 13.16%, Matches: 5491\n"
     ]
    }
   ],
   "source": [
    "df_2nd_round = df_2010_2019[df_2010_2019['2nd Round'] == 1].copy()\n",
    "roi_2nd_round = round(100*df_2nd_round['Profit'].sum()/df_2nd_round.shape[0],2)\n",
    "print(\"ROI: {}%, Matches: {}\".format(roi_2nd_round,df_2nd_round.shape[0]))"
   ]
  },
  {
   "cell_type": "code",
   "execution_count": 23,
   "metadata": {},
   "outputs": [
    {
     "name": "stdout",
     "output_type": "stream",
     "text": [
      "ROI: 5.14%, Matches: 1350\n"
     ]
    }
   ],
   "source": [
    "df_3rd_round = df_2010_2019[df_2010_2019['3rd Round'] == 1].copy()\n",
    "roi_3rd_round = round(100*df_3rd_round['Profit'].sum()/df_3rd_round.shape[0],2)\n",
    "print(\"ROI: {}%, Matches: {}\".format(roi_3rd_round,df_3rd_round.shape[0]))"
   ]
  },
  {
   "cell_type": "code",
   "execution_count": 24,
   "metadata": {},
   "outputs": [
    {
     "name": "stdout",
     "output_type": "stream",
     "text": [
      "ROI: -10.71%, Matches: 348\n"
     ]
    }
   ],
   "source": [
    "df_4th_round = df_2010_2019[df_2010_2019['4th Round'] == 1].copy()\n",
    "roi_4th_round = round(100*df_4th_round['Profit'].sum()/df_4th_round.shape[0],2)\n",
    "print(\"ROI: {}%, Matches: {}\".format(roi_4th_round,df_4th_round.shape[0]))"
   ]
  },
  {
   "cell_type": "code",
   "execution_count": 25,
   "metadata": {},
   "outputs": [
    {
     "name": "stdout",
     "output_type": "stream",
     "text": [
      "ROI: 7.84%, Matches: 1877\n"
     ]
    }
   ],
   "source": [
    "df_qf = df_2010_2019[df_2010_2019['Quarterfinals'] == 1].copy()\n",
    "roi_qf = round(100*df_qf['Profit'].sum()/df_qf.shape[0],2)\n",
    "print(\"ROI: {}%, Matches: {}\".format(roi_qf,df_qf.shape[0]))"
   ]
  },
  {
   "cell_type": "code",
   "execution_count": 26,
   "metadata": {},
   "outputs": [
    {
     "name": "stdout",
     "output_type": "stream",
     "text": [
      "ROI: 10.99%, Matches: 963\n"
     ]
    }
   ],
   "source": [
    "df_sm = df_2010_2019[df_2010_2019['Semifinals'] == 1].copy()\n",
    "roi_sf = round(100*df_sm['Profit'].sum()/df_sm.shape[0],2)\n",
    "print(\"ROI: {}%, Matches: {}\".format(roi_sf,df_sm.shape[0]))"
   ]
  },
  {
   "cell_type": "code",
   "execution_count": 27,
   "metadata": {},
   "outputs": [
    {
     "name": "stdout",
     "output_type": "stream",
     "text": [
      "ROI: 7.34%, Matches: 492\n"
     ]
    }
   ],
   "source": [
    "df_final = df_2010_2019[df_2010_2019['The Final'] == 1].copy()\n",
    "roi_final = round(100*df_final['Profit'].sum()/df_final.shape[0],2)\n",
    "print(\"ROI: {}%, Matches: {}\".format(roi_final,df_final.shape[0]))"
   ]
  },
  {
   "cell_type": "code",
   "execution_count": 28,
   "metadata": {
    "scrolled": true
   },
   "outputs": [
    {
     "data": {
      "image/png": "[encoded data removed]",
      "text/plain": [
       "<Figure size 1080x288 with 1 Axes>"
      ]
     },
     "metadata": {
      "needs_background": "light"
     },
     "output_type": "display_data"
    }
   ],
   "source": [
    "names = ['Round Robin ROI','1st Round ROI','2nd Round ROI', '3rd Round ROI', '4th Round ROI', 'Quarterfinals ROI', 'Semifinals ROI', 'Final ROI']\n",
    "values = [roi_rr, roi_1st_round, roi_2nd_round, roi_3rd_round, roi_4th_round, roi_qf, roi_sf, roi_final]\n",
    "\n",
    "plt.figure(figsize=(15, 4))\n",
    "\n",
    "plt.bar(names, values)\n",
    "plt.xlabel(\"Tournament Round\")\n",
    "plt.ylabel(\"ROI %\")\n",
    "plt.title(\"ROI Against Different Tournament Rounds\")\n",
    "plt.show()"
   ]
  },
  {
   "cell_type": "markdown",
   "metadata": {},
   "source": [
    "This graph shows us how the ROI is much smaller for 4th rounds and round robins, but again, we need to look at the number of observations for these matches.\n",
    "\n",
    "Round Robins usually take place only in the Masters Cup tournament, once per year, and therefore we have only 89 matches in the dataframe. Thus the result is not statistically significant.\n",
    "\n",
    "We also need to know that 4th matches are played only in Grand Slam tournaments (slams have higher number of rounds) since, for other tournaments (with less rounds), the 4th round would be a quarterfinal or a semifinal. Therefore, although the ROI is well below breakeven (-10.71%), the limited amount of matches (348) don't give us the confidence to believe blindly at this result."
   ]
  },
  {
   "cell_type": "markdown",
   "metadata": {},
   "source": [
    "## ROI by Ranking Index\n",
    "\n",
    "Next, we'll analyse how the ranking index (difference between the rankings of Player 0 and Player 1) affects the ROI"
   ]
  },
  {
   "cell_type": "code",
   "execution_count": 29,
   "metadata": {},
   "outputs": [
    {
     "name": "stdout",
     "output_type": "stream",
     "text": [
      "ROI: 10.3%, Matches: 5098\n"
     ]
    }
   ],
   "source": [
    "df_very_high_ri_diff = df_2010_2019[abs(df_2010_2019['Rank Index']) > 0.5].copy()\n",
    "roi_very_high_ri_diff = round(100*df_very_high_ri_diff['Profit'].sum()/df_very_high_ri_diff.shape[0],2)\n",
    "print(\"ROI: {}%, Matches: {}\".format(roi_very_high_ri_diff,df_very_high_ri_diff.shape[0]))"
   ]
  },
  {
   "cell_type": "code",
   "execution_count": 30,
   "metadata": {},
   "outputs": [
    {
     "name": "stdout",
     "output_type": "stream",
     "text": [
      "ROI: 12.32%, Matches: 8627\n"
     ]
    }
   ],
   "source": [
    "df_medium_ri_diff = df_2010_2019[(abs(df_2010_2019['Rank Index']) > 0.1) & (abs(df_2010_2019['Rank Index']) <= 0.5)].copy()\n",
    "roi_medium_ri_diff = round(100*df_medium_ri_diff['Profit'].sum()/df_medium_ri_diff.shape[0],2)\n",
    "print(\"ROI: {}%, Matches: {}\".format(roi_medium_ri_diff,df_medium_ri_diff.shape[0]))"
   ]
  },
  {
   "cell_type": "code",
   "execution_count": 31,
   "metadata": {},
   "outputs": [
    {
     "name": "stdout",
     "output_type": "stream",
     "text": [
      "ROI: 14.47%, Matches: 6034\n"
     ]
    }
   ],
   "source": [
    "df_low_ri_diff = df_2010_2019[abs(df_2010_2019['Rank Index']) <= 0.1].copy()\n",
    "roi_low_ri_diff = round(100*df_low_ri_diff['Profit'].sum()/df_low_ri_diff.shape[0],2)\n",
    "print(\"ROI: {}%, Matches: {}\".format(roi_low_ri_diff,df_low_ri_diff.shape[0]))"
   ]
  },
  {
   "cell_type": "code",
   "execution_count": 32,
   "metadata": {
    "scrolled": true
   },
   "outputs": [
    {
     "data": {
      "image/png": "[encoded data removed]",
      "text/plain": [
       "<Figure size 648x216 with 1 Axes>"
      ]
     },
     "metadata": {
      "needs_background": "light"
     },
     "output_type": "display_data"
    }
   ],
   "source": [
    "names = ['Very High Ranking Difference','Medium Ranking Difference','Low Ranking Difference']\n",
    "values = [roi_very_high_ri_diff, roi_medium_ri_diff, roi_low_ri_diff]\n",
    "\n",
    "plt.figure(figsize=(9, 3))\n",
    "\n",
    "plt.bar(names, values)\n",
    "plt.xlabel(\"Ranking Difference\")\n",
    "plt.ylabel(\"ROI %\")\n",
    "plt.title(\"ROI Against Ranking Difference\")\n",
    "plt.show()"
   ]
  },
  {
   "cell_type": "markdown",
   "metadata": {},
   "source": [
    "Given the Ranking index, for each match, we can notice that the matches where the gap between the rankings of the players is smaller are the ones who give us more profit, while the matches of top players vs low ranked players are not as profitable.\n",
    "However, the ROI difference between the 3 groups is not huge."
   ]
  },
  {
   "cell_type": "markdown",
   "metadata": {},
   "source": [
    "## ROI by Absolute Ranking \n",
    "\n",
    "Next, we'll analyse how the rankings (Pl0_Rank and Pl1_Rank) affect the ROI"
   ]
  },
  {
   "cell_type": "code",
   "execution_count": 33,
   "metadata": {},
   "outputs": [
    {
     "name": "stdout",
     "output_type": "stream",
     "text": [
      "ROI: -3.27%, Matches: 176\n"
     ]
    }
   ],
   "source": [
    "df_top5 = df_2010_2019[(df_2010_2019['Pl0_Rank'] <= 5) & (df_2010_2019['Pl1_Rank'] <= 5)].copy()\n",
    "roi_top5 = round(100*df_top5['Profit'].sum()/df_top5.shape[0],2)\n",
    "print(\"ROI: {}%, Matches: {}\".format(roi_top5,df_top5.shape[0]))"
   ]
  },
  {
   "cell_type": "code",
   "execution_count": 34,
   "metadata": {},
   "outputs": [
    {
     "name": "stdout",
     "output_type": "stream",
     "text": [
      "ROI: -11.95%, Matches: 512\n"
     ]
    }
   ],
   "source": [
    "df_top10 = df_2010_2019[(df_2010_2019['Pl0_Rank'] <= 10) & (df_2010_2019['Pl1_Rank'] <= 10)].copy()\n",
    "roi_top10 = round(100*df_top10['Profit'].sum()/df_top10.shape[0],2)\n",
    "print(\"ROI: {}%, Matches: {}\".format(roi_top10,df_top10.shape[0]))"
   ]
  },
  {
   "cell_type": "code",
   "execution_count": 35,
   "metadata": {},
   "outputs": [
    {
     "name": "stdout",
     "output_type": "stream",
     "text": [
      "ROI: 16.05%, Matches: 11459\n"
     ]
    }
   ],
   "source": [
    "df_others = df_2010_2019[(df_2010_2019['Pl0_Rank'] > 25) & (df_2010_2019['Pl1_Rank'] > 25)].copy()\n",
    "roi_others = round(100*df_others['Profit'].sum()/df_others.shape[0],2)\n",
    "print(\"ROI: {}%, Matches: {}\".format(roi_others,df_others.shape[0]))"
   ]
  },
  {
   "cell_type": "code",
   "execution_count": 36,
   "metadata": {},
   "outputs": [
    {
     "data": {
      "image/png": "[encoded data removed]",
      "text/plain": [
       "<Figure size 648x216 with 1 Axes>"
      ]
     },
     "metadata": {
      "needs_background": "light"
     },
     "output_type": "display_data"
    }
   ],
   "source": [
    "names = ['Top 5 Matches','Top 10 Matches','Out of Top 25 Matches']\n",
    "values = [roi_top5, roi_top10, roi_others]\n",
    "\n",
    "plt.figure(figsize=(9, 3))\n",
    "\n",
    "plt.bar(names, values)\n",
    "plt.xlabel(\"Ranking Groups\")\n",
    "plt.ylabel(\"ROI %\")\n",
    "plt.title(\"ROI Against Ranking Groups\")\n",
    "plt.show()"
   ]
  },
  {
   "cell_type": "markdown",
   "metadata": {},
   "source": [
    "Looking at the last analysis, that grouped matches between the top 5 ranked players, the top 10 and the other players outside top 25, we can clearly see a pattern.\n",
    "\n",
    "In fact, the matches with the best players are not profitable to bet on (at average odds).\n",
    "If we take another look at the ROI by tournament category we'll also see that Grand Slam and Masters cup matches are not particularly profitable as well.\n",
    "\n",
    "Why is that? One reason I can think of is that these matches have a high liquidity, since many punters will bet upon these, and thus the market becomes much more efficient than regular matches between lower ranked players, or matches in not-so-important tournaments.\n",
    "As a proof, let's create two other dataframes. One containing matches between players in the top 10, being semifinals or finals and in tournaments like ATP Master 1000, Grand Slam or Masters Cup.\n",
    "The other will contain ordinary matches.\n",
    "\n",
    "We'll then proceed to compare the ROI of these 2 dataframes."
   ]
  },
  {
   "cell_type": "code",
   "execution_count": 37,
   "metadata": {},
   "outputs": [
    {
     "name": "stdout",
     "output_type": "stream",
     "text": [
      "ROI: 8.58%, Matches: 307\n"
     ]
    }
   ],
   "source": [
    "df_top = df_2010_2019[\n",
    "    (df_2010_2019['The Final']+df_2010_2019['Semifinals']==1) \n",
    "    & (df_2010_2019['Grand Slam']+df_2010_2019['Masters Cup']+df_2010_2019['Masters 1000']==1)\n",
    "].copy()\n",
    "roi_top = round(100*df_top['Profit'].sum()/df_top.shape[0],2)\n",
    "print(\"ROI: {}%, Matches: {}\".format(roi_top,df_top.shape[0]))"
   ]
  },
  {
   "cell_type": "code",
   "execution_count": 38,
   "metadata": {},
   "outputs": [
    {
     "name": "stdout",
     "output_type": "stream",
     "text": [
      "ROI: 16.2%, Matches: 10605\n"
     ]
    }
   ],
   "source": [
    "df_not_top = df_2010_2019[\n",
    "    (df_2010_2019['The Final']+df_2010_2019['Semifinals']==0) \n",
    "    & (df_2010_2019['Grand Slam']+df_2010_2019['Masters Cup']+df_2010_2019['Masters 1000']==0)\n",
    "].copy()\n",
    "roi_not_top = round(100*df_not_top['Profit'].sum()/df_not_top.shape[0],2)\n",
    "print(\"ROI: {}%, Matches: {}\".format(roi_not_top,df_not_top.shape[0]))"
   ]
  },
  {
   "cell_type": "markdown",
   "metadata": {},
   "source": [
    "As clearly shown here there's a big difference in terms of ROI between the 2 dataframes, but we also need to consider that the \"top\" matches were only 307, which makes this analysis not so much significant from a statistical standpoint."
   ]
  },
  {
   "cell_type": "markdown",
   "metadata": {},
   "source": [
    "## Accuracy of Probabilities\n",
    "\n",
    "Next, we're going to take the fair odds derived by the predicted probabilities of the matches in the dataset and we're going to look if they reflect the frequency of an event occuring (for example we expect to see that events at odds 2 happen half of the time, etc.)\n",
    "Then, we're going to do the same thing for the average odds (incremented by 5%, to exclude the margin from our calculation)"
   ]
  },
  {
   "cell_type": "markdown",
   "metadata": {},
   "source": [
    "#### Our model's fair odds:"
   ]
  },
  {
   "cell_type": "code",
   "execution_count": 39,
   "metadata": {},
   "outputs": [
    {
     "name": "stdout",
     "output_type": "stream",
     "text": [
      "++++++++++++\n",
      "For Odds around 1.2 the ideal odd would have been 1.21, with a diff of 0.01\n",
      "Total matches:  3137\n",
      "++++++++++++\n",
      "For Odds around 1.3 the ideal odd would have been 1.34, with a diff of 0.04\n",
      "Total matches:  2948\n",
      "++++++++++++\n",
      "For Odds around 1.4 the ideal odd would have been 1.45, with a diff of 0.05\n",
      "Total matches:  2660\n",
      "++++++++++++\n",
      "For Odds around 1.5 the ideal odd would have been 1.53, with a diff of 0.03\n",
      "Total matches:  2266\n",
      "++++++++++++\n",
      "For Odds around 1.6 the ideal odd would have been 1.68, with a diff of 0.08\n",
      "Total matches:  2118\n",
      "++++++++++++\n",
      "For Odds around 1.7 the ideal odd would have been 1.74, with a diff of 0.04\n",
      "Total matches:  1880\n",
      "++++++++++++\n",
      "For Odds around 1.8 the ideal odd would have been 1.84, with a diff of 0.04\n",
      "Total matches:  1693\n",
      "++++++++++++\n",
      "For Odds around 1.9 the ideal odd would have been 1.83, with a diff of 0.07\n",
      "Total matches:  1473\n",
      "++++++++++++\n",
      "For Odds around 2.0 the ideal odd would have been 2.0, with a diff of 0.0\n",
      "Total matches:  1492\n",
      "++++++++++++\n",
      "For Odds around 2.1 the ideal odd would have been 2.19, with a diff of 0.09\n",
      "Total matches:  1098\n",
      "++++++++++++\n",
      "For Odds around 2.2 the ideal odd would have been 2.17, with a diff of 0.03\n",
      "Total matches:  1005\n",
      "++++++++++++\n",
      "For Odds around 2.3 the ideal odd would have been 2.24, with a diff of 0.06\n",
      "Total matches:  948\n",
      "++++++++++++\n",
      "For Odds around 2.4 the ideal odd would have been 2.36, with a diff of 0.04\n",
      "Total matches:  870\n",
      "++++++++++++\n",
      "For Odds around 2.5 the ideal odd would have been 2.31, with a diff of 0.19\n",
      "Total matches:  828\n",
      "++++++++++++\n",
      "For Odds around 2.6 the ideal odd would have been 2.34, with a diff of 0.26\n",
      "Total matches:  710\n",
      "++++++++++++\n",
      "For Odds around 2.7 the ideal odd would have been 2.56, with a diff of 0.14\n",
      "Total matches:  679\n",
      "++++++++++++\n",
      "For Odds around 2.8 the ideal odd would have been 2.66, with a diff of 0.14\n",
      "Total matches:  671\n",
      "++++++++++++\n",
      "For Odds around 2.9 the ideal odd would have been 2.82, with a diff of 0.08\n",
      "Total matches:  561\n",
      "++++++++++++\n",
      "For Odds around 3.0 the ideal odd would have been 2.99, with a diff of 0.01\n",
      "Total matches:  521\n",
      "++++++++++++\n",
      "For Odds around 3.1 the ideal odd would have been 3.02, with a diff of 0.08\n",
      "Total matches:  459\n",
      "++++++++++++\n",
      "For Odds around 3.2 the ideal odd would have been 2.96, with a diff of 0.24\n",
      "Total matches:  461\n",
      "++++++++++++\n",
      "For Odds around 3.3 the ideal odd would have been 3.05, with a diff of 0.25\n",
      "Total matches:  451\n",
      "++++++++++++\n",
      "For Odds around 3.4 the ideal odd would have been 2.96, with a diff of 0.44\n",
      "Total matches:  421\n",
      "++++++++++++\n",
      "For Odds around 3.5 the ideal odd would have been 2.91, with a diff of 0.59\n",
      "Total matches:  428\n",
      "++++++++++++\n",
      "For Odds around 3.6 the ideal odd would have been 3.41, with a diff of 0.19\n",
      "Total matches:  358\n",
      "++++++++++++\n",
      "For Odds around 3.7 the ideal odd would have been 3.55, with a diff of 0.15\n",
      "Total matches:  327\n",
      "++++++++++++\n",
      "For Odds around 3.8 the ideal odd would have been 4.23, with a diff of 0.43\n",
      "Total matches:  330\n",
      "++++++++++++\n",
      "For Odds around 3.9 the ideal odd would have been 3.37, with a diff of 0.53\n",
      "Total matches:  293\n",
      "++++++++++++\n",
      "For Odds around 4.0 the ideal odd would have been 3.71, with a diff of 0.29\n",
      "Total matches:  293\n",
      "++++++++++++\n",
      "For Odds around 4.1 the ideal odd would have been 4.23, with a diff of 0.13\n",
      "Total matches:  271\n",
      "++++++++++++\n",
      "For Odds around 4.2 the ideal odd would have been 3.62, with a diff of 0.58\n",
      "Total matches:  268\n",
      "++++++++++++\n",
      "For Odds around 4.3 the ideal odd would have been 3.68, with a diff of 0.62\n",
      "Total matches:  265\n",
      "++++++++++++\n",
      "For Odds around 4.4 the ideal odd would have been 3.87, with a diff of 0.53\n",
      "Total matches:  213\n",
      "++++++++++++\n",
      "For Odds around 4.5 the ideal odd would have been 3.51, with a diff of 0.99\n",
      "Total matches:  249\n",
      "++++++++++++\n",
      "For Odds around 4.6 the ideal odd would have been 3.84, with a diff of 0.76\n",
      "Total matches:  219\n",
      "++++++++++++\n",
      "For Odds around 4.7 the ideal odd would have been 4.37, with a diff of 0.33\n",
      "Total matches:  214\n",
      "++++++++++++\n",
      "For Odds around 4.8 the ideal odd would have been 7.12, with a diff of 2.32\n",
      "Total matches:  228\n",
      "++++++++++++\n",
      "For Odds around 4.9 the ideal odd would have been 3.83, with a diff of 1.07\n",
      "Total matches:  199\n",
      "++++++++++++\n",
      "For Odds around 5.0 the ideal odd would have been 3.75, with a diff of 1.25\n",
      "Total matches:  214\n",
      "Average distance between predicted odds and ideal odds has been 0.34\n"
     ]
    }
   ],
   "source": [
    "diff_tot = 0\n",
    "\n",
    "odd_list = []\n",
    "odd = 1.2\n",
    "while odd <= 5:\n",
    "    odd_list.append(round(odd,2))\n",
    "    odd += 0.1\n",
    "\n",
    "for odd in odd_list:\n",
    "    ones_p1 = betting_df[(betting_df[\"Fair odds for Pl1\"] >= odd-0.05) & (betting_df[\"Fair odds for Pl1\"] <= odd+0.05)][\"Winner\"].value_counts()[1]\n",
    "    zeros_p1 = betting_df[(betting_df[\"Fair odds for Pl1\"] >= odd-0.05) & (betting_df[\"Fair odds for Pl1\"] <= odd+0.05)][\"Winner\"].value_counts()[0]\n",
    "    \n",
    "    zeros_p0 = betting_df[(betting_df[\"Fair odds for Pl0\"] >= odd-0.05) & (betting_df[\"Fair odds for Pl0\"] <= odd+0.05)][\"Winner\"].value_counts()[0]\n",
    "    ones_p0 = betting_df[(betting_df[\"Fair odds for Pl0\"] >= odd-0.05) & (betting_df[\"Fair odds for Pl0\"] <= odd+0.05)][\"Winner\"].value_counts()[1]\n",
    "    \n",
    "\n",
    "    correct = (ones_p1+zeros_p0)/(ones_p1+zeros_p1+zeros_p0+ones_p0)\n",
    "    ideal_odds = round(1/correct,2)\n",
    "    diff = round(abs(ideal_odds-odd),2)\n",
    "    diff_tot += diff\n",
    "    print(\"++++++++++++\")\n",
    "    print(\"For Odds around {} the ideal odd would have been {}, with a diff of {}\".format(odd,ideal_odds,diff))\n",
    "    print(\"Total matches: \",ones_p1+zeros_p1+zeros_p0+ones_p0)\n",
    "    \n",
    "print(\"Average distance between predicted odds and ideal odds has been {}\".format(round(diff_tot/len(odd_list),2)))"
   ]
  },
  {
   "cell_type": "markdown",
   "metadata": {},
   "source": [
    "#### Bookmakers' turn"
   ]
  },
  {
   "cell_type": "code",
   "execution_count": 40,
   "metadata": {},
   "outputs": [
    {
     "name": "stdout",
     "output_type": "stream",
     "text": [
      "++++++++++++\n",
      "For Odds around 1.2 the ideal odd would have been 1.2, with a diff of 0.0\n",
      "Total matches:  2148\n",
      "++++++++++++\n",
      "For Odds around 1.3 the ideal odd would have been 1.27, with a diff of 0.03\n",
      "Total matches:  2335\n",
      "++++++++++++\n",
      "For Odds around 1.4 the ideal odd would have been 1.36, with a diff of 0.04\n",
      "Total matches:  2961\n",
      "++++++++++++\n",
      "For Odds around 1.5 the ideal odd would have been 1.49, with a diff of 0.01\n",
      "Total matches:  2497\n",
      "++++++++++++\n",
      "For Odds around 1.6 the ideal odd would have been 1.63, with a diff of 0.03\n",
      "Total matches:  2519\n",
      "++++++++++++\n",
      "For Odds around 1.7 the ideal odd would have been 1.72, with a diff of 0.02\n",
      "Total matches:  2202\n",
      "++++++++++++\n",
      "For Odds around 1.8 the ideal odd would have been 1.86, with a diff of 0.06\n",
      "Total matches:  1950\n",
      "++++++++++++\n",
      "For Odds around 1.9 the ideal odd would have been 1.86, with a diff of 0.04\n",
      "Total matches:  1368\n",
      "++++++++++++\n",
      "For Odds around 2.0 the ideal odd would have been 2.07, with a diff of 0.07\n",
      "Total matches:  1208\n",
      "++++++++++++\n",
      "For Odds around 2.1 the ideal odd would have been 2.13, with a diff of 0.03\n",
      "Total matches:  1114\n",
      "++++++++++++\n",
      "For Odds around 2.2 the ideal odd would have been 2.12, with a diff of 0.08\n",
      "Total matches:  1279\n",
      "++++++++++++\n",
      "For Odds around 2.3 the ideal odd would have been 2.31, with a diff of 0.01\n",
      "Total matches:  1208\n",
      "++++++++++++\n",
      "For Odds around 2.4 the ideal odd would have been 2.41, with a diff of 0.01\n",
      "Total matches:  1233\n",
      "++++++++++++\n",
      "For Odds around 2.5 the ideal odd would have been 2.58, with a diff of 0.08\n",
      "Total matches:  917\n",
      "++++++++++++\n",
      "For Odds around 2.6 the ideal odd would have been 2.35, with a diff of 0.25\n",
      "Total matches:  968\n",
      "++++++++++++\n",
      "For Odds around 2.7 the ideal odd would have been 2.74, with a diff of 0.04\n",
      "Total matches:  799\n",
      "++++++++++++\n",
      "For Odds around 2.8 the ideal odd would have been 2.79, with a diff of 0.01\n",
      "Total matches:  795\n",
      "++++++++++++\n",
      "For Odds around 2.9 the ideal odd would have been 3.25, with a diff of 0.35\n",
      "Total matches:  753\n",
      "++++++++++++\n",
      "For Odds around 3.0 the ideal odd would have been 3.3, with a diff of 0.3\n",
      "Total matches:  699\n",
      "++++++++++++\n",
      "For Odds around 3.1 the ideal odd would have been 3.56, with a diff of 0.46\n",
      "Total matches:  541\n",
      "++++++++++++\n",
      "For Odds around 3.2 the ideal odd would have been 3.6, with a diff of 0.4\n",
      "Total matches:  583\n",
      "++++++++++++\n",
      "For Odds around 3.3 the ideal odd would have been 3.47, with a diff of 0.17\n",
      "Total matches:  541\n",
      "++++++++++++\n",
      "For Odds around 3.4 the ideal odd would have been 3.48, with a diff of 0.08\n",
      "Total matches:  425\n",
      "++++++++++++\n",
      "For Odds around 3.5 the ideal odd would have been 3.81, with a diff of 0.31\n",
      "Total matches:  446\n",
      "++++++++++++\n",
      "For Odds around 3.6 the ideal odd would have been 3.92, with a diff of 0.32\n",
      "Total matches:  353\n",
      "++++++++++++\n",
      "For Odds around 3.7 the ideal odd would have been 4.16, with a diff of 0.46\n",
      "Total matches:  395\n",
      "++++++++++++\n",
      "For Odds around 3.8 the ideal odd would have been 4.19, with a diff of 0.39\n",
      "Total matches:  323\n",
      "++++++++++++\n",
      "For Odds around 3.9 the ideal odd would have been 4.87, with a diff of 0.97\n",
      "Total matches:  292\n",
      "++++++++++++\n",
      "For Odds around 4.0 the ideal odd would have been 4.48, with a diff of 0.48\n",
      "Total matches:  251\n",
      "++++++++++++\n",
      "For Odds around 4.1 the ideal odd would have been 3.86, with a diff of 0.24\n",
      "Total matches:  270\n",
      "++++++++++++\n",
      "For Odds around 4.2 the ideal odd would have been 5.09, with a diff of 0.89\n",
      "Total matches:  219\n",
      "++++++++++++\n",
      "For Odds around 4.3 the ideal odd would have been 5.35, with a diff of 1.05\n",
      "Total matches:  262\n",
      "++++++++++++\n",
      "For Odds around 4.4 the ideal odd would have been 4.81, with a diff of 0.41\n",
      "Total matches:  178\n",
      "++++++++++++\n",
      "For Odds around 4.5 the ideal odd would have been 5.42, with a diff of 0.92\n",
      "Total matches:  217\n",
      "++++++++++++\n",
      "For Odds around 4.6 the ideal odd would have been 4.62, with a diff of 0.02\n",
      "Total matches:  171\n",
      "++++++++++++\n",
      "For Odds around 4.7 the ideal odd would have been 3.98, with a diff of 0.72\n",
      "Total matches:  183\n",
      "++++++++++++\n",
      "For Odds around 4.8 the ideal odd would have been 5.28, with a diff of 0.48\n",
      "Total matches:  153\n",
      "++++++++++++\n",
      "For Odds around 4.9 the ideal odd would have been 5.6, with a diff of 0.7\n",
      "Total matches:  140\n",
      "++++++++++++\n",
      "For Odds around 5.0 the ideal odd would have been 4.79, with a diff of 0.21\n",
      "Total matches:  139\n",
      "Average distance between predicted odds and ideal odds has been 0.29\n"
     ]
    }
   ],
   "source": [
    "diff_tot = 0\n",
    "\n",
    "odd_list = []\n",
    "odd = 1.2\n",
    "while odd <= 5:\n",
    "    odd_list.append(round(odd,2))\n",
    "    odd += 0.1\n",
    "\n",
    "for odd in odd_list:\n",
    "    ones_p1 = betting_df[(betting_df[\"Pl1 Avg odds\"]*1.05 >= odd-0.05) & (betting_df[\"Pl1 Avg odds\"]*1.05 <= odd+0.05)][\"Winner\"].value_counts()[1]\n",
    "    zeros_p1 = betting_df[(betting_df[\"Pl1 Avg odds\"]*1.05 >= odd-0.05) & (betting_df[\"Pl1 Avg odds\"]*1.05 <= odd+0.05)][\"Winner\"].value_counts()[0]\n",
    "    \n",
    "    zeros_p0 = betting_df[(betting_df[\"Pl0 Avg odds\"]*1.05 >= odd-0.05) & (betting_df[\"Pl0 Avg odds\"]*1.05 <= odd+0.05)][\"Winner\"].value_counts()[0]\n",
    "    ones_p0 = betting_df[(betting_df[\"Pl0 Avg odds\"]*1.05 >= odd-0.05) & (betting_df[\"Pl0 Avg odds\"]*1.05 <= odd+0.05)][\"Winner\"].value_counts()[1]\n",
    "    \n",
    "\n",
    "    correct = (ones_p1+zeros_p0)/(ones_p1+zeros_p1+zeros_p0+ones_p0)\n",
    "    ideal_odds = round(1/correct,2)\n",
    "    diff = round(abs(ideal_odds-odd),2)\n",
    "    diff_tot += diff\n",
    "    print(\"++++++++++++\")\n",
    "    print(\"For Odds around {} the ideal odd would have been {}, with a diff of {}\".format(odd,ideal_odds,diff))\n",
    "    print(\"Total matches: \",ones_p1+zeros_p1+zeros_p0+ones_p0)\n",
    "    \n",
    "print(\"Average distance between predicted odds and ideal odds has been {}\".format(round(diff_tot/len(odd_list),2)))"
   ]
  },
  {
   "cell_type": "markdown",
   "metadata": {},
   "source": [
    "In general, we see no big difference between our model probabilities picking and the bookmakers. In fact, if we take the average of the differences between ideal odds and real odds (in the case of bookmakers) / predicted odds (in the case of our model), they are very similar (0.34 vs 0.29).\n",
    "\n",
    "Analyzing deeply, we can see that the probabilities for odds less than 2.2 / 2.4 are very accurate in both cases, and the majority of the big differences happen when we increase the odds.\n",
    "However, it should be noted that at big odds (thus odds for underdogs), our model generally underestimates the underdog and __increase his odds__ while it should have kept smaller odds for these players.\n",
    "Interestingly, the opposite happens for the bookmakers odds, who overestimates the underdogs and provide them with __lower odds__ than they should have."
   ]
  },
  {
   "cell_type": "code",
   "execution_count": null,
   "metadata": {},
   "outputs": [],
   "source": []
  }
 ],
 "metadata": {
  "kernelspec": {
   "display_name": "Python 3",
   "language": "python",
   "name": "python3"
  },
  "language_info": {
   "codemirror_mode": {
    "name": "ipython",
    "version": 3
   },
   "file_extension": ".py",
   "mimetype": "text/x-python",
   "name": "python",
   "nbconvert_exporter": "python",
   "pygments_lexer": "ipython3",
   "version": "3.7.6"
  }
 },
 "nbformat": 4,
 "nbformat_minor": 4
}
