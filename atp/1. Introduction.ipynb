{
 "cells": [
  {
   "cell_type": "markdown",
   "metadata": {},
   "source": [
    "# 1. Introduction\n",
    "\n",
    "In this project, we're going to use the tennis match dataset available at: https://www.kaggle.com/hakeem/atp-and-wta-tennis-data to build a machine learning model that calculates the real chances of each player to win a match.\n",
    "The goal is to use these chances to compare them against the available odds for each player in any given match, to extract value bets and see if there's some room to make an immaginary profit.\n",
    "\n",
    "\n",
    "In this notebook we're going to load the original csv file with tennis matches data and we're going to explore it, to see how consistent is the data within the file."
   ]
  },
  {
   "cell_type": "markdown",
   "metadata": {},
   "source": [
    "We're going to import pandas as the library to manipulate csv files and DataFrame objects:"
   ]
  },
  {
   "cell_type": "code",
   "execution_count": 1,
   "metadata": {},
   "outputs": [],
   "source": [
    "import pandas as pd"
   ]
  },
  {
   "cell_type": "markdown",
   "metadata": {},
   "source": [
    "Let's load the 'Data.csv' file downloaded from https://www.kaggle.com/hakeem/atp-and-wta-tennis-data and stored in the csv directory within this project:"
   ]
  },
  {
   "cell_type": "code",
   "execution_count": 2,
   "metadata": {},
   "outputs": [],
   "source": [
    "df = pd.read_csv(\"csv/df_atp.csv\", engine='python')"
   ]
  },
  {
   "cell_type": "markdown",
   "metadata": {},
   "source": [
    "Let's take a short look at the data to see if we imported it correcly:"
   ]
  },
  {
   "cell_type": "code",
   "execution_count": 3,
   "metadata": {},
   "outputs": [
    {
     "data": {
      "text/html": [
       "<div>\n",
       "<style scoped>\n",
       "    .dataframe tbody tr th:only-of-type {\n",
       "        vertical-align: middle;\n",
       "    }\n",
       "\n",
       "    .dataframe tbody tr th {\n",
       "        vertical-align: top;\n",
       "    }\n",
       "\n",
       "    .dataframe thead th {\n",
       "        text-align: right;\n",
       "    }\n",
       "</style>\n",
       "<table border=\"1\" class=\"dataframe\">\n",
       "  <thead>\n",
       "    <tr style=\"text-align: right;\">\n",
       "      <th></th>\n",
       "      <th>Unnamed: 0</th>\n",
       "      <th>ATP</th>\n",
       "      <th>AvgL</th>\n",
       "      <th>AvgW</th>\n",
       "      <th>B&amp;WL</th>\n",
       "      <th>B&amp;WW</th>\n",
       "      <th>B365L</th>\n",
       "      <th>B365W</th>\n",
       "      <th>Best of</th>\n",
       "      <th>CBL</th>\n",
       "      <th>...</th>\n",
       "      <th>UBW</th>\n",
       "      <th>W1</th>\n",
       "      <th>W2</th>\n",
       "      <th>W3</th>\n",
       "      <th>W4</th>\n",
       "      <th>W5</th>\n",
       "      <th>WPts</th>\n",
       "      <th>WRank</th>\n",
       "      <th>Winner</th>\n",
       "      <th>Wsets</th>\n",
       "    </tr>\n",
       "  </thead>\n",
       "  <tbody>\n",
       "    <tr>\n",
       "      <th>0</th>\n",
       "      <td>0</td>\n",
       "      <td>1</td>\n",
       "      <td>NaN</td>\n",
       "      <td>NaN</td>\n",
       "      <td>NaN</td>\n",
       "      <td>NaN</td>\n",
       "      <td>NaN</td>\n",
       "      <td>NaN</td>\n",
       "      <td>3</td>\n",
       "      <td>NaN</td>\n",
       "      <td>...</td>\n",
       "      <td>NaN</td>\n",
       "      <td>6.0</td>\n",
       "      <td>6.0</td>\n",
       "      <td>NaN</td>\n",
       "      <td>NaN</td>\n",
       "      <td>NaN</td>\n",
       "      <td>NaN</td>\n",
       "      <td>63</td>\n",
       "      <td>Dosedel S.</td>\n",
       "      <td>2.0</td>\n",
       "    </tr>\n",
       "    <tr>\n",
       "      <th>1</th>\n",
       "      <td>1</td>\n",
       "      <td>1</td>\n",
       "      <td>NaN</td>\n",
       "      <td>NaN</td>\n",
       "      <td>NaN</td>\n",
       "      <td>NaN</td>\n",
       "      <td>NaN</td>\n",
       "      <td>NaN</td>\n",
       "      <td>3</td>\n",
       "      <td>NaN</td>\n",
       "      <td>...</td>\n",
       "      <td>NaN</td>\n",
       "      <td>6.0</td>\n",
       "      <td>6.0</td>\n",
       "      <td>NaN</td>\n",
       "      <td>NaN</td>\n",
       "      <td>NaN</td>\n",
       "      <td>NaN</td>\n",
       "      <td>5</td>\n",
       "      <td>Enqvist T.</td>\n",
       "      <td>2.0</td>\n",
       "    </tr>\n",
       "    <tr>\n",
       "      <th>2</th>\n",
       "      <td>2</td>\n",
       "      <td>1</td>\n",
       "      <td>NaN</td>\n",
       "      <td>NaN</td>\n",
       "      <td>NaN</td>\n",
       "      <td>NaN</td>\n",
       "      <td>NaN</td>\n",
       "      <td>NaN</td>\n",
       "      <td>3</td>\n",
       "      <td>NaN</td>\n",
       "      <td>...</td>\n",
       "      <td>NaN</td>\n",
       "      <td>6.0</td>\n",
       "      <td>7.0</td>\n",
       "      <td>6.0</td>\n",
       "      <td>NaN</td>\n",
       "      <td>NaN</td>\n",
       "      <td>NaN</td>\n",
       "      <td>40</td>\n",
       "      <td>Escude N.</td>\n",
       "      <td>2.0</td>\n",
       "    </tr>\n",
       "    <tr>\n",
       "      <th>3</th>\n",
       "      <td>3</td>\n",
       "      <td>1</td>\n",
       "      <td>NaN</td>\n",
       "      <td>NaN</td>\n",
       "      <td>NaN</td>\n",
       "      <td>NaN</td>\n",
       "      <td>NaN</td>\n",
       "      <td>NaN</td>\n",
       "      <td>3</td>\n",
       "      <td>NaN</td>\n",
       "      <td>...</td>\n",
       "      <td>NaN</td>\n",
       "      <td>6.0</td>\n",
       "      <td>6.0</td>\n",
       "      <td>NaN</td>\n",
       "      <td>NaN</td>\n",
       "      <td>NaN</td>\n",
       "      <td>NaN</td>\n",
       "      <td>65</td>\n",
       "      <td>Federer R.</td>\n",
       "      <td>2.0</td>\n",
       "    </tr>\n",
       "    <tr>\n",
       "      <th>4</th>\n",
       "      <td>4</td>\n",
       "      <td>1</td>\n",
       "      <td>NaN</td>\n",
       "      <td>NaN</td>\n",
       "      <td>NaN</td>\n",
       "      <td>NaN</td>\n",
       "      <td>NaN</td>\n",
       "      <td>NaN</td>\n",
       "      <td>3</td>\n",
       "      <td>NaN</td>\n",
       "      <td>...</td>\n",
       "      <td>NaN</td>\n",
       "      <td>7.0</td>\n",
       "      <td>5.0</td>\n",
       "      <td>6.0</td>\n",
       "      <td>NaN</td>\n",
       "      <td>NaN</td>\n",
       "      <td>NaN</td>\n",
       "      <td>81</td>\n",
       "      <td>Fromberg R.</td>\n",
       "      <td>2.0</td>\n",
       "    </tr>\n",
       "  </tbody>\n",
       "</table>\n",
       "<p>5 rows × 55 columns</p>\n",
       "</div>"
      ],
      "text/plain": [
       "   Unnamed: 0  ATP  AvgL  AvgW  B&WL  B&WW  B365L  B365W  Best of  CBL  ...  \\\n",
       "0           0    1   NaN   NaN   NaN   NaN    NaN    NaN        3  NaN  ...   \n",
       "1           1    1   NaN   NaN   NaN   NaN    NaN    NaN        3  NaN  ...   \n",
       "2           2    1   NaN   NaN   NaN   NaN    NaN    NaN        3  NaN  ...   \n",
       "3           3    1   NaN   NaN   NaN   NaN    NaN    NaN        3  NaN  ...   \n",
       "4           4    1   NaN   NaN   NaN   NaN    NaN    NaN        3  NaN  ...   \n",
       "\n",
       "   UBW   W1   W2   W3  W4  W5  WPts  WRank       Winner  Wsets  \n",
       "0  NaN  6.0  6.0  NaN NaN NaN   NaN     63   Dosedel S.    2.0  \n",
       "1  NaN  6.0  6.0  NaN NaN NaN   NaN      5   Enqvist T.    2.0  \n",
       "2  NaN  6.0  7.0  6.0 NaN NaN   NaN     40    Escude N.    2.0  \n",
       "3  NaN  6.0  6.0  NaN NaN NaN   NaN     65   Federer R.    2.0  \n",
       "4  NaN  7.0  5.0  6.0 NaN NaN   NaN     81  Fromberg R.    2.0  \n",
       "\n",
       "[5 rows x 55 columns]"
      ]
     },
     "execution_count": 3,
     "metadata": {},
     "output_type": "execute_result"
    }
   ],
   "source": [
    "df.head()"
   ]
  },
  {
   "cell_type": "markdown",
   "metadata": {},
   "source": [
    "How many matches we have in this dataset?"
   ]
  },
  {
   "cell_type": "code",
   "execution_count": 4,
   "metadata": {},
   "outputs": [
    {
     "data": {
      "text/plain": [
       "(54908, 55)"
      ]
     },
     "execution_count": 4,
     "metadata": {},
     "output_type": "execute_result"
    }
   ],
   "source": [
    "df.shape"
   ]
  },
  {
   "cell_type": "markdown",
   "metadata": {},
   "source": [
    "We have as many as 54908 matches and 55 attributes for each match!"
   ]
  },
  {
   "cell_type": "markdown",
   "metadata": {},
   "source": [
    "Let's display the dataframe columns and their types:"
   ]
  },
  {
   "cell_type": "code",
   "execution_count": 5,
   "metadata": {
    "scrolled": false
   },
   "outputs": [
    {
     "data": {
      "text/plain": [
       "Unnamed: 0      int64\n",
       "ATP             int64\n",
       "AvgL          float64\n",
       "AvgW          float64\n",
       "B&WL          float64\n",
       "B&WW          float64\n",
       "B365L         float64\n",
       "B365W         float64\n",
       "Best of         int64\n",
       "CBL           float64\n",
       "CBW           float64\n",
       "Comment        object\n",
       "Court          object\n",
       "Date           object\n",
       "EXL           float64\n",
       "EXW            object\n",
       "GBL           float64\n",
       "GBW           float64\n",
       "IWL           float64\n",
       "IWW           float64\n",
       "L1            float64\n",
       "L2             object\n",
       "L3             object\n",
       "L4            float64\n",
       "L5            float64\n",
       "LBL           float64\n",
       "LBW           float64\n",
       "LPts          float64\n",
       "LRank          object\n",
       "Location       object\n",
       "Loser          object\n",
       "Lsets          object\n",
       "MaxL          float64\n",
       "MaxW          float64\n",
       "PSL           float64\n",
       "PSW           float64\n",
       "Round          object\n",
       "SBL           float64\n",
       "SBW           float64\n",
       "SJL           float64\n",
       "SJW           float64\n",
       "Series         object\n",
       "Surface        object\n",
       "Tournament     object\n",
       "UBL           float64\n",
       "UBW           float64\n",
       "W1            float64\n",
       "W2             object\n",
       "W3             object\n",
       "W4            float64\n",
       "W5            float64\n",
       "WPts          float64\n",
       "WRank          object\n",
       "Winner         object\n",
       "Wsets         float64\n",
       "dtype: object"
      ]
     },
     "execution_count": 5,
     "metadata": {},
     "output_type": "execute_result"
    }
   ],
   "source": [
    "df.dtypes"
   ]
  },
  {
   "cell_type": "markdown",
   "metadata": {},
   "source": [
    "# Problems of this Dataset"
   ]
  },
  {
   "cell_type": "markdown",
   "metadata": {},
   "source": [
    "As we can see, there are already some things that don't look very promising.\n",
    "For example, the rankings of the winner player and the loser one are not of type 'int' but 'object', and the 'Date' attribute is not a date, but an 'object' too.\n",
    "\n",
    "Moreover, in this file we have the information about who wins each match already classified in the appropriate column ('Winner'), but that's not optimal since we're going to build a classifier model that will have to learn from the attributes of each match who's more likely to win and to lose.\n",
    "In fact, if the winner of the match always appears in the same column, that's not going to help our model.\n",
    "\n",
    "We're going to correct these issues, and many more, in the PreProcessing notebook."
   ]
  },
  {
   "cell_type": "markdown",
   "metadata": {},
   "source": [
    "# Next Steps"
   ]
  },
  {
   "cell_type": "markdown",
   "metadata": {},
   "source": [
    "Now that we have looked at the dataset we can explore our next steps in order to achive our goal: building a model that predicts the real chances of each player to win a match, and finds value bets to beat the bookmakers (or at least tries to)!\n",
    "\n",
    "So, the next step is going be pre-processing this original csv file, in order to remove the features we're not interested in, and to correct the issues that we will find in the data.\n",
    "\n",
    "Then, using the fixed data, for each match we will 'build' new features from scratch, to help our prediction model make a better job.\n",
    "\n",
    "Next, we're going to build some machine learning models to learn from these attributes and to make a prediction about who's more likely to win a given match. And we'll compare the models in order to pick up the best one.\n",
    "\n",
    "Finally, we will focus on the betting aspect.\n",
    "In fact, we'll use the model previously built to calculate the chances of each player to win. \n",
    "Once we'll have these chances, we're going to look at the odds available for each match, to extract (if possible) value bets, i.e. bets where the odds offered by a bookmaker are higher than the odds based on the chances of a player to win the match as calculated by our model."
   ]
  }
 ],
 "metadata": {
  "kernelspec": {
   "display_name": "Python 3",
   "language": "python",
   "name": "python3"
  },
  "language_info": {
   "codemirror_mode": {
    "name": "ipython",
    "version": 3
   },
   "file_extension": ".py",
   "mimetype": "text/x-python",
   "name": "python",
   "nbconvert_exporter": "python",
   "pygments_lexer": "ipython3",
   "version": "3.7.6"
  }
 },
 "nbformat": 4,
 "nbformat_minor": 4
}
