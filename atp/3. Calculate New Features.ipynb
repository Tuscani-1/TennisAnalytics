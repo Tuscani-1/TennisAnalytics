{
 "cells": [
  {
   "cell_type": "markdown",
   "metadata": {},
   "source": [
    "# 3. Calculate New Features\n",
    "\n",
    "In this notebook, we'll load the preprocessed dataframe saved at the end of the second notebook (the PreProcessing notebook) and we'll make use of it in order to build from scratch new features!\n",
    "\n",
    "More precisely, in order to train our model more effectively, for each match we'll analyze several parameters and we'll add these to our dataframe.\n",
    "\n",
    "These parameters, important to decide who's more likely to win a tennis match, are the following:\n",
    "- a rank index parameter, that ranges from -1 to 1, and compares the ranking of Player 0 and Player 1. If Player 0 has a higher ranking than Player 1, the rank index will grow towards 1; if the opposite is true, the rank index will be negative\n",
    "\n",
    "- a surface performance index that ranges from 0 to 1 for each player, and represents the proportion of matches won against the total number of matches played on a given surface\n",
    "\n",
    "- a recent form index that ranges from 0 to 1 for each player, that represents the proportion of matches won in the last 7 matches played.\n",
    "\n",
    "- a form index like the previous, but calculated on the last 20 matches\n",
    "\n",
    "- and finally another index, that measures the performance of each player against similar players (in terms of ranking) to the current opponent for a given match"
   ]
  },
  {
   "cell_type": "markdown",
   "metadata": {},
   "source": [
    "Since we'll make use of dataframes and csv files, we import pandas library"
   ]
  },
  {
   "cell_type": "code",
   "execution_count": 1,
   "metadata": {},
   "outputs": [],
   "source": [
    "import pandas as pd"
   ]
  },
  {
   "cell_type": "code",
   "execution_count": 2,
   "metadata": {},
   "outputs": [],
   "source": [
    "df = pd.read_csv(\"csv/Preprocessed_Data.csv\")"
   ]
  },
  {
   "cell_type": "code",
   "execution_count": 3,
   "metadata": {},
   "outputs": [
    {
     "data": {
      "text/html": [
       "<div>\n",
       "<style scoped>\n",
       "    .dataframe tbody tr th:only-of-type {\n",
       "        vertical-align: middle;\n",
       "    }\n",
       "\n",
       "    .dataframe tbody tr th {\n",
       "        vertical-align: top;\n",
       "    }\n",
       "\n",
       "    .dataframe thead th {\n",
       "        text-align: right;\n",
       "    }\n",
       "</style>\n",
       "<table border=\"1\" class=\"dataframe\">\n",
       "  <thead>\n",
       "    <tr style=\"text-align: right;\">\n",
       "      <th></th>\n",
       "      <th>Avg_Pl1</th>\n",
       "      <th>Avg_Pl0</th>\n",
       "      <th>B365_Pl1</th>\n",
       "      <th>B365_Pl0</th>\n",
       "      <th>Date</th>\n",
       "      <th>Pl1_Rank</th>\n",
       "      <th>Player 1</th>\n",
       "      <th>Max_Pl1</th>\n",
       "      <th>Max_Pl0</th>\n",
       "      <th>PS_Pl1</th>\n",
       "      <th>...</th>\n",
       "      <th>Masters 1000</th>\n",
       "      <th>Masters Cup</th>\n",
       "      <th>1st Round</th>\n",
       "      <th>2nd Round</th>\n",
       "      <th>3rd Round</th>\n",
       "      <th>4th Round</th>\n",
       "      <th>Quarterfinals</th>\n",
       "      <th>Round Robin</th>\n",
       "      <th>Semifinals</th>\n",
       "      <th>The Final</th>\n",
       "    </tr>\n",
       "  </thead>\n",
       "  <tbody>\n",
       "    <tr>\n",
       "      <th>0</th>\n",
       "      <td>NaN</td>\n",
       "      <td>NaN</td>\n",
       "      <td>NaN</td>\n",
       "      <td>NaN</td>\n",
       "      <td>2000-01-03</td>\n",
       "      <td>63</td>\n",
       "      <td>Dosedel S.</td>\n",
       "      <td>NaN</td>\n",
       "      <td>NaN</td>\n",
       "      <td>NaN</td>\n",
       "      <td>...</td>\n",
       "      <td>0</td>\n",
       "      <td>0</td>\n",
       "      <td>1</td>\n",
       "      <td>0</td>\n",
       "      <td>0</td>\n",
       "      <td>0</td>\n",
       "      <td>0</td>\n",
       "      <td>0</td>\n",
       "      <td>0</td>\n",
       "      <td>0</td>\n",
       "    </tr>\n",
       "    <tr>\n",
       "      <th>1</th>\n",
       "      <td>NaN</td>\n",
       "      <td>NaN</td>\n",
       "      <td>NaN</td>\n",
       "      <td>NaN</td>\n",
       "      <td>2000-01-03</td>\n",
       "      <td>56</td>\n",
       "      <td>Clement A.</td>\n",
       "      <td>NaN</td>\n",
       "      <td>NaN</td>\n",
       "      <td>NaN</td>\n",
       "      <td>...</td>\n",
       "      <td>0</td>\n",
       "      <td>0</td>\n",
       "      <td>1</td>\n",
       "      <td>0</td>\n",
       "      <td>0</td>\n",
       "      <td>0</td>\n",
       "      <td>0</td>\n",
       "      <td>0</td>\n",
       "      <td>0</td>\n",
       "      <td>0</td>\n",
       "    </tr>\n",
       "    <tr>\n",
       "      <th>2</th>\n",
       "      <td>NaN</td>\n",
       "      <td>NaN</td>\n",
       "      <td>NaN</td>\n",
       "      <td>NaN</td>\n",
       "      <td>2000-01-03</td>\n",
       "      <td>40</td>\n",
       "      <td>Escude N.</td>\n",
       "      <td>NaN</td>\n",
       "      <td>NaN</td>\n",
       "      <td>NaN</td>\n",
       "      <td>...</td>\n",
       "      <td>0</td>\n",
       "      <td>0</td>\n",
       "      <td>1</td>\n",
       "      <td>0</td>\n",
       "      <td>0</td>\n",
       "      <td>0</td>\n",
       "      <td>0</td>\n",
       "      <td>0</td>\n",
       "      <td>0</td>\n",
       "      <td>0</td>\n",
       "    </tr>\n",
       "    <tr>\n",
       "      <th>3</th>\n",
       "      <td>NaN</td>\n",
       "      <td>NaN</td>\n",
       "      <td>NaN</td>\n",
       "      <td>NaN</td>\n",
       "      <td>2000-01-03</td>\n",
       "      <td>87</td>\n",
       "      <td>Knippschild J.</td>\n",
       "      <td>NaN</td>\n",
       "      <td>NaN</td>\n",
       "      <td>NaN</td>\n",
       "      <td>...</td>\n",
       "      <td>0</td>\n",
       "      <td>0</td>\n",
       "      <td>1</td>\n",
       "      <td>0</td>\n",
       "      <td>0</td>\n",
       "      <td>0</td>\n",
       "      <td>0</td>\n",
       "      <td>0</td>\n",
       "      <td>0</td>\n",
       "      <td>0</td>\n",
       "    </tr>\n",
       "    <tr>\n",
       "      <th>4</th>\n",
       "      <td>NaN</td>\n",
       "      <td>NaN</td>\n",
       "      <td>NaN</td>\n",
       "      <td>NaN</td>\n",
       "      <td>2000-01-03</td>\n",
       "      <td>81</td>\n",
       "      <td>Fromberg R.</td>\n",
       "      <td>NaN</td>\n",
       "      <td>NaN</td>\n",
       "      <td>NaN</td>\n",
       "      <td>...</td>\n",
       "      <td>0</td>\n",
       "      <td>0</td>\n",
       "      <td>1</td>\n",
       "      <td>0</td>\n",
       "      <td>0</td>\n",
       "      <td>0</td>\n",
       "      <td>0</td>\n",
       "      <td>0</td>\n",
       "      <td>0</td>\n",
       "      <td>0</td>\n",
       "    </tr>\n",
       "  </tbody>\n",
       "</table>\n",
       "<p>5 rows × 33 columns</p>\n",
       "</div>"
      ],
      "text/plain": [
       "   Avg_Pl1  Avg_Pl0  B365_Pl1  B365_Pl0        Date  Pl1_Rank        Player 1  \\\n",
       "0      NaN      NaN       NaN       NaN  2000-01-03        63      Dosedel S.   \n",
       "1      NaN      NaN       NaN       NaN  2000-01-03        56      Clement A.   \n",
       "2      NaN      NaN       NaN       NaN  2000-01-03        40       Escude N.   \n",
       "3      NaN      NaN       NaN       NaN  2000-01-03        87  Knippschild J.   \n",
       "4      NaN      NaN       NaN       NaN  2000-01-03        81     Fromberg R.   \n",
       "\n",
       "   Max_Pl1  Max_Pl0  PS_Pl1  ...  Masters 1000  Masters Cup 1st Round  \\\n",
       "0      NaN      NaN     NaN  ...             0            0         1   \n",
       "1      NaN      NaN     NaN  ...             0            0         1   \n",
       "2      NaN      NaN     NaN  ...             0            0         1   \n",
       "3      NaN      NaN     NaN  ...             0            0         1   \n",
       "4      NaN      NaN     NaN  ...             0            0         1   \n",
       "\n",
       "   2nd Round  3rd Round  4th Round  Quarterfinals  Round Robin  Semifinals  \\\n",
       "0          0          0          0              0            0           0   \n",
       "1          0          0          0              0            0           0   \n",
       "2          0          0          0              0            0           0   \n",
       "3          0          0          0              0            0           0   \n",
       "4          0          0          0              0            0           0   \n",
       "\n",
       "   The Final  \n",
       "0          0  \n",
       "1          0  \n",
       "2          0  \n",
       "3          0  \n",
       "4          0  \n",
       "\n",
       "[5 rows x 33 columns]"
      ]
     },
     "execution_count": 3,
     "metadata": {},
     "output_type": "execute_result"
    }
   ],
   "source": [
    "df.head()"
   ]
  },
  {
   "cell_type": "code",
   "execution_count": 4,
   "metadata": {},
   "outputs": [
    {
     "data": {
      "text/plain": [
       "Index(['Avg_Pl1', 'Avg_Pl0', 'B365_Pl1', 'B365_Pl0', 'Date', 'Pl1_Rank',\n",
       "       'Player 1', 'Max_Pl1', 'Max_Pl0', 'PS_Pl1', 'PS_Pl0', 'Pl0_Rank',\n",
       "       'Player 0', 'Won', 'Indoor', 'Outdoor', 'Carpet', 'Clay', 'Grass',\n",
       "       'Hard', 'ATP250', 'ATP500', 'Grand Slam', 'Masters 1000', 'Masters Cup',\n",
       "       '1st Round', '2nd Round', '3rd Round', '4th Round', 'Quarterfinals',\n",
       "       'Round Robin', 'Semifinals', 'The Final'],\n",
       "      dtype='object')"
      ]
     },
     "execution_count": 4,
     "metadata": {},
     "output_type": "execute_result"
    }
   ],
   "source": [
    "df.columns"
   ]
  },
  {
   "cell_type": "code",
   "execution_count": 5,
   "metadata": {},
   "outputs": [],
   "source": [
    "df['Date'] = pd.to_datetime(df['Date'])"
   ]
  },
  {
   "cell_type": "markdown",
   "metadata": {},
   "source": [
    "### Adding a Performance index per match\n",
    "\n",
    "For every match, we'll calculate a performance index for both players, where the winner will always have an index greater than 0.5 and the loser always below this value.\n",
    "To calculate the exact value, however, we use the rankings of the players, so that beating a high ranked player will result in a value close to 1 for the winner, and losing from a low-ranked player will result in value close to 0 for the loser."
   ]
  },
  {
   "cell_type": "code",
   "execution_count": 6,
   "metadata": {},
   "outputs": [],
   "source": [
    "def perf_index(winner_rank, loser_rank):\n",
    "    winner_index = 0.5 + 1/(loser_rank+1)\n",
    "    loser_index = 1/(winner_rank+1)\n",
    "    return winner_index, loser_index"
   ]
  },
  {
   "cell_type": "code",
   "execution_count": 7,
   "metadata": {},
   "outputs": [],
   "source": [
    "def calculate_performance_index_per_match_df(df):\n",
    "    copy_df = df.copy()\n",
    "    \n",
    "    for ix, row in copy_df.iterrows():\n",
    "        pl0_rank = row['Pl0_Rank']\n",
    "        pl1_rank = row['Pl1_Rank']\n",
    "        winner = row[\"Won\"]\n",
    "        if winner == 0:\n",
    "            winner_index, loser_index = perf_index(pl0_rank, pl1_rank)\n",
    "            copy_df.at[ix,'Match Perf. Index Pl0'] = winner_index\n",
    "            copy_df.at[ix,'Match Perf. Index Pl1'] = loser_index\n",
    "        else:\n",
    "            winner_index, loser_index = perf_index(pl1_rank, pl0_rank)\n",
    "            copy_df.at[ix,'Match Perf. Index Pl0'] = loser_index\n",
    "            copy_df.at[ix,'Match Perf. Index Pl1'] = winner_index\n",
    "    return copy_df"
   ]
  },
  {
   "cell_type": "code",
   "execution_count": 8,
   "metadata": {},
   "outputs": [],
   "source": [
    "df = calculate_performance_index_per_match_df(df)"
   ]
  },
  {
   "cell_type": "markdown",
   "metadata": {},
   "source": [
    "### Ranking Feature"
   ]
  },
  {
   "cell_type": "markdown",
   "metadata": {},
   "source": [
    "The purpose of the following function is to calculate an index based on the rankings of 2 players."
   ]
  },
  {
   "cell_type": "code",
   "execution_count": 9,
   "metadata": {},
   "outputs": [],
   "source": [
    "\"\"\"\n",
    "ranking_comparator_index function takes in input the ranks of players 0 and 1 (i.e.: 3, 19) and returns a value between -1 and 1.\n",
    "The value is negative, if player1 has a higher ranking than player0. It's positive if player0 has a higher ranking than \n",
    "player1, and it's close to 0 if the players have similar rankings.\n",
    "Similarity between rankings is not only expressed by the distance between the rankings. \n",
    "In fact, between number 1 and number 2, there is a higher difference than number 59 and number 60.\n",
    "This metric is taken into account while calculating the ranking comparator index.\n",
    "\"\"\"\n",
    "def ranking_comparator_index(player_0_rank, player_1_rank):\n",
    "    tmp0 = 1/player_0_rank\n",
    "    tmp1 = 1/player_1_rank\n",
    "    \n",
    "    max_tmp = max(tmp0,tmp1)\n",
    "    coeff = ( abs(tmp0-tmp1) / max_tmp)**2\n",
    "    \n",
    "    proportion = coeff * max_tmp / (tmp0 + tmp1)\n",
    "    proportion = round(proportion,4)\n",
    "    if player_0_rank < player_1_rank:\n",
    "        return proportion\n",
    "    else:\n",
    "        return proportion * -1"
   ]
  },
  {
   "cell_type": "markdown",
   "metadata": {},
   "source": [
    "### Surface Performance Feature"
   ]
  },
  {
   "cell_type": "markdown",
   "metadata": {},
   "source": [
    "Next, we're going to generate a new dataframe, where for each player in the dataset, we will calculate the performance index on each of the classified surfaces, like Carpet, Grass, Clay and Hard.\n",
    "Note: this might take between a minute or two to complete!"
   ]
  },
  {
   "cell_type": "code",
   "execution_count": 10,
   "metadata": {
    "scrolled": true
   },
   "outputs": [],
   "source": [
    "surface_performance_list = []\n",
    "\n",
    "#list all players in the dataset\n",
    "players = set(df['Player 0']) | set(df['Player 1'])\n",
    "\n",
    "surfaces = ['Hard','Grass','Clay','Carpet']\n",
    "for player in players:\n",
    "    for surface in surfaces:\n",
    "        player_df = df[(df[\"Player 0\"]==player) | (df[\"Player 1\"]==player)]\n",
    "\n",
    "        total_played = player_df[ (player_df[surface] == 1) ].shape[0]\n",
    "        \n",
    "        total_won = player_df[(player_df[surface] == 1) & \\\n",
    "                        ( ( (player_df[\"Player 0\"]==player) & (player_df[\"Won\"]==0) ) | (( (player_df[\"Player 1\"]==player) & (player_df[\"Won\"]==1) )) ) ].shape[0]\n",
    "        \n",
    "        if total_played == 0: performance_index = 0\n",
    "        else: performance_index = round(float(total_won/total_played), 2)\n",
    "        surface_performance_list.append({\"Player\":player,\"Surface\":surface,\"Performance\":performance_index})\n",
    "\n",
    "surface_perf_df = pd.DataFrame(surface_performance_list)"
   ]
  },
  {
   "cell_type": "markdown",
   "metadata": {},
   "source": [
    "Let's take a look at the surface performance of the greatest tennis players of our generation!"
   ]
  },
  {
   "cell_type": "code",
   "execution_count": 11,
   "metadata": {},
   "outputs": [
    {
     "data": {
      "text/html": [
       "<div>\n",
       "<style scoped>\n",
       "    .dataframe tbody tr th:only-of-type {\n",
       "        vertical-align: middle;\n",
       "    }\n",
       "\n",
       "    .dataframe tbody tr th {\n",
       "        vertical-align: top;\n",
       "    }\n",
       "\n",
       "    .dataframe thead th {\n",
       "        text-align: right;\n",
       "    }\n",
       "</style>\n",
       "<table border=\"1\" class=\"dataframe\">\n",
       "  <thead>\n",
       "    <tr style=\"text-align: right;\">\n",
       "      <th></th>\n",
       "      <th>Player</th>\n",
       "      <th>Surface</th>\n",
       "      <th>Performance</th>\n",
       "    </tr>\n",
       "  </thead>\n",
       "  <tbody>\n",
       "    <tr>\n",
       "      <th>3176</th>\n",
       "      <td>Federer R.</td>\n",
       "      <td>Hard</td>\n",
       "      <td>0.84</td>\n",
       "    </tr>\n",
       "    <tr>\n",
       "      <th>3177</th>\n",
       "      <td>Federer R.</td>\n",
       "      <td>Grass</td>\n",
       "      <td>0.88</td>\n",
       "    </tr>\n",
       "    <tr>\n",
       "      <th>3178</th>\n",
       "      <td>Federer R.</td>\n",
       "      <td>Clay</td>\n",
       "      <td>0.77</td>\n",
       "    </tr>\n",
       "    <tr>\n",
       "      <th>3179</th>\n",
       "      <td>Federer R.</td>\n",
       "      <td>Carpet</td>\n",
       "      <td>0.77</td>\n",
       "    </tr>\n",
       "  </tbody>\n",
       "</table>\n",
       "</div>"
      ],
      "text/plain": [
       "          Player Surface  Performance\n",
       "3176  Federer R.    Hard         0.84\n",
       "3177  Federer R.   Grass         0.88\n",
       "3178  Federer R.    Clay         0.77\n",
       "3179  Federer R.  Carpet         0.77"
      ]
     },
     "execution_count": 11,
     "metadata": {},
     "output_type": "execute_result"
    }
   ],
   "source": [
    "surface_perf_df[surface_perf_df['Player'] == \"Federer R.\"]"
   ]
  },
  {
   "cell_type": "code",
   "execution_count": 12,
   "metadata": {},
   "outputs": [
    {
     "data": {
      "text/html": [
       "<div>\n",
       "<style scoped>\n",
       "    .dataframe tbody tr th:only-of-type {\n",
       "        vertical-align: middle;\n",
       "    }\n",
       "\n",
       "    .dataframe tbody tr th {\n",
       "        vertical-align: top;\n",
       "    }\n",
       "\n",
       "    .dataframe thead th {\n",
       "        text-align: right;\n",
       "    }\n",
       "</style>\n",
       "<table border=\"1\" class=\"dataframe\">\n",
       "  <thead>\n",
       "    <tr style=\"text-align: right;\">\n",
       "      <th></th>\n",
       "      <th>Player</th>\n",
       "      <th>Surface</th>\n",
       "      <th>Performance</th>\n",
       "    </tr>\n",
       "  </thead>\n",
       "  <tbody>\n",
       "    <tr>\n",
       "      <th>3408</th>\n",
       "      <td>Nadal R.</td>\n",
       "      <td>Hard</td>\n",
       "      <td>0.77</td>\n",
       "    </tr>\n",
       "    <tr>\n",
       "      <th>3409</th>\n",
       "      <td>Nadal R.</td>\n",
       "      <td>Grass</td>\n",
       "      <td>0.78</td>\n",
       "    </tr>\n",
       "    <tr>\n",
       "      <th>3410</th>\n",
       "      <td>Nadal R.</td>\n",
       "      <td>Clay</td>\n",
       "      <td>0.91</td>\n",
       "    </tr>\n",
       "    <tr>\n",
       "      <th>3411</th>\n",
       "      <td>Nadal R.</td>\n",
       "      <td>Carpet</td>\n",
       "      <td>0.50</td>\n",
       "    </tr>\n",
       "  </tbody>\n",
       "</table>\n",
       "</div>"
      ],
      "text/plain": [
       "        Player Surface  Performance\n",
       "3408  Nadal R.    Hard         0.77\n",
       "3409  Nadal R.   Grass         0.78\n",
       "3410  Nadal R.    Clay         0.91\n",
       "3411  Nadal R.  Carpet         0.50"
      ]
     },
     "execution_count": 12,
     "metadata": {},
     "output_type": "execute_result"
    }
   ],
   "source": [
    "surface_perf_df[surface_perf_df['Player'] == \"Nadal R.\"]"
   ]
  },
  {
   "cell_type": "code",
   "execution_count": 13,
   "metadata": {},
   "outputs": [
    {
     "data": {
      "text/html": [
       "<div>\n",
       "<style scoped>\n",
       "    .dataframe tbody tr th:only-of-type {\n",
       "        vertical-align: middle;\n",
       "    }\n",
       "\n",
       "    .dataframe tbody tr th {\n",
       "        vertical-align: top;\n",
       "    }\n",
       "\n",
       "    .dataframe thead th {\n",
       "        text-align: right;\n",
       "    }\n",
       "</style>\n",
       "<table border=\"1\" class=\"dataframe\">\n",
       "  <thead>\n",
       "    <tr style=\"text-align: right;\">\n",
       "      <th></th>\n",
       "      <th>Player</th>\n",
       "      <th>Surface</th>\n",
       "      <th>Performance</th>\n",
       "    </tr>\n",
       "  </thead>\n",
       "  <tbody>\n",
       "    <tr>\n",
       "      <th>2616</th>\n",
       "      <td>Djokovic N.</td>\n",
       "      <td>Hard</td>\n",
       "      <td>0.84</td>\n",
       "    </tr>\n",
       "    <tr>\n",
       "      <th>2617</th>\n",
       "      <td>Djokovic N.</td>\n",
       "      <td>Grass</td>\n",
       "      <td>0.85</td>\n",
       "    </tr>\n",
       "    <tr>\n",
       "      <th>2618</th>\n",
       "      <td>Djokovic N.</td>\n",
       "      <td>Clay</td>\n",
       "      <td>0.80</td>\n",
       "    </tr>\n",
       "    <tr>\n",
       "      <th>2619</th>\n",
       "      <td>Djokovic N.</td>\n",
       "      <td>Carpet</td>\n",
       "      <td>0.54</td>\n",
       "    </tr>\n",
       "  </tbody>\n",
       "</table>\n",
       "</div>"
      ],
      "text/plain": [
       "           Player Surface  Performance\n",
       "2616  Djokovic N.    Hard         0.84\n",
       "2617  Djokovic N.   Grass         0.85\n",
       "2618  Djokovic N.    Clay         0.80\n",
       "2619  Djokovic N.  Carpet         0.54"
      ]
     },
     "execution_count": 13,
     "metadata": {},
     "output_type": "execute_result"
    }
   ],
   "source": [
    "surface_perf_df[surface_perf_df['Player'] == \"Djokovic N.\"]"
   ]
  },
  {
   "cell_type": "code",
   "execution_count": 14,
   "metadata": {
    "scrolled": true
   },
   "outputs": [
    {
     "data": {
      "text/html": [
       "<div>\n",
       "<style scoped>\n",
       "    .dataframe tbody tr th:only-of-type {\n",
       "        vertical-align: middle;\n",
       "    }\n",
       "\n",
       "    .dataframe tbody tr th {\n",
       "        vertical-align: top;\n",
       "    }\n",
       "\n",
       "    .dataframe thead th {\n",
       "        text-align: right;\n",
       "    }\n",
       "</style>\n",
       "<table border=\"1\" class=\"dataframe\">\n",
       "  <thead>\n",
       "    <tr style=\"text-align: right;\">\n",
       "      <th></th>\n",
       "      <th>Player</th>\n",
       "      <th>Surface</th>\n",
       "      <th>Performance</th>\n",
       "    </tr>\n",
       "  </thead>\n",
       "  <tbody>\n",
       "    <tr>\n",
       "      <th>940</th>\n",
       "      <td>Murray A.</td>\n",
       "      <td>Hard</td>\n",
       "      <td>0.77</td>\n",
       "    </tr>\n",
       "    <tr>\n",
       "      <th>941</th>\n",
       "      <td>Murray A.</td>\n",
       "      <td>Grass</td>\n",
       "      <td>0.81</td>\n",
       "    </tr>\n",
       "    <tr>\n",
       "      <th>942</th>\n",
       "      <td>Murray A.</td>\n",
       "      <td>Clay</td>\n",
       "      <td>0.69</td>\n",
       "    </tr>\n",
       "    <tr>\n",
       "      <th>943</th>\n",
       "      <td>Murray A.</td>\n",
       "      <td>Carpet</td>\n",
       "      <td>0.75</td>\n",
       "    </tr>\n",
       "  </tbody>\n",
       "</table>\n",
       "</div>"
      ],
      "text/plain": [
       "        Player Surface  Performance\n",
       "940  Murray A.    Hard         0.77\n",
       "941  Murray A.   Grass         0.81\n",
       "942  Murray A.    Clay         0.69\n",
       "943  Murray A.  Carpet         0.75"
      ]
     },
     "execution_count": 14,
     "metadata": {},
     "output_type": "execute_result"
    }
   ],
   "source": [
    "surface_perf_df[surface_perf_df['Player'] == \"Murray A.\"]"
   ]
  },
  {
   "cell_type": "markdown",
   "metadata": {},
   "source": [
    "The function below takes a row in the dataframe and returns the surface of the match, based on the dummy variables representing the surface"
   ]
  },
  {
   "cell_type": "code",
   "execution_count": 15,
   "metadata": {},
   "outputs": [],
   "source": [
    "def _get_surface_by_row__(row):\n",
    "    if row['Hard'] == 1: return \"Hard\"\n",
    "    if row['Clay'] == 1: return \"Clay\"\n",
    "    if row['Grass'] == 1: return \"Grass\"\n",
    "    if row['Carpet'] == 1: return \"Carpet\"\n",
    "    return \"\""
   ]
  },
  {
   "cell_type": "markdown",
   "metadata": {},
   "source": [
    "### Form Performance"
   ]
  },
  {
   "cell_type": "markdown",
   "metadata": {},
   "source": [
    "Now, we're going to implement a function that returns the performance index of a player in the last X matches before a given date."
   ]
  },
  {
   "cell_type": "code",
   "execution_count": 16,
   "metadata": {},
   "outputs": [],
   "source": [
    "def avg_performance_player(df, player):\n",
    "    sum_as_p0 = df[df[\"Player 0\"] == player][\"Match Perf. Index Pl0\"].sum()\n",
    "    sum_as_p1 = df[df[\"Player 1\"] == player][\"Match Perf. Index Pl1\"].sum()\n",
    "    if df.shape[0] == 0: return 0\n",
    "    return round( (sum_as_p0+sum_as_p1)/df.shape[0], 2)"
   ]
  },
  {
   "cell_type": "code",
   "execution_count": 17,
   "metadata": {},
   "outputs": [],
   "source": [
    "\"\"\"\n",
    "This method takes in input a dataframe containing all the matches, a player, a date D and a tuple of integers, \n",
    "where the minimum number represents the number of matches to consider to calculate the recent form and the max number \n",
    "represents the number of matches to consider to calculate the form of the player.\n",
    "\"\"\"\n",
    "def form_performance_index(df, player, date, matches_to_consider_tuple):\n",
    "    try:\n",
    "        recent_form_matches = min(matches_to_consider_tuple)\n",
    "        form_matches = max(matches_to_consider_tuple)\n",
    "    except:\n",
    "        raise ValueError(\"Wrong value for argument matches_to_consider_tuple. It has to be a tuple of integers.\")\n",
    "    \n",
    "    player_df = df[(df['Player 0']==player) | (df['Player 1']==player)]\n",
    "    \n",
    "    #Form DF\n",
    "    last_matches_before_date_df_form = player_df[player_df['Date'] < date].tail(form_matches).sort_values('Date', ascending=False)\n",
    "    avg_perf_form = avg_performance_player(last_matches_before_date_df_form, player)\n",
    "    \n",
    "    #Recent Form DF\n",
    "    last_matches_before_date_df_recent_form = last_matches_before_date_df_form.head(recent_form_matches)\n",
    "    avg_perf_recent_form = avg_performance_player(last_matches_before_date_df_recent_form, player)\n",
    "    \n",
    "    #Form\n",
    "    total_played_form = last_matches_before_date_df_form.shape[0]\n",
    "    total_won_form = last_matches_before_date_df_form[( ( \\\n",
    "                (last_matches_before_date_df_form[\"Player 0\"]==player) & (last_matches_before_date_df_form[\"Won\"]==0) ) | \\\n",
    "                (( (last_matches_before_date_df_form[\"Player 1\"]==player) & (last_matches_before_date_df_form[\"Won\"]==1) )) )].shape[0]\n",
    "        \n",
    "    if total_played_form == 0: performance_index_form = 0\n",
    "    else: performance_index_form = (round(float(total_won_form/total_played_form), 2) + avg_perf_form)/2\n",
    "    \n",
    "    \n",
    "    #Recent Form\n",
    "    total_played_recent_form = last_matches_before_date_df_recent_form.shape[0]\n",
    "    total_won_recent_form = last_matches_before_date_df_recent_form[( ( \\\n",
    "                (last_matches_before_date_df_recent_form[\"Player 0\"]==player) & (last_matches_before_date_df_recent_form[\"Won\"]==0) ) | \\\n",
    "                (( (last_matches_before_date_df_recent_form[\"Player 1\"]==player) & (last_matches_before_date_df_recent_form[\"Won\"]==1) )) )].shape[0]\n",
    "        \n",
    "    if total_played_recent_form == 0: performance_index_recent_form = 0\n",
    "    else: performance_index_recent_form = (round(float(total_won_recent_form/total_played_recent_form), 2) + avg_perf_recent_form)/2\n",
    "    \n",
    "    return performance_index_form, performance_index_recent_form"
   ]
  },
  {
   "cell_type": "markdown",
   "metadata": {},
   "source": [
    "### Performance against similar ranked opponents"
   ]
  },
  {
   "cell_type": "markdown",
   "metadata": {},
   "source": [
    "Next, we're going to define a function that measure the perfomance index of a player in matches against an opponent in a given ranking range (i.e. top 4, top 10, top 20, etc.)"
   ]
  },
  {
   "cell_type": "code",
   "execution_count": 18,
   "metadata": {},
   "outputs": [],
   "source": [
    "def performance_against_opponent_ranking_index(df, player, range_tuple):\n",
    "    try:\n",
    "        range_min = range_tuple[0]\n",
    "        range_max = range_tuple[1]\n",
    "    except:\n",
    "        raise ValueError(\"Opponent Ranking Range tuple not provided correctly: \" + range_tuple)\n",
    "        \n",
    "    if range_min > range_max:\n",
    "        tmp = range_min\n",
    "        range_min = range_max\n",
    "        range_max = tmp\n",
    "    \n",
    "    player_won_as_pl0 = df[(df[\"Player 0\"]==player) & (df[\"Won\"]==0) & (df['Pl1_Rank'] <= range_max) & (df['Pl1_Rank'] >= range_min)]\n",
    "    player_won_as_pl1 = df[(df[\"Player 1\"]==player) & (df[\"Won\"]==1) & (df['Pl0_Rank'] <= range_max) & (df['Pl0_Rank'] >= range_min)]\n",
    "    \n",
    "    player_lost_as_pl0 = df[(df[\"Player 0\"]==player) & (df[\"Won\"]==1) & (df['Pl1_Rank'] <= range_max) & (df['Pl1_Rank'] >= range_min)]\n",
    "    player_lost_as_pl1 = df[(df[\"Player 1\"]==player) & (df[\"Won\"]==0) & (df['Pl0_Rank'] <= range_max) & (df['Pl0_Rank'] >= range_min)]\n",
    "    \n",
    "    \n",
    "    won = player_won_as_pl0.shape[0] + player_won_as_pl1.shape[0]\n",
    "    lost = player_lost_as_pl0.shape[0] + player_lost_as_pl1.shape[0]\n",
    "    \n",
    "    if won + lost == 0: return 0\n",
    "    return round(float(won/(won+lost)), 2)\n",
    "    "
   ]
  },
  {
   "cell_type": "markdown",
   "metadata": {},
   "source": [
    "Now let's create a dataframe that will contain, for each player, their performance against opponents in different \"ranking bins\""
   ]
  },
  {
   "cell_type": "code",
   "execution_count": 19,
   "metadata": {},
   "outputs": [],
   "source": [
    "def create_performance_vs_opponents_dataframe(df):\n",
    "    perf_df_list = []\n",
    "    \n",
    "    players = set(df[\"Player 0\"]) | set(df[\"Player 1\"])\n",
    "    bins = [(1,4), (5,10), (11,20), (21,50), (51,100), (101,250), (251, 10000)]\n",
    "    for player in players:\n",
    "        player_df = df[(df[\"Player 0\"] == player) | (df[\"Player 1\"] == player)]\n",
    "        for b in bins:\n",
    "            performance = performance_against_opponent_ranking_index(player_df, player, b)\n",
    "            perf_df_list.append({\"Player\":player, \"Min Bin\":b[0], \"Max Bin\":b[1], \"Performance\":performance})\n",
    "    \n",
    "    return pd.DataFrame(perf_df_list)"
   ]
  },
  {
   "cell_type": "code",
   "execution_count": 20,
   "metadata": {},
   "outputs": [],
   "source": [
    "performance_opponents_dataframe = create_performance_vs_opponents_dataframe(df)"
   ]
  },
  {
   "cell_type": "markdown",
   "metadata": {},
   "source": [
    "This function __get_bin__ takes in input the ranking of a player and returns a tuple object representing a bin.\n",
    "The bin is the group of rankings to which a ranking belongs to. (i.e. ranking = 2 belongs to bin(1,4), etc.)"
   ]
  },
  {
   "cell_type": "code",
   "execution_count": 21,
   "metadata": {},
   "outputs": [],
   "source": [
    "def __get_bin__(ranking):\n",
    "    bins = [(1,4), (5,10), (11,20), (21,50), (51,100), (101,250), (251, 10000)]\n",
    "        \n",
    "    for b in bins:\n",
    "        b_min = b[0]\n",
    "        b_max = b[1]\n",
    "        if ranking >= b_min and ranking <= b_max:\n",
    "            return b\n",
    "    \n",
    "    return bins[-1]"
   ]
  },
  {
   "cell_type": "markdown",
   "metadata": {},
   "source": [
    "### H2H Feature"
   ]
  },
  {
   "cell_type": "markdown",
   "metadata": {},
   "source": [
    "Next, we're going to consider h2h matches and overall experience (number of matches played) as factors"
   ]
  },
  {
   "cell_type": "code",
   "execution_count": 22,
   "metadata": {},
   "outputs": [],
   "source": [
    "\"\"\"\n",
    "This function takes in input the matches won by players 0 and 1, and returns a number representing the h2h index.\n",
    "This index can go from -1 to 1. It's positive if Player 0 has won more matches than Player 1 and negative otherwise.\n",
    "The index approaches 1 as the difference between matches won by player 0 and won by Player 1 increases.\n",
    "It approaches -1 as the difference between matches won by player 1 and won by Player 0 increases.\n",
    "\"\"\"\n",
    "def h2h_index(won_p0, won_p1):\n",
    "    if won_p0 == won_p1: return 0\n",
    "    regr = 0.05128*max(won_p0,won_p1) - 0.06035*min(won_p0,won_p1) + 0.1831\n",
    "    if won_p0 > won_p1: return min(max(0.001,regr),0.999)\n",
    "    else: return max(min(-0.001,-regr),-0.999)"
   ]
  },
  {
   "cell_type": "code",
   "execution_count": 23,
   "metadata": {},
   "outputs": [],
   "source": [
    "def calculate_h2h_index_before_date(df, pl0, pl1, date):\n",
    "    first_half_games_df = df[(df[\"Player 0\"]==pl0) & (df[\"Player 1\"]==pl1) & (df[\"Date\"] < date)]\n",
    "    second_half_games_df = df[(df[\"Player 0\"]==pl1) & (df[\"Player 1\"]==pl0) & (df[\"Date\"] < date)]\n",
    "    \n",
    "    total_first_half = first_half_games_df.shape[0]\n",
    "    total_second_half = second_half_games_df.shape[0]\n",
    "    \n",
    "    first_half_won_p0 = first_half_games_df[first_half_games_df[\"Won\"] == 0].shape[0]\n",
    "    first_half_won_p1 = total_first_half - first_half_won_p0\n",
    "    \n",
    "    second_half_won_p1 = second_half_games_df[second_half_games_df[\"Won\"] == 0].shape[0]\n",
    "    second_half_won_p0 = total_second_half - second_half_won_p1\n",
    "    \n",
    "    won_p0 = first_half_won_p0 + second_half_won_p0\n",
    "    won_p1 = first_half_won_p1 + second_half_won_p1\n",
    "    \n",
    "    return h2h_index(won_p0, won_p1)"
   ]
  },
  {
   "cell_type": "markdown",
   "metadata": {},
   "source": [
    "### Experience Feature"
   ]
  },
  {
   "cell_type": "code",
   "execution_count": 24,
   "metadata": {},
   "outputs": [],
   "source": [
    "def expierence_index(df, pl0, pl1, date):    \n",
    "    pl0_exp = df[((df[\"Player 0\"]==pl0) | (df[\"Player 1\"]==pl0)) & (df[\"Date\"] < date)].shape[0]\n",
    "    pl1_exp = df[((df[\"Player 0\"]==pl1) | (df[\"Player 1\"]==pl1)) & (df[\"Date\"] < date)].shape[0]\n",
    "    if pl0_exp + pl1_exp == 0: return 0\n",
    "    return (pl0_exp-pl1_exp)/(pl0_exp+pl1_exp)"
   ]
  },
  {
   "cell_type": "markdown",
   "metadata": {},
   "source": [
    "### Reliability Feature\n",
    "\n",
    "This feature calculates how frequent a given player wins when he's favourite or loses when he's un underdog.\n",
    "In essence, it calculates how \"easy\" is to predict correctly his matches given the fact that he's the favourite or not."
   ]
  },
  {
   "cell_type": "code",
   "execution_count": 25,
   "metadata": {},
   "outputs": [],
   "source": [
    "def reliability_index(df, player):\n",
    "    betting_data_df = df[(pd.notna(df[\"B365_Pl1\"])) & (pd.notna(df[\"B365_Pl0\"]))]\n",
    "    fav_as_p0 = betting_data_df[(betting_data_df[\"Player 0\"]==player) & (betting_data_df[\"B365_Pl0\"] < betting_data_df[\"B365_Pl1\"])]\n",
    "    fav_as_p1 = betting_data_df[(betting_data_df[\"Player 1\"]==player) & (betting_data_df[\"B365_Pl0\"] > betting_data_df[\"B365_Pl1\"])]\n",
    "    \n",
    "    und_as_p0 = betting_data_df[(betting_data_df[\"Player 0\"]==player) & (betting_data_df[\"B365_Pl0\"] > betting_data_df[\"B365_Pl1\"])]\n",
    "    und_as_p1 = betting_data_df[(betting_data_df[\"Player 1\"]==player) & (betting_data_df[\"B365_Pl0\"] < betting_data_df[\"B365_Pl1\"])]\n",
    "    \n",
    "    played_as_fav = fav_as_p0.shape[0] + fav_as_p1.shape[0]\n",
    "    played_as_und = und_as_p0.shape[0] + und_as_p1.shape[0]\n",
    "    \n",
    "    if played_as_fav + played_as_und == 0: return 0\n",
    "    \n",
    "    won_as_fav = fav_as_p0[fav_as_p0[\"Won\"]==0].shape[0] + fav_as_p1[fav_as_p1[\"Won\"] == 1].shape[0]\n",
    "    lost_as_fav = played_as_fav - won_as_fav\n",
    "    \n",
    "    won_as_und = und_as_p0[und_as_p0[\"Won\"]==0].shape[0] + und_as_p1[und_as_p1[\"Won\"] == 1].shape[0]\n",
    "    lost_as_und = played_as_und - won_as_und\n",
    "    \n",
    "    return (won_as_fav + lost_as_und)/(played_as_fav + played_as_und)"
   ]
  },
  {
   "cell_type": "markdown",
   "metadata": {},
   "source": [
    "# Putting it all together"
   ]
  },
  {
   "cell_type": "markdown",
   "metadata": {},
   "source": [
    "Now it's time to rumble!\n",
    "\n",
    "Finally, we calculate the other features defined above, and we append these features at the end of the dataframe.\n",
    "\n",
    "Note: this might take up to 1 hour!!"
   ]
  },
  {
   "cell_type": "code",
   "execution_count": 26,
   "metadata": {},
   "outputs": [],
   "source": [
    "def calculate_new_features(df):\n",
    "    \n",
    "    new_features_df = df.copy()\n",
    "    \n",
    "    performance_df_absent = False\n",
    "    try:\n",
    "        form_performance_df = pd.read_csv(\"csv/Form_Performance.csv\")\n",
    "        form_performance_df['Date'] = pd.to_datetime(form_performance_df['Date'])\n",
    "    except:\n",
    "        print(\"Warn: file 'csv/Form_Performance.csv' not found. Creating it now...\")\n",
    "        performance_df_absent = True\n",
    "        form_performance_df_list = []\n",
    "    \n",
    "    for ix, row in df.iterrows():\n",
    "\n",
    "        if ix % 5000 == 0: print('{} matches computed on total {}'.format(ix, df.shape[0]))\n",
    "                \n",
    "        pl0 = row[\"Player 0\"]\n",
    "        pl1 = row[\"Player 1\"]\n",
    "\n",
    "        rank_index = ranking_comparator_index(row['Pl0_Rank'], row['Pl1_Rank'])\n",
    "        \n",
    "        if performance_df_absent:\n",
    "            pl0_form_index_last20, pl0_form_index_last7 = form_performance_index(df, pl0, row['Date'], (20,7))\n",
    "            pl1_form_index_last20, pl1_form_index_last7 = form_performance_index(df, pl1, row['Date'], (20,7))\n",
    "            form_performance_df_list.append(\n",
    "                {\"Date\":row['Date'],\"Pl0\":row['Player 0'],\"Pl1\":row['Player 1'], \"Pl0_last_7\":pl0_form_index_last7,\n",
    "                \"Pl0_last_20\":pl0_form_index_last20,\"Pl1_last_7\":pl1_form_index_last7,\"Pl1_last_20\":pl1_form_index_last20}\n",
    "            )\n",
    "        else:\n",
    "            match_row = form_performance_df[(form_performance_df['Date']==row['Date']) & (form_performance_df['Pl0']==pl0) & (form_performance_df['Pl1']==pl1)].iloc[0]\n",
    "            pl0_form_index_last20 = match_row['Pl0_last_20']\n",
    "            pl1_form_index_last20 = match_row['Pl1_last_20']\n",
    "            pl0_form_index_last7 = match_row['Pl0_last_7']\n",
    "            pl1_form_index_last7 = match_row['Pl1_last_7']\n",
    "\n",
    "        p0_bin = __get_bin__(row['Pl0_Rank'])\n",
    "        p1_bin = __get_bin__(row['Pl1_Rank'])\n",
    "        \n",
    "        pl0_against_opponent_bin = performance_opponents_dataframe[\n",
    "            (performance_opponents_dataframe[\"Player\"]==pl0) & (performance_opponents_dataframe[\"Min Bin\"]==p1_bin[0]) \n",
    "            & (performance_opponents_dataframe[\"Max Bin\"]==p1_bin[1])].iloc[0,3]\n",
    "        \n",
    "        pl1_against_opponent_bin = performance_opponents_dataframe[\n",
    "            (performance_opponents_dataframe[\"Player\"]==pl1) & (performance_opponents_dataframe[\"Min Bin\"]==p0_bin[0]) \n",
    "            & (performance_opponents_dataframe[\"Max Bin\"]==p0_bin[1])].iloc[0,3]\n",
    "\n",
    "        surface = _get_surface_by_row__(row)\n",
    "\n",
    "        h2h_index = calculate_h2h_index_before_date(df, pl0, pl1, row['Date'])\n",
    "        experience_index = expierence_index(df, pl0, pl1, row['Date'])\n",
    "        reliability_pl0 = reliability_index(df, pl0)\n",
    "        reliability_pl1 = reliability_index(df, pl1)\n",
    "        \n",
    "        new_features_df.at[ix, 'Rank Index'] = rank_index\n",
    "        new_features_df.at[ix, 'Pl0 Recent Form'] = pl0_form_index_last7\n",
    "        new_features_df.at[ix, 'Pl0 Form'] = pl0_form_index_last20\n",
    "        new_features_df.at[ix, 'Pl1 Recent Form']= pl1_form_index_last7\n",
    "        new_features_df.at[ix, 'Pl1 Form'] = pl1_form_index_last20\n",
    "        new_features_df.at[ix, 'Pl0 Perf. vs Similar Opponent'] = pl0_against_opponent_bin\n",
    "        new_features_df.at[ix, 'Pl1 Perf. vs Similar Opponent'] = pl1_against_opponent_bin\n",
    "        new_features_df.at[ix, 'Pl0 Surface Performance'] = surface_perf_df[(surface_perf_df[\"Player\"] == pl0) & (surface_perf_df[\"Surface\"] == surface)].iloc[0]['Performance']\n",
    "        new_features_df.at[ix, 'Pl1 Surface Performance'] = surface_perf_df[(surface_perf_df[\"Player\"] == pl1) & (surface_perf_df[\"Surface\"] == surface)].iloc[0]['Performance']\n",
    "        new_features_df.at[ix, 'H2H Index'] = h2h_index\n",
    "        new_features_df.at[ix, 'Exp Index'] = experience_index\n",
    "        new_features_df.at[ix, 'Reliability Pl0'] = reliability_pl0\n",
    "        new_features_df.at[ix, 'Reliability Pl1'] = reliability_pl1\n",
    "        \n",
    "    if performance_df_absent:\n",
    "        form_performance_df = pd.DataFrame(form_performance_df_list)\n",
    "        form_performance_df.to_csv(\"csv/Form_Performance.csv\", index=False)\n",
    "    \n",
    "    return new_features_df"
   ]
  },
  {
   "cell_type": "code",
   "execution_count": 27,
   "metadata": {},
   "outputs": [
    {
     "name": "stdout",
     "output_type": "stream",
     "text": [
      "0 matches computed on total 54908\n",
      "5000 matches computed on total 54908\n",
      "10000 matches computed on total 54908\n",
      "15000 matches computed on total 54908\n",
      "20000 matches computed on total 54908\n",
      "25000 matches computed on total 54908\n",
      "30000 matches computed on total 54908\n",
      "35000 matches computed on total 54908\n",
      "40000 matches computed on total 54908\n",
      "45000 matches computed on total 54908\n",
      "50000 matches computed on total 54908\n",
      "--- 106 minutes ---\n"
     ]
    }
   ],
   "source": [
    "import time\n",
    "start_time = time.time()\n",
    "calculated_new_features = calculate_new_features(df)\n",
    "mins = round( (time.time() - start_time)/60 )\n",
    "print(\"--- {} minutes ---\".format(mins))"
   ]
  },
  {
   "cell_type": "markdown",
   "metadata": {},
   "source": [
    "Let's have a look at the dataset after having added all those new features:"
   ]
  },
  {
   "cell_type": "code",
   "execution_count": 28,
   "metadata": {},
   "outputs": [
    {
     "data": {
      "text/plain": [
       "['Avg_Pl1',\n",
       " 'Avg_Pl0',\n",
       " 'B365_Pl1',\n",
       " 'B365_Pl0',\n",
       " 'Date',\n",
       " 'Pl1_Rank',\n",
       " 'Player 1',\n",
       " 'Max_Pl1',\n",
       " 'Max_Pl0',\n",
       " 'PS_Pl1',\n",
       " 'PS_Pl0',\n",
       " 'Pl0_Rank',\n",
       " 'Player 0',\n",
       " 'Won',\n",
       " 'Indoor',\n",
       " 'Outdoor',\n",
       " 'Carpet',\n",
       " 'Clay',\n",
       " 'Grass',\n",
       " 'Hard',\n",
       " 'ATP250',\n",
       " 'ATP500',\n",
       " 'Grand Slam',\n",
       " 'Masters 1000',\n",
       " 'Masters Cup',\n",
       " '1st Round',\n",
       " '2nd Round',\n",
       " '3rd Round',\n",
       " '4th Round',\n",
       " 'Quarterfinals',\n",
       " 'Round Robin',\n",
       " 'Semifinals',\n",
       " 'The Final',\n",
       " 'Match Perf. Index Pl0',\n",
       " 'Match Perf. Index Pl1',\n",
       " 'Rank Index',\n",
       " 'Pl0 Recent Form',\n",
       " 'Pl0 Form',\n",
       " 'Pl1 Recent Form',\n",
       " 'Pl1 Form',\n",
       " 'Pl0 Perf. vs Similar Opponent',\n",
       " 'Pl1 Perf. vs Similar Opponent',\n",
       " 'Pl0 Surface Performance',\n",
       " 'Pl1 Surface Performance',\n",
       " 'H2H Index',\n",
       " 'Exp Index',\n",
       " 'Reliability Pl0',\n",
       " 'Reliability Pl1']"
      ]
     },
     "execution_count": 28,
     "metadata": {},
     "output_type": "execute_result"
    }
   ],
   "source": [
    "list(calculated_new_features.columns)"
   ]
  },
  {
   "cell_type": "markdown",
   "metadata": {},
   "source": [
    "Before saving our dataframe, let's reorder the columns to make the file more readable"
   ]
  },
  {
   "cell_type": "code",
   "execution_count": 29,
   "metadata": {},
   "outputs": [],
   "source": [
    "new_features = calculated_new_features.copy()"
   ]
  },
  {
   "cell_type": "code",
   "execution_count": 30,
   "metadata": {},
   "outputs": [],
   "source": [
    "new_features = new_features[['Date', 'Player 0', 'Player 1', 'Won', 'Pl0_Rank', 'Pl1_Rank', 'Avg_Pl0', 'Avg_Pl1', 'Max_Pl1', 'Max_Pl0', \n",
    "         'PS_Pl0', 'PS_Pl1', 'B365_Pl0', 'B365_Pl1', 'Indoor', 'Outdoor', 'Carpet', 'Clay', 'Grass', 'Hard', 'ATP250', 'ATP500', \n",
    "                     'Grand Slam', 'Masters 1000', 'Masters Cup', '1st Round', '2nd Round', '3rd Round', '4th Round', \n",
    "                     'Quarterfinals', 'Round Robin', 'Semifinals', 'The Final', 'Rank Index', 'Pl0 Recent Form', 'Pl0 Form', \n",
    "                     'Pl1 Recent Form', 'Pl1 Form', 'Pl0 Perf. vs Similar Opponent', 'Pl1 Perf. vs Similar Opponent', \n",
    "                     'Pl0 Surface Performance', 'Pl1 Surface Performance', 'H2H Index', 'Exp Index', 'Reliability Pl0', 'Reliability Pl1']]"
   ]
  },
  {
   "cell_type": "code",
   "execution_count": 31,
   "metadata": {
    "scrolled": true
   },
   "outputs": [
    {
     "data": {
      "text/html": [
       "<div>\n",
       "<style scoped>\n",
       "    .dataframe tbody tr th:only-of-type {\n",
       "        vertical-align: middle;\n",
       "    }\n",
       "\n",
       "    .dataframe tbody tr th {\n",
       "        vertical-align: top;\n",
       "    }\n",
       "\n",
       "    .dataframe thead th {\n",
       "        text-align: right;\n",
       "    }\n",
       "</style>\n",
       "<table border=\"1\" class=\"dataframe\">\n",
       "  <thead>\n",
       "    <tr style=\"text-align: right;\">\n",
       "      <th></th>\n",
       "      <th>Date</th>\n",
       "      <th>Player 0</th>\n",
       "      <th>Player 1</th>\n",
       "      <th>Won</th>\n",
       "      <th>Pl0_Rank</th>\n",
       "      <th>Pl1_Rank</th>\n",
       "      <th>Avg_Pl0</th>\n",
       "      <th>Avg_Pl1</th>\n",
       "      <th>Max_Pl1</th>\n",
       "      <th>Max_Pl0</th>\n",
       "      <th>...</th>\n",
       "      <th>Pl1 Recent Form</th>\n",
       "      <th>Pl1 Form</th>\n",
       "      <th>Pl0 Perf. vs Similar Opponent</th>\n",
       "      <th>Pl1 Perf. vs Similar Opponent</th>\n",
       "      <th>Pl0 Surface Performance</th>\n",
       "      <th>Pl1 Surface Performance</th>\n",
       "      <th>H2H Index</th>\n",
       "      <th>Exp Index</th>\n",
       "      <th>Reliability Pl0</th>\n",
       "      <th>Reliability Pl1</th>\n",
       "    </tr>\n",
       "  </thead>\n",
       "  <tbody>\n",
       "    <tr>\n",
       "      <th>0</th>\n",
       "      <td>2000-01-03</td>\n",
       "      <td>Ljubicic I.</td>\n",
       "      <td>Dosedel S.</td>\n",
       "      <td>1.0</td>\n",
       "      <td>77</td>\n",
       "      <td>63</td>\n",
       "      <td>NaN</td>\n",
       "      <td>NaN</td>\n",
       "      <td>NaN</td>\n",
       "      <td>NaN</td>\n",
       "      <td>...</td>\n",
       "      <td>0.0</td>\n",
       "      <td>0.0</td>\n",
       "      <td>0.66</td>\n",
       "      <td>0.17</td>\n",
       "      <td>0.61</td>\n",
       "      <td>0.40</td>\n",
       "      <td>0.0</td>\n",
       "      <td>0.0</td>\n",
       "      <td>0.687008</td>\n",
       "      <td>0.000000</td>\n",
       "    </tr>\n",
       "    <tr>\n",
       "      <th>1</th>\n",
       "      <td>2000-01-03</td>\n",
       "      <td>Enqvist T.</td>\n",
       "      <td>Clement A.</td>\n",
       "      <td>0.0</td>\n",
       "      <td>5</td>\n",
       "      <td>56</td>\n",
       "      <td>NaN</td>\n",
       "      <td>NaN</td>\n",
       "      <td>NaN</td>\n",
       "      <td>NaN</td>\n",
       "      <td>...</td>\n",
       "      <td>0.0</td>\n",
       "      <td>0.0</td>\n",
       "      <td>0.58</td>\n",
       "      <td>0.24</td>\n",
       "      <td>0.56</td>\n",
       "      <td>0.51</td>\n",
       "      <td>0.0</td>\n",
       "      <td>0.0</td>\n",
       "      <td>0.625000</td>\n",
       "      <td>0.640805</td>\n",
       "    </tr>\n",
       "    <tr>\n",
       "      <th>2</th>\n",
       "      <td>2000-01-03</td>\n",
       "      <td>Baccanello P.</td>\n",
       "      <td>Escude N.</td>\n",
       "      <td>1.0</td>\n",
       "      <td>655</td>\n",
       "      <td>40</td>\n",
       "      <td>NaN</td>\n",
       "      <td>NaN</td>\n",
       "      <td>NaN</td>\n",
       "      <td>NaN</td>\n",
       "      <td>...</td>\n",
       "      <td>0.0</td>\n",
       "      <td>0.0</td>\n",
       "      <td>0.00</td>\n",
       "      <td>0.91</td>\n",
       "      <td>0.14</td>\n",
       "      <td>0.65</td>\n",
       "      <td>0.0</td>\n",
       "      <td>0.0</td>\n",
       "      <td>0.750000</td>\n",
       "      <td>0.680851</td>\n",
       "    </tr>\n",
       "    <tr>\n",
       "      <th>3</th>\n",
       "      <td>2000-01-03</td>\n",
       "      <td>Federer R.</td>\n",
       "      <td>Knippschild J.</td>\n",
       "      <td>0.0</td>\n",
       "      <td>65</td>\n",
       "      <td>87</td>\n",
       "      <td>NaN</td>\n",
       "      <td>NaN</td>\n",
       "      <td>NaN</td>\n",
       "      <td>NaN</td>\n",
       "      <td>...</td>\n",
       "      <td>0.0</td>\n",
       "      <td>0.0</td>\n",
       "      <td>0.90</td>\n",
       "      <td>0.30</td>\n",
       "      <td>0.84</td>\n",
       "      <td>0.10</td>\n",
       "      <td>0.0</td>\n",
       "      <td>0.0</td>\n",
       "      <td>0.868249</td>\n",
       "      <td>1.000000</td>\n",
       "    </tr>\n",
       "    <tr>\n",
       "      <th>4</th>\n",
       "      <td>2000-01-03</td>\n",
       "      <td>Woodbridge T.</td>\n",
       "      <td>Fromberg R.</td>\n",
       "      <td>1.0</td>\n",
       "      <td>198</td>\n",
       "      <td>81</td>\n",
       "      <td>NaN</td>\n",
       "      <td>NaN</td>\n",
       "      <td>NaN</td>\n",
       "      <td>NaN</td>\n",
       "      <td>...</td>\n",
       "      <td>0.0</td>\n",
       "      <td>0.0</td>\n",
       "      <td>0.29</td>\n",
       "      <td>0.36</td>\n",
       "      <td>0.27</td>\n",
       "      <td>0.46</td>\n",
       "      <td>0.0</td>\n",
       "      <td>0.0</td>\n",
       "      <td>0.000000</td>\n",
       "      <td>0.000000</td>\n",
       "    </tr>\n",
       "  </tbody>\n",
       "</table>\n",
       "<p>5 rows × 46 columns</p>\n",
       "</div>"
      ],
      "text/plain": [
       "        Date       Player 0        Player 1  Won  Pl0_Rank  Pl1_Rank  Avg_Pl0  \\\n",
       "0 2000-01-03    Ljubicic I.      Dosedel S.  1.0        77        63      NaN   \n",
       "1 2000-01-03     Enqvist T.      Clement A.  0.0         5        56      NaN   \n",
       "2 2000-01-03  Baccanello P.       Escude N.  1.0       655        40      NaN   \n",
       "3 2000-01-03     Federer R.  Knippschild J.  0.0        65        87      NaN   \n",
       "4 2000-01-03  Woodbridge T.     Fromberg R.  1.0       198        81      NaN   \n",
       "\n",
       "   Avg_Pl1  Max_Pl1  Max_Pl0  ...  Pl1 Recent Form  Pl1 Form  \\\n",
       "0      NaN      NaN      NaN  ...              0.0       0.0   \n",
       "1      NaN      NaN      NaN  ...              0.0       0.0   \n",
       "2      NaN      NaN      NaN  ...              0.0       0.0   \n",
       "3      NaN      NaN      NaN  ...              0.0       0.0   \n",
       "4      NaN      NaN      NaN  ...              0.0       0.0   \n",
       "\n",
       "   Pl0 Perf. vs Similar Opponent  Pl1 Perf. vs Similar Opponent  \\\n",
       "0                           0.66                           0.17   \n",
       "1                           0.58                           0.24   \n",
       "2                           0.00                           0.91   \n",
       "3                           0.90                           0.30   \n",
       "4                           0.29                           0.36   \n",
       "\n",
       "   Pl0 Surface Performance  Pl1 Surface Performance  H2H Index  Exp Index  \\\n",
       "0                     0.61                     0.40        0.0        0.0   \n",
       "1                     0.56                     0.51        0.0        0.0   \n",
       "2                     0.14                     0.65        0.0        0.0   \n",
       "3                     0.84                     0.10        0.0        0.0   \n",
       "4                     0.27                     0.46        0.0        0.0   \n",
       "\n",
       "   Reliability Pl0  Reliability Pl1  \n",
       "0         0.687008         0.000000  \n",
       "1         0.625000         0.640805  \n",
       "2         0.750000         0.680851  \n",
       "3         0.868249         1.000000  \n",
       "4         0.000000         0.000000  \n",
       "\n",
       "[5 rows x 46 columns]"
      ]
     },
     "execution_count": 31,
     "metadata": {},
     "output_type": "execute_result"
    }
   ],
   "source": [
    "new_features.head()"
   ]
  },
  {
   "cell_type": "markdown",
   "metadata": {},
   "source": [
    "Finally, we save this dataset to a csv file, so that the next notebook will just load its data from file system."
   ]
  },
  {
   "cell_type": "code",
   "execution_count": 32,
   "metadata": {},
   "outputs": [],
   "source": [
    "new_features.to_csv(\"csv/FeatureCalculated_Data.csv\", index=False)"
   ]
  }
 ],
 "metadata": {
  "kernelspec": {
   "display_name": "Python 3",
   "language": "python",
   "name": "python3"
  },
  "language_info": {
   "codemirror_mode": {
    "name": "ipython",
    "version": 3
   },
   "file_extension": ".py",
   "mimetype": "text/x-python",
   "name": "python",
   "nbconvert_exporter": "python",
   "pygments_lexer": "ipython3",
   "version": "3.7.6"
  }
 },
 "nbformat": 4,
 "nbformat_minor": 4
}
