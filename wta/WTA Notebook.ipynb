{
 "cells": [
  {
   "cell_type": "code",
   "execution_count": 1,
   "metadata": {},
   "outputs": [],
   "source": [
    "import pandas as pd"
   ]
  },
  {
   "cell_type": "code",
   "execution_count": 2,
   "metadata": {},
   "outputs": [
    {
     "name": "stderr",
     "output_type": "stream",
     "text": [
      "C:\\Users\\acorsett\\python_installation\\envs\\py3-TF2.0\\lib\\site-packages\\IPython\\core\\interactiveshell.py:3063: DtypeWarning: Columns (3,12,17) have mixed types.Specify dtype option on import or set low_memory=False.\n",
      "  interactivity=interactivity, compiler=compiler, result=result)\n"
     ]
    }
   ],
   "source": [
    "wta_df = pd.read_csv(\"csv/df_wta.csv\")"
   ]
  },
  {
   "cell_type": "code",
   "execution_count": 3,
   "metadata": {},
   "outputs": [
    {
     "data": {
      "text/plain": [
       "(32053, 43)"
      ]
     },
     "execution_count": 3,
     "metadata": {},
     "output_type": "execute_result"
    }
   ],
   "source": [
    "wta_df.shape"
   ]
  },
  {
   "cell_type": "markdown",
   "metadata": {},
   "source": [
    "# 2. Preprocessing"
   ]
  },
  {
   "cell_type": "code",
   "execution_count": 4,
   "metadata": {},
   "outputs": [
    {
     "data": {
      "text/plain": [
       "['Unnamed: 0',\n",
       " 'AvgL',\n",
       " 'AvgW',\n",
       " 'B365L',\n",
       " 'B365W',\n",
       " 'Best of',\n",
       " 'CBL',\n",
       " 'CBW',\n",
       " 'Comment',\n",
       " 'Court',\n",
       " 'Date',\n",
       " 'EXL',\n",
       " 'EXW',\n",
       " 'L1',\n",
       " 'L2',\n",
       " 'L3',\n",
       " 'LBL',\n",
       " 'LBW',\n",
       " 'LPts',\n",
       " 'LRank',\n",
       " 'Location',\n",
       " 'Loser',\n",
       " 'Lsets',\n",
       " 'MaxL',\n",
       " 'MaxW',\n",
       " 'PSL',\n",
       " 'PSW',\n",
       " 'Round',\n",
       " 'SJL',\n",
       " 'SJW',\n",
       " 'Surface',\n",
       " 'Tier',\n",
       " 'Tournament',\n",
       " 'UBL',\n",
       " 'UBW',\n",
       " 'W1',\n",
       " 'W2',\n",
       " 'W3',\n",
       " 'WPts',\n",
       " 'WRank',\n",
       " 'WTA',\n",
       " 'Winner',\n",
       " 'Wsets']"
      ]
     },
     "execution_count": 4,
     "metadata": {},
     "output_type": "execute_result"
    }
   ],
   "source": [
    "list(wta_df.columns)"
   ]
  },
  {
   "cell_type": "code",
   "execution_count": 5,
   "metadata": {},
   "outputs": [],
   "source": [
    "df = wta_df.drop(['Unnamed: 0','WTA','Tournament', 'Location', 'Best of', 'W1', 'L1', 'W2', 'L2', 'W3', 'L3', 'Wsets', \n",
    "              'Lsets', 'Comment','CBW', 'CBL', 'EXW', 'EXL', 'WPts',\n",
    "              'LPts', 'UBW', 'UBL', 'LBW', 'LBL', 'SJW', 'SJL'], axis=1)"
   ]
  },
  {
   "cell_type": "code",
   "execution_count": 6,
   "metadata": {},
   "outputs": [
    {
     "data": {
      "text/html": [
       "<div>\n",
       "<style scoped>\n",
       "    .dataframe tbody tr th:only-of-type {\n",
       "        vertical-align: middle;\n",
       "    }\n",
       "\n",
       "    .dataframe tbody tr th {\n",
       "        vertical-align: top;\n",
       "    }\n",
       "\n",
       "    .dataframe thead th {\n",
       "        text-align: right;\n",
       "    }\n",
       "</style>\n",
       "<table border=\"1\" class=\"dataframe\">\n",
       "  <thead>\n",
       "    <tr style=\"text-align: right;\">\n",
       "      <th></th>\n",
       "      <th>AvgL</th>\n",
       "      <th>AvgW</th>\n",
       "      <th>B365L</th>\n",
       "      <th>B365W</th>\n",
       "      <th>Court</th>\n",
       "      <th>Date</th>\n",
       "      <th>LRank</th>\n",
       "      <th>Loser</th>\n",
       "      <th>MaxL</th>\n",
       "      <th>MaxW</th>\n",
       "      <th>PSL</th>\n",
       "      <th>PSW</th>\n",
       "      <th>Round</th>\n",
       "      <th>Surface</th>\n",
       "      <th>Tier</th>\n",
       "      <th>WRank</th>\n",
       "      <th>Winner</th>\n",
       "    </tr>\n",
       "  </thead>\n",
       "  <tbody>\n",
       "    <tr>\n",
       "      <th>0</th>\n",
       "      <td>NaN</td>\n",
       "      <td>NaN</td>\n",
       "      <td>3</td>\n",
       "      <td>1.33</td>\n",
       "      <td>Outdoor</td>\n",
       "      <td>2007-01-01</td>\n",
       "      <td>272.0</td>\n",
       "      <td>Baker L.</td>\n",
       "      <td>NaN</td>\n",
       "      <td>NaN</td>\n",
       "      <td>NaN</td>\n",
       "      <td>NaN</td>\n",
       "      <td>1st Round</td>\n",
       "      <td>Hard</td>\n",
       "      <td>Tier 4</td>\n",
       "      <td>81.0</td>\n",
       "      <td>Sun T.T.</td>\n",
       "    </tr>\n",
       "    <tr>\n",
       "      <th>1</th>\n",
       "      <td>NaN</td>\n",
       "      <td>NaN</td>\n",
       "      <td>1.22</td>\n",
       "      <td>3.75</td>\n",
       "      <td>Outdoor</td>\n",
       "      <td>2007-01-01</td>\n",
       "      <td>16.0</td>\n",
       "      <td>Myskina A.</td>\n",
       "      <td>NaN</td>\n",
       "      <td>NaN</td>\n",
       "      <td>1.244</td>\n",
       "      <td>4.700</td>\n",
       "      <td>1st Round</td>\n",
       "      <td>Hard</td>\n",
       "      <td>Tier 4</td>\n",
       "      <td>59.0</td>\n",
       "      <td>Dulko G.</td>\n",
       "    </tr>\n",
       "    <tr>\n",
       "      <th>2</th>\n",
       "      <td>NaN</td>\n",
       "      <td>NaN</td>\n",
       "      <td>2</td>\n",
       "      <td>1.72</td>\n",
       "      <td>Outdoor</td>\n",
       "      <td>2007-01-01</td>\n",
       "      <td>84.0</td>\n",
       "      <td>Birnerova E.</td>\n",
       "      <td>NaN</td>\n",
       "      <td>NaN</td>\n",
       "      <td>2.120</td>\n",
       "      <td>1.820</td>\n",
       "      <td>1st Round</td>\n",
       "      <td>Hard</td>\n",
       "      <td>Tier 4</td>\n",
       "      <td>56.0</td>\n",
       "      <td>Loit E.</td>\n",
       "    </tr>\n",
       "    <tr>\n",
       "      <th>3</th>\n",
       "      <td>NaN</td>\n",
       "      <td>NaN</td>\n",
       "      <td>1.83</td>\n",
       "      <td>1.83</td>\n",
       "      <td>Outdoor</td>\n",
       "      <td>2007-01-01</td>\n",
       "      <td>57.0</td>\n",
       "      <td>Nakamura A.</td>\n",
       "      <td>NaN</td>\n",
       "      <td>NaN</td>\n",
       "      <td>1.870</td>\n",
       "      <td>2.050</td>\n",
       "      <td>1st Round</td>\n",
       "      <td>Hard</td>\n",
       "      <td>Tier 4</td>\n",
       "      <td>70.0</td>\n",
       "      <td>Craybas J.</td>\n",
       "    </tr>\n",
       "    <tr>\n",
       "      <th>4</th>\n",
       "      <td>NaN</td>\n",
       "      <td>NaN</td>\n",
       "      <td>4.5</td>\n",
       "      <td>1.16</td>\n",
       "      <td>Outdoor</td>\n",
       "      <td>2007-01-01</td>\n",
       "      <td>180.0</td>\n",
       "      <td>Morita A.</td>\n",
       "      <td>NaN</td>\n",
       "      <td>NaN</td>\n",
       "      <td>5.900</td>\n",
       "      <td>1.185</td>\n",
       "      <td>1st Round</td>\n",
       "      <td>Hard</td>\n",
       "      <td>Tier 4</td>\n",
       "      <td>18.0</td>\n",
       "      <td>Bartoli M.</td>\n",
       "    </tr>\n",
       "  </tbody>\n",
       "</table>\n",
       "</div>"
      ],
      "text/plain": [
       "   AvgL  AvgW B365L  B365W    Court        Date  LRank         Loser  MaxL  \\\n",
       "0   NaN   NaN     3   1.33  Outdoor  2007-01-01  272.0      Baker L.   NaN   \n",
       "1   NaN   NaN  1.22   3.75  Outdoor  2007-01-01   16.0    Myskina A.   NaN   \n",
       "2   NaN   NaN     2   1.72  Outdoor  2007-01-01   84.0  Birnerova E.   NaN   \n",
       "3   NaN   NaN  1.83   1.83  Outdoor  2007-01-01   57.0   Nakamura A.   NaN   \n",
       "4   NaN   NaN   4.5   1.16  Outdoor  2007-01-01  180.0     Morita A.   NaN   \n",
       "\n",
       "   MaxW    PSL    PSW      Round Surface    Tier  WRank      Winner  \n",
       "0   NaN    NaN    NaN  1st Round    Hard  Tier 4   81.0    Sun T.T.  \n",
       "1   NaN  1.244  4.700  1st Round    Hard  Tier 4   59.0    Dulko G.  \n",
       "2   NaN  2.120  1.820  1st Round    Hard  Tier 4   56.0     Loit E.  \n",
       "3   NaN  1.870  2.050  1st Round    Hard  Tier 4   70.0  Craybas J.  \n",
       "4   NaN  5.900  1.185  1st Round    Hard  Tier 4   18.0  Bartoli M.  "
      ]
     },
     "execution_count": 6,
     "metadata": {},
     "output_type": "execute_result"
    }
   ],
   "source": [
    "df.head()"
   ]
  },
  {
   "cell_type": "code",
   "execution_count": 7,
   "metadata": {
    "scrolled": true
   },
   "outputs": [
    {
     "data": {
      "text/plain": [
       "AvgL       float64\n",
       "AvgW       float64\n",
       "B365L       object\n",
       "B365W      float64\n",
       "Court       object\n",
       "Date        object\n",
       "LRank      float64\n",
       "Loser       object\n",
       "MaxL       float64\n",
       "MaxW       float64\n",
       "PSL        float64\n",
       "PSW        float64\n",
       "Round       object\n",
       "Surface     object\n",
       "Tier        object\n",
       "WRank      float64\n",
       "Winner      object\n",
       "dtype: object"
      ]
     },
     "execution_count": 7,
     "metadata": {},
     "output_type": "execute_result"
    }
   ],
   "source": [
    "df.dtypes"
   ]
  },
  {
   "cell_type": "code",
   "execution_count": 8,
   "metadata": {},
   "outputs": [],
   "source": [
    "df['Date'] = pd.to_datetime(df['Date'])"
   ]
  },
  {
   "cell_type": "code",
   "execution_count": 9,
   "metadata": {},
   "outputs": [],
   "source": [
    "df[\"WRank\"] = df[\"WRank\"].astype('str')\n",
    "df[\"LRank\"] = df[\"LRank\"].astype('str')\n",
    "\n",
    "df[\"LRank\"] = df[\"LRank\"].str.replace(\"NR$\",\"500\",regex=True)\n",
    "df[\"WRank\"] = df[\"WRank\"].str.replace(\"NR$\",\"500\",regex=True)\n",
    "df[\"LRank\"] = df[\"LRank\"].str.replace(\"nan$\",\"500\",regex=True)\n",
    "df[\"WRank\"] = df[\"WRank\"].str.replace(\"nan$\",\"500\",regex=True)\n",
    "df[\"WRank\"] = df[\"WRank\"].str.replace(\"\\\\.0$\",\"\",regex=True)\n",
    "df[\"LRank\"] = df[\"LRank\"].str.replace(\"\\\\.0$\",\"\",regex=True)\n",
    "\n",
    "df['WRank'] = df['WRank'].astype('int')\n",
    "df['LRank'] = df['LRank'].astype('int')"
   ]
  },
  {
   "cell_type": "code",
   "execution_count": 10,
   "metadata": {},
   "outputs": [],
   "source": [
    "df.loc[2157,\"B365L\"] = 5.5"
   ]
  },
  {
   "cell_type": "code",
   "execution_count": 11,
   "metadata": {},
   "outputs": [],
   "source": [
    "df[\"B365L\"] = df[\"B365L\"].astype(\"float64\")"
   ]
  },
  {
   "cell_type": "code",
   "execution_count": 12,
   "metadata": {},
   "outputs": [
    {
     "data": {
      "text/plain": [
       "AvgL              float64\n",
       "AvgW              float64\n",
       "B365L             float64\n",
       "B365W             float64\n",
       "Court              object\n",
       "Date       datetime64[ns]\n",
       "LRank               int32\n",
       "Loser              object\n",
       "MaxL              float64\n",
       "MaxW              float64\n",
       "PSL               float64\n",
       "PSW               float64\n",
       "Round              object\n",
       "Surface            object\n",
       "Tier               object\n",
       "WRank               int32\n",
       "Winner             object\n",
       "dtype: object"
      ]
     },
     "execution_count": 12,
     "metadata": {},
     "output_type": "execute_result"
    }
   ],
   "source": [
    "df.dtypes"
   ]
  },
  {
   "cell_type": "code",
   "execution_count": 13,
   "metadata": {},
   "outputs": [],
   "source": [
    "df = df.rename({\"Winner\":\"Player 0\", \"Loser\":\"Player 1\", \n",
    "                \"WRank\":\"Pl0_Rank\", \"LRank\":\"Pl1_Rank\",\n",
    "                \"MaxW\":\"Max_Pl0\", \"MaxL\":\"Max_Pl1\", \"AvgW\":\"Avg_Pl0\", \"AvgL\":\"Avg_Pl1\",\n",
    "                \"B365W\":\"B365_Pl0\",\"B365L\":\"B365_Pl1\",\"PSW\":\"PS_Pl0\",\"PSL\":\"PS_Pl1\"\n",
    "               }, axis=1)"
   ]
  },
  {
   "cell_type": "code",
   "execution_count": 14,
   "metadata": {},
   "outputs": [],
   "source": [
    "for ix, row in df.iterrows():\n",
    "    if ix % 2 == 0: \n",
    "        #swap half of the records\n",
    "        old_p0 = row['Player 0']\n",
    "        old_p1 = row['Player 1']\n",
    "        old_p0_rank = row['Pl0_Rank']\n",
    "        old_p1_rank = row['Pl1_Rank']\n",
    "        old_max_p0 = row['Max_Pl0']\n",
    "        old_max_p1 = row['Max_Pl1']\n",
    "        old_avg_p0 = row['Avg_Pl0']\n",
    "        old_avg_p1 = row['Avg_Pl1']\n",
    "        old_b365_p0 = row['B365_Pl0']\n",
    "        old_b365_p1 = row['B365_Pl1']\n",
    "        old_ps_p0 = row['PS_Pl0']\n",
    "        old_ps_p1 = row['PS_Pl1']\n",
    "\n",
    "        df.at[ix,'Player 0'] = old_p1\n",
    "        df.at[ix,'Player 1'] = old_p0\n",
    "        df.at[ix,'Pl0_Rank'] = old_p1_rank\n",
    "        df.at[ix,'Pl1_Rank'] = old_p0_rank\n",
    "        df.at[ix,'Max_Pl0'] = old_max_p1\n",
    "        df.at[ix,'Max_Pl1'] = old_max_p0\n",
    "        df.at[ix,'Avg_Pl0'] = old_avg_p1\n",
    "        df.at[ix,'Avg_Pl1'] = old_avg_p0\n",
    "        df.at[ix,'B365_Pl0'] = old_b365_p1\n",
    "        df.at[ix,'B365_Pl1'] = old_b365_p0\n",
    "        df.at[ix,'PS_Pl0'] = old_ps_p1\n",
    "        df.at[ix,'PS_Pl1'] = old_ps_p0\n",
    "\n",
    "        df.at[ix,'Won'] = 1\n",
    "    else:\n",
    "        #don't swap these records, but just mark as winner Player 0\n",
    "        df.at[ix,'Won'] = 0"
   ]
  },
  {
   "cell_type": "code",
   "execution_count": 15,
   "metadata": {},
   "outputs": [
    {
     "data": {
      "text/html": [
       "<div>\n",
       "<style scoped>\n",
       "    .dataframe tbody tr th:only-of-type {\n",
       "        vertical-align: middle;\n",
       "    }\n",
       "\n",
       "    .dataframe tbody tr th {\n",
       "        vertical-align: top;\n",
       "    }\n",
       "\n",
       "    .dataframe thead th {\n",
       "        text-align: right;\n",
       "    }\n",
       "</style>\n",
       "<table border=\"1\" class=\"dataframe\">\n",
       "  <thead>\n",
       "    <tr style=\"text-align: right;\">\n",
       "      <th></th>\n",
       "      <th>Avg_Pl1</th>\n",
       "      <th>Avg_Pl0</th>\n",
       "      <th>B365_Pl1</th>\n",
       "      <th>B365_Pl0</th>\n",
       "      <th>Court</th>\n",
       "      <th>Date</th>\n",
       "      <th>Pl1_Rank</th>\n",
       "      <th>Player 1</th>\n",
       "      <th>Max_Pl1</th>\n",
       "      <th>Max_Pl0</th>\n",
       "      <th>PS_Pl1</th>\n",
       "      <th>PS_Pl0</th>\n",
       "      <th>Round</th>\n",
       "      <th>Surface</th>\n",
       "      <th>Tier</th>\n",
       "      <th>Pl0_Rank</th>\n",
       "      <th>Player 0</th>\n",
       "      <th>Won</th>\n",
       "    </tr>\n",
       "  </thead>\n",
       "  <tbody>\n",
       "    <tr>\n",
       "      <th>0</th>\n",
       "      <td>NaN</td>\n",
       "      <td>NaN</td>\n",
       "      <td>1.33</td>\n",
       "      <td>3.00</td>\n",
       "      <td>Outdoor</td>\n",
       "      <td>2007-01-01</td>\n",
       "      <td>81</td>\n",
       "      <td>Sun T.T.</td>\n",
       "      <td>NaN</td>\n",
       "      <td>NaN</td>\n",
       "      <td>NaN</td>\n",
       "      <td>NaN</td>\n",
       "      <td>1st Round</td>\n",
       "      <td>Hard</td>\n",
       "      <td>Tier 4</td>\n",
       "      <td>272</td>\n",
       "      <td>Baker L.</td>\n",
       "      <td>1.0</td>\n",
       "    </tr>\n",
       "    <tr>\n",
       "      <th>1</th>\n",
       "      <td>NaN</td>\n",
       "      <td>NaN</td>\n",
       "      <td>1.22</td>\n",
       "      <td>3.75</td>\n",
       "      <td>Outdoor</td>\n",
       "      <td>2007-01-01</td>\n",
       "      <td>16</td>\n",
       "      <td>Myskina A.</td>\n",
       "      <td>NaN</td>\n",
       "      <td>NaN</td>\n",
       "      <td>1.244</td>\n",
       "      <td>4.70</td>\n",
       "      <td>1st Round</td>\n",
       "      <td>Hard</td>\n",
       "      <td>Tier 4</td>\n",
       "      <td>59</td>\n",
       "      <td>Dulko G.</td>\n",
       "      <td>0.0</td>\n",
       "    </tr>\n",
       "    <tr>\n",
       "      <th>2</th>\n",
       "      <td>NaN</td>\n",
       "      <td>NaN</td>\n",
       "      <td>1.72</td>\n",
       "      <td>2.00</td>\n",
       "      <td>Outdoor</td>\n",
       "      <td>2007-01-01</td>\n",
       "      <td>56</td>\n",
       "      <td>Loit E.</td>\n",
       "      <td>NaN</td>\n",
       "      <td>NaN</td>\n",
       "      <td>1.820</td>\n",
       "      <td>2.12</td>\n",
       "      <td>1st Round</td>\n",
       "      <td>Hard</td>\n",
       "      <td>Tier 4</td>\n",
       "      <td>84</td>\n",
       "      <td>Birnerova E.</td>\n",
       "      <td>1.0</td>\n",
       "    </tr>\n",
       "    <tr>\n",
       "      <th>3</th>\n",
       "      <td>NaN</td>\n",
       "      <td>NaN</td>\n",
       "      <td>1.83</td>\n",
       "      <td>1.83</td>\n",
       "      <td>Outdoor</td>\n",
       "      <td>2007-01-01</td>\n",
       "      <td>57</td>\n",
       "      <td>Nakamura A.</td>\n",
       "      <td>NaN</td>\n",
       "      <td>NaN</td>\n",
       "      <td>1.870</td>\n",
       "      <td>2.05</td>\n",
       "      <td>1st Round</td>\n",
       "      <td>Hard</td>\n",
       "      <td>Tier 4</td>\n",
       "      <td>70</td>\n",
       "      <td>Craybas J.</td>\n",
       "      <td>0.0</td>\n",
       "    </tr>\n",
       "    <tr>\n",
       "      <th>4</th>\n",
       "      <td>NaN</td>\n",
       "      <td>NaN</td>\n",
       "      <td>1.16</td>\n",
       "      <td>4.50</td>\n",
       "      <td>Outdoor</td>\n",
       "      <td>2007-01-01</td>\n",
       "      <td>18</td>\n",
       "      <td>Bartoli M.</td>\n",
       "      <td>NaN</td>\n",
       "      <td>NaN</td>\n",
       "      <td>1.185</td>\n",
       "      <td>5.90</td>\n",
       "      <td>1st Round</td>\n",
       "      <td>Hard</td>\n",
       "      <td>Tier 4</td>\n",
       "      <td>180</td>\n",
       "      <td>Morita A.</td>\n",
       "      <td>1.0</td>\n",
       "    </tr>\n",
       "  </tbody>\n",
       "</table>\n",
       "</div>"
      ],
      "text/plain": [
       "   Avg_Pl1  Avg_Pl0  B365_Pl1  B365_Pl0    Court       Date  Pl1_Rank  \\\n",
       "0      NaN      NaN      1.33      3.00  Outdoor 2007-01-01        81   \n",
       "1      NaN      NaN      1.22      3.75  Outdoor 2007-01-01        16   \n",
       "2      NaN      NaN      1.72      2.00  Outdoor 2007-01-01        56   \n",
       "3      NaN      NaN      1.83      1.83  Outdoor 2007-01-01        57   \n",
       "4      NaN      NaN      1.16      4.50  Outdoor 2007-01-01        18   \n",
       "\n",
       "      Player 1  Max_Pl1  Max_Pl0  PS_Pl1  PS_Pl0      Round Surface    Tier  \\\n",
       "0     Sun T.T.      NaN      NaN     NaN     NaN  1st Round    Hard  Tier 4   \n",
       "1   Myskina A.      NaN      NaN   1.244    4.70  1st Round    Hard  Tier 4   \n",
       "2      Loit E.      NaN      NaN   1.820    2.12  1st Round    Hard  Tier 4   \n",
       "3  Nakamura A.      NaN      NaN   1.870    2.05  1st Round    Hard  Tier 4   \n",
       "4   Bartoli M.      NaN      NaN   1.185    5.90  1st Round    Hard  Tier 4   \n",
       "\n",
       "   Pl0_Rank      Player 0  Won  \n",
       "0       272      Baker L.  1.0  \n",
       "1        59      Dulko G.  0.0  \n",
       "2        84  Birnerova E.  1.0  \n",
       "3        70    Craybas J.  0.0  \n",
       "4       180     Morita A.  1.0  "
      ]
     },
     "execution_count": 15,
     "metadata": {},
     "output_type": "execute_result"
    }
   ],
   "source": [
    "df.head()"
   ]
  },
  {
   "cell_type": "code",
   "execution_count": 16,
   "metadata": {},
   "outputs": [
    {
     "data": {
      "text/plain": [
       "array(['Tier 4', 'Tier 3', 'Tier 2', 'Grand Slam', 'Tier 1',\n",
       "       'Tour Championships', 'International', 'Premier', 'SEC',\n",
       "       'Elite Trophy'], dtype=object)"
      ]
     },
     "execution_count": 16,
     "metadata": {},
     "output_type": "execute_result"
    }
   ],
   "source": [
    "df['Tier'].unique()\n",
    "##T3 e T4 : International\n",
    "##T2: Premier"
   ]
  },
  {
   "cell_type": "code",
   "execution_count": 17,
   "metadata": {},
   "outputs": [],
   "source": [
    "df['Tier'] = df['Tier'].str.replace('Tier 3$','International', regex=True)\n",
    "df['Tier'] = df['Tier'].str.replace('Tier 4$','International', regex=True)\n",
    "df['Tier'] = df['Tier'].str.replace('Tier 2$','Premier', regex=True)\n",
    "df['Tier'] = df['Tier'].str.replace('Tier 1$','Premier', regex=True)\n",
    "df['Tier'] = df['Tier'].str.replace('SEC$','Tour Championships', regex=True)\n",
    "df['Tier'] = df['Tier'].str.replace('Elite Trophy$','Tour Championships', regex=True)"
   ]
  },
  {
   "cell_type": "code",
   "execution_count": 18,
   "metadata": {},
   "outputs": [
    {
     "data": {
      "text/plain": [
       "array(['International', 'Premier', 'Grand Slam', 'Tour Championships'],\n",
       "      dtype=object)"
      ]
     },
     "execution_count": 18,
     "metadata": {},
     "output_type": "execute_result"
    }
   ],
   "source": [
    "df['Tier'].unique()"
   ]
  },
  {
   "cell_type": "code",
   "execution_count": 19,
   "metadata": {},
   "outputs": [],
   "source": [
    "court_dummies = pd.get_dummies(df['Court'])\n",
    "surface_dummies = pd.get_dummies(df['Surface'])\n",
    "round_dummies = pd.get_dummies(df['Round'])\n",
    "tier_dummies = pd.get_dummies(df['Tier'])\n",
    "df = pd.concat([df, court_dummies, surface_dummies, tier_dummies, round_dummies], axis=1)"
   ]
  },
  {
   "cell_type": "code",
   "execution_count": 20,
   "metadata": {},
   "outputs": [
    {
     "data": {
      "text/html": [
       "<div>\n",
       "<style scoped>\n",
       "    .dataframe tbody tr th:only-of-type {\n",
       "        vertical-align: middle;\n",
       "    }\n",
       "\n",
       "    .dataframe tbody tr th {\n",
       "        vertical-align: top;\n",
       "    }\n",
       "\n",
       "    .dataframe thead th {\n",
       "        text-align: right;\n",
       "    }\n",
       "</style>\n",
       "<table border=\"1\" class=\"dataframe\">\n",
       "  <thead>\n",
       "    <tr style=\"text-align: right;\">\n",
       "      <th></th>\n",
       "      <th>Avg_Pl1</th>\n",
       "      <th>Avg_Pl0</th>\n",
       "      <th>B365_Pl1</th>\n",
       "      <th>B365_Pl0</th>\n",
       "      <th>Court</th>\n",
       "      <th>Date</th>\n",
       "      <th>Pl1_Rank</th>\n",
       "      <th>Player 1</th>\n",
       "      <th>Max_Pl1</th>\n",
       "      <th>Max_Pl0</th>\n",
       "      <th>...</th>\n",
       "      <th>Tour Championships</th>\n",
       "      <th>1st Round</th>\n",
       "      <th>2nd Round</th>\n",
       "      <th>3rd Round</th>\n",
       "      <th>4th Round</th>\n",
       "      <th>Quarterfinals</th>\n",
       "      <th>Round Robin</th>\n",
       "      <th>Semifinals</th>\n",
       "      <th>The Final</th>\n",
       "      <th>Third Place</th>\n",
       "    </tr>\n",
       "  </thead>\n",
       "  <tbody>\n",
       "    <tr>\n",
       "      <th>0</th>\n",
       "      <td>NaN</td>\n",
       "      <td>NaN</td>\n",
       "      <td>1.33</td>\n",
       "      <td>3.00</td>\n",
       "      <td>Outdoor</td>\n",
       "      <td>2007-01-01</td>\n",
       "      <td>81</td>\n",
       "      <td>Sun T.T.</td>\n",
       "      <td>NaN</td>\n",
       "      <td>NaN</td>\n",
       "      <td>...</td>\n",
       "      <td>0</td>\n",
       "      <td>1</td>\n",
       "      <td>0</td>\n",
       "      <td>0</td>\n",
       "      <td>0</td>\n",
       "      <td>0</td>\n",
       "      <td>0</td>\n",
       "      <td>0</td>\n",
       "      <td>0</td>\n",
       "      <td>0</td>\n",
       "    </tr>\n",
       "    <tr>\n",
       "      <th>1</th>\n",
       "      <td>NaN</td>\n",
       "      <td>NaN</td>\n",
       "      <td>1.22</td>\n",
       "      <td>3.75</td>\n",
       "      <td>Outdoor</td>\n",
       "      <td>2007-01-01</td>\n",
       "      <td>16</td>\n",
       "      <td>Myskina A.</td>\n",
       "      <td>NaN</td>\n",
       "      <td>NaN</td>\n",
       "      <td>...</td>\n",
       "      <td>0</td>\n",
       "      <td>1</td>\n",
       "      <td>0</td>\n",
       "      <td>0</td>\n",
       "      <td>0</td>\n",
       "      <td>0</td>\n",
       "      <td>0</td>\n",
       "      <td>0</td>\n",
       "      <td>0</td>\n",
       "      <td>0</td>\n",
       "    </tr>\n",
       "    <tr>\n",
       "      <th>2</th>\n",
       "      <td>NaN</td>\n",
       "      <td>NaN</td>\n",
       "      <td>1.72</td>\n",
       "      <td>2.00</td>\n",
       "      <td>Outdoor</td>\n",
       "      <td>2007-01-01</td>\n",
       "      <td>56</td>\n",
       "      <td>Loit E.</td>\n",
       "      <td>NaN</td>\n",
       "      <td>NaN</td>\n",
       "      <td>...</td>\n",
       "      <td>0</td>\n",
       "      <td>1</td>\n",
       "      <td>0</td>\n",
       "      <td>0</td>\n",
       "      <td>0</td>\n",
       "      <td>0</td>\n",
       "      <td>0</td>\n",
       "      <td>0</td>\n",
       "      <td>0</td>\n",
       "      <td>0</td>\n",
       "    </tr>\n",
       "    <tr>\n",
       "      <th>3</th>\n",
       "      <td>NaN</td>\n",
       "      <td>NaN</td>\n",
       "      <td>1.83</td>\n",
       "      <td>1.83</td>\n",
       "      <td>Outdoor</td>\n",
       "      <td>2007-01-01</td>\n",
       "      <td>57</td>\n",
       "      <td>Nakamura A.</td>\n",
       "      <td>NaN</td>\n",
       "      <td>NaN</td>\n",
       "      <td>...</td>\n",
       "      <td>0</td>\n",
       "      <td>1</td>\n",
       "      <td>0</td>\n",
       "      <td>0</td>\n",
       "      <td>0</td>\n",
       "      <td>0</td>\n",
       "      <td>0</td>\n",
       "      <td>0</td>\n",
       "      <td>0</td>\n",
       "      <td>0</td>\n",
       "    </tr>\n",
       "    <tr>\n",
       "      <th>4</th>\n",
       "      <td>NaN</td>\n",
       "      <td>NaN</td>\n",
       "      <td>1.16</td>\n",
       "      <td>4.50</td>\n",
       "      <td>Outdoor</td>\n",
       "      <td>2007-01-01</td>\n",
       "      <td>18</td>\n",
       "      <td>Bartoli M.</td>\n",
       "      <td>NaN</td>\n",
       "      <td>NaN</td>\n",
       "      <td>...</td>\n",
       "      <td>0</td>\n",
       "      <td>1</td>\n",
       "      <td>0</td>\n",
       "      <td>0</td>\n",
       "      <td>0</td>\n",
       "      <td>0</td>\n",
       "      <td>0</td>\n",
       "      <td>0</td>\n",
       "      <td>0</td>\n",
       "      <td>0</td>\n",
       "    </tr>\n",
       "  </tbody>\n",
       "</table>\n",
       "<p>5 rows × 38 columns</p>\n",
       "</div>"
      ],
      "text/plain": [
       "   Avg_Pl1  Avg_Pl0  B365_Pl1  B365_Pl0    Court       Date  Pl1_Rank  \\\n",
       "0      NaN      NaN      1.33      3.00  Outdoor 2007-01-01        81   \n",
       "1      NaN      NaN      1.22      3.75  Outdoor 2007-01-01        16   \n",
       "2      NaN      NaN      1.72      2.00  Outdoor 2007-01-01        56   \n",
       "3      NaN      NaN      1.83      1.83  Outdoor 2007-01-01        57   \n",
       "4      NaN      NaN      1.16      4.50  Outdoor 2007-01-01        18   \n",
       "\n",
       "      Player 1  Max_Pl1  Max_Pl0  ...  Tour Championships  1st Round  \\\n",
       "0     Sun T.T.      NaN      NaN  ...                   0          1   \n",
       "1   Myskina A.      NaN      NaN  ...                   0          1   \n",
       "2      Loit E.      NaN      NaN  ...                   0          1   \n",
       "3  Nakamura A.      NaN      NaN  ...                   0          1   \n",
       "4   Bartoli M.      NaN      NaN  ...                   0          1   \n",
       "\n",
       "  2nd Round 3rd Round 4th Round  Quarterfinals Round Robin  Semifinals  \\\n",
       "0         0         0         0              0           0           0   \n",
       "1         0         0         0              0           0           0   \n",
       "2         0         0         0              0           0           0   \n",
       "3         0         0         0              0           0           0   \n",
       "4         0         0         0              0           0           0   \n",
       "\n",
       "   The Final  Third Place  \n",
       "0          0            0  \n",
       "1          0            0  \n",
       "2          0            0  \n",
       "3          0            0  \n",
       "4          0            0  \n",
       "\n",
       "[5 rows x 38 columns]"
      ]
     },
     "execution_count": 20,
     "metadata": {},
     "output_type": "execute_result"
    }
   ],
   "source": [
    "df.head()"
   ]
  },
  {
   "cell_type": "code",
   "execution_count": 21,
   "metadata": {},
   "outputs": [],
   "source": [
    "df.drop(['Court', 'Surface', 'Round', 'Tier'], axis=1, inplace = True)"
   ]
  },
  {
   "cell_type": "code",
   "execution_count": 22,
   "metadata": {},
   "outputs": [],
   "source": [
    "df.to_csv(\"csv/Preprocessed_Data.csv\", index=False)"
   ]
  },
  {
   "cell_type": "markdown",
   "metadata": {},
   "source": [
    "# Calculate New Features"
   ]
  },
  {
   "cell_type": "code",
   "execution_count": 23,
   "metadata": {},
   "outputs": [],
   "source": [
    "df = pd.read_csv(\"csv/Preprocessed_Data.csv\")"
   ]
  },
  {
   "cell_type": "code",
   "execution_count": 24,
   "metadata": {
    "scrolled": true
   },
   "outputs": [
    {
     "data": {
      "text/plain": [
       "Index(['Avg_Pl1', 'Avg_Pl0', 'B365_Pl1', 'B365_Pl0', 'Date', 'Pl1_Rank',\n",
       "       'Player 1', 'Max_Pl1', 'Max_Pl0', 'PS_Pl1', 'PS_Pl0', 'Pl0_Rank',\n",
       "       'Player 0', 'Won', 'Indoor', 'Outdoor', 'Carpet', 'Clay', 'Grass',\n",
       "       'Greenset', 'Hard', 'Grand Slam', 'International', 'Premier',\n",
       "       'Tour Championships', '1st Round', '2nd Round', '3rd Round',\n",
       "       '4th Round', 'Quarterfinals', 'Round Robin', 'Semifinals', 'The Final',\n",
       "       'Third Place'],\n",
       "      dtype='object')"
      ]
     },
     "execution_count": 24,
     "metadata": {},
     "output_type": "execute_result"
    }
   ],
   "source": [
    "df.columns"
   ]
  },
  {
   "cell_type": "code",
   "execution_count": 25,
   "metadata": {},
   "outputs": [],
   "source": [
    "df['Date'] = pd.to_datetime(df['Date'])"
   ]
  },
  {
   "cell_type": "markdown",
   "metadata": {},
   "source": [
    "### Adding a Performance index per match\n",
    "\n",
    "For every match, we'll calculate a performance index for both players, where the winner will always have an index greater than 0.5 and the loser always below this value.\n",
    "To calculate the exact value, however, we use the rankings of the players, so that beating a high ranked player will result in a value close to 1 for the winner, and losing from a low-ranked player will result in value close to 0 for the loser."
   ]
  },
  {
   "cell_type": "code",
   "execution_count": 26,
   "metadata": {},
   "outputs": [],
   "source": [
    "def perf_index(winner_rank, loser_rank):\n",
    "    winner_index = 0.5 + 1/(loser_rank+1)\n",
    "    loser_index = 1/(winner_rank+1)\n",
    "    return winner_index, loser_index"
   ]
  },
  {
   "cell_type": "code",
   "execution_count": 27,
   "metadata": {},
   "outputs": [],
   "source": [
    "def calculate_performance_index_per_match_df(df):\n",
    "    copy_df = df.copy()\n",
    "    \n",
    "    for ix, row in copy_df.iterrows():\n",
    "        pl0_rank = row['Pl0_Rank']\n",
    "        pl1_rank = row['Pl1_Rank']\n",
    "        winner = row[\"Won\"]\n",
    "        if winner == 0:\n",
    "            winner_index, loser_index = perf_index(pl0_rank, pl1_rank)\n",
    "            copy_df.at[ix,'Match Perf. Index Pl0'] = winner_index\n",
    "            copy_df.at[ix,'Match Perf. Index Pl1'] = loser_index\n",
    "        else:\n",
    "            winner_index, loser_index = perf_index(pl1_rank, pl0_rank)\n",
    "            copy_df.at[ix,'Match Perf. Index Pl0'] = loser_index\n",
    "            copy_df.at[ix,'Match Perf. Index Pl1'] = winner_index\n",
    "    return copy_df"
   ]
  },
  {
   "cell_type": "code",
   "execution_count": 28,
   "metadata": {},
   "outputs": [],
   "source": [
    "df = calculate_performance_index_per_match_df(df)"
   ]
  },
  {
   "cell_type": "code",
   "execution_count": 29,
   "metadata": {},
   "outputs": [],
   "source": [
    "\"\"\"\n",
    "ranking_comparator_index function takes in input the ranks of players 0 and 1 (i.e.: 3, 19) and returns a value between -1 and 1.\n",
    "The value is negative, if player1 has a higher ranking than player0. It's positive if player0 has a higher ranking than \n",
    "player1, and it's close to 0 if the players have similar rankings.\n",
    "Similarity between rankings is not only expressed by the distance between the rankings. \n",
    "In fact, between number 1 and number 2, there is a higher difference than number 59 and number 60.\n",
    "This metric is taken into account while calculating the ranking comparator index.\n",
    "\"\"\"\n",
    "def ranking_comparator_index(player_0_rank, player_1_rank):\n",
    "    tmp0 = 1/player_0_rank\n",
    "    tmp1 = 1/player_1_rank\n",
    "    \n",
    "    max_tmp = max(tmp0,tmp1)\n",
    "    coeff = ( abs(tmp0-tmp1) / max_tmp)**2\n",
    "    \n",
    "    proportion = coeff * max_tmp / (tmp0 + tmp1)\n",
    "    proportion = round(proportion,4)\n",
    "    if player_0_rank < player_1_rank:\n",
    "        return proportion\n",
    "    else:\n",
    "        return proportion * -1"
   ]
  },
  {
   "cell_type": "code",
   "execution_count": 30,
   "metadata": {},
   "outputs": [],
   "source": [
    "surface_performance_list = []\n",
    "\n",
    "#list all players in the dataset\n",
    "players = set(df['Player 0']) | set(df['Player 1'])\n",
    "\n",
    "surfaces = ['Hard','Grass','Clay','Carpet', 'Greenset']\n",
    "for player in players:\n",
    "    for surface in surfaces:\n",
    "        player_df = df[(df[\"Player 0\"]==player) | (df[\"Player 1\"]==player)]\n",
    "\n",
    "        total_played = player_df[ (player_df[surface] == 1) ].shape[0]\n",
    "        \n",
    "        total_won = player_df[(player_df[surface] == 1) & \\\n",
    "                        ( ( (player_df[\"Player 0\"]==player) & (player_df[\"Won\"]==0) ) | (( (player_df[\"Player 1\"]==player) & (player_df[\"Won\"]==1) )) ) ].shape[0]\n",
    "        \n",
    "        if total_played == 0: performance_index = 0\n",
    "        else: performance_index = round(float(total_won/total_played), 2)\n",
    "        surface_performance_list.append({\"Player\":player,\"Surface\":surface,\"Performance\":performance_index})\n",
    "\n",
    "surface_perf_df = pd.DataFrame(surface_performance_list)"
   ]
  },
  {
   "cell_type": "code",
   "execution_count": 31,
   "metadata": {},
   "outputs": [
    {
     "data": {
      "text/html": [
       "<div>\n",
       "<style scoped>\n",
       "    .dataframe tbody tr th:only-of-type {\n",
       "        vertical-align: middle;\n",
       "    }\n",
       "\n",
       "    .dataframe tbody tr th {\n",
       "        vertical-align: top;\n",
       "    }\n",
       "\n",
       "    .dataframe thead th {\n",
       "        text-align: right;\n",
       "    }\n",
       "</style>\n",
       "<table border=\"1\" class=\"dataframe\">\n",
       "  <thead>\n",
       "    <tr style=\"text-align: right;\">\n",
       "      <th></th>\n",
       "      <th>Player</th>\n",
       "      <th>Surface</th>\n",
       "      <th>Performance</th>\n",
       "    </tr>\n",
       "  </thead>\n",
       "  <tbody>\n",
       "    <tr>\n",
       "      <th>90</th>\n",
       "      <td>Williams S.</td>\n",
       "      <td>Hard</td>\n",
       "      <td>0.85</td>\n",
       "    </tr>\n",
       "    <tr>\n",
       "      <th>91</th>\n",
       "      <td>Williams S.</td>\n",
       "      <td>Grass</td>\n",
       "      <td>0.89</td>\n",
       "    </tr>\n",
       "    <tr>\n",
       "      <th>92</th>\n",
       "      <td>Williams S.</td>\n",
       "      <td>Clay</td>\n",
       "      <td>0.82</td>\n",
       "    </tr>\n",
       "    <tr>\n",
       "      <th>93</th>\n",
       "      <td>Williams S.</td>\n",
       "      <td>Carpet</td>\n",
       "      <td>0.75</td>\n",
       "    </tr>\n",
       "    <tr>\n",
       "      <th>94</th>\n",
       "      <td>Williams S.</td>\n",
       "      <td>Greenset</td>\n",
       "      <td>0.00</td>\n",
       "    </tr>\n",
       "  </tbody>\n",
       "</table>\n",
       "</div>"
      ],
      "text/plain": [
       "         Player   Surface  Performance\n",
       "90  Williams S.      Hard         0.85\n",
       "91  Williams S.     Grass         0.89\n",
       "92  Williams S.      Clay         0.82\n",
       "93  Williams S.    Carpet         0.75\n",
       "94  Williams S.  Greenset         0.00"
      ]
     },
     "execution_count": 31,
     "metadata": {},
     "output_type": "execute_result"
    }
   ],
   "source": [
    "surface_perf_df[surface_perf_df['Player'] == \"Williams S.\"]"
   ]
  },
  {
   "cell_type": "code",
   "execution_count": 32,
   "metadata": {},
   "outputs": [
    {
     "data": {
      "text/html": [
       "<div>\n",
       "<style scoped>\n",
       "    .dataframe tbody tr th:only-of-type {\n",
       "        vertical-align: middle;\n",
       "    }\n",
       "\n",
       "    .dataframe tbody tr th {\n",
       "        vertical-align: top;\n",
       "    }\n",
       "\n",
       "    .dataframe thead th {\n",
       "        text-align: right;\n",
       "    }\n",
       "</style>\n",
       "<table border=\"1\" class=\"dataframe\">\n",
       "  <thead>\n",
       "    <tr style=\"text-align: right;\">\n",
       "      <th></th>\n",
       "      <th>Player</th>\n",
       "      <th>Surface</th>\n",
       "      <th>Performance</th>\n",
       "    </tr>\n",
       "  </thead>\n",
       "  <tbody>\n",
       "    <tr>\n",
       "      <th>1070</th>\n",
       "      <td>Williams V.</td>\n",
       "      <td>Hard</td>\n",
       "      <td>0.72</td>\n",
       "    </tr>\n",
       "    <tr>\n",
       "      <th>1071</th>\n",
       "      <td>Williams V.</td>\n",
       "      <td>Grass</td>\n",
       "      <td>0.80</td>\n",
       "    </tr>\n",
       "    <tr>\n",
       "      <th>1072</th>\n",
       "      <td>Williams V.</td>\n",
       "      <td>Clay</td>\n",
       "      <td>0.66</td>\n",
       "    </tr>\n",
       "    <tr>\n",
       "      <th>1073</th>\n",
       "      <td>Williams V.</td>\n",
       "      <td>Carpet</td>\n",
       "      <td>0.00</td>\n",
       "    </tr>\n",
       "    <tr>\n",
       "      <th>1074</th>\n",
       "      <td>Williams V.</td>\n",
       "      <td>Greenset</td>\n",
       "      <td>0.00</td>\n",
       "    </tr>\n",
       "  </tbody>\n",
       "</table>\n",
       "</div>"
      ],
      "text/plain": [
       "           Player   Surface  Performance\n",
       "1070  Williams V.      Hard         0.72\n",
       "1071  Williams V.     Grass         0.80\n",
       "1072  Williams V.      Clay         0.66\n",
       "1073  Williams V.    Carpet         0.00\n",
       "1074  Williams V.  Greenset         0.00"
      ]
     },
     "execution_count": 32,
     "metadata": {},
     "output_type": "execute_result"
    }
   ],
   "source": [
    "surface_perf_df[surface_perf_df['Player'] == \"Williams V.\"]"
   ]
  },
  {
   "cell_type": "code",
   "execution_count": 33,
   "metadata": {},
   "outputs": [
    {
     "data": {
      "text/html": [
       "<div>\n",
       "<style scoped>\n",
       "    .dataframe tbody tr th:only-of-type {\n",
       "        vertical-align: middle;\n",
       "    }\n",
       "\n",
       "    .dataframe tbody tr th {\n",
       "        vertical-align: top;\n",
       "    }\n",
       "\n",
       "    .dataframe thead th {\n",
       "        text-align: right;\n",
       "    }\n",
       "</style>\n",
       "<table border=\"1\" class=\"dataframe\">\n",
       "  <thead>\n",
       "    <tr style=\"text-align: right;\">\n",
       "      <th></th>\n",
       "      <th>Player</th>\n",
       "      <th>Surface</th>\n",
       "      <th>Performance</th>\n",
       "    </tr>\n",
       "  </thead>\n",
       "  <tbody>\n",
       "    <tr>\n",
       "      <th>605</th>\n",
       "      <td>Ivanovic A.</td>\n",
       "      <td>Hard</td>\n",
       "      <td>0.66</td>\n",
       "    </tr>\n",
       "    <tr>\n",
       "      <th>606</th>\n",
       "      <td>Ivanovic A.</td>\n",
       "      <td>Grass</td>\n",
       "      <td>0.64</td>\n",
       "    </tr>\n",
       "    <tr>\n",
       "      <th>607</th>\n",
       "      <td>Ivanovic A.</td>\n",
       "      <td>Clay</td>\n",
       "      <td>0.69</td>\n",
       "    </tr>\n",
       "    <tr>\n",
       "      <th>608</th>\n",
       "      <td>Ivanovic A.</td>\n",
       "      <td>Carpet</td>\n",
       "      <td>0.67</td>\n",
       "    </tr>\n",
       "    <tr>\n",
       "      <th>609</th>\n",
       "      <td>Ivanovic A.</td>\n",
       "      <td>Greenset</td>\n",
       "      <td>0.00</td>\n",
       "    </tr>\n",
       "  </tbody>\n",
       "</table>\n",
       "</div>"
      ],
      "text/plain": [
       "          Player   Surface  Performance\n",
       "605  Ivanovic A.      Hard         0.66\n",
       "606  Ivanovic A.     Grass         0.64\n",
       "607  Ivanovic A.      Clay         0.69\n",
       "608  Ivanovic A.    Carpet         0.67\n",
       "609  Ivanovic A.  Greenset         0.00"
      ]
     },
     "execution_count": 33,
     "metadata": {},
     "output_type": "execute_result"
    }
   ],
   "source": [
    "surface_perf_df[surface_perf_df['Player'] == \"Ivanovic A.\"]"
   ]
  },
  {
   "cell_type": "code",
   "execution_count": 34,
   "metadata": {
    "scrolled": true
   },
   "outputs": [
    {
     "data": {
      "text/html": [
       "<div>\n",
       "<style scoped>\n",
       "    .dataframe tbody tr th:only-of-type {\n",
       "        vertical-align: middle;\n",
       "    }\n",
       "\n",
       "    .dataframe tbody tr th {\n",
       "        vertical-align: top;\n",
       "    }\n",
       "\n",
       "    .dataframe thead th {\n",
       "        text-align: right;\n",
       "    }\n",
       "</style>\n",
       "<table border=\"1\" class=\"dataframe\">\n",
       "  <thead>\n",
       "    <tr style=\"text-align: right;\">\n",
       "      <th></th>\n",
       "      <th>Player</th>\n",
       "      <th>Surface</th>\n",
       "      <th>Performance</th>\n",
       "    </tr>\n",
       "  </thead>\n",
       "  <tbody>\n",
       "    <tr>\n",
       "      <th>1505</th>\n",
       "      <td>Azarenka V.</td>\n",
       "      <td>Hard</td>\n",
       "      <td>0.74</td>\n",
       "    </tr>\n",
       "    <tr>\n",
       "      <th>1506</th>\n",
       "      <td>Azarenka V.</td>\n",
       "      <td>Grass</td>\n",
       "      <td>0.66</td>\n",
       "    </tr>\n",
       "    <tr>\n",
       "      <th>1507</th>\n",
       "      <td>Azarenka V.</td>\n",
       "      <td>Clay</td>\n",
       "      <td>0.67</td>\n",
       "    </tr>\n",
       "    <tr>\n",
       "      <th>1508</th>\n",
       "      <td>Azarenka V.</td>\n",
       "      <td>Carpet</td>\n",
       "      <td>0.40</td>\n",
       "    </tr>\n",
       "    <tr>\n",
       "      <th>1509</th>\n",
       "      <td>Azarenka V.</td>\n",
       "      <td>Greenset</td>\n",
       "      <td>0.00</td>\n",
       "    </tr>\n",
       "  </tbody>\n",
       "</table>\n",
       "</div>"
      ],
      "text/plain": [
       "           Player   Surface  Performance\n",
       "1505  Azarenka V.      Hard         0.74\n",
       "1506  Azarenka V.     Grass         0.66\n",
       "1507  Azarenka V.      Clay         0.67\n",
       "1508  Azarenka V.    Carpet         0.40\n",
       "1509  Azarenka V.  Greenset         0.00"
      ]
     },
     "execution_count": 34,
     "metadata": {},
     "output_type": "execute_result"
    }
   ],
   "source": [
    "surface_perf_df[surface_perf_df['Player'] == \"Azarenka V.\"]"
   ]
  },
  {
   "cell_type": "code",
   "execution_count": 35,
   "metadata": {},
   "outputs": [],
   "source": [
    "def avg_performance_player(df, player):\n",
    "    sum_as_p0 = df[df[\"Player 0\"] == player][\"Match Perf. Index Pl0\"].sum()\n",
    "    sum_as_p1 = df[df[\"Player 1\"] == player][\"Match Perf. Index Pl1\"].sum()\n",
    "    if df.shape[0] == 0: return 0\n",
    "    return round( (sum_as_p0+sum_as_p1)/df.shape[0], 2)"
   ]
  },
  {
   "cell_type": "code",
   "execution_count": 36,
   "metadata": {},
   "outputs": [],
   "source": [
    "\"\"\"\n",
    "This method takes in input a dataframe containing all the matches, a player, a date D and a tuple of integers, \n",
    "where the minimum number represents the number of matches to consider to calculate the recent form and the max number \n",
    "represents the number of matches to consider to calculate the form of the player.\n",
    "\"\"\"\n",
    "def form_performance_index(df, player, date, matches_to_consider_tuple):\n",
    "    try:\n",
    "        recent_form_matches = min(matches_to_consider_tuple)\n",
    "        form_matches = max(matches_to_consider_tuple)\n",
    "    except:\n",
    "        raise ValueError(\"Wrong value for argument matches_to_consider_tuple. It has to be a tuple of integers.\")\n",
    "    \n",
    "    player_df = df[(df['Player 0']==player) | (df['Player 1']==player)]\n",
    "    \n",
    "    #Form DF\n",
    "    last_matches_before_date_df_form = player_df[player_df['Date'] < date].tail(form_matches).sort_values('Date', ascending=False)\n",
    "    avg_perf_form = avg_performance_player(last_matches_before_date_df_form, player)\n",
    "    \n",
    "    #Recent Form DF\n",
    "    last_matches_before_date_df_recent_form = last_matches_before_date_df_form.head(recent_form_matches)\n",
    "    avg_perf_recent_form = avg_performance_player(last_matches_before_date_df_recent_form, player)\n",
    "    \n",
    "    #Form\n",
    "    total_played_form = last_matches_before_date_df_form.shape[0]\n",
    "    total_won_form = last_matches_before_date_df_form[( ( \\\n",
    "                (last_matches_before_date_df_form[\"Player 0\"]==player) & (last_matches_before_date_df_form[\"Won\"]==0) ) | \\\n",
    "                (( (last_matches_before_date_df_form[\"Player 1\"]==player) & (last_matches_before_date_df_form[\"Won\"]==1) )) )].shape[0]\n",
    "        \n",
    "    if total_played_form == 0: performance_index_form = 0\n",
    "    else: performance_index_form = (round(float(total_won_form/total_played_form), 2) + avg_perf_form)/2\n",
    "    \n",
    "    \n",
    "    #Recent Form\n",
    "    total_played_recent_form = last_matches_before_date_df_recent_form.shape[0]\n",
    "    total_won_recent_form = last_matches_before_date_df_recent_form[( ( \\\n",
    "                (last_matches_before_date_df_recent_form[\"Player 0\"]==player) & (last_matches_before_date_df_recent_form[\"Won\"]==0) ) | \\\n",
    "                (( (last_matches_before_date_df_recent_form[\"Player 1\"]==player) & (last_matches_before_date_df_recent_form[\"Won\"]==1) )) )].shape[0]\n",
    "        \n",
    "    if total_played_recent_form == 0: performance_index_recent_form = 0\n",
    "    else: performance_index_recent_form = (round(float(total_won_recent_form/total_played_recent_form), 2) + avg_perf_recent_form)/2\n",
    "    \n",
    "    return performance_index_form, performance_index_recent_form"
   ]
  },
  {
   "cell_type": "code",
   "execution_count": 37,
   "metadata": {},
   "outputs": [],
   "source": [
    "def performance_against_opponent_ranking_index(df, player, range_tuple):\n",
    "    try:\n",
    "        range_min = range_tuple[0]\n",
    "        range_max = range_tuple[1]\n",
    "    except:\n",
    "        raise ValueError(\"Opponent Ranking Range tuple not provided correctly: \" + range_tuple)\n",
    "        \n",
    "    if range_min > range_max:\n",
    "        tmp = range_min\n",
    "        range_min = range_max\n",
    "        range_max = tmp\n",
    "    \n",
    "    player_won_as_pl0 = df[(df[\"Player 0\"]==player) & (df[\"Won\"]==0) & (df['Pl1_Rank'] <= range_max) & (df['Pl1_Rank'] >= range_min)]\n",
    "    player_won_as_pl1 = df[(df[\"Player 1\"]==player) & (df[\"Won\"]==1) & (df['Pl0_Rank'] <= range_max) & (df['Pl0_Rank'] >= range_min)]\n",
    "    \n",
    "    player_lost_as_pl0 = df[(df[\"Player 0\"]==player) & (df[\"Won\"]==1) & (df['Pl1_Rank'] <= range_max) & (df['Pl1_Rank'] >= range_min)]\n",
    "    player_lost_as_pl1 = df[(df[\"Player 1\"]==player) & (df[\"Won\"]==0) & (df['Pl0_Rank'] <= range_max) & (df['Pl0_Rank'] >= range_min)]\n",
    "    \n",
    "    \n",
    "    won = player_won_as_pl0.shape[0] + player_won_as_pl1.shape[0]\n",
    "    lost = player_lost_as_pl0.shape[0] + player_lost_as_pl1.shape[0]\n",
    "    \n",
    "    if won + lost == 0: return 0\n",
    "    return round(float(won/(won+lost)), 2)"
   ]
  },
  {
   "cell_type": "code",
   "execution_count": 38,
   "metadata": {},
   "outputs": [],
   "source": [
    "def create_performance_vs_opponents_dataframe(df):\n",
    "    perf_df_list = []\n",
    "    \n",
    "    players = set(df[\"Player 0\"]) | set(df[\"Player 1\"])\n",
    "    bins = [(1,4), (5,10), (11,20), (21,50), (51,100), (101,250), (251, 10000)]\n",
    "    for player in players:\n",
    "        player_df = df[(df[\"Player 0\"] == player) | (df[\"Player 1\"] == player)]\n",
    "        for b in bins:\n",
    "            performance = performance_against_opponent_ranking_index(player_df, player, b)\n",
    "            perf_df_list.append({\"Player\":player, \"Min Bin\":b[0], \"Max Bin\":b[1], \"Performance\":performance})\n",
    "    \n",
    "    return pd.DataFrame(perf_df_list)"
   ]
  },
  {
   "cell_type": "code",
   "execution_count": 39,
   "metadata": {},
   "outputs": [],
   "source": [
    "performance_opponents_dataframe = create_performance_vs_opponents_dataframe(df)"
   ]
  },
  {
   "cell_type": "code",
   "execution_count": 40,
   "metadata": {},
   "outputs": [],
   "source": [
    "def __get_bin__(ranking):\n",
    "    bins = [(1,4), (5,10), (11,20), (21,50), (51,100), (101,250), (251, 10000)]\n",
    "        \n",
    "    for b in bins:\n",
    "        b_min = b[0]\n",
    "        b_max = b[1]\n",
    "        if ranking >= b_min and ranking <= b_max:\n",
    "            return b\n",
    "    \n",
    "    return bins[-1]"
   ]
  },
  {
   "cell_type": "code",
   "execution_count": 41,
   "metadata": {},
   "outputs": [],
   "source": [
    "def _get_surface_by_row__(row):\n",
    "    if row['Hard'] == 1: return \"Hard\"\n",
    "    if row['Clay'] == 1: return \"Clay\"\n",
    "    if row['Grass'] == 1: return \"Grass\"\n",
    "    if row['Carpet'] == 1: return \"Carpet\"\n",
    "    if row['Greenset'] == 1: return \"Greenset\"\n",
    "    return \"\""
   ]
  },
  {
   "cell_type": "markdown",
   "metadata": {},
   "source": [
    "### H2H Feature"
   ]
  },
  {
   "cell_type": "markdown",
   "metadata": {},
   "source": [
    "Next, we're going to consider h2h matches and overall experience (number of matches played) as factors"
   ]
  },
  {
   "cell_type": "code",
   "execution_count": 42,
   "metadata": {},
   "outputs": [],
   "source": [
    "\"\"\"\n",
    "This function takes in input the matches won by players 0 and 1, and returns a number representing the h2h index.\n",
    "This index can go from -1 to 1. It's positive if Player 0 has won more matches than Player 1 and negative otherwise.\n",
    "The index approaches 1 as the difference between matches won by player 0 and won by Player 1 increases.\n",
    "It approaches -1 as the difference between matches won by player 1 and won by Player 0 increases.\n",
    "\"\"\"\n",
    "def h2h_index(won_p0, won_p1):\n",
    "    if won_p0 == won_p1: return 0\n",
    "    regr = 0.05128*max(won_p0,won_p1) - 0.06035*min(won_p0,won_p1) + 0.1831\n",
    "    if won_p0 > won_p1: return min(max(0.001,regr),0.999)\n",
    "    else: return max(min(-0.001,-regr),-0.999)"
   ]
  },
  {
   "cell_type": "code",
   "execution_count": 43,
   "metadata": {},
   "outputs": [],
   "source": [
    "def calculate_h2h_index_before_date(df, pl0, pl1, date):\n",
    "    first_half_games_df = df[(df[\"Player 0\"]==pl0) & (df[\"Player 1\"]==pl1) & (df[\"Date\"] < date)]\n",
    "    second_half_games_df = df[(df[\"Player 0\"]==pl1) & (df[\"Player 1\"]==pl0) & (df[\"Date\"] < date)]\n",
    "    \n",
    "    total_first_half = first_half_games_df.shape[0]\n",
    "    total_second_half = second_half_games_df.shape[0]\n",
    "    \n",
    "    first_half_won_p0 = first_half_games_df[first_half_games_df[\"Won\"] == 0].shape[0]\n",
    "    first_half_won_p1 = total_first_half - first_half_won_p0\n",
    "    \n",
    "    second_half_won_p1 = second_half_games_df[second_half_games_df[\"Won\"] == 0].shape[0]\n",
    "    second_half_won_p0 = total_second_half - second_half_won_p1\n",
    "    \n",
    "    won_p0 = first_half_won_p0 + second_half_won_p0\n",
    "    won_p1 = first_half_won_p1 + second_half_won_p1\n",
    "    \n",
    "    return h2h_index(won_p0, won_p1)"
   ]
  },
  {
   "cell_type": "markdown",
   "metadata": {},
   "source": [
    "### Experience Feature"
   ]
  },
  {
   "cell_type": "code",
   "execution_count": 44,
   "metadata": {},
   "outputs": [],
   "source": [
    "def expierence_index(df, pl0, pl1, date):    \n",
    "    pl0_exp = df[((df[\"Player 0\"]==pl0) | (df[\"Player 1\"]==pl0)) & (df[\"Date\"] < date)].shape[0]\n",
    "    pl1_exp = df[((df[\"Player 0\"]==pl1) | (df[\"Player 1\"]==pl1)) & (df[\"Date\"] < date)].shape[0]\n",
    "    if pl0_exp + pl1_exp == 0: return 0\n",
    "    return (pl0_exp-pl1_exp)/(pl0_exp+pl1_exp)"
   ]
  },
  {
   "cell_type": "markdown",
   "metadata": {},
   "source": [
    "### Reliability Feature\n",
    "\n",
    "This feature calculates how frequent a given player wins when he's favourite or loses when he's un underdog.\n",
    "In essence, it calculates how \"easy\" is to predict correctly his matches given the fact that he's the favourite or not."
   ]
  },
  {
   "cell_type": "code",
   "execution_count": 45,
   "metadata": {},
   "outputs": [],
   "source": [
    "def reliability_index(df, player):\n",
    "    betting_data_df = df[(pd.notna(df[\"B365_Pl1\"])) & (pd.notna(df[\"B365_Pl0\"]))]\n",
    "    fav_as_p0 = betting_data_df[(betting_data_df[\"Player 0\"]==player) & (betting_data_df[\"B365_Pl0\"] < betting_data_df[\"B365_Pl1\"])]\n",
    "    fav_as_p1 = betting_data_df[(betting_data_df[\"Player 1\"]==player) & (betting_data_df[\"B365_Pl0\"] > betting_data_df[\"B365_Pl1\"])]\n",
    "    \n",
    "    und_as_p0 = betting_data_df[(betting_data_df[\"Player 0\"]==player) & (betting_data_df[\"B365_Pl0\"] > betting_data_df[\"B365_Pl1\"])]\n",
    "    und_as_p1 = betting_data_df[(betting_data_df[\"Player 1\"]==player) & (betting_data_df[\"B365_Pl0\"] < betting_data_df[\"B365_Pl1\"])]\n",
    "    \n",
    "    played_as_fav = fav_as_p0.shape[0] + fav_as_p1.shape[0]\n",
    "    played_as_und = und_as_p0.shape[0] + und_as_p1.shape[0]\n",
    "    \n",
    "    if played_as_fav + played_as_und == 0: return 0\n",
    "    \n",
    "    won_as_fav = fav_as_p0[fav_as_p0[\"Won\"]==0].shape[0] + fav_as_p1[fav_as_p1[\"Won\"] == 1].shape[0]\n",
    "    lost_as_fav = played_as_fav - won_as_fav\n",
    "    \n",
    "    won_as_und = und_as_p0[und_as_p0[\"Won\"]==0].shape[0] + und_as_p1[und_as_p1[\"Won\"] == 1].shape[0]\n",
    "    lost_as_und = played_as_und - won_as_und\n",
    "    \n",
    "    return (won_as_fav + lost_as_und)/(played_as_fav + played_as_und)"
   ]
  },
  {
   "cell_type": "code",
   "execution_count": 46,
   "metadata": {},
   "outputs": [],
   "source": [
    "def calculate_new_features(df):\n",
    "    \n",
    "    new_features_df = df.copy()\n",
    "    \n",
    "    performance_df_absent = False\n",
    "    try:\n",
    "        form_performance_df = pd.read_csv(\"csv/Form_Performance.csv\")\n",
    "        form_performance_df['Date'] = pd.to_datetime(form_performance_df['Date'])\n",
    "    except:\n",
    "        print(\"Warn: file 'csv/Form_Performance.csv' not found. Creating it now...\")\n",
    "        performance_df_absent = True\n",
    "        form_performance_df_list = []\n",
    "    \n",
    "    for ix, row in df.iterrows():\n",
    "\n",
    "        if ix % 5000 == 0: print('{} matches computed on total {}'.format(ix, df.shape[0]))\n",
    "                \n",
    "        pl0 = row[\"Player 0\"]\n",
    "        pl1 = row[\"Player 1\"]\n",
    "\n",
    "        rank_index = ranking_comparator_index(row['Pl0_Rank'], row['Pl1_Rank'])\n",
    "        \n",
    "        if performance_df_absent:\n",
    "            pl0_form_index_last20, pl0_form_index_last7 = form_performance_index(df, pl0, row['Date'], (20,7))\n",
    "            pl1_form_index_last20, pl1_form_index_last7 = form_performance_index(df, pl1, row['Date'], (20,7))\n",
    "            form_performance_df_list.append(\n",
    "                {\"Date\":row['Date'],\"Pl0\":row['Player 0'],\"Pl1\":row['Player 1'], \"Pl0_last_7\":pl0_form_index_last7,\n",
    "                \"Pl0_last_20\":pl0_form_index_last20,\"Pl1_last_7\":pl1_form_index_last7,\"Pl1_last_20\":pl1_form_index_last20}\n",
    "            )\n",
    "        else:\n",
    "            match_row = form_performance_df[(form_performance_df['Date']==row['Date']) & (form_performance_df['Pl0']==pl0) & (form_performance_df['Pl1']==pl1)].iloc[0]\n",
    "            pl0_form_index_last20 = match_row['Pl0_last_20']\n",
    "            pl1_form_index_last20 = match_row['Pl1_last_20']\n",
    "            pl0_form_index_last7 = match_row['Pl0_last_7']\n",
    "            pl1_form_index_last7 = match_row['Pl1_last_7']\n",
    "\n",
    "        p0_bin = __get_bin__(row['Pl0_Rank'])\n",
    "        p1_bin = __get_bin__(row['Pl1_Rank'])\n",
    "        \n",
    "        pl0_against_opponent_bin = performance_opponents_dataframe[\n",
    "            (performance_opponents_dataframe[\"Player\"]==pl0) & (performance_opponents_dataframe[\"Min Bin\"]==p1_bin[0]) \n",
    "            & (performance_opponents_dataframe[\"Max Bin\"]==p1_bin[1])].iloc[0,3]\n",
    "        \n",
    "        pl1_against_opponent_bin = performance_opponents_dataframe[\n",
    "            (performance_opponents_dataframe[\"Player\"]==pl1) & (performance_opponents_dataframe[\"Min Bin\"]==p0_bin[0]) \n",
    "            & (performance_opponents_dataframe[\"Max Bin\"]==p0_bin[1])].iloc[0,3]\n",
    "\n",
    "        surface = _get_surface_by_row__(row)\n",
    "\n",
    "        h2h_index = calculate_h2h_index_before_date(df, pl0, pl1, row['Date'])\n",
    "        experience_index = expierence_index(df, pl0, pl1, row['Date'])\n",
    "        reliability_pl0 = reliability_index(df, pl0)\n",
    "        reliability_pl1 = reliability_index(df, pl1)\n",
    "        \n",
    "        new_features_df.at[ix, 'Rank Index'] = rank_index\n",
    "        new_features_df.at[ix, 'Pl0 Recent Form'] = pl0_form_index_last7\n",
    "        new_features_df.at[ix, 'Pl0 Form'] = pl0_form_index_last20\n",
    "        new_features_df.at[ix, 'Pl1 Recent Form']= pl1_form_index_last7\n",
    "        new_features_df.at[ix, 'Pl1 Form'] = pl1_form_index_last20\n",
    "        new_features_df.at[ix, 'Pl0 Perf. vs Similar Opponent'] = pl0_against_opponent_bin\n",
    "        new_features_df.at[ix, 'Pl1 Perf. vs Similar Opponent'] = pl1_against_opponent_bin\n",
    "        new_features_df.at[ix, 'Pl0 Surface Performance'] = surface_perf_df[(surface_perf_df[\"Player\"] == pl0) & (surface_perf_df[\"Surface\"] == surface)].iloc[0]['Performance']\n",
    "        new_features_df.at[ix, 'Pl1 Surface Performance'] = surface_perf_df[(surface_perf_df[\"Player\"] == pl1) & (surface_perf_df[\"Surface\"] == surface)].iloc[0]['Performance']\n",
    "        new_features_df.at[ix, 'H2H Index'] = h2h_index\n",
    "        new_features_df.at[ix, 'Exp Index'] = experience_index\n",
    "        new_features_df.at[ix, 'Reliability Pl0'] = reliability_pl0\n",
    "        new_features_df.at[ix, 'Reliability Pl1'] = reliability_pl1\n",
    "        \n",
    "    if performance_df_absent:\n",
    "        form_performance_df = pd.DataFrame(form_performance_df_list)\n",
    "        form_performance_df.to_csv(\"csv/Form_Performance.csv\", index=False)\n",
    "    \n",
    "    return new_features_df"
   ]
  },
  {
   "cell_type": "code",
   "execution_count": 48,
   "metadata": {},
   "outputs": [
    {
     "name": "stdout",
     "output_type": "stream",
     "text": [
      "Warn: file 'csv/Form_Performance.csv' not found. Creating it now...\n",
      "0 matches computed on total 32053\n",
      "5000 matches computed on total 32053\n",
      "10000 matches computed on total 32053\n",
      "15000 matches computed on total 32053\n",
      "20000 matches computed on total 32053\n",
      "25000 matches computed on total 32053\n",
      "30000 matches computed on total 32053\n",
      "--- 50 minutes ---\n"
     ]
    }
   ],
   "source": [
    "import time\n",
    "start_time = time.time()\n",
    "calculated_new_features = calculate_new_features(df)\n",
    "mins = round( (time.time() - start_time)/60 )\n",
    "print(\"--- {} minutes ---\".format(mins))"
   ]
  },
  {
   "cell_type": "code",
   "execution_count": 49,
   "metadata": {},
   "outputs": [
    {
     "data": {
      "text/plain": [
       "['Avg_Pl1',\n",
       " 'Avg_Pl0',\n",
       " 'B365_Pl1',\n",
       " 'B365_Pl0',\n",
       " 'Date',\n",
       " 'Pl1_Rank',\n",
       " 'Player 1',\n",
       " 'Max_Pl1',\n",
       " 'Max_Pl0',\n",
       " 'PS_Pl1',\n",
       " 'PS_Pl0',\n",
       " 'Pl0_Rank',\n",
       " 'Player 0',\n",
       " 'Won',\n",
       " 'Indoor',\n",
       " 'Outdoor',\n",
       " 'Carpet',\n",
       " 'Clay',\n",
       " 'Grass',\n",
       " 'Greenset',\n",
       " 'Hard',\n",
       " 'Grand Slam',\n",
       " 'International',\n",
       " 'Premier',\n",
       " 'Tour Championships',\n",
       " '1st Round',\n",
       " '2nd Round',\n",
       " '3rd Round',\n",
       " '4th Round',\n",
       " 'Quarterfinals',\n",
       " 'Round Robin',\n",
       " 'Semifinals',\n",
       " 'The Final',\n",
       " 'Third Place',\n",
       " 'Match Perf. Index Pl0',\n",
       " 'Match Perf. Index Pl1',\n",
       " 'Rank Index',\n",
       " 'Pl0 Recent Form',\n",
       " 'Pl0 Form',\n",
       " 'Pl1 Recent Form',\n",
       " 'Pl1 Form',\n",
       " 'Pl0 Perf. vs Similar Opponent',\n",
       " 'Pl1 Perf. vs Similar Opponent',\n",
       " 'Pl0 Surface Performance',\n",
       " 'Pl1 Surface Performance',\n",
       " 'H2H Index',\n",
       " 'Exp Index',\n",
       " 'Reliability Pl0',\n",
       " 'Reliability Pl1']"
      ]
     },
     "execution_count": 49,
     "metadata": {},
     "output_type": "execute_result"
    }
   ],
   "source": [
    "list(calculated_new_features.columns)"
   ]
  },
  {
   "cell_type": "code",
   "execution_count": 52,
   "metadata": {},
   "outputs": [],
   "source": [
    "new_features = calculated_new_features.copy()\n",
    "new_features = new_features[['Date', 'Player 0', 'Player 1', 'Won', 'Pl0_Rank', 'Pl1_Rank', 'Avg_Pl0', 'Avg_Pl1', 'Max_Pl1', 'Max_Pl0', \n",
    "         'PS_Pl0', 'PS_Pl1', 'B365_Pl0', 'B365_Pl1', 'Indoor', 'Outdoor', 'Carpet', 'Clay', 'Grass', 'Greenset', 'Hard', 'International', 'Premier',\n",
    "         'Tour Championships','Grand Slam', '1st Round', '2nd Round', '3rd Round', '4th Round', 'Third Place', 'Quarterfinals', 'Round Robin', 'Semifinals', 'The Final', 'Rank Index', 'Pl0 Recent Form', 'Pl0 Form', \n",
    "                     'Pl1 Recent Form', 'Pl1 Form', 'Pl0 Perf. vs Similar Opponent', 'Pl1 Perf. vs Similar Opponent', \n",
    "                     'Pl0 Surface Performance', 'Pl1 Surface Performance', 'H2H Index', 'Exp Index', 'Reliability Pl0', 'Reliability Pl1']]"
   ]
  },
  {
   "cell_type": "code",
   "execution_count": 54,
   "metadata": {},
   "outputs": [
    {
     "data": {
      "text/html": [
       "<div>\n",
       "<style scoped>\n",
       "    .dataframe tbody tr th:only-of-type {\n",
       "        vertical-align: middle;\n",
       "    }\n",
       "\n",
       "    .dataframe tbody tr th {\n",
       "        vertical-align: top;\n",
       "    }\n",
       "\n",
       "    .dataframe thead th {\n",
       "        text-align: right;\n",
       "    }\n",
       "</style>\n",
       "<table border=\"1\" class=\"dataframe\">\n",
       "  <thead>\n",
       "    <tr style=\"text-align: right;\">\n",
       "      <th></th>\n",
       "      <th>Date</th>\n",
       "      <th>Player 0</th>\n",
       "      <th>Player 1</th>\n",
       "      <th>Won</th>\n",
       "      <th>Pl0_Rank</th>\n",
       "      <th>Pl1_Rank</th>\n",
       "      <th>Avg_Pl0</th>\n",
       "      <th>Avg_Pl1</th>\n",
       "      <th>Max_Pl1</th>\n",
       "      <th>Max_Pl0</th>\n",
       "      <th>...</th>\n",
       "      <th>Pl1 Recent Form</th>\n",
       "      <th>Pl1 Form</th>\n",
       "      <th>Pl0 Perf. vs Similar Opponent</th>\n",
       "      <th>Pl1 Perf. vs Similar Opponent</th>\n",
       "      <th>Pl0 Surface Performance</th>\n",
       "      <th>Pl1 Surface Performance</th>\n",
       "      <th>H2H Index</th>\n",
       "      <th>Exp Index</th>\n",
       "      <th>Reliability Pl0</th>\n",
       "      <th>Reliability Pl1</th>\n",
       "    </tr>\n",
       "  </thead>\n",
       "  <tbody>\n",
       "    <tr>\n",
       "      <th>0</th>\n",
       "      <td>2007-01-01</td>\n",
       "      <td>Baker L.</td>\n",
       "      <td>Sun T.T.</td>\n",
       "      <td>1.0</td>\n",
       "      <td>272</td>\n",
       "      <td>81</td>\n",
       "      <td>NaN</td>\n",
       "      <td>NaN</td>\n",
       "      <td>NaN</td>\n",
       "      <td>NaN</td>\n",
       "      <td>...</td>\n",
       "      <td>0.0</td>\n",
       "      <td>0.0</td>\n",
       "      <td>0.00</td>\n",
       "      <td>1.00</td>\n",
       "      <td>0.00</td>\n",
       "      <td>0.18</td>\n",
       "      <td>0.0</td>\n",
       "      <td>0.0</td>\n",
       "      <td>1.000000</td>\n",
       "      <td>0.850000</td>\n",
       "    </tr>\n",
       "    <tr>\n",
       "      <th>1</th>\n",
       "      <td>2007-01-01</td>\n",
       "      <td>Dulko G.</td>\n",
       "      <td>Myskina A.</td>\n",
       "      <td>0.0</td>\n",
       "      <td>59</td>\n",
       "      <td>16</td>\n",
       "      <td>NaN</td>\n",
       "      <td>NaN</td>\n",
       "      <td>NaN</td>\n",
       "      <td>NaN</td>\n",
       "      <td>...</td>\n",
       "      <td>0.0</td>\n",
       "      <td>0.0</td>\n",
       "      <td>0.33</td>\n",
       "      <td>0.00</td>\n",
       "      <td>0.45</td>\n",
       "      <td>0.00</td>\n",
       "      <td>0.0</td>\n",
       "      <td>0.0</td>\n",
       "      <td>0.655502</td>\n",
       "      <td>0.500000</td>\n",
       "    </tr>\n",
       "    <tr>\n",
       "      <th>2</th>\n",
       "      <td>2007-01-01</td>\n",
       "      <td>Birnerova E.</td>\n",
       "      <td>Loit E.</td>\n",
       "      <td>1.0</td>\n",
       "      <td>84</td>\n",
       "      <td>56</td>\n",
       "      <td>NaN</td>\n",
       "      <td>NaN</td>\n",
       "      <td>NaN</td>\n",
       "      <td>NaN</td>\n",
       "      <td>...</td>\n",
       "      <td>0.0</td>\n",
       "      <td>0.0</td>\n",
       "      <td>0.33</td>\n",
       "      <td>0.46</td>\n",
       "      <td>0.40</td>\n",
       "      <td>0.37</td>\n",
       "      <td>0.0</td>\n",
       "      <td>0.0</td>\n",
       "      <td>0.660000</td>\n",
       "      <td>0.653333</td>\n",
       "    </tr>\n",
       "    <tr>\n",
       "      <th>3</th>\n",
       "      <td>2007-01-01</td>\n",
       "      <td>Craybas J.</td>\n",
       "      <td>Nakamura A.</td>\n",
       "      <td>0.0</td>\n",
       "      <td>70</td>\n",
       "      <td>57</td>\n",
       "      <td>NaN</td>\n",
       "      <td>NaN</td>\n",
       "      <td>NaN</td>\n",
       "      <td>NaN</td>\n",
       "      <td>...</td>\n",
       "      <td>0.0</td>\n",
       "      <td>0.0</td>\n",
       "      <td>0.39</td>\n",
       "      <td>0.32</td>\n",
       "      <td>0.37</td>\n",
       "      <td>0.29</td>\n",
       "      <td>0.0</td>\n",
       "      <td>0.0</td>\n",
       "      <td>0.720430</td>\n",
       "      <td>0.740741</td>\n",
       "    </tr>\n",
       "    <tr>\n",
       "      <th>4</th>\n",
       "      <td>2007-01-01</td>\n",
       "      <td>Morita A.</td>\n",
       "      <td>Bartoli M.</td>\n",
       "      <td>1.0</td>\n",
       "      <td>180</td>\n",
       "      <td>18</td>\n",
       "      <td>NaN</td>\n",
       "      <td>NaN</td>\n",
       "      <td>NaN</td>\n",
       "      <td>NaN</td>\n",
       "      <td>...</td>\n",
       "      <td>0.0</td>\n",
       "      <td>0.0</td>\n",
       "      <td>0.25</td>\n",
       "      <td>0.79</td>\n",
       "      <td>0.40</td>\n",
       "      <td>0.63</td>\n",
       "      <td>0.0</td>\n",
       "      <td>0.0</td>\n",
       "      <td>0.709184</td>\n",
       "      <td>0.658314</td>\n",
       "    </tr>\n",
       "  </tbody>\n",
       "</table>\n",
       "<p>5 rows × 47 columns</p>\n",
       "</div>"
      ],
      "text/plain": [
       "        Date      Player 0     Player 1  Won  Pl0_Rank  Pl1_Rank  Avg_Pl0  \\\n",
       "0 2007-01-01      Baker L.     Sun T.T.  1.0       272        81      NaN   \n",
       "1 2007-01-01      Dulko G.   Myskina A.  0.0        59        16      NaN   \n",
       "2 2007-01-01  Birnerova E.      Loit E.  1.0        84        56      NaN   \n",
       "3 2007-01-01    Craybas J.  Nakamura A.  0.0        70        57      NaN   \n",
       "4 2007-01-01     Morita A.   Bartoli M.  1.0       180        18      NaN   \n",
       "\n",
       "   Avg_Pl1  Max_Pl1  Max_Pl0  ...  Pl1 Recent Form  Pl1 Form  \\\n",
       "0      NaN      NaN      NaN  ...              0.0       0.0   \n",
       "1      NaN      NaN      NaN  ...              0.0       0.0   \n",
       "2      NaN      NaN      NaN  ...              0.0       0.0   \n",
       "3      NaN      NaN      NaN  ...              0.0       0.0   \n",
       "4      NaN      NaN      NaN  ...              0.0       0.0   \n",
       "\n",
       "   Pl0 Perf. vs Similar Opponent  Pl1 Perf. vs Similar Opponent  \\\n",
       "0                           0.00                           1.00   \n",
       "1                           0.33                           0.00   \n",
       "2                           0.33                           0.46   \n",
       "3                           0.39                           0.32   \n",
       "4                           0.25                           0.79   \n",
       "\n",
       "   Pl0 Surface Performance  Pl1 Surface Performance  H2H Index  Exp Index  \\\n",
       "0                     0.00                     0.18        0.0        0.0   \n",
       "1                     0.45                     0.00        0.0        0.0   \n",
       "2                     0.40                     0.37        0.0        0.0   \n",
       "3                     0.37                     0.29        0.0        0.0   \n",
       "4                     0.40                     0.63        0.0        0.0   \n",
       "\n",
       "   Reliability Pl0  Reliability Pl1  \n",
       "0         1.000000         0.850000  \n",
       "1         0.655502         0.500000  \n",
       "2         0.660000         0.653333  \n",
       "3         0.720430         0.740741  \n",
       "4         0.709184         0.658314  \n",
       "\n",
       "[5 rows x 47 columns]"
      ]
     },
     "execution_count": 54,
     "metadata": {},
     "output_type": "execute_result"
    }
   ],
   "source": [
    "new_features.head()"
   ]
  },
  {
   "cell_type": "code",
   "execution_count": 55,
   "metadata": {},
   "outputs": [],
   "source": [
    "new_features.to_csv(\"csv/FeatureCalculated_Data.csv\", index=False)"
   ]
  },
  {
   "cell_type": "markdown",
   "metadata": {},
   "source": [
    "# 4. Modeling"
   ]
  },
  {
   "cell_type": "code",
   "execution_count": 56,
   "metadata": {},
   "outputs": [],
   "source": [
    "df = pd.read_csv(\"csv/FeatureCalculated_Data.csv\")"
   ]
  },
  {
   "cell_type": "code",
   "execution_count": 57,
   "metadata": {},
   "outputs": [
    {
     "data": {
      "text/plain": [
       "(32053, 47)"
      ]
     },
     "execution_count": 57,
     "metadata": {},
     "output_type": "execute_result"
    }
   ],
   "source": [
    "df.shape"
   ]
  },
  {
   "cell_type": "code",
   "execution_count": 58,
   "metadata": {},
   "outputs": [
    {
     "data": {
      "text/html": [
       "<div>\n",
       "<style scoped>\n",
       "    .dataframe tbody tr th:only-of-type {\n",
       "        vertical-align: middle;\n",
       "    }\n",
       "\n",
       "    .dataframe tbody tr th {\n",
       "        vertical-align: top;\n",
       "    }\n",
       "\n",
       "    .dataframe thead th {\n",
       "        text-align: right;\n",
       "    }\n",
       "</style>\n",
       "<table border=\"1\" class=\"dataframe\">\n",
       "  <thead>\n",
       "    <tr style=\"text-align: right;\">\n",
       "      <th></th>\n",
       "      <th>Date</th>\n",
       "      <th>Player 0</th>\n",
       "      <th>Player 1</th>\n",
       "      <th>Won</th>\n",
       "      <th>Pl0_Rank</th>\n",
       "      <th>Pl1_Rank</th>\n",
       "      <th>Avg_Pl0</th>\n",
       "      <th>Avg_Pl1</th>\n",
       "      <th>Max_Pl1</th>\n",
       "      <th>Max_Pl0</th>\n",
       "      <th>...</th>\n",
       "      <th>Pl1 Recent Form</th>\n",
       "      <th>Pl1 Form</th>\n",
       "      <th>Pl0 Perf. vs Similar Opponent</th>\n",
       "      <th>Pl1 Perf. vs Similar Opponent</th>\n",
       "      <th>Pl0 Surface Performance</th>\n",
       "      <th>Pl1 Surface Performance</th>\n",
       "      <th>H2H Index</th>\n",
       "      <th>Exp Index</th>\n",
       "      <th>Reliability Pl0</th>\n",
       "      <th>Reliability Pl1</th>\n",
       "    </tr>\n",
       "  </thead>\n",
       "  <tbody>\n",
       "    <tr>\n",
       "      <th>0</th>\n",
       "      <td>2007-01-01</td>\n",
       "      <td>Baker L.</td>\n",
       "      <td>Sun T.T.</td>\n",
       "      <td>1.0</td>\n",
       "      <td>272</td>\n",
       "      <td>81</td>\n",
       "      <td>NaN</td>\n",
       "      <td>NaN</td>\n",
       "      <td>NaN</td>\n",
       "      <td>NaN</td>\n",
       "      <td>...</td>\n",
       "      <td>0.0</td>\n",
       "      <td>0.0</td>\n",
       "      <td>0.00</td>\n",
       "      <td>1.00</td>\n",
       "      <td>0.00</td>\n",
       "      <td>0.18</td>\n",
       "      <td>0.0</td>\n",
       "      <td>0.0</td>\n",
       "      <td>1.000000</td>\n",
       "      <td>0.850000</td>\n",
       "    </tr>\n",
       "    <tr>\n",
       "      <th>1</th>\n",
       "      <td>2007-01-01</td>\n",
       "      <td>Dulko G.</td>\n",
       "      <td>Myskina A.</td>\n",
       "      <td>0.0</td>\n",
       "      <td>59</td>\n",
       "      <td>16</td>\n",
       "      <td>NaN</td>\n",
       "      <td>NaN</td>\n",
       "      <td>NaN</td>\n",
       "      <td>NaN</td>\n",
       "      <td>...</td>\n",
       "      <td>0.0</td>\n",
       "      <td>0.0</td>\n",
       "      <td>0.33</td>\n",
       "      <td>0.00</td>\n",
       "      <td>0.45</td>\n",
       "      <td>0.00</td>\n",
       "      <td>0.0</td>\n",
       "      <td>0.0</td>\n",
       "      <td>0.655502</td>\n",
       "      <td>0.500000</td>\n",
       "    </tr>\n",
       "    <tr>\n",
       "      <th>2</th>\n",
       "      <td>2007-01-01</td>\n",
       "      <td>Birnerova E.</td>\n",
       "      <td>Loit E.</td>\n",
       "      <td>1.0</td>\n",
       "      <td>84</td>\n",
       "      <td>56</td>\n",
       "      <td>NaN</td>\n",
       "      <td>NaN</td>\n",
       "      <td>NaN</td>\n",
       "      <td>NaN</td>\n",
       "      <td>...</td>\n",
       "      <td>0.0</td>\n",
       "      <td>0.0</td>\n",
       "      <td>0.33</td>\n",
       "      <td>0.46</td>\n",
       "      <td>0.40</td>\n",
       "      <td>0.37</td>\n",
       "      <td>0.0</td>\n",
       "      <td>0.0</td>\n",
       "      <td>0.660000</td>\n",
       "      <td>0.653333</td>\n",
       "    </tr>\n",
       "    <tr>\n",
       "      <th>3</th>\n",
       "      <td>2007-01-01</td>\n",
       "      <td>Craybas J.</td>\n",
       "      <td>Nakamura A.</td>\n",
       "      <td>0.0</td>\n",
       "      <td>70</td>\n",
       "      <td>57</td>\n",
       "      <td>NaN</td>\n",
       "      <td>NaN</td>\n",
       "      <td>NaN</td>\n",
       "      <td>NaN</td>\n",
       "      <td>...</td>\n",
       "      <td>0.0</td>\n",
       "      <td>0.0</td>\n",
       "      <td>0.39</td>\n",
       "      <td>0.32</td>\n",
       "      <td>0.37</td>\n",
       "      <td>0.29</td>\n",
       "      <td>0.0</td>\n",
       "      <td>0.0</td>\n",
       "      <td>0.720430</td>\n",
       "      <td>0.740741</td>\n",
       "    </tr>\n",
       "    <tr>\n",
       "      <th>4</th>\n",
       "      <td>2007-01-01</td>\n",
       "      <td>Morita A.</td>\n",
       "      <td>Bartoli M.</td>\n",
       "      <td>1.0</td>\n",
       "      <td>180</td>\n",
       "      <td>18</td>\n",
       "      <td>NaN</td>\n",
       "      <td>NaN</td>\n",
       "      <td>NaN</td>\n",
       "      <td>NaN</td>\n",
       "      <td>...</td>\n",
       "      <td>0.0</td>\n",
       "      <td>0.0</td>\n",
       "      <td>0.25</td>\n",
       "      <td>0.79</td>\n",
       "      <td>0.40</td>\n",
       "      <td>0.63</td>\n",
       "      <td>0.0</td>\n",
       "      <td>0.0</td>\n",
       "      <td>0.709184</td>\n",
       "      <td>0.658314</td>\n",
       "    </tr>\n",
       "  </tbody>\n",
       "</table>\n",
       "<p>5 rows × 47 columns</p>\n",
       "</div>"
      ],
      "text/plain": [
       "         Date      Player 0     Player 1  Won  Pl0_Rank  Pl1_Rank  Avg_Pl0  \\\n",
       "0  2007-01-01      Baker L.     Sun T.T.  1.0       272        81      NaN   \n",
       "1  2007-01-01      Dulko G.   Myskina A.  0.0        59        16      NaN   \n",
       "2  2007-01-01  Birnerova E.      Loit E.  1.0        84        56      NaN   \n",
       "3  2007-01-01    Craybas J.  Nakamura A.  0.0        70        57      NaN   \n",
       "4  2007-01-01     Morita A.   Bartoli M.  1.0       180        18      NaN   \n",
       "\n",
       "   Avg_Pl1  Max_Pl1  Max_Pl0  ...  Pl1 Recent Form  Pl1 Form  \\\n",
       "0      NaN      NaN      NaN  ...              0.0       0.0   \n",
       "1      NaN      NaN      NaN  ...              0.0       0.0   \n",
       "2      NaN      NaN      NaN  ...              0.0       0.0   \n",
       "3      NaN      NaN      NaN  ...              0.0       0.0   \n",
       "4      NaN      NaN      NaN  ...              0.0       0.0   \n",
       "\n",
       "   Pl0 Perf. vs Similar Opponent  Pl1 Perf. vs Similar Opponent  \\\n",
       "0                           0.00                           1.00   \n",
       "1                           0.33                           0.00   \n",
       "2                           0.33                           0.46   \n",
       "3                           0.39                           0.32   \n",
       "4                           0.25                           0.79   \n",
       "\n",
       "   Pl0 Surface Performance  Pl1 Surface Performance  H2H Index  Exp Index  \\\n",
       "0                     0.00                     0.18        0.0        0.0   \n",
       "1                     0.45                     0.00        0.0        0.0   \n",
       "2                     0.40                     0.37        0.0        0.0   \n",
       "3                     0.37                     0.29        0.0        0.0   \n",
       "4                     0.40                     0.63        0.0        0.0   \n",
       "\n",
       "   Reliability Pl0  Reliability Pl1  \n",
       "0         1.000000         0.850000  \n",
       "1         0.655502         0.500000  \n",
       "2         0.660000         0.653333  \n",
       "3         0.720430         0.740741  \n",
       "4         0.709184         0.658314  \n",
       "\n",
       "[5 rows x 47 columns]"
      ]
     },
     "execution_count": 58,
     "metadata": {},
     "output_type": "execute_result"
    }
   ],
   "source": [
    "nobets_df = df.copy()\n",
    "nobets_df.head()"
   ]
  },
  {
   "cell_type": "code",
   "execution_count": 59,
   "metadata": {},
   "outputs": [
    {
     "data": {
      "text/plain": [
       "Index(['Date', 'Player 0', 'Player 1', 'Won', 'Pl0_Rank', 'Pl1_Rank',\n",
       "       'Avg_Pl0', 'Avg_Pl1', 'Max_Pl1', 'Max_Pl0', 'PS_Pl0', 'PS_Pl1',\n",
       "       'B365_Pl0', 'B365_Pl1', 'Indoor', 'Outdoor', 'Carpet', 'Clay', 'Grass',\n",
       "       'Greenset', 'Hard', 'International', 'Premier', 'Tour Championships',\n",
       "       'Grand Slam', '1st Round', '2nd Round', '3rd Round', '4th Round',\n",
       "       'Third Place', 'Quarterfinals', 'Round Robin', 'Semifinals',\n",
       "       'The Final', 'Rank Index', 'Pl0 Recent Form', 'Pl0 Form',\n",
       "       'Pl1 Recent Form', 'Pl1 Form', 'Pl0 Perf. vs Similar Opponent',\n",
       "       'Pl1 Perf. vs Similar Opponent', 'Pl0 Surface Performance',\n",
       "       'Pl1 Surface Performance', 'H2H Index', 'Exp Index', 'Reliability Pl0',\n",
       "       'Reliability Pl1'],\n",
       "      dtype='object')"
      ]
     },
     "execution_count": 59,
     "metadata": {},
     "output_type": "execute_result"
    }
   ],
   "source": [
    "nobets_df.columns"
   ]
  },
  {
   "cell_type": "code",
   "execution_count": 60,
   "metadata": {},
   "outputs": [],
   "source": [
    "inputs = nobets_df.iloc[:, 14:]\n",
    "targets = nobets_df.iloc[:, 3]"
   ]
  },
  {
   "cell_type": "code",
   "execution_count": 61,
   "metadata": {},
   "outputs": [],
   "source": [
    "from sklearn.model_selection import train_test_split\n",
    "\n",
    "x_train, x_test, y_train, y_test = train_test_split(inputs, targets, test_size=0.25, shuffle=False)"
   ]
  },
  {
   "cell_type": "code",
   "execution_count": 62,
   "metadata": {
    "scrolled": true
   },
   "outputs": [
    {
     "data": {
      "text/html": [
       "<div>\n",
       "<style scoped>\n",
       "    .dataframe tbody tr th:only-of-type {\n",
       "        vertical-align: middle;\n",
       "    }\n",
       "\n",
       "    .dataframe tbody tr th {\n",
       "        vertical-align: top;\n",
       "    }\n",
       "\n",
       "    .dataframe thead th {\n",
       "        text-align: right;\n",
       "    }\n",
       "</style>\n",
       "<table border=\"1\" class=\"dataframe\">\n",
       "  <thead>\n",
       "    <tr style=\"text-align: right;\">\n",
       "      <th></th>\n",
       "      <th>Indoor</th>\n",
       "      <th>Outdoor</th>\n",
       "      <th>Carpet</th>\n",
       "      <th>Clay</th>\n",
       "      <th>Grass</th>\n",
       "      <th>Greenset</th>\n",
       "      <th>Hard</th>\n",
       "      <th>International</th>\n",
       "      <th>Premier</th>\n",
       "      <th>Tour Championships</th>\n",
       "      <th>...</th>\n",
       "      <th>Pl1 Recent Form</th>\n",
       "      <th>Pl1 Form</th>\n",
       "      <th>Pl0 Perf. vs Similar Opponent</th>\n",
       "      <th>Pl1 Perf. vs Similar Opponent</th>\n",
       "      <th>Pl0 Surface Performance</th>\n",
       "      <th>Pl1 Surface Performance</th>\n",
       "      <th>H2H Index</th>\n",
       "      <th>Exp Index</th>\n",
       "      <th>Reliability Pl0</th>\n",
       "      <th>Reliability Pl1</th>\n",
       "    </tr>\n",
       "  </thead>\n",
       "  <tbody>\n",
       "    <tr>\n",
       "      <th>0</th>\n",
       "      <td>0</td>\n",
       "      <td>1</td>\n",
       "      <td>0</td>\n",
       "      <td>0</td>\n",
       "      <td>0</td>\n",
       "      <td>0</td>\n",
       "      <td>1</td>\n",
       "      <td>1</td>\n",
       "      <td>0</td>\n",
       "      <td>0</td>\n",
       "      <td>...</td>\n",
       "      <td>0.000</td>\n",
       "      <td>0.000</td>\n",
       "      <td>0.00</td>\n",
       "      <td>1.00</td>\n",
       "      <td>0.00</td>\n",
       "      <td>0.18</td>\n",
       "      <td>0.00000</td>\n",
       "      <td>0.000000</td>\n",
       "      <td>1.000000</td>\n",
       "      <td>0.850000</td>\n",
       "    </tr>\n",
       "    <tr>\n",
       "      <th>1</th>\n",
       "      <td>0</td>\n",
       "      <td>1</td>\n",
       "      <td>0</td>\n",
       "      <td>0</td>\n",
       "      <td>0</td>\n",
       "      <td>0</td>\n",
       "      <td>1</td>\n",
       "      <td>1</td>\n",
       "      <td>0</td>\n",
       "      <td>0</td>\n",
       "      <td>...</td>\n",
       "      <td>0.000</td>\n",
       "      <td>0.000</td>\n",
       "      <td>0.33</td>\n",
       "      <td>0.00</td>\n",
       "      <td>0.45</td>\n",
       "      <td>0.00</td>\n",
       "      <td>0.00000</td>\n",
       "      <td>0.000000</td>\n",
       "      <td>0.655502</td>\n",
       "      <td>0.500000</td>\n",
       "    </tr>\n",
       "    <tr>\n",
       "      <th>2</th>\n",
       "      <td>0</td>\n",
       "      <td>1</td>\n",
       "      <td>0</td>\n",
       "      <td>0</td>\n",
       "      <td>0</td>\n",
       "      <td>0</td>\n",
       "      <td>1</td>\n",
       "      <td>1</td>\n",
       "      <td>0</td>\n",
       "      <td>0</td>\n",
       "      <td>...</td>\n",
       "      <td>0.000</td>\n",
       "      <td>0.000</td>\n",
       "      <td>0.33</td>\n",
       "      <td>0.46</td>\n",
       "      <td>0.40</td>\n",
       "      <td>0.37</td>\n",
       "      <td>0.00000</td>\n",
       "      <td>0.000000</td>\n",
       "      <td>0.660000</td>\n",
       "      <td>0.653333</td>\n",
       "    </tr>\n",
       "    <tr>\n",
       "      <th>3</th>\n",
       "      <td>0</td>\n",
       "      <td>1</td>\n",
       "      <td>0</td>\n",
       "      <td>0</td>\n",
       "      <td>0</td>\n",
       "      <td>0</td>\n",
       "      <td>1</td>\n",
       "      <td>1</td>\n",
       "      <td>0</td>\n",
       "      <td>0</td>\n",
       "      <td>...</td>\n",
       "      <td>0.000</td>\n",
       "      <td>0.000</td>\n",
       "      <td>0.39</td>\n",
       "      <td>0.32</td>\n",
       "      <td>0.37</td>\n",
       "      <td>0.29</td>\n",
       "      <td>0.00000</td>\n",
       "      <td>0.000000</td>\n",
       "      <td>0.720430</td>\n",
       "      <td>0.740741</td>\n",
       "    </tr>\n",
       "    <tr>\n",
       "      <th>4</th>\n",
       "      <td>0</td>\n",
       "      <td>1</td>\n",
       "      <td>0</td>\n",
       "      <td>0</td>\n",
       "      <td>0</td>\n",
       "      <td>0</td>\n",
       "      <td>1</td>\n",
       "      <td>1</td>\n",
       "      <td>0</td>\n",
       "      <td>0</td>\n",
       "      <td>...</td>\n",
       "      <td>0.000</td>\n",
       "      <td>0.000</td>\n",
       "      <td>0.25</td>\n",
       "      <td>0.79</td>\n",
       "      <td>0.40</td>\n",
       "      <td>0.63</td>\n",
       "      <td>0.00000</td>\n",
       "      <td>0.000000</td>\n",
       "      <td>0.709184</td>\n",
       "      <td>0.658314</td>\n",
       "    </tr>\n",
       "    <tr>\n",
       "      <th>...</th>\n",
       "      <td>...</td>\n",
       "      <td>...</td>\n",
       "      <td>...</td>\n",
       "      <td>...</td>\n",
       "      <td>...</td>\n",
       "      <td>...</td>\n",
       "      <td>...</td>\n",
       "      <td>...</td>\n",
       "      <td>...</td>\n",
       "      <td>...</td>\n",
       "      <td>...</td>\n",
       "      <td>...</td>\n",
       "      <td>...</td>\n",
       "      <td>...</td>\n",
       "      <td>...</td>\n",
       "      <td>...</td>\n",
       "      <td>...</td>\n",
       "      <td>...</td>\n",
       "      <td>...</td>\n",
       "      <td>...</td>\n",
       "      <td>...</td>\n",
       "    </tr>\n",
       "    <tr>\n",
       "      <th>24034</th>\n",
       "      <td>0</td>\n",
       "      <td>1</td>\n",
       "      <td>0</td>\n",
       "      <td>0</td>\n",
       "      <td>0</td>\n",
       "      <td>0</td>\n",
       "      <td>1</td>\n",
       "      <td>0</td>\n",
       "      <td>0</td>\n",
       "      <td>0</td>\n",
       "      <td>...</td>\n",
       "      <td>0.235</td>\n",
       "      <td>0.365</td>\n",
       "      <td>0.59</td>\n",
       "      <td>0.59</td>\n",
       "      <td>0.52</td>\n",
       "      <td>0.41</td>\n",
       "      <td>0.00000</td>\n",
       "      <td>-0.192513</td>\n",
       "      <td>0.672862</td>\n",
       "      <td>0.686275</td>\n",
       "    </tr>\n",
       "    <tr>\n",
       "      <th>24035</th>\n",
       "      <td>0</td>\n",
       "      <td>1</td>\n",
       "      <td>0</td>\n",
       "      <td>0</td>\n",
       "      <td>0</td>\n",
       "      <td>0</td>\n",
       "      <td>1</td>\n",
       "      <td>0</td>\n",
       "      <td>0</td>\n",
       "      <td>0</td>\n",
       "      <td>...</td>\n",
       "      <td>0.470</td>\n",
       "      <td>0.555</td>\n",
       "      <td>0.44</td>\n",
       "      <td>0.61</td>\n",
       "      <td>0.50</td>\n",
       "      <td>0.55</td>\n",
       "      <td>-0.23438</td>\n",
       "      <td>0.564304</td>\n",
       "      <td>0.664865</td>\n",
       "      <td>0.646552</td>\n",
       "    </tr>\n",
       "    <tr>\n",
       "      <th>24036</th>\n",
       "      <td>0</td>\n",
       "      <td>1</td>\n",
       "      <td>0</td>\n",
       "      <td>0</td>\n",
       "      <td>0</td>\n",
       "      <td>0</td>\n",
       "      <td>1</td>\n",
       "      <td>0</td>\n",
       "      <td>0</td>\n",
       "      <td>0</td>\n",
       "      <td>...</td>\n",
       "      <td>0.475</td>\n",
       "      <td>0.450</td>\n",
       "      <td>0.00</td>\n",
       "      <td>0.75</td>\n",
       "      <td>0.35</td>\n",
       "      <td>0.66</td>\n",
       "      <td>0.00000</td>\n",
       "      <td>-0.387324</td>\n",
       "      <td>0.746154</td>\n",
       "      <td>0.683673</td>\n",
       "    </tr>\n",
       "    <tr>\n",
       "      <th>24037</th>\n",
       "      <td>0</td>\n",
       "      <td>1</td>\n",
       "      <td>0</td>\n",
       "      <td>0</td>\n",
       "      <td>0</td>\n",
       "      <td>0</td>\n",
       "      <td>1</td>\n",
       "      <td>0</td>\n",
       "      <td>0</td>\n",
       "      <td>0</td>\n",
       "      <td>...</td>\n",
       "      <td>0.340</td>\n",
       "      <td>0.360</td>\n",
       "      <td>0.67</td>\n",
       "      <td>0.71</td>\n",
       "      <td>0.36</td>\n",
       "      <td>0.40</td>\n",
       "      <td>0.00000</td>\n",
       "      <td>-0.980952</td>\n",
       "      <td>0.833333</td>\n",
       "      <td>0.714286</td>\n",
       "    </tr>\n",
       "    <tr>\n",
       "      <th>24038</th>\n",
       "      <td>0</td>\n",
       "      <td>1</td>\n",
       "      <td>0</td>\n",
       "      <td>0</td>\n",
       "      <td>0</td>\n",
       "      <td>0</td>\n",
       "      <td>1</td>\n",
       "      <td>0</td>\n",
       "      <td>0</td>\n",
       "      <td>0</td>\n",
       "      <td>...</td>\n",
       "      <td>0.560</td>\n",
       "      <td>0.545</td>\n",
       "      <td>0.33</td>\n",
       "      <td>0.74</td>\n",
       "      <td>0.43</td>\n",
       "      <td>0.62</td>\n",
       "      <td>0.00000</td>\n",
       "      <td>0.323420</td>\n",
       "      <td>0.670051</td>\n",
       "      <td>0.642570</td>\n",
       "    </tr>\n",
       "  </tbody>\n",
       "</table>\n",
       "<p>24039 rows × 33 columns</p>\n",
       "</div>"
      ],
      "text/plain": [
       "       Indoor  Outdoor  Carpet  Clay  Grass  Greenset  Hard  International  \\\n",
       "0           0        1       0     0      0         0     1              1   \n",
       "1           0        1       0     0      0         0     1              1   \n",
       "2           0        1       0     0      0         0     1              1   \n",
       "3           0        1       0     0      0         0     1              1   \n",
       "4           0        1       0     0      0         0     1              1   \n",
       "...       ...      ...     ...   ...    ...       ...   ...            ...   \n",
       "24034       0        1       0     0      0         0     1              0   \n",
       "24035       0        1       0     0      0         0     1              0   \n",
       "24036       0        1       0     0      0         0     1              0   \n",
       "24037       0        1       0     0      0         0     1              0   \n",
       "24038       0        1       0     0      0         0     1              0   \n",
       "\n",
       "       Premier  Tour Championships  ...  Pl1 Recent Form  Pl1 Form  \\\n",
       "0            0                   0  ...            0.000     0.000   \n",
       "1            0                   0  ...            0.000     0.000   \n",
       "2            0                   0  ...            0.000     0.000   \n",
       "3            0                   0  ...            0.000     0.000   \n",
       "4            0                   0  ...            0.000     0.000   \n",
       "...        ...                 ...  ...              ...       ...   \n",
       "24034        0                   0  ...            0.235     0.365   \n",
       "24035        0                   0  ...            0.470     0.555   \n",
       "24036        0                   0  ...            0.475     0.450   \n",
       "24037        0                   0  ...            0.340     0.360   \n",
       "24038        0                   0  ...            0.560     0.545   \n",
       "\n",
       "       Pl0 Perf. vs Similar Opponent  Pl1 Perf. vs Similar Opponent  \\\n",
       "0                               0.00                           1.00   \n",
       "1                               0.33                           0.00   \n",
       "2                               0.33                           0.46   \n",
       "3                               0.39                           0.32   \n",
       "4                               0.25                           0.79   \n",
       "...                              ...                            ...   \n",
       "24034                           0.59                           0.59   \n",
       "24035                           0.44                           0.61   \n",
       "24036                           0.00                           0.75   \n",
       "24037                           0.67                           0.71   \n",
       "24038                           0.33                           0.74   \n",
       "\n",
       "       Pl0 Surface Performance  Pl1 Surface Performance  H2H Index  Exp Index  \\\n",
       "0                         0.00                     0.18    0.00000   0.000000   \n",
       "1                         0.45                     0.00    0.00000   0.000000   \n",
       "2                         0.40                     0.37    0.00000   0.000000   \n",
       "3                         0.37                     0.29    0.00000   0.000000   \n",
       "4                         0.40                     0.63    0.00000   0.000000   \n",
       "...                        ...                      ...        ...        ...   \n",
       "24034                     0.52                     0.41    0.00000  -0.192513   \n",
       "24035                     0.50                     0.55   -0.23438   0.564304   \n",
       "24036                     0.35                     0.66    0.00000  -0.387324   \n",
       "24037                     0.36                     0.40    0.00000  -0.980952   \n",
       "24038                     0.43                     0.62    0.00000   0.323420   \n",
       "\n",
       "       Reliability Pl0  Reliability Pl1  \n",
       "0             1.000000         0.850000  \n",
       "1             0.655502         0.500000  \n",
       "2             0.660000         0.653333  \n",
       "3             0.720430         0.740741  \n",
       "4             0.709184         0.658314  \n",
       "...                ...              ...  \n",
       "24034         0.672862         0.686275  \n",
       "24035         0.664865         0.646552  \n",
       "24036         0.746154         0.683673  \n",
       "24037         0.833333         0.714286  \n",
       "24038         0.670051         0.642570  \n",
       "\n",
       "[24039 rows x 33 columns]"
      ]
     },
     "execution_count": 62,
     "metadata": {},
     "output_type": "execute_result"
    }
   ],
   "source": [
    "x_train"
   ]
  },
  {
   "cell_type": "code",
   "execution_count": 63,
   "metadata": {},
   "outputs": [
    {
     "data": {
      "text/html": [
       "<div>\n",
       "<style scoped>\n",
       "    .dataframe tbody tr th:only-of-type {\n",
       "        vertical-align: middle;\n",
       "    }\n",
       "\n",
       "    .dataframe tbody tr th {\n",
       "        vertical-align: top;\n",
       "    }\n",
       "\n",
       "    .dataframe thead th {\n",
       "        text-align: right;\n",
       "    }\n",
       "</style>\n",
       "<table border=\"1\" class=\"dataframe\">\n",
       "  <thead>\n",
       "    <tr style=\"text-align: right;\">\n",
       "      <th></th>\n",
       "      <th>Date</th>\n",
       "      <th>Player 0</th>\n",
       "      <th>Player 1</th>\n",
       "      <th>Won</th>\n",
       "      <th>Pl0_Rank</th>\n",
       "      <th>Pl1_Rank</th>\n",
       "      <th>Avg_Pl0</th>\n",
       "      <th>Avg_Pl1</th>\n",
       "      <th>Max_Pl1</th>\n",
       "      <th>Max_Pl0</th>\n",
       "      <th>...</th>\n",
       "      <th>Pl1 Recent Form</th>\n",
       "      <th>Pl1 Form</th>\n",
       "      <th>Pl0 Perf. vs Similar Opponent</th>\n",
       "      <th>Pl1 Perf. vs Similar Opponent</th>\n",
       "      <th>Pl0 Surface Performance</th>\n",
       "      <th>Pl1 Surface Performance</th>\n",
       "      <th>H2H Index</th>\n",
       "      <th>Exp Index</th>\n",
       "      <th>Reliability Pl0</th>\n",
       "      <th>Reliability Pl1</th>\n",
       "    </tr>\n",
       "  </thead>\n",
       "  <tbody>\n",
       "    <tr>\n",
       "      <th>0</th>\n",
       "      <td>2007-01-01</td>\n",
       "      <td>Baker L.</td>\n",
       "      <td>Sun T.T.</td>\n",
       "      <td>1.0</td>\n",
       "      <td>272</td>\n",
       "      <td>81</td>\n",
       "      <td>NaN</td>\n",
       "      <td>NaN</td>\n",
       "      <td>NaN</td>\n",
       "      <td>NaN</td>\n",
       "      <td>...</td>\n",
       "      <td>0.000</td>\n",
       "      <td>0.000</td>\n",
       "      <td>0.00</td>\n",
       "      <td>1.00</td>\n",
       "      <td>0.00</td>\n",
       "      <td>0.18</td>\n",
       "      <td>0.00000</td>\n",
       "      <td>0.000000</td>\n",
       "      <td>1.000000</td>\n",
       "      <td>0.850000</td>\n",
       "    </tr>\n",
       "    <tr>\n",
       "      <th>1</th>\n",
       "      <td>2007-01-01</td>\n",
       "      <td>Dulko G.</td>\n",
       "      <td>Myskina A.</td>\n",
       "      <td>0.0</td>\n",
       "      <td>59</td>\n",
       "      <td>16</td>\n",
       "      <td>NaN</td>\n",
       "      <td>NaN</td>\n",
       "      <td>NaN</td>\n",
       "      <td>NaN</td>\n",
       "      <td>...</td>\n",
       "      <td>0.000</td>\n",
       "      <td>0.000</td>\n",
       "      <td>0.33</td>\n",
       "      <td>0.00</td>\n",
       "      <td>0.45</td>\n",
       "      <td>0.00</td>\n",
       "      <td>0.00000</td>\n",
       "      <td>0.000000</td>\n",
       "      <td>0.655502</td>\n",
       "      <td>0.500000</td>\n",
       "    </tr>\n",
       "    <tr>\n",
       "      <th>2</th>\n",
       "      <td>2007-01-01</td>\n",
       "      <td>Birnerova E.</td>\n",
       "      <td>Loit E.</td>\n",
       "      <td>1.0</td>\n",
       "      <td>84</td>\n",
       "      <td>56</td>\n",
       "      <td>NaN</td>\n",
       "      <td>NaN</td>\n",
       "      <td>NaN</td>\n",
       "      <td>NaN</td>\n",
       "      <td>...</td>\n",
       "      <td>0.000</td>\n",
       "      <td>0.000</td>\n",
       "      <td>0.33</td>\n",
       "      <td>0.46</td>\n",
       "      <td>0.40</td>\n",
       "      <td>0.37</td>\n",
       "      <td>0.00000</td>\n",
       "      <td>0.000000</td>\n",
       "      <td>0.660000</td>\n",
       "      <td>0.653333</td>\n",
       "    </tr>\n",
       "    <tr>\n",
       "      <th>3</th>\n",
       "      <td>2007-01-01</td>\n",
       "      <td>Craybas J.</td>\n",
       "      <td>Nakamura A.</td>\n",
       "      <td>0.0</td>\n",
       "      <td>70</td>\n",
       "      <td>57</td>\n",
       "      <td>NaN</td>\n",
       "      <td>NaN</td>\n",
       "      <td>NaN</td>\n",
       "      <td>NaN</td>\n",
       "      <td>...</td>\n",
       "      <td>0.000</td>\n",
       "      <td>0.000</td>\n",
       "      <td>0.39</td>\n",
       "      <td>0.32</td>\n",
       "      <td>0.37</td>\n",
       "      <td>0.29</td>\n",
       "      <td>0.00000</td>\n",
       "      <td>0.000000</td>\n",
       "      <td>0.720430</td>\n",
       "      <td>0.740741</td>\n",
       "    </tr>\n",
       "    <tr>\n",
       "      <th>4</th>\n",
       "      <td>2007-01-01</td>\n",
       "      <td>Morita A.</td>\n",
       "      <td>Bartoli M.</td>\n",
       "      <td>1.0</td>\n",
       "      <td>180</td>\n",
       "      <td>18</td>\n",
       "      <td>NaN</td>\n",
       "      <td>NaN</td>\n",
       "      <td>NaN</td>\n",
       "      <td>NaN</td>\n",
       "      <td>...</td>\n",
       "      <td>0.000</td>\n",
       "      <td>0.000</td>\n",
       "      <td>0.25</td>\n",
       "      <td>0.79</td>\n",
       "      <td>0.40</td>\n",
       "      <td>0.63</td>\n",
       "      <td>0.00000</td>\n",
       "      <td>0.000000</td>\n",
       "      <td>0.709184</td>\n",
       "      <td>0.658314</td>\n",
       "    </tr>\n",
       "    <tr>\n",
       "      <th>...</th>\n",
       "      <td>...</td>\n",
       "      <td>...</td>\n",
       "      <td>...</td>\n",
       "      <td>...</td>\n",
       "      <td>...</td>\n",
       "      <td>...</td>\n",
       "      <td>...</td>\n",
       "      <td>...</td>\n",
       "      <td>...</td>\n",
       "      <td>...</td>\n",
       "      <td>...</td>\n",
       "      <td>...</td>\n",
       "      <td>...</td>\n",
       "      <td>...</td>\n",
       "      <td>...</td>\n",
       "      <td>...</td>\n",
       "      <td>...</td>\n",
       "      <td>...</td>\n",
       "      <td>...</td>\n",
       "      <td>...</td>\n",
       "      <td>...</td>\n",
       "    </tr>\n",
       "    <tr>\n",
       "      <th>24033</th>\n",
       "      <td>2016-08-29</td>\n",
       "      <td>Davis L.</td>\n",
       "      <td>Sasnovich A.</td>\n",
       "      <td>0.0</td>\n",
       "      <td>105</td>\n",
       "      <td>107</td>\n",
       "      <td>1.63</td>\n",
       "      <td>2.24</td>\n",
       "      <td>2.30</td>\n",
       "      <td>1.70</td>\n",
       "      <td>...</td>\n",
       "      <td>0.230</td>\n",
       "      <td>0.280</td>\n",
       "      <td>0.71</td>\n",
       "      <td>0.58</td>\n",
       "      <td>0.48</td>\n",
       "      <td>0.50</td>\n",
       "      <td>0.00000</td>\n",
       "      <td>0.627329</td>\n",
       "      <td>0.624390</td>\n",
       "      <td>0.666667</td>\n",
       "    </tr>\n",
       "    <tr>\n",
       "      <th>24034</th>\n",
       "      <td>2016-08-29</td>\n",
       "      <td>Hsieh S.W.</td>\n",
       "      <td>Bondarenko K.</td>\n",
       "      <td>1.0</td>\n",
       "      <td>79</td>\n",
       "      <td>59</td>\n",
       "      <td>3.08</td>\n",
       "      <td>1.36</td>\n",
       "      <td>1.41</td>\n",
       "      <td>3.25</td>\n",
       "      <td>...</td>\n",
       "      <td>0.235</td>\n",
       "      <td>0.365</td>\n",
       "      <td>0.59</td>\n",
       "      <td>0.59</td>\n",
       "      <td>0.52</td>\n",
       "      <td>0.41</td>\n",
       "      <td>0.00000</td>\n",
       "      <td>-0.192513</td>\n",
       "      <td>0.672862</td>\n",
       "      <td>0.686275</td>\n",
       "    </tr>\n",
       "    <tr>\n",
       "      <th>24035</th>\n",
       "      <td>2016-08-29</td>\n",
       "      <td>Niculescu M.</td>\n",
       "      <td>Strycova B.</td>\n",
       "      <td>0.0</td>\n",
       "      <td>58</td>\n",
       "      <td>21</td>\n",
       "      <td>3.40</td>\n",
       "      <td>1.31</td>\n",
       "      <td>1.35</td>\n",
       "      <td>3.55</td>\n",
       "      <td>...</td>\n",
       "      <td>0.470</td>\n",
       "      <td>0.555</td>\n",
       "      <td>0.44</td>\n",
       "      <td>0.61</td>\n",
       "      <td>0.50</td>\n",
       "      <td>0.55</td>\n",
       "      <td>-0.23438</td>\n",
       "      <td>0.564304</td>\n",
       "      <td>0.664865</td>\n",
       "      <td>0.646552</td>\n",
       "    </tr>\n",
       "    <tr>\n",
       "      <th>24036</th>\n",
       "      <td>2016-08-30</td>\n",
       "      <td>Minella M.</td>\n",
       "      <td>Svitolina E.</td>\n",
       "      <td>1.0</td>\n",
       "      <td>110</td>\n",
       "      <td>19</td>\n",
       "      <td>6.84</td>\n",
       "      <td>1.10</td>\n",
       "      <td>1.12</td>\n",
       "      <td>8.36</td>\n",
       "      <td>...</td>\n",
       "      <td>0.475</td>\n",
       "      <td>0.450</td>\n",
       "      <td>0.00</td>\n",
       "      <td>0.75</td>\n",
       "      <td>0.35</td>\n",
       "      <td>0.66</td>\n",
       "      <td>0.00000</td>\n",
       "      <td>-0.387324</td>\n",
       "      <td>0.746154</td>\n",
       "      <td>0.683673</td>\n",
       "    </tr>\n",
       "    <tr>\n",
       "      <th>24037</th>\n",
       "      <td>2016-08-30</td>\n",
       "      <td>Day K.</td>\n",
       "      <td>Brengle M.</td>\n",
       "      <td>0.0</td>\n",
       "      <td>374</td>\n",
       "      <td>50</td>\n",
       "      <td>4.48</td>\n",
       "      <td>1.20</td>\n",
       "      <td>1.23</td>\n",
       "      <td>4.85</td>\n",
       "      <td>...</td>\n",
       "      <td>0.340</td>\n",
       "      <td>0.360</td>\n",
       "      <td>0.67</td>\n",
       "      <td>0.71</td>\n",
       "      <td>0.36</td>\n",
       "      <td>0.40</td>\n",
       "      <td>0.00000</td>\n",
       "      <td>-0.980952</td>\n",
       "      <td>0.833333</td>\n",
       "      <td>0.714286</td>\n",
       "    </tr>\n",
       "  </tbody>\n",
       "</table>\n",
       "<p>24038 rows × 47 columns</p>\n",
       "</div>"
      ],
      "text/plain": [
       "             Date      Player 0       Player 1  Won  Pl0_Rank  Pl1_Rank  \\\n",
       "0      2007-01-01      Baker L.       Sun T.T.  1.0       272        81   \n",
       "1      2007-01-01      Dulko G.     Myskina A.  0.0        59        16   \n",
       "2      2007-01-01  Birnerova E.        Loit E.  1.0        84        56   \n",
       "3      2007-01-01    Craybas J.    Nakamura A.  0.0        70        57   \n",
       "4      2007-01-01     Morita A.     Bartoli M.  1.0       180        18   \n",
       "...           ...           ...            ...  ...       ...       ...   \n",
       "24033  2016-08-29      Davis L.   Sasnovich A.  0.0       105       107   \n",
       "24034  2016-08-29    Hsieh S.W.  Bondarenko K.  1.0        79        59   \n",
       "24035  2016-08-29  Niculescu M.    Strycova B.  0.0        58        21   \n",
       "24036  2016-08-30    Minella M.   Svitolina E.  1.0       110        19   \n",
       "24037  2016-08-30        Day K.     Brengle M.  0.0       374        50   \n",
       "\n",
       "       Avg_Pl0  Avg_Pl1  Max_Pl1  Max_Pl0  ...  Pl1 Recent Form  Pl1 Form  \\\n",
       "0          NaN      NaN      NaN      NaN  ...            0.000     0.000   \n",
       "1          NaN      NaN      NaN      NaN  ...            0.000     0.000   \n",
       "2          NaN      NaN      NaN      NaN  ...            0.000     0.000   \n",
       "3          NaN      NaN      NaN      NaN  ...            0.000     0.000   \n",
       "4          NaN      NaN      NaN      NaN  ...            0.000     0.000   \n",
       "...        ...      ...      ...      ...  ...              ...       ...   \n",
       "24033     1.63     2.24     2.30     1.70  ...            0.230     0.280   \n",
       "24034     3.08     1.36     1.41     3.25  ...            0.235     0.365   \n",
       "24035     3.40     1.31     1.35     3.55  ...            0.470     0.555   \n",
       "24036     6.84     1.10     1.12     8.36  ...            0.475     0.450   \n",
       "24037     4.48     1.20     1.23     4.85  ...            0.340     0.360   \n",
       "\n",
       "       Pl0 Perf. vs Similar Opponent  Pl1 Perf. vs Similar Opponent  \\\n",
       "0                               0.00                           1.00   \n",
       "1                               0.33                           0.00   \n",
       "2                               0.33                           0.46   \n",
       "3                               0.39                           0.32   \n",
       "4                               0.25                           0.79   \n",
       "...                              ...                            ...   \n",
       "24033                           0.71                           0.58   \n",
       "24034                           0.59                           0.59   \n",
       "24035                           0.44                           0.61   \n",
       "24036                           0.00                           0.75   \n",
       "24037                           0.67                           0.71   \n",
       "\n",
       "       Pl0 Surface Performance  Pl1 Surface Performance  H2H Index  Exp Index  \\\n",
       "0                         0.00                     0.18    0.00000   0.000000   \n",
       "1                         0.45                     0.00    0.00000   0.000000   \n",
       "2                         0.40                     0.37    0.00000   0.000000   \n",
       "3                         0.37                     0.29    0.00000   0.000000   \n",
       "4                         0.40                     0.63    0.00000   0.000000   \n",
       "...                        ...                      ...        ...        ...   \n",
       "24033                     0.48                     0.50    0.00000   0.627329   \n",
       "24034                     0.52                     0.41    0.00000  -0.192513   \n",
       "24035                     0.50                     0.55   -0.23438   0.564304   \n",
       "24036                     0.35                     0.66    0.00000  -0.387324   \n",
       "24037                     0.36                     0.40    0.00000  -0.980952   \n",
       "\n",
       "       Reliability Pl0  Reliability Pl1  \n",
       "0             1.000000         0.850000  \n",
       "1             0.655502         0.500000  \n",
       "2             0.660000         0.653333  \n",
       "3             0.720430         0.740741  \n",
       "4             0.709184         0.658314  \n",
       "...                ...              ...  \n",
       "24033         0.624390         0.666667  \n",
       "24034         0.672862         0.686275  \n",
       "24035         0.664865         0.646552  \n",
       "24036         0.746154         0.683673  \n",
       "24037         0.833333         0.714286  \n",
       "\n",
       "[24038 rows x 47 columns]"
      ]
     },
     "execution_count": 63,
     "metadata": {},
     "output_type": "execute_result"
    }
   ],
   "source": [
    "nobets_df.iloc[:24038,:]"
   ]
  },
  {
   "cell_type": "code",
   "execution_count": 64,
   "metadata": {},
   "outputs": [
    {
     "name": "stderr",
     "output_type": "stream",
     "text": [
      "[Parallel(n_jobs=1)]: Using backend SequentialBackend with 1 concurrent workers.\n",
      "[Parallel(n_jobs=1)]: Done   1 out of   1 | elapsed:    0.4s remaining:    0.0s\n",
      "[Parallel(n_jobs=1)]: Done   1 out of   1 | elapsed:    0.4s finished\n"
     ]
    },
    {
     "data": {
      "text/plain": [
       "LogisticRegression(C=1.0, class_weight=None, dual=False, fit_intercept=True,\n",
       "                   intercept_scaling=1, l1_ratio=None, max_iter=10000,\n",
       "                   multi_class='auto', n_jobs=None, penalty='l2',\n",
       "                   random_state=None, solver='lbfgs', tol=0.0001, verbose=2,\n",
       "                   warm_start=False)"
      ]
     },
     "execution_count": 64,
     "metadata": {},
     "output_type": "execute_result"
    }
   ],
   "source": [
    "from sklearn.linear_model import LogisticRegression\n",
    "\n",
    "lreg = LogisticRegression(max_iter=10000, verbose=2)\n",
    "lreg.fit(x_train,y_train)"
   ]
  },
  {
   "cell_type": "code",
   "execution_count": 65,
   "metadata": {},
   "outputs": [
    {
     "name": "stdout",
     "output_type": "stream",
     "text": [
      "0.7050162216121787\n"
     ]
    }
   ],
   "source": [
    "score = lreg.score(x_test, y_test)\n",
    "print(score)"
   ]
  },
  {
   "cell_type": "code",
   "execution_count": 66,
   "metadata": {},
   "outputs": [
    {
     "name": "stderr",
     "output_type": "stream",
     "text": [
      "Using TensorFlow backend.\n"
     ]
    }
   ],
   "source": [
    "from keras.models import Sequential\n",
    "from keras.layers import Dense"
   ]
  },
  {
   "cell_type": "code",
   "execution_count": 67,
   "metadata": {},
   "outputs": [],
   "source": [
    "targets_for_nn = pd.DataFrame()\n",
    "for items in targets.iteritems():\n",
    "    ix = items[0]\n",
    "    winner = items[1]\n",
    "    if winner == 0:\n",
    "        targets_for_nn.at[ix, 'Player 0'] = 1\n",
    "        targets_for_nn.at[ix, 'Player 1'] = 0\n",
    "    else:\n",
    "        targets_for_nn.at[ix, 'Player 0'] = 0\n",
    "        targets_for_nn.at[ix, 'Player 1'] = 1"
   ]
  },
  {
   "cell_type": "code",
   "execution_count": 68,
   "metadata": {},
   "outputs": [],
   "source": [
    "x_train, x_test, y_train, y_test = train_test_split(inputs, targets_for_nn, test_size=0.25, shuffle=False)"
   ]
  },
  {
   "cell_type": "code",
   "execution_count": 69,
   "metadata": {},
   "outputs": [],
   "source": [
    "input_cols = inputs.shape[1]\n",
    "\n",
    "# define the keras model\n",
    "model = Sequential()\n",
    "model.add(Dense(1000, input_dim=input_cols, activation='relu'))\n",
    "model.add(Dense(500, activation='relu'))\n",
    "model.add(Dense(250, activation='relu'))\n",
    "model.add(Dense(120, activation='relu'))\n",
    "model.add(Dense(60, activation='relu'))\n",
    "model.add(Dense(30, activation='relu'))\n",
    "model.add(Dense(15, activation='relu'))\n",
    "model.add(Dense(7, activation='relu'))\n",
    "model.add(Dense(3, activation='relu'))\n",
    "model.add(Dense(2, activation='softmax'))"
   ]
  },
  {
   "cell_type": "code",
   "execution_count": 70,
   "metadata": {},
   "outputs": [],
   "source": [
    "model.compile(loss='categorical_crossentropy', optimizer='adam', metrics=['accuracy'])"
   ]
  },
  {
   "cell_type": "code",
   "execution_count": 71,
   "metadata": {},
   "outputs": [
    {
     "name": "stdout",
     "output_type": "stream",
     "text": [
      "Epoch 1/10\n",
      "24039/24039 [==============================] - 4s 182us/step - loss: 0.6039 - accuracy: 0.6771\n",
      "Epoch 2/10\n",
      "24039/24039 [==============================] - 4s 178us/step - loss: 0.5549 - accuracy: 0.7036\n",
      "Epoch 3/10\n",
      "24039/24039 [==============================] - 4s 177us/step - loss: 0.5448 - accuracy: 0.7075\n",
      "Epoch 4/10\n",
      "24039/24039 [==============================] - 4s 179us/step - loss: 0.5420 - accuracy: 0.7069\n",
      "Epoch 5/10\n",
      "24039/24039 [==============================] - 4s 177us/step - loss: 0.5444 - accuracy: 0.70720s - loss: 0.5442 - accuracy: 0.70\n",
      "Epoch 6/10\n",
      "24039/24039 [==============================] - 4s 174us/step - loss: 0.5414 - accuracy: 0.7069\n",
      "Epoch 7/10\n",
      "24039/24039 [==============================] - 4s 174us/step - loss: 0.5387 - accuracy: 0.7103\n",
      "Epoch 8/10\n",
      "24039/24039 [==============================] - 4s 179us/step - loss: 0.5391 - accuracy: 0.7083\n",
      "Epoch 9/10\n",
      "24039/24039 [==============================] - 4s 173us/step - loss: 0.5365 - accuracy: 0.7093\n",
      "Epoch 10/10\n",
      "24039/24039 [==============================] - 4s 176us/step - loss: 0.5350 - accuracy: 0.7118\n"
     ]
    },
    {
     "data": {
      "text/plain": [
       "<keras.callbacks.callbacks.History at 0x1c8c00f2b48>"
      ]
     },
     "execution_count": 71,
     "metadata": {},
     "output_type": "execute_result"
    }
   ],
   "source": [
    "model.fit(x_train, y_train, epochs=10, batch_size=150)"
   ]
  },
  {
   "cell_type": "code",
   "execution_count": 72,
   "metadata": {},
   "outputs": [
    {
     "name": "stdout",
     "output_type": "stream",
     "text": [
      "8014/8014 [==============================] - 1s 98us/step\n",
      "Test accuracy: 0.6980284452438354\n"
     ]
    }
   ],
   "source": [
    "test_loss, test_acc = model.evaluate(x_test, y_test)\n",
    "print('Test accuracy:', test_acc)"
   ]
  },
  {
   "cell_type": "code",
   "execution_count": 73,
   "metadata": {},
   "outputs": [],
   "source": [
    "import pickle"
   ]
  },
  {
   "cell_type": "code",
   "execution_count": 74,
   "metadata": {},
   "outputs": [],
   "source": [
    "filename = 'logistic_regression.lr'\n",
    "pickle.dump(lreg, open(filename, 'wb'))"
   ]
  },
  {
   "cell_type": "code",
   "execution_count": 75,
   "metadata": {},
   "outputs": [],
   "source": [
    "cols = list(inputs.columns)\n",
    "coefs = lreg.coef_.tolist()[0]\n",
    "\n",
    "coef_df_list = []\n",
    "for i in range(0,inputs.shape[1]):\n",
    "    col = cols[i]\n",
    "    coef = coefs[i]\n",
    "    coef_df_list.append({\"Column\":col,\"Coef\":coef})\n",
    "\n",
    "coef_df = pd.DataFrame(coef_df_list)"
   ]
  },
  {
   "cell_type": "code",
   "execution_count": 76,
   "metadata": {},
   "outputs": [],
   "source": [
    "coef_df.to_csv(\"csv/Coefficients.csv\", index=False)"
   ]
  },
  {
   "cell_type": "markdown",
   "metadata": {},
   "source": [
    "# 5. Value bet generator"
   ]
  },
  {
   "cell_type": "code",
   "execution_count": 77,
   "metadata": {},
   "outputs": [],
   "source": [
    "model = pickle.load(open(\"logistic_regression.lr\", 'rb'))"
   ]
  },
  {
   "cell_type": "code",
   "execution_count": 78,
   "metadata": {},
   "outputs": [
    {
     "data": {
      "text/html": [
       "<div>\n",
       "<style scoped>\n",
       "    .dataframe tbody tr th:only-of-type {\n",
       "        vertical-align: middle;\n",
       "    }\n",
       "\n",
       "    .dataframe tbody tr th {\n",
       "        vertical-align: top;\n",
       "    }\n",
       "\n",
       "    .dataframe thead th {\n",
       "        text-align: right;\n",
       "    }\n",
       "</style>\n",
       "<table border=\"1\" class=\"dataframe\">\n",
       "  <thead>\n",
       "    <tr style=\"text-align: right;\">\n",
       "      <th></th>\n",
       "      <th>Column</th>\n",
       "      <th>Coef</th>\n",
       "    </tr>\n",
       "  </thead>\n",
       "  <tbody>\n",
       "    <tr>\n",
       "      <th>26</th>\n",
       "      <td>Pl1 Perf. vs Similar Opponent</td>\n",
       "      <td>2.830604</td>\n",
       "    </tr>\n",
       "    <tr>\n",
       "      <th>28</th>\n",
       "      <td>Pl1 Surface Performance</td>\n",
       "      <td>2.520085</td>\n",
       "    </tr>\n",
       "    <tr>\n",
       "      <th>22</th>\n",
       "      <td>Pl0 Form</td>\n",
       "      <td>0.844743</td>\n",
       "    </tr>\n",
       "    <tr>\n",
       "      <th>15</th>\n",
       "      <td>Third Place</td>\n",
       "      <td>0.765470</td>\n",
       "    </tr>\n",
       "    <tr>\n",
       "      <th>23</th>\n",
       "      <td>Pl1 Recent Form</td>\n",
       "      <td>0.516662</td>\n",
       "    </tr>\n",
       "    <tr>\n",
       "      <th>20</th>\n",
       "      <td>Rank Index</td>\n",
       "      <td>0.491706</td>\n",
       "    </tr>\n",
       "    <tr>\n",
       "      <th>31</th>\n",
       "      <td>Reliability Pl0</td>\n",
       "      <td>0.315997</td>\n",
       "    </tr>\n",
       "    <tr>\n",
       "      <th>5</th>\n",
       "      <td>Greenset</td>\n",
       "      <td>0.236053</td>\n",
       "    </tr>\n",
       "    <tr>\n",
       "      <th>9</th>\n",
       "      <td>Tour Championships</td>\n",
       "      <td>0.170978</td>\n",
       "    </tr>\n",
       "    <tr>\n",
       "      <th>30</th>\n",
       "      <td>Exp Index</td>\n",
       "      <td>0.104108</td>\n",
       "    </tr>\n",
       "    <tr>\n",
       "      <th>11</th>\n",
       "      <td>1st Round</td>\n",
       "      <td>-0.113227</td>\n",
       "    </tr>\n",
       "    <tr>\n",
       "      <th>12</th>\n",
       "      <td>2nd Round</td>\n",
       "      <td>-0.115751</td>\n",
       "    </tr>\n",
       "    <tr>\n",
       "      <th>17</th>\n",
       "      <td>Round Robin</td>\n",
       "      <td>-0.267759</td>\n",
       "    </tr>\n",
       "    <tr>\n",
       "      <th>32</th>\n",
       "      <td>Reliability Pl1</td>\n",
       "      <td>-0.424219</td>\n",
       "    </tr>\n",
       "    <tr>\n",
       "      <th>24</th>\n",
       "      <td>Pl1 Form</td>\n",
       "      <td>-0.444245</td>\n",
       "    </tr>\n",
       "    <tr>\n",
       "      <th>21</th>\n",
       "      <td>Pl0 Recent Form</td>\n",
       "      <td>-0.767394</td>\n",
       "    </tr>\n",
       "    <tr>\n",
       "      <th>27</th>\n",
       "      <td>Pl0 Surface Performance</td>\n",
       "      <td>-2.763935</td>\n",
       "    </tr>\n",
       "    <tr>\n",
       "      <th>25</th>\n",
       "      <td>Pl0 Perf. vs Similar Opponent</td>\n",
       "      <td>-2.880141</td>\n",
       "    </tr>\n",
       "  </tbody>\n",
       "</table>\n",
       "</div>"
      ],
      "text/plain": [
       "                           Column      Coef\n",
       "26  Pl1 Perf. vs Similar Opponent  2.830604\n",
       "28        Pl1 Surface Performance  2.520085\n",
       "22                       Pl0 Form  0.844743\n",
       "15                    Third Place  0.765470\n",
       "23                Pl1 Recent Form  0.516662\n",
       "20                     Rank Index  0.491706\n",
       "31                Reliability Pl0  0.315997\n",
       "5                        Greenset  0.236053\n",
       "9              Tour Championships  0.170978\n",
       "30                      Exp Index  0.104108\n",
       "11                      1st Round -0.113227\n",
       "12                      2nd Round -0.115751\n",
       "17                    Round Robin -0.267759\n",
       "32                Reliability Pl1 -0.424219\n",
       "24                       Pl1 Form -0.444245\n",
       "21                Pl0 Recent Form -0.767394\n",
       "27        Pl0 Surface Performance -2.763935\n",
       "25  Pl0 Perf. vs Similar Opponent -2.880141"
      ]
     },
     "execution_count": 78,
     "metadata": {},
     "output_type": "execute_result"
    }
   ],
   "source": [
    "coefs_df = pd.read_csv(\"csv/Coefficients.csv\")\n",
    "coefs_map = {}\n",
    "for ix, row in coefs_df.iterrows():\n",
    "\n",
    "    attribute = row['Column']\n",
    "    attribute_coef = row['Coef']\n",
    "\n",
    "    coefs_map[attribute] = attribute_coef\n",
    "    \n",
    "coefs_df[abs(coefs_df['Coef']) > 0.1].sort_values('Coef', ascending = False)"
   ]
  },
  {
   "cell_type": "code",
   "execution_count": 79,
   "metadata": {},
   "outputs": [],
   "source": [
    "df = pd.read_csv(\"csv/FeatureCalculated_Data.csv\")"
   ]
  },
  {
   "cell_type": "code",
   "execution_count": 80,
   "metadata": {},
   "outputs": [],
   "source": [
    "betting_data_df = df[(df[\"Avg_Pl0\"] > 1) & (df[\"Avg_Pl1\"] > 1)].copy()"
   ]
  },
  {
   "cell_type": "code",
   "execution_count": 81,
   "metadata": {},
   "outputs": [],
   "source": [
    "inputs = betting_data_df.iloc[:, 14:]"
   ]
  },
  {
   "cell_type": "code",
   "execution_count": 82,
   "metadata": {},
   "outputs": [],
   "source": [
    "predicted_outputs = model.predict_proba(inputs)"
   ]
  },
  {
   "cell_type": "code",
   "execution_count": 83,
   "metadata": {},
   "outputs": [],
   "source": [
    "index = 0\n",
    "for ix, row in betting_data_df.iterrows():\n",
    "    prob_pl0 = predicted_outputs[index][0] \n",
    "    prob_pl1 = predicted_outputs[index][1] \n",
    "    betting_data_df.loc[ix, 'Pl0 %'] = prob_pl0\n",
    "    betting_data_df.loc[ix, 'Pl1 %'] = prob_pl1\n",
    "    index += 1"
   ]
  },
  {
   "cell_type": "code",
   "execution_count": 84,
   "metadata": {},
   "outputs": [
    {
     "data": {
      "text/html": [
       "<div>\n",
       "<style scoped>\n",
       "    .dataframe tbody tr th:only-of-type {\n",
       "        vertical-align: middle;\n",
       "    }\n",
       "\n",
       "    .dataframe tbody tr th {\n",
       "        vertical-align: top;\n",
       "    }\n",
       "\n",
       "    .dataframe thead th {\n",
       "        text-align: right;\n",
       "    }\n",
       "</style>\n",
       "<table border=\"1\" class=\"dataframe\">\n",
       "  <thead>\n",
       "    <tr style=\"text-align: right;\">\n",
       "      <th></th>\n",
       "      <th>Date</th>\n",
       "      <th>Player 0</th>\n",
       "      <th>Player 1</th>\n",
       "      <th>Won</th>\n",
       "      <th>Pl0_Rank</th>\n",
       "      <th>Pl1_Rank</th>\n",
       "      <th>Avg_Pl0</th>\n",
       "      <th>Avg_Pl1</th>\n",
       "      <th>Max_Pl1</th>\n",
       "      <th>Max_Pl0</th>\n",
       "      <th>...</th>\n",
       "      <th>Pl0 Perf. vs Similar Opponent</th>\n",
       "      <th>Pl1 Perf. vs Similar Opponent</th>\n",
       "      <th>Pl0 Surface Performance</th>\n",
       "      <th>Pl1 Surface Performance</th>\n",
       "      <th>H2H Index</th>\n",
       "      <th>Exp Index</th>\n",
       "      <th>Reliability Pl0</th>\n",
       "      <th>Reliability Pl1</th>\n",
       "      <th>Pl0 %</th>\n",
       "      <th>Pl1 %</th>\n",
       "    </tr>\n",
       "  </thead>\n",
       "  <tbody>\n",
       "    <tr>\n",
       "      <th>8185</th>\n",
       "      <td>2010-04-26</td>\n",
       "      <td>Savchuk O.</td>\n",
       "      <td>Mayr P.</td>\n",
       "      <td>0.0</td>\n",
       "      <td>154</td>\n",
       "      <td>139</td>\n",
       "      <td>2.48</td>\n",
       "      <td>1.51</td>\n",
       "      <td>1.55</td>\n",
       "      <td>2.77</td>\n",
       "      <td>...</td>\n",
       "      <td>0.32</td>\n",
       "      <td>0.58</td>\n",
       "      <td>0.36</td>\n",
       "      <td>0.40</td>\n",
       "      <td>-0.28566</td>\n",
       "      <td>0.149425</td>\n",
       "      <td>0.765432</td>\n",
       "      <td>0.694915</td>\n",
       "      <td>0.309803</td>\n",
       "      <td>0.690197</td>\n",
       "    </tr>\n",
       "    <tr>\n",
       "      <th>8186</th>\n",
       "      <td>2010-04-26</td>\n",
       "      <td>Rogowska O.</td>\n",
       "      <td>Benesova I.</td>\n",
       "      <td>1.0</td>\n",
       "      <td>151</td>\n",
       "      <td>67</td>\n",
       "      <td>5.39</td>\n",
       "      <td>1.13</td>\n",
       "      <td>1.17</td>\n",
       "      <td>7.00</td>\n",
       "      <td>...</td>\n",
       "      <td>0.20</td>\n",
       "      <td>0.61</td>\n",
       "      <td>0.14</td>\n",
       "      <td>0.46</td>\n",
       "      <td>0.00000</td>\n",
       "      <td>-0.894737</td>\n",
       "      <td>0.921053</td>\n",
       "      <td>0.675799</td>\n",
       "      <td>0.132024</td>\n",
       "      <td>0.867976</td>\n",
       "    </tr>\n",
       "    <tr>\n",
       "      <th>8187</th>\n",
       "      <td>2010-04-26</td>\n",
       "      <td>Olaru I.</td>\n",
       "      <td>Zakopalova K.</td>\n",
       "      <td>0.0</td>\n",
       "      <td>80</td>\n",
       "      <td>85</td>\n",
       "      <td>1.76</td>\n",
       "      <td>1.98</td>\n",
       "      <td>2.21</td>\n",
       "      <td>1.85</td>\n",
       "      <td>...</td>\n",
       "      <td>0.53</td>\n",
       "      <td>0.55</td>\n",
       "      <td>0.45</td>\n",
       "      <td>0.55</td>\n",
       "      <td>0.00000</td>\n",
       "      <td>-0.157895</td>\n",
       "      <td>0.629630</td>\n",
       "      <td>0.629630</td>\n",
       "      <td>0.390079</td>\n",
       "      <td>0.609921</td>\n",
       "    </tr>\n",
       "    <tr>\n",
       "      <th>8188</th>\n",
       "      <td>2010-04-27</td>\n",
       "      <td>Czink M.</td>\n",
       "      <td>Voracova R.</td>\n",
       "      <td>1.0</td>\n",
       "      <td>51</td>\n",
       "      <td>106</td>\n",
       "      <td>1.68</td>\n",
       "      <td>2.11</td>\n",
       "      <td>2.39</td>\n",
       "      <td>1.77</td>\n",
       "      <td>...</td>\n",
       "      <td>0.56</td>\n",
       "      <td>0.33</td>\n",
       "      <td>0.36</td>\n",
       "      <td>0.40</td>\n",
       "      <td>-0.23438</td>\n",
       "      <td>0.563025</td>\n",
       "      <td>0.715328</td>\n",
       "      <td>0.716667</td>\n",
       "      <td>0.553831</td>\n",
       "      <td>0.446169</td>\n",
       "    </tr>\n",
       "    <tr>\n",
       "      <th>8189</th>\n",
       "      <td>2010-04-27</td>\n",
       "      <td>Kerber A.</td>\n",
       "      <td>El Allami Zhara F.</td>\n",
       "      <td>0.0</td>\n",
       "      <td>61</td>\n",
       "      <td>630</td>\n",
       "      <td>1.05</td>\n",
       "      <td>8.85</td>\n",
       "      <td>12.45</td>\n",
       "      <td>1.09</td>\n",
       "      <td>...</td>\n",
       "      <td>0.79</td>\n",
       "      <td>0.00</td>\n",
       "      <td>0.58</td>\n",
       "      <td>0.00</td>\n",
       "      <td>0.00000</td>\n",
       "      <td>0.935484</td>\n",
       "      <td>0.700800</td>\n",
       "      <td>1.000000</td>\n",
       "      <td>0.966023</td>\n",
       "      <td>0.033977</td>\n",
       "    </tr>\n",
       "  </tbody>\n",
       "</table>\n",
       "<p>5 rows × 49 columns</p>\n",
       "</div>"
      ],
      "text/plain": [
       "            Date     Player 0            Player 1  Won  Pl0_Rank  Pl1_Rank  \\\n",
       "8185  2010-04-26   Savchuk O.             Mayr P.  0.0       154       139   \n",
       "8186  2010-04-26  Rogowska O.         Benesova I.  1.0       151        67   \n",
       "8187  2010-04-26     Olaru I.       Zakopalova K.  0.0        80        85   \n",
       "8188  2010-04-27     Czink M.         Voracova R.  1.0        51       106   \n",
       "8189  2010-04-27    Kerber A.  El Allami Zhara F.  0.0        61       630   \n",
       "\n",
       "      Avg_Pl0  Avg_Pl1  Max_Pl1  Max_Pl0  ...  Pl0 Perf. vs Similar Opponent  \\\n",
       "8185     2.48     1.51     1.55     2.77  ...                           0.32   \n",
       "8186     5.39     1.13     1.17     7.00  ...                           0.20   \n",
       "8187     1.76     1.98     2.21     1.85  ...                           0.53   \n",
       "8188     1.68     2.11     2.39     1.77  ...                           0.56   \n",
       "8189     1.05     8.85    12.45     1.09  ...                           0.79   \n",
       "\n",
       "      Pl1 Perf. vs Similar Opponent  Pl0 Surface Performance  \\\n",
       "8185                           0.58                     0.36   \n",
       "8186                           0.61                     0.14   \n",
       "8187                           0.55                     0.45   \n",
       "8188                           0.33                     0.36   \n",
       "8189                           0.00                     0.58   \n",
       "\n",
       "      Pl1 Surface Performance  H2H Index  Exp Index  Reliability Pl0  \\\n",
       "8185                     0.40   -0.28566   0.149425         0.765432   \n",
       "8186                     0.46    0.00000  -0.894737         0.921053   \n",
       "8187                     0.55    0.00000  -0.157895         0.629630   \n",
       "8188                     0.40   -0.23438   0.563025         0.715328   \n",
       "8189                     0.00    0.00000   0.935484         0.700800   \n",
       "\n",
       "      Reliability Pl1     Pl0 %     Pl1 %  \n",
       "8185         0.694915  0.309803  0.690197  \n",
       "8186         0.675799  0.132024  0.867976  \n",
       "8187         0.629630  0.390079  0.609921  \n",
       "8188         0.716667  0.553831  0.446169  \n",
       "8189         1.000000  0.966023  0.033977  \n",
       "\n",
       "[5 rows x 49 columns]"
      ]
     },
     "execution_count": 84,
     "metadata": {},
     "output_type": "execute_result"
    }
   ],
   "source": [
    "betting_data_df.head()"
   ]
  },
  {
   "cell_type": "code",
   "execution_count": 85,
   "metadata": {},
   "outputs": [],
   "source": [
    "def right_odds(chance):\n",
    "    return round(1/chance,2)"
   ]
  },
  {
   "cell_type": "code",
   "execution_count": 86,
   "metadata": {},
   "outputs": [
    {
     "data": {
      "text/html": [
       "<div>\n",
       "<style scoped>\n",
       "    .dataframe tbody tr th:only-of-type {\n",
       "        vertical-align: middle;\n",
       "    }\n",
       "\n",
       "    .dataframe tbody tr th {\n",
       "        vertical-align: top;\n",
       "    }\n",
       "\n",
       "    .dataframe thead th {\n",
       "        text-align: right;\n",
       "    }\n",
       "</style>\n",
       "<table border=\"1\" class=\"dataframe\">\n",
       "  <thead>\n",
       "    <tr style=\"text-align: right;\">\n",
       "      <th></th>\n",
       "      <th>Date</th>\n",
       "      <th>Player 0</th>\n",
       "      <th>Player 1</th>\n",
       "      <th>Won</th>\n",
       "      <th>Pl0_Rank</th>\n",
       "      <th>Pl1_Rank</th>\n",
       "      <th>Avg_Pl0</th>\n",
       "      <th>Avg_Pl1</th>\n",
       "      <th>Max_Pl1</th>\n",
       "      <th>Max_Pl0</th>\n",
       "      <th>...</th>\n",
       "      <th>H2H Index</th>\n",
       "      <th>Exp Index</th>\n",
       "      <th>Reliability Pl0</th>\n",
       "      <th>Reliability Pl1</th>\n",
       "      <th>Pl0 %</th>\n",
       "      <th>Pl1 %</th>\n",
       "      <th>Fair odds for Pl0</th>\n",
       "      <th>Fair odds for Pl1</th>\n",
       "      <th>Bet on Pl0 Value</th>\n",
       "      <th>Bet on Pl1 Value</th>\n",
       "    </tr>\n",
       "  </thead>\n",
       "  <tbody>\n",
       "    <tr>\n",
       "      <th>8185</th>\n",
       "      <td>2010-04-26</td>\n",
       "      <td>Savchuk O.</td>\n",
       "      <td>Mayr P.</td>\n",
       "      <td>0.0</td>\n",
       "      <td>154</td>\n",
       "      <td>139</td>\n",
       "      <td>2.48</td>\n",
       "      <td>1.51</td>\n",
       "      <td>1.55</td>\n",
       "      <td>2.77</td>\n",
       "      <td>...</td>\n",
       "      <td>-0.28566</td>\n",
       "      <td>0.149425</td>\n",
       "      <td>0.765432</td>\n",
       "      <td>0.694915</td>\n",
       "      <td>0.309803</td>\n",
       "      <td>0.690197</td>\n",
       "      <td>3.23</td>\n",
       "      <td>1.45</td>\n",
       "      <td>-0.232198</td>\n",
       "      <td>0.039735</td>\n",
       "    </tr>\n",
       "    <tr>\n",
       "      <th>8186</th>\n",
       "      <td>2010-04-26</td>\n",
       "      <td>Rogowska O.</td>\n",
       "      <td>Benesova I.</td>\n",
       "      <td>1.0</td>\n",
       "      <td>151</td>\n",
       "      <td>67</td>\n",
       "      <td>5.39</td>\n",
       "      <td>1.13</td>\n",
       "      <td>1.17</td>\n",
       "      <td>7.00</td>\n",
       "      <td>...</td>\n",
       "      <td>0.00000</td>\n",
       "      <td>-0.894737</td>\n",
       "      <td>0.921053</td>\n",
       "      <td>0.675799</td>\n",
       "      <td>0.132024</td>\n",
       "      <td>0.867976</td>\n",
       "      <td>7.57</td>\n",
       "      <td>1.15</td>\n",
       "      <td>-0.287979</td>\n",
       "      <td>-0.017391</td>\n",
       "    </tr>\n",
       "    <tr>\n",
       "      <th>8187</th>\n",
       "      <td>2010-04-26</td>\n",
       "      <td>Olaru I.</td>\n",
       "      <td>Zakopalova K.</td>\n",
       "      <td>0.0</td>\n",
       "      <td>80</td>\n",
       "      <td>85</td>\n",
       "      <td>1.76</td>\n",
       "      <td>1.98</td>\n",
       "      <td>2.21</td>\n",
       "      <td>1.85</td>\n",
       "      <td>...</td>\n",
       "      <td>0.00000</td>\n",
       "      <td>-0.157895</td>\n",
       "      <td>0.629630</td>\n",
       "      <td>0.629630</td>\n",
       "      <td>0.390079</td>\n",
       "      <td>0.609921</td>\n",
       "      <td>2.56</td>\n",
       "      <td>1.64</td>\n",
       "      <td>-0.312500</td>\n",
       "      <td>0.171717</td>\n",
       "    </tr>\n",
       "    <tr>\n",
       "      <th>8188</th>\n",
       "      <td>2010-04-27</td>\n",
       "      <td>Czink M.</td>\n",
       "      <td>Voracova R.</td>\n",
       "      <td>1.0</td>\n",
       "      <td>51</td>\n",
       "      <td>106</td>\n",
       "      <td>1.68</td>\n",
       "      <td>2.11</td>\n",
       "      <td>2.39</td>\n",
       "      <td>1.77</td>\n",
       "      <td>...</td>\n",
       "      <td>-0.23438</td>\n",
       "      <td>0.563025</td>\n",
       "      <td>0.715328</td>\n",
       "      <td>0.716667</td>\n",
       "      <td>0.553831</td>\n",
       "      <td>0.446169</td>\n",
       "      <td>1.81</td>\n",
       "      <td>2.24</td>\n",
       "      <td>-0.071823</td>\n",
       "      <td>-0.058036</td>\n",
       "    </tr>\n",
       "    <tr>\n",
       "      <th>8189</th>\n",
       "      <td>2010-04-27</td>\n",
       "      <td>Kerber A.</td>\n",
       "      <td>El Allami Zhara F.</td>\n",
       "      <td>0.0</td>\n",
       "      <td>61</td>\n",
       "      <td>630</td>\n",
       "      <td>1.05</td>\n",
       "      <td>8.85</td>\n",
       "      <td>12.45</td>\n",
       "      <td>1.09</td>\n",
       "      <td>...</td>\n",
       "      <td>0.00000</td>\n",
       "      <td>0.935484</td>\n",
       "      <td>0.700800</td>\n",
       "      <td>1.000000</td>\n",
       "      <td>0.966023</td>\n",
       "      <td>0.033977</td>\n",
       "      <td>1.04</td>\n",
       "      <td>29.43</td>\n",
       "      <td>0.009524</td>\n",
       "      <td>-0.699286</td>\n",
       "    </tr>\n",
       "  </tbody>\n",
       "</table>\n",
       "<p>5 rows × 53 columns</p>\n",
       "</div>"
      ],
      "text/plain": [
       "            Date     Player 0            Player 1  Won  Pl0_Rank  Pl1_Rank  \\\n",
       "8185  2010-04-26   Savchuk O.             Mayr P.  0.0       154       139   \n",
       "8186  2010-04-26  Rogowska O.         Benesova I.  1.0       151        67   \n",
       "8187  2010-04-26     Olaru I.       Zakopalova K.  0.0        80        85   \n",
       "8188  2010-04-27     Czink M.         Voracova R.  1.0        51       106   \n",
       "8189  2010-04-27    Kerber A.  El Allami Zhara F.  0.0        61       630   \n",
       "\n",
       "      Avg_Pl0  Avg_Pl1  Max_Pl1  Max_Pl0  ...  H2H Index  Exp Index  \\\n",
       "8185     2.48     1.51     1.55     2.77  ...   -0.28566   0.149425   \n",
       "8186     5.39     1.13     1.17     7.00  ...    0.00000  -0.894737   \n",
       "8187     1.76     1.98     2.21     1.85  ...    0.00000  -0.157895   \n",
       "8188     1.68     2.11     2.39     1.77  ...   -0.23438   0.563025   \n",
       "8189     1.05     8.85    12.45     1.09  ...    0.00000   0.935484   \n",
       "\n",
       "      Reliability Pl0  Reliability Pl1     Pl0 %     Pl1 %  Fair odds for Pl0  \\\n",
       "8185         0.765432         0.694915  0.309803  0.690197               3.23   \n",
       "8186         0.921053         0.675799  0.132024  0.867976               7.57   \n",
       "8187         0.629630         0.629630  0.390079  0.609921               2.56   \n",
       "8188         0.715328         0.716667  0.553831  0.446169               1.81   \n",
       "8189         0.700800         1.000000  0.966023  0.033977               1.04   \n",
       "\n",
       "      Fair odds for Pl1  Bet on Pl0 Value  Bet on Pl1 Value  \n",
       "8185               1.45         -0.232198          0.039735  \n",
       "8186               1.15         -0.287979         -0.017391  \n",
       "8187               1.64         -0.312500          0.171717  \n",
       "8188               2.24         -0.071823         -0.058036  \n",
       "8189              29.43          0.009524         -0.699286  \n",
       "\n",
       "[5 rows x 53 columns]"
      ]
     },
     "execution_count": 86,
     "metadata": {},
     "output_type": "execute_result"
    }
   ],
   "source": [
    "for ix, row in betting_data_df.iterrows():\n",
    "    right_odds_p0 = right_odds(row['Pl0 %'])\n",
    "    right_odds_p1 = right_odds(row['Pl1 %'])\n",
    "    bet_value_p0 = (row['Avg_Pl0'] - right_odds_p0)/max(right_odds_p0,row['Avg_Pl0'])\n",
    "    bet_value_p1 = (row['Avg_Pl1'] - right_odds_p1)/max(right_odds_p1,row['Avg_Pl1'])\n",
    "    betting_data_df.loc[ix, 'Fair odds for Pl0'] = right_odds_p0\n",
    "    betting_data_df.loc[ix, 'Fair odds for Pl1'] = right_odds_p1\n",
    "    betting_data_df.loc[ix, 'Bet on Pl0 Value'] = bet_value_p0\n",
    "    betting_data_df.loc[ix, 'Bet on Pl1 Value'] = bet_value_p1\n",
    "    \n",
    "betting_data_df.head()"
   ]
  },
  {
   "cell_type": "code",
   "execution_count": 87,
   "metadata": {},
   "outputs": [],
   "source": [
    "value_betting_data_df = betting_data_df[(betting_data_df[\"Bet on Pl0 Value\"] > 0) | (betting_data_df[\"Bet on Pl1 Value\"] > 0)].copy()"
   ]
  },
  {
   "cell_type": "code",
   "execution_count": 88,
   "metadata": {},
   "outputs": [],
   "source": [
    "value_betting_data_df.rename(columns={\"Avg_Pl1\":\"Pl1 Avg odds\", \"Avg_Pl0\":\"Pl0 Avg odds\", \"Max_Pl1\":\"Pl1 Max odds\", \n",
    "                                \"Max_Pl0\":\"Pl0 Max odds\", \"Won\":\"Winner\"},inplace = True)\n",
    "\n",
    "value_betting_data_df.to_csv(\"csv/Betting_Data.csv\", index=False)"
   ]
  },
  {
   "cell_type": "markdown",
   "metadata": {},
   "source": [
    "# 6. Betting Simulator"
   ]
  },
  {
   "cell_type": "code",
   "execution_count": 89,
   "metadata": {},
   "outputs": [],
   "source": [
    "import matplotlib.pyplot as plt\n",
    "betting_df = pd.read_csv(\"csv/Betting_Data.csv\")"
   ]
  },
  {
   "cell_type": "code",
   "execution_count": 90,
   "metadata": {},
   "outputs": [],
   "source": [
    "\"\"\"\n",
    "This function simulates betting on value bets as defined in the dataframe where each bet is equal to the others \n",
    "and takes in input:\n",
    "- the initial bankroll\n",
    "- the stake (each bet has the same stake)\n",
    "- a bet_on_max_odds variable, that defaults to True and it's the criteria based upon we decide to bet on the maximum\n",
    "odds available or the average odds\n",
    "\"\"\"\n",
    "def betting_at_same_stake(initial_bankroll, stake):\n",
    "    \n",
    "    plot_df_list = []\n",
    "    bankroll = initial_bankroll\n",
    "    won_bets = 0\n",
    "    lost_bets = 0\n",
    "    total_bets = 0\n",
    "    for ix, row in betting_df.iterrows():\n",
    "        if bankroll < 0: break\n",
    "        \n",
    "        value_on_p0 = row['Bet on Pl0 Value']\n",
    "        value_on_p1 = row['Bet on Pl1 Value']\n",
    "        winner = row[\"Winner\"]\n",
    "        \n",
    "        if ix % 100 == 0: plot_df_list.append({\"Bets\":ix,\"Profit\":bankroll-initial_bankroll})\n",
    "            \n",
    "        real_odds_p0 = row['Pl0 Avg odds']\n",
    "        real_odds_p1 = row['Pl1 Avg odds'] \n",
    "        \n",
    "        if pd.isna(real_odds_p0) or pd.isna(real_odds_p1): continue\n",
    "        \n",
    "        if value_on_p0 > 0:\n",
    "            total_bets += 1\n",
    "            if winner == 0:\n",
    "                bankroll += (real_odds_p0 - 1) * stake\n",
    "                won_bets += 1\n",
    "            else:\n",
    "                bankroll -= stake\n",
    "                lost_bets += 1\n",
    "        \n",
    "        if value_on_p1 > 0:\n",
    "            total_bets += 1\n",
    "            if winner == 1:\n",
    "                bankroll += (real_odds_p1 - 1) * stake\n",
    "                won_bets += 1\n",
    "            else:\n",
    "                bankroll -= stake\n",
    "                lost_bets += 1\n",
    "    \n",
    "    plot_df_list.append({\"Bets\":ix,\"Profit\":bankroll-initial_bankroll})\n",
    "    profit = round(bankroll - initial_bankroll,2)\n",
    "    investment = total_bets*stake\n",
    "    roi = round(100 * profit / investment, 2)\n",
    "    print(\"Total bets placed: {}\\nBets won: {}, bets lost: {}\\nProfit: {}\\nMoney invested: {}\\nROI: {}%\"\n",
    "           .format(total_bets, won_bets, lost_bets, profit, investment, roi))\n",
    "    plot_df = pd.DataFrame(plot_df_list)\n",
    "    plot_df.plot.line(x='Bets', y='Profit')"
   ]
  },
  {
   "cell_type": "code",
   "execution_count": 91,
   "metadata": {},
   "outputs": [
    {
     "name": "stdout",
     "output_type": "stream",
     "text": [
      "Total bets placed: 19084\n",
      "Bets won: 11072, bets lost: 8012\n",
      "Profit: 16350.05\n",
      "Money invested: 95420\n",
      "ROI: 17.13%\n"
     ]
    },
    {
     "data": {
      "image/png": "[encoded data removed]",
      "text/plain": [
       "<Figure size 432x288 with 1 Axes>"
      ]
     },
     "metadata": {
      "needs_background": "light"
     },
     "output_type": "display_data"
    }
   ],
   "source": [
    "betting_at_same_stake(initial_bankroll=100, stake=5)"
   ]
  },
  {
   "cell_type": "code",
   "execution_count": 92,
   "metadata": {},
   "outputs": [],
   "source": [
    "\"\"\"\n",
    "This method calculates the mean bookmaker margin for each of the bets in the dataframe.\n",
    "If parameter max_odds = True, the maximum odds are considered. Otherwise, the margin is calculated on the average odds.\n",
    "\"\"\"\n",
    "def bookmaker_margin(max_odds=True):\n",
    "    total_margin = 0\n",
    "    for ix, row in betting_df.iterrows():\n",
    "        \n",
    "        if max_odds: \n",
    "            odds_p0 = row['Pl0 Max odds']\n",
    "            odds_p1 = row['Pl1 Max odds']\n",
    "            if pd.isna(odds_p0) or pd.isna(odds_p1): continue\n",
    "        else:\n",
    "            odds_p0 = row['Pl0 Avg odds']\n",
    "            odds_p1 = row['Pl1 Avg odds'] \n",
    "            \n",
    "        total_margin += (1/odds_p0) + (1/odds_p1)\n",
    "    \n",
    "    return total_margin / betting_df.shape[0]"
   ]
  },
  {
   "cell_type": "code",
   "execution_count": 93,
   "metadata": {},
   "outputs": [],
   "source": [
    "mean_book_margin_at_max_odds = bookmaker_margin(max_odds = True)\n",
    "mean_book_margin_at_avg_odds = bookmaker_margin(max_odds = False)"
   ]
  },
  {
   "cell_type": "code",
   "execution_count": 94,
   "metadata": {},
   "outputs": [
    {
     "data": {
      "text/plain": [
       "0.9970439352644478"
      ]
     },
     "execution_count": 94,
     "metadata": {},
     "output_type": "execute_result"
    }
   ],
   "source": [
    "mean_book_margin_at_max_odds"
   ]
  },
  {
   "cell_type": "code",
   "execution_count": 95,
   "metadata": {},
   "outputs": [
    {
     "data": {
      "text/plain": [
       "1.0593655043213193"
      ]
     },
     "execution_count": 95,
     "metadata": {},
     "output_type": "execute_result"
    }
   ],
   "source": [
    "mean_book_margin_at_avg_odds"
   ]
  },
  {
   "cell_type": "code",
   "execution_count": 96,
   "metadata": {},
   "outputs": [],
   "source": [
    "def kelly(prob, odds):\n",
    "    return round((prob*odds - 1)/(odds - 1), 2)"
   ]
  },
  {
   "cell_type": "code",
   "execution_count": 97,
   "metadata": {},
   "outputs": [],
   "source": [
    "def betting_with_kelly(initial_bankroll, max_stake_for_bet=100):\n",
    "    plot_df_list = []\n",
    "    \n",
    "    bankroll = initial_bankroll\n",
    "    investment = 0\n",
    "    won_bets = 0\n",
    "    lost_bets = 0\n",
    "    total_bets = 0\n",
    "    \n",
    "    for ix, row in betting_df.iterrows():\n",
    "        if bankroll < 0: break\n",
    "        \n",
    "        value_on_p0 = row['Bet on Pl0 Value']\n",
    "        value_on_p1 = row['Bet on Pl1 Value']\n",
    "        winner = row[\"Winner\"]\n",
    "        \n",
    "        if ix % 100 == 0: plot_df_list.append({\"Bets\":ix,\"Profit\":bankroll-initial_bankroll})\n",
    "            \n",
    "        real_odds_p0 = row['Pl0 Avg odds']\n",
    "        real_odds_p1 = row['Pl1 Avg odds'] \n",
    "        \n",
    "        if pd.isna(real_odds_p0) or pd.isna(real_odds_p1): continue\n",
    "            \n",
    "        if value_on_p0 > 0:\n",
    "            stake = min(max_stake_for_bet, round(bankroll * kelly(row['Pl0 %'], real_odds_p0)))\n",
    "            if stake < 0: continue\n",
    "            investment += stake\n",
    "            total_bets += 1\n",
    "            if winner == 0:\n",
    "                bankroll += (real_odds_p0 - 1) * stake\n",
    "                won_bets += 1\n",
    "            else:\n",
    "                bankroll -= stake\n",
    "                lost_bets += 1\n",
    "        \n",
    "        if value_on_p1 > 0:\n",
    "            stake = min(max_stake_for_bet, round(bankroll * kelly(row['Pl1 %'], real_odds_p1)))\n",
    "            if stake < 0: continue\n",
    "            investment += stake\n",
    "            total_bets += 1\n",
    "            if winner == 1:\n",
    "                bankroll += (real_odds_p1 - 1) * stake\n",
    "                won_bets += 1\n",
    "            else:\n",
    "                bankroll -= stake\n",
    "                lost_bets += 1\n",
    "        \n",
    "    plot_df_list.append({\"Bets\":ix,\"Profit\":bankroll-initial_bankroll})\n",
    "    profit = round(bankroll - initial_bankroll,2)\n",
    "    roi = round(100 * profit / investment, 2)\n",
    "    print(\"Total bets placed: {}\\nBets won: {}, bets lost: {}\\nProfit: {}\\nMoney invested: {}\\nROI: {}%\"\n",
    "           .format(total_bets, won_bets, lost_bets, profit, investment, roi))\n",
    "    plot_df = pd.DataFrame(plot_df_list)\n",
    "    plot_df.plot.line(x='Bets', y='Profit')"
   ]
  },
  {
   "cell_type": "code",
   "execution_count": 98,
   "metadata": {},
   "outputs": [
    {
     "name": "stdout",
     "output_type": "stream",
     "text": [
      "Total bets placed: 19084\n",
      "Bets won: 11072, bets lost: 8012\n",
      "Profit: 328678.94\n",
      "Money invested: 1883091\n",
      "ROI: 17.45%\n"
     ]
    },
    {
     "data": {
      "image/png": "[encoded data removed]",
      "text/plain": [
       "<Figure size 432x288 with 1 Axes>"
      ]
     },
     "metadata": {
      "needs_background": "light"
     },
     "output_type": "display_data"
    }
   ],
   "source": [
    "betting_with_kelly(100)"
   ]
  },
  {
   "cell_type": "code",
   "execution_count": 99,
   "metadata": {},
   "outputs": [],
   "source": [
    "def betting_with_kelly_and_threshold(initial_bankroll, VALUE_THRESHOLD, max_stake_for_bet=100):    \n",
    "    bankroll = initial_bankroll\n",
    "    investment = 0\n",
    "    won_bets = 0\n",
    "    lost_bets = 0\n",
    "    total_bets = 0\n",
    "    \n",
    "    for ix, row in betting_df.iterrows():\n",
    "        if bankroll < 0: break\n",
    "        \n",
    "        value_on_p0 = row['Bet on Pl0 Value']\n",
    "        value_on_p1 = row['Bet on Pl1 Value']\n",
    "        winner = row[\"Winner\"]\n",
    "                    \n",
    "        real_odds_p0 = row['Pl0 Avg odds']\n",
    "        real_odds_p1 = row['Pl1 Avg odds'] \n",
    "        \n",
    "        if pd.isna(real_odds_p0) or pd.isna(real_odds_p1): continue\n",
    "            \n",
    "        if value_on_p0 > VALUE_THRESHOLD:\n",
    "            stake = min(max_stake_for_bet, round(bankroll * kelly(row['Pl0 %'], real_odds_p0)))\n",
    "            if stake < 0: continue\n",
    "            investment += stake\n",
    "            total_bets += 1\n",
    "            if winner == 0:\n",
    "                bankroll += (real_odds_p0 - 1) * stake\n",
    "                won_bets += 1\n",
    "            else:\n",
    "                bankroll -= stake\n",
    "                lost_bets += 1\n",
    "        \n",
    "        if value_on_p1 > VALUE_THRESHOLD:\n",
    "            stake = min(max_stake_for_bet, round(bankroll * kelly(row['Pl1 %'], real_odds_p1)))\n",
    "            if stake < 0: continue\n",
    "            investment += stake\n",
    "            total_bets += 1\n",
    "            if winner == 1:\n",
    "                bankroll += (real_odds_p1 - 1) * stake\n",
    "                won_bets += 1\n",
    "            else:\n",
    "                bankroll -= stake\n",
    "                lost_bets += 1\n",
    "        \n",
    "    profit = round(bankroll - initial_bankroll,2)\n",
    "    roi = round(100 * profit / investment, 2)\n",
    "    return roi"
   ]
  },
  {
   "cell_type": "code",
   "execution_count": 100,
   "metadata": {},
   "outputs": [
    {
     "data": {
      "text/plain": [
       "<matplotlib.axes._subplots.AxesSubplot at 0x1c8c6d7e088>"
      ]
     },
     "execution_count": 100,
     "metadata": {},
     "output_type": "execute_result"
    },
    {
     "data": {
      "image/png": "[encoded data removed]",
      "text/plain": [
       "<Figure size 432x288 with 1 Axes>"
      ]
     },
     "metadata": {
      "needs_background": "light"
     },
     "output_type": "display_data"
    }
   ],
   "source": [
    "import numpy as np\n",
    "\n",
    "threshold_comparator_df_list = []\n",
    "for i in np.linspace(start=0, stop=0.6, num=6, endpoint=False):\n",
    "    value_threshold = round(i,1)\n",
    "    roi = betting_with_kelly_and_threshold(100, VALUE_THRESHOLD=value_threshold)\n",
    "    threshold_comparator_df_list.append({\"Value Threshold\":value_threshold, \"ROI\":roi})\n",
    "\n",
    "threshold_comparator_df = pd.DataFrame(threshold_comparator_df_list)\n",
    "threshold_comparator_df.plot.line(x='ROI', y='Value Threshold')"
   ]
  },
  {
   "cell_type": "markdown",
   "metadata": {},
   "source": [
    "# 7. Betting analysis"
   ]
  },
  {
   "cell_type": "code",
   "execution_count": 101,
   "metadata": {},
   "outputs": [],
   "source": [
    "betting_df = pd.read_csv(\"csv/Betting_Data.csv\")"
   ]
  },
  {
   "cell_type": "code",
   "execution_count": 102,
   "metadata": {},
   "outputs": [
    {
     "data": {
      "text/plain": [
       "Index(['Date', 'Player 0', 'Player 1', 'Winner', 'Pl0_Rank', 'Pl1_Rank',\n",
       "       'Pl0 Avg odds', 'Pl1 Avg odds', 'Pl1 Max odds', 'Pl0 Max odds',\n",
       "       'PS_Pl0', 'PS_Pl1', 'B365_Pl0', 'B365_Pl1', 'Indoor', 'Outdoor',\n",
       "       'Carpet', 'Clay', 'Grass', 'Greenset', 'Hard', 'International',\n",
       "       'Premier', 'Tour Championships', 'Grand Slam', '1st Round', '2nd Round',\n",
       "       '3rd Round', '4th Round', 'Third Place', 'Quarterfinals', 'Round Robin',\n",
       "       'Semifinals', 'The Final', 'Rank Index', 'Pl0 Recent Form', 'Pl0 Form',\n",
       "       'Pl1 Recent Form', 'Pl1 Form', 'Pl0 Perf. vs Similar Opponent',\n",
       "       'Pl1 Perf. vs Similar Opponent', 'Pl0 Surface Performance',\n",
       "       'Pl1 Surface Performance', 'H2H Index', 'Exp Index', 'Reliability Pl0',\n",
       "       'Reliability Pl1', 'Pl0 %', 'Pl1 %', 'Fair odds for Pl0',\n",
       "       'Fair odds for Pl1', 'Bet on Pl0 Value', 'Bet on Pl1 Value'],\n",
       "      dtype='object')"
      ]
     },
     "execution_count": 102,
     "metadata": {},
     "output_type": "execute_result"
    }
   ],
   "source": [
    "betting_df.columns"
   ]
  },
  {
   "cell_type": "code",
   "execution_count": 103,
   "metadata": {},
   "outputs": [],
   "source": [
    "betting_df['Date'] = pd.to_datetime(betting_df['Date'])"
   ]
  },
  {
   "cell_type": "code",
   "execution_count": 104,
   "metadata": {},
   "outputs": [],
   "source": [
    "def create_betting_history(betting_df, initial_bankroll, stake, value_threshold=0):\n",
    "    \n",
    "    history_df = betting_df[(betting_df[\"Bet on Pl0 Value\"]>value_threshold) | (betting_df[\"Bet on Pl1 Value\"]>value_threshold)].copy()\n",
    "    \n",
    "    bankroll = initial_bankroll\n",
    "    won_bets = 0\n",
    "    lost_bets = 0\n",
    "    total_bets = 0\n",
    "    for ix, row in betting_df.iterrows():\n",
    "        if bankroll < 0: break\n",
    "        \n",
    "        value_on_p0 = row['Bet on Pl0 Value']\n",
    "        value_on_p1 = row['Bet on Pl1 Value']\n",
    "        winner = row[\"Winner\"]\n",
    "                    \n",
    "        real_odds_p0 = row['Pl0 Avg odds']\n",
    "        real_odds_p1 = row['Pl1 Avg odds'] \n",
    "        \n",
    "        if pd.isna(real_odds_p0) or pd.isna(real_odds_p1): continue\n",
    "        \n",
    "        if value_on_p0 > value_threshold:\n",
    "            history_df.loc[total_bets, 'Bet on Player:'] = 0\n",
    "            history_df.loc[total_bets, 'Stake'] = stake\n",
    "            history_df.loc[total_bets, 'Odds'] = real_odds_p0\n",
    "            if winner == 0:\n",
    "                bankroll += (real_odds_p0 - 1) * stake\n",
    "                won_bets += 1\n",
    "                history_df.loc[total_bets, 'Won'] = \"YES\"\n",
    "                history_df.loc[total_bets, 'Profit'] = (real_odds_p0 - 1) * stake\n",
    "            else:\n",
    "                bankroll -= stake\n",
    "                lost_bets += 1\n",
    "                history_df.loc[total_bets, 'Won'] = \"NO\"\n",
    "                history_df.loc[total_bets, 'Profit'] = stake * -1\n",
    "            total_bets += 1\n",
    "        \n",
    "        if value_on_p1 > value_threshold:\n",
    "            history_df.loc[total_bets, 'Bet on Player:'] = 1\n",
    "            history_df.loc[total_bets, 'Stake'] = stake\n",
    "            history_df.loc[total_bets, 'Odds'] = real_odds_p1\n",
    "            if winner == 1:\n",
    "                bankroll += (real_odds_p1 - 1) * stake\n",
    "                won_bets += 1\n",
    "                history_df.loc[total_bets, 'Won'] = \"YES\"\n",
    "                history_df.loc[total_bets, 'Profit'] = (real_odds_p1 - 1) * stake\n",
    "            else:\n",
    "                bankroll -= stake\n",
    "                lost_bets += 1\n",
    "                history_df.loc[total_bets, 'Won'] = \"NO\"\n",
    "                history_df.loc[total_bets, 'Profit'] = stake * -1\n",
    "            total_bets += 1\n",
    "    \n",
    "    profit = round(bankroll - initial_bankroll,2)\n",
    "    investment = total_bets*stake\n",
    "    roi = round(100 * profit / investment, 2)\n",
    "    print(\"Total bets placed: {}\\nBets won: {}, bets lost: {}\\nProfit: {}\\nMoney invested: {}\\nROI: {}%\"\n",
    "           .format(total_bets, won_bets, lost_bets, profit, investment, roi))\n",
    "    \n",
    "    return (history_df, roi)"
   ]
  },
  {
   "cell_type": "code",
   "execution_count": 105,
   "metadata": {},
   "outputs": [],
   "source": [
    "def bets_for_year(df, year, year_end=None):\n",
    "    if year_end is not None:\n",
    "        return df[(df['Date'] > pd.Timestamp(year-1,12,31)) & ((df['Date'] < pd.Timestamp(year_end,12,31)))].copy()\n",
    "    else: return df[(df['Date'] > pd.Timestamp(year-1,12,31)) & ((df['Date'] < pd.Timestamp(year,12,31)))].copy()"
   ]
  },
  {
   "cell_type": "code",
   "execution_count": 106,
   "metadata": {},
   "outputs": [
    {
     "name": "stdout",
     "output_type": "stream",
     "text": [
      "+++++++++\n",
      "Year 2010\n",
      "Total bets placed: 1200\n",
      "Bets won: 698, bets lost: 502\n",
      "Profit: 180.39\n",
      "Money invested: 1200\n",
      "ROI: 15.03%\n",
      "+++++++++\n",
      "+++++++++\n",
      "Year 2011\n",
      "Total bets placed: 1936\n",
      "Bets won: 1073, bets lost: 863\n",
      "Profit: 230.92\n",
      "Money invested: 1936\n",
      "ROI: 11.93%\n",
      "+++++++++\n",
      "+++++++++\n",
      "Year 2012\n",
      "Total bets placed: 1878\n",
      "Bets won: 1007, bets lost: 871\n",
      "Profit: 248.13\n",
      "Money invested: 1878\n",
      "ROI: 13.21%\n",
      "+++++++++\n",
      "+++++++++\n",
      "Year 2013\n",
      "Total bets placed: 1942\n",
      "Bets won: 1034, bets lost: 908\n",
      "Profit: 194.41\n",
      "Money invested: 1942\n",
      "ROI: 10.01%\n",
      "+++++++++\n",
      "+++++++++\n",
      "Year 2014\n",
      "Total bets placed: 1878\n",
      "Bets won: 1063, bets lost: 815\n",
      "Profit: 343.87\n",
      "Money invested: 1878\n",
      "ROI: 18.31%\n",
      "+++++++++\n",
      "+++++++++\n",
      "Year 2015\n",
      "Total bets placed: 2012\n",
      "Bets won: 1162, bets lost: 850\n",
      "Profit: 362.82\n",
      "Money invested: 2012\n",
      "ROI: 18.03%\n",
      "+++++++++\n",
      "+++++++++\n",
      "Year 2016\n",
      "Total bets placed: 1999\n",
      "Bets won: 1186, bets lost: 813\n",
      "Profit: 363.18\n",
      "Money invested: 1999\n",
      "ROI: 18.17%\n",
      "+++++++++\n",
      "+++++++++\n",
      "Year 2017\n",
      "Total bets placed: 2021\n",
      "Bets won: 1238, bets lost: 783\n",
      "Profit: 419.22\n",
      "Money invested: 2021\n",
      "ROI: 20.74%\n",
      "+++++++++\n",
      "+++++++++\n",
      "Year 2018\n",
      "Total bets placed: 2064\n",
      "Bets won: 1263, bets lost: 801\n",
      "Profit: 434.95\n",
      "Money invested: 2064\n",
      "ROI: 21.07%\n",
      "+++++++++\n",
      "+++++++++\n",
      "Year 2019\n",
      "Total bets placed: 2093\n",
      "Bets won: 1312, bets lost: 781\n",
      "Profit: 472.21\n",
      "Money invested: 2093\n",
      "ROI: 22.56%\n",
      "+++++++++\n"
     ]
    },
    {
     "data": {
      "text/plain": [
       "<matplotlib.axes._subplots.AxesSubplot at 0x1c8aef301c8>"
      ]
     },
     "execution_count": 106,
     "metadata": {},
     "output_type": "execute_result"
    },
    {
     "data": {
      "image/png": "[encoded data removed]",
      "text/plain": [
       "<Figure size 432x288 with 1 Axes>"
      ]
     },
     "metadata": {
      "needs_background": "light"
     },
     "output_type": "display_data"
    }
   ],
   "source": [
    "years_result_df_list = []\n",
    "for y in range(2010,2020):\n",
    "    print(\"+++++++++\")\n",
    "    print(\"Year {}\".format(y))\n",
    "    result = create_betting_history(bets_for_year(betting_df,y), 1000, 1)\n",
    "    years_result_df_list.append({\"Year\":y, \"ROI\": result[1]})\n",
    "    print(\"+++++++++\")\n",
    "result_df = pd.DataFrame(years_result_df_list)\n",
    "result_df.plot.line(x='Year', y='ROI', title=\"ROI per year\")"
   ]
  },
  {
   "cell_type": "code",
   "execution_count": 107,
   "metadata": {},
   "outputs": [
    {
     "name": "stdout",
     "output_type": "stream",
     "text": [
      "Total bets placed: 19083\n",
      "Bets won: 11071, bets lost: 8012\n",
      "Profit: 3269.17\n",
      "Money invested: 19083\n",
      "ROI: 17.13%\n"
     ]
    }
   ],
   "source": [
    "result = create_betting_history(bets_for_year(betting_df,2010,2019), 1000, 1)\n",
    "df_2010_2019 = result[0] \n",
    "roi_2010_2019 = result[1]"
   ]
  },
  {
   "cell_type": "markdown",
   "metadata": {},
   "source": [
    "## ROI by Surface\n",
    "\n",
    "Since no matches have been played on carpet in surface in these last years, we'll now represents only Hard, Clay and Grass surfaces"
   ]
  },
  {
   "cell_type": "code",
   "execution_count": 108,
   "metadata": {},
   "outputs": [
    {
     "name": "stdout",
     "output_type": "stream",
     "text": [
      "ROI: 15.45%, Matches: 11463\n"
     ]
    }
   ],
   "source": [
    "df_hard = df_2010_2019[df_2010_2019['Hard'] == 1].copy()\n",
    "roi_hard = round(100*df_hard['Profit'].sum()/df_hard.shape[0],2)\n",
    "print(\"ROI: {}%, Matches: {}\".format(roi_hard,df_hard.shape[0]))"
   ]
  },
  {
   "cell_type": "code",
   "execution_count": 109,
   "metadata": {},
   "outputs": [
    {
     "name": "stdout",
     "output_type": "stream",
     "text": [
      "ROI: 17.41%, Matches: 5409\n"
     ]
    }
   ],
   "source": [
    "df_clay = df_2010_2019[df_2010_2019['Clay'] == 1].copy()\n",
    "roi_clay = round(100*df_clay['Profit'].sum()/df_clay.shape[0],2)\n",
    "print(\"ROI: {}%, Matches: {}\".format(roi_clay,df_clay.shape[0]))"
   ]
  },
  {
   "cell_type": "code",
   "execution_count": 110,
   "metadata": {},
   "outputs": [
    {
     "name": "stdout",
     "output_type": "stream",
     "text": [
      "ROI: 25.22%, Matches: 2211\n"
     ]
    }
   ],
   "source": [
    "df_grass = df_2010_2019[df_2010_2019['Grass'] == 1].copy()\n",
    "roi_grass = round(100*df_grass['Profit'].sum()/df_grass.shape[0],2)\n",
    "print(\"ROI: {}%, Matches: {}\".format(roi_grass,df_grass.shape[0]))"
   ]
  },
  {
   "cell_type": "code",
   "execution_count": 111,
   "metadata": {},
   "outputs": [
    {
     "data": {
      "image/png": "[encoded data removed]",
      "text/plain": [
       "<Figure size 648x216 with 1 Axes>"
      ]
     },
     "metadata": {
      "needs_background": "light"
     },
     "output_type": "display_data"
    }
   ],
   "source": [
    "names = ['Hard ROI','Clay ROI','Grass ROI']\n",
    "values = [roi_hard, roi_clay, roi_grass]\n",
    "\n",
    "plt.figure(figsize=(9, 3))\n",
    "\n",
    "plt.bar(names, values)\n",
    "plt.xlabel(\"Surface\")\n",
    "plt.ylabel(\"ROI %\")\n",
    "plt.title(\"ROI Against Different Surfaces\")\n",
    "plt.show()"
   ]
  },
  {
   "cell_type": "markdown",
   "metadata": {},
   "source": [
    "## ROI by Tournament\n",
    "\n",
    "Next, we'll explore which categories provide us with the highest margin"
   ]
  },
  {
   "cell_type": "code",
   "execution_count": 112,
   "metadata": {},
   "outputs": [
    {
     "name": "stdout",
     "output_type": "stream",
     "text": [
      "ROI: 20.66%, Matches: 7957\n"
     ]
    }
   ],
   "source": [
    "df_atp250 = df_2010_2019[df_2010_2019['International'] == 1].copy()\n",
    "roi_atp250 = round(100*df_atp250['Profit'].sum()/df_atp250.shape[0],2)\n",
    "print(\"ROI: {}%, Matches: {}\".format(roi_atp250,df_atp250.shape[0]))"
   ]
  },
  {
   "cell_type": "code",
   "execution_count": 113,
   "metadata": {},
   "outputs": [
    {
     "name": "stdout",
     "output_type": "stream",
     "text": [
      "ROI: 14.24%, Matches: 7009\n"
     ]
    }
   ],
   "source": [
    "df_atp500 = df_2010_2019[df_2010_2019['Premier'] == 1].copy()\n",
    "roi_atp500 = round(100*df_atp500['Profit'].sum()/df_atp500.shape[0],2)\n",
    "print(\"ROI: {}%, Matches: {}\".format(roi_atp500,df_atp500.shape[0]))"
   ]
  },
  {
   "cell_type": "code",
   "execution_count": 114,
   "metadata": {},
   "outputs": [
    {
     "name": "stdout",
     "output_type": "stream",
     "text": [
      "ROI: 5.65%, Matches: 179\n"
     ]
    }
   ],
   "source": [
    "df_atp1000 = df_2010_2019[df_2010_2019['Tour Championships'] == 1].copy()\n",
    "roi_atp1000 = round(100*df_atp1000['Profit'].sum()/df_atp1000.shape[0],2)\n",
    "print(\"ROI: {}%, Matches: {}\".format(roi_atp1000,df_atp1000.shape[0]))\n"
   ]
  },
  {
   "cell_type": "code",
   "execution_count": 115,
   "metadata": {},
   "outputs": [
    {
     "name": "stdout",
     "output_type": "stream",
     "text": [
      "ROI: 15.7%, Matches: 3938\n"
     ]
    }
   ],
   "source": [
    "df_slam = df_2010_2019[df_2010_2019['Grand Slam'] == 1].copy()\n",
    "roi_slam = round(100*df_slam['Profit'].sum()/df_slam.shape[0],2)\n",
    "print(\"ROI: {}%, Matches: {}\".format(roi_slam,df_slam.shape[0]))"
   ]
  },
  {
   "cell_type": "code",
   "execution_count": 116,
   "metadata": {
    "scrolled": true
   },
   "outputs": [
    {
     "data": {
      "image/png": "[encoded data removed]",
      "text/plain": [
       "<Figure size 648x216 with 1 Axes>"
      ]
     },
     "metadata": {
      "needs_background": "light"
     },
     "output_type": "display_data"
    }
   ],
   "source": [
    "names = ['International ROI','Premier ROI','Tour Championships ROI', 'Grand Slam ROI']\n",
    "values = [roi_atp250, roi_atp500, roi_atp1000, roi_slam]\n",
    "\n",
    "plt.figure(figsize=(9, 3))\n",
    "\n",
    "plt.bar(names, values)\n",
    "plt.xlabel(\"Tournament Type\")\n",
    "plt.ylabel(\"ROI %\")\n",
    "plt.title(\"ROI Against Different Tournament Types\")\n",
    "plt.show()"
   ]
  },
  {
   "cell_type": "markdown",
   "metadata": {},
   "source": [
    "## ROI by Round of Tournament\n",
    "\n",
    "Next, we'll explore which round in a tournament provide us with the highest margin"
   ]
  },
  {
   "cell_type": "code",
   "execution_count": 117,
   "metadata": {},
   "outputs": [
    {
     "name": "stdout",
     "output_type": "stream",
     "text": [
      "ROI: 7.62%, Matches: 174\n"
     ]
    }
   ],
   "source": [
    "df_rr = df_2010_2019[df_2010_2019['Round Robin'] == 1].copy()\n",
    "roi_rr = round(100*df_rr['Profit'].sum()/df_rr.shape[0],2)\n",
    "print(\"ROI: {}%, Matches: {}\".format(roi_rr,df_rr.shape[0]))"
   ]
  },
  {
   "cell_type": "code",
   "execution_count": 118,
   "metadata": {},
   "outputs": [
    {
     "name": "stdout",
     "output_type": "stream",
     "text": [
      "ROI: 18.73%, Matches: 9166\n"
     ]
    }
   ],
   "source": [
    "df_1st_round = df_2010_2019[df_2010_2019['1st Round'] == 1].copy()\n",
    "roi_1st_round = round(100*df_1st_round['Profit'].sum()/df_1st_round.shape[0],2)\n",
    "print(\"ROI: {}%, Matches: {}\".format(roi_1st_round,df_1st_round.shape[0]))"
   ]
  },
  {
   "cell_type": "code",
   "execution_count": 119,
   "metadata": {},
   "outputs": [
    {
     "name": "stdout",
     "output_type": "stream",
     "text": [
      "ROI: 14.77%, Matches: 5054\n"
     ]
    }
   ],
   "source": [
    "df_2nd_round = df_2010_2019[df_2010_2019['2nd Round'] == 1].copy()\n",
    "roi_2nd_round = round(100*df_2nd_round['Profit'].sum()/df_2nd_round.shape[0],2)\n",
    "print(\"ROI: {}%, Matches: {}\".format(roi_2nd_round,df_2nd_round.shape[0]))"
   ]
  },
  {
   "cell_type": "code",
   "execution_count": 120,
   "metadata": {},
   "outputs": [
    {
     "name": "stdout",
     "output_type": "stream",
     "text": [
      "ROI: 13.74%, Matches: 1267\n"
     ]
    }
   ],
   "source": [
    "df_3rd_round = df_2010_2019[df_2010_2019['3rd Round'] == 1].copy()\n",
    "roi_3rd_round = round(100*df_3rd_round['Profit'].sum()/df_3rd_round.shape[0],2)\n",
    "print(\"ROI: {}%, Matches: {}\".format(roi_3rd_round,df_3rd_round.shape[0]))"
   ]
  },
  {
   "cell_type": "code",
   "execution_count": 121,
   "metadata": {},
   "outputs": [
    {
     "name": "stdout",
     "output_type": "stream",
     "text": [
      "ROI: 20.87%, Matches: 366\n"
     ]
    }
   ],
   "source": [
    "df_4th_round = df_2010_2019[df_2010_2019['4th Round'] == 1].copy()\n",
    "roi_4th_round = round(100*df_4th_round['Profit'].sum()/df_4th_round.shape[0],2)\n",
    "print(\"ROI: {}%, Matches: {}\".format(roi_4th_round,df_4th_round.shape[0]))"
   ]
  },
  {
   "cell_type": "code",
   "execution_count": 122,
   "metadata": {},
   "outputs": [
    {
     "name": "stdout",
     "output_type": "stream",
     "text": [
      "ROI: 16.32%, Matches: 1731\n"
     ]
    }
   ],
   "source": [
    "df_qf = df_2010_2019[df_2010_2019['Quarterfinals'] == 1].copy()\n",
    "roi_qf = round(100*df_qf['Profit'].sum()/df_qf.shape[0],2)\n",
    "print(\"ROI: {}%, Matches: {}\".format(roi_qf,df_qf.shape[0]))"
   ]
  },
  {
   "cell_type": "code",
   "execution_count": 123,
   "metadata": {},
   "outputs": [
    {
     "name": "stdout",
     "output_type": "stream",
     "text": [
      "ROI: 14.11%, Matches: 882\n"
     ]
    }
   ],
   "source": [
    "df_sm = df_2010_2019[df_2010_2019['Semifinals'] == 1].copy()\n",
    "roi_sf = round(100*df_sm['Profit'].sum()/df_sm.shape[0],2)\n",
    "print(\"ROI: {}%, Matches: {}\".format(roi_sf,df_sm.shape[0]))"
   ]
  },
  {
   "cell_type": "code",
   "execution_count": 124,
   "metadata": {},
   "outputs": [
    {
     "name": "stdout",
     "output_type": "stream",
     "text": [
      "ROI: 70.0%, Matches: 1\n"
     ]
    }
   ],
   "source": [
    "df_tp = df_2010_2019[df_2010_2019['Third Place'] == 1].copy()\n",
    "roi_tp = round(100*df_tp['Profit'].sum()/df_tp.shape[0],2)\n",
    "print(\"ROI: {}%, Matches: {}\".format(roi_tp,df_tp.shape[0]))"
   ]
  },
  {
   "cell_type": "code",
   "execution_count": 125,
   "metadata": {},
   "outputs": [
    {
     "name": "stdout",
     "output_type": "stream",
     "text": [
      "ROI: 30.72%, Matches: 442\n"
     ]
    }
   ],
   "source": [
    "df_final = df_2010_2019[df_2010_2019['The Final'] == 1].copy()\n",
    "roi_final = round(100*df_final['Profit'].sum()/df_final.shape[0],2)\n",
    "print(\"ROI: {}%, Matches: {}\".format(roi_final,df_final.shape[0]))"
   ]
  },
  {
   "cell_type": "code",
   "execution_count": 126,
   "metadata": {
    "scrolled": true
   },
   "outputs": [
    {
     "data": {
      "image/png": "[encoded data removed]",
      "text/plain": [
       "<Figure size 1080x288 with 1 Axes>"
      ]
     },
     "metadata": {
      "needs_background": "light"
     },
     "output_type": "display_data"
    }
   ],
   "source": [
    "names = ['Round Robin ROI','1st Round ROI','2nd Round ROI', '3rd Round ROI', '4th Round ROI', 'Quarterfinals ROI', 'Semifinals ROI', 'Third Place', 'Final ROI']\n",
    "values = [roi_rr, roi_1st_round, roi_2nd_round, roi_3rd_round, roi_4th_round, roi_qf, roi_sf, roi_tp, roi_final]\n",
    "\n",
    "plt.figure(figsize=(15, 4))\n",
    "\n",
    "plt.bar(names, values)\n",
    "plt.xlabel(\"Tournament Round\")\n",
    "plt.ylabel(\"ROI %\")\n",
    "plt.title(\"ROI Against Different Tournament Rounds\")\n",
    "plt.show()"
   ]
  },
  {
   "cell_type": "code",
   "execution_count": 127,
   "metadata": {},
   "outputs": [
    {
     "name": "stdout",
     "output_type": "stream",
     "text": [
      "ROI: 17.13%, Matches: 4714\n"
     ]
    }
   ],
   "source": [
    "df_very_high_ri_diff = df_2010_2019[abs(df_2010_2019['Rank Index']) > 0.5].copy()\n",
    "roi_very_high_ri_diff = round(100*df_very_high_ri_diff['Profit'].sum()/df_very_high_ri_diff.shape[0],2)\n",
    "print(\"ROI: {}%, Matches: {}\".format(roi_very_high_ri_diff,df_very_high_ri_diff.shape[0]))"
   ]
  },
  {
   "cell_type": "code",
   "execution_count": 128,
   "metadata": {},
   "outputs": [
    {
     "name": "stdout",
     "output_type": "stream",
     "text": [
      "ROI: 17.7%, Matches: 8287\n"
     ]
    }
   ],
   "source": [
    "df_medium_ri_diff = df_2010_2019[(abs(df_2010_2019['Rank Index']) > 0.1) & (abs(df_2010_2019['Rank Index']) <= 0.5)].copy()\n",
    "roi_medium_ri_diff = round(100*df_medium_ri_diff['Profit'].sum()/df_medium_ri_diff.shape[0],2)\n",
    "print(\"ROI: {}%, Matches: {}\".format(roi_medium_ri_diff,df_medium_ri_diff.shape[0]))"
   ]
  },
  {
   "cell_type": "code",
   "execution_count": 129,
   "metadata": {},
   "outputs": [
    {
     "name": "stdout",
     "output_type": "stream",
     "text": [
      "ROI: 16.37%, Matches: 6082\n"
     ]
    }
   ],
   "source": [
    "df_low_ri_diff = df_2010_2019[abs(df_2010_2019['Rank Index']) <= 0.1].copy()\n",
    "roi_low_ri_diff = round(100*df_low_ri_diff['Profit'].sum()/df_low_ri_diff.shape[0],2)\n",
    "print(\"ROI: {}%, Matches: {}\".format(roi_low_ri_diff,df_low_ri_diff.shape[0]))"
   ]
  },
  {
   "cell_type": "code",
   "execution_count": 130,
   "metadata": {
    "scrolled": true
   },
   "outputs": [
    {
     "data": {
      "image/png": "[encoded data removed]",
      "text/plain": [
       "<Figure size 648x216 with 1 Axes>"
      ]
     },
     "metadata": {
      "needs_background": "light"
     },
     "output_type": "display_data"
    }
   ],
   "source": [
    "names = ['Very High Ranking Difference','Medium Ranking Difference','Low Ranking Difference']\n",
    "values = [roi_very_high_ri_diff, roi_medium_ri_diff, roi_low_ri_diff]\n",
    "\n",
    "plt.figure(figsize=(9, 3))\n",
    "\n",
    "plt.bar(names, values)\n",
    "plt.xlabel(\"Ranking Difference\")\n",
    "plt.ylabel(\"ROI %\")\n",
    "plt.title(\"ROI Against Ranking Difference\")\n",
    "plt.show()"
   ]
  },
  {
   "cell_type": "markdown",
   "metadata": {},
   "source": [
    "## ROI by Absolute Ranking \n",
    "\n",
    "Next, we'll analyse how the rankings (Pl0_Rank and Pl1_Rank) affect the ROI"
   ]
  },
  {
   "cell_type": "code",
   "execution_count": 131,
   "metadata": {},
   "outputs": [
    {
     "name": "stdout",
     "output_type": "stream",
     "text": [
      "ROI: 1.91%, Matches: 97\n"
     ]
    }
   ],
   "source": [
    "df_top5 = df_2010_2019[(df_2010_2019['Pl0_Rank'] <= 5) & (df_2010_2019['Pl1_Rank'] <= 5)].copy()\n",
    "roi_top5 = round(100*df_top5['Profit'].sum()/df_top5.shape[0],2)\n",
    "print(\"ROI: {}%, Matches: {}\".format(roi_top5,df_top5.shape[0]))"
   ]
  },
  {
   "cell_type": "code",
   "execution_count": 132,
   "metadata": {},
   "outputs": [
    {
     "name": "stdout",
     "output_type": "stream",
     "text": [
      "ROI: 3.75%, Matches: 406\n"
     ]
    }
   ],
   "source": [
    "df_top10 = df_2010_2019[(df_2010_2019['Pl0_Rank'] <= 10) & (df_2010_2019['Pl1_Rank'] <= 10)].copy()\n",
    "roi_top10 = round(100*df_top10['Profit'].sum()/df_top10.shape[0],2)\n",
    "print(\"ROI: {}%, Matches: {}\".format(roi_top10,df_top10.shape[0]))"
   ]
  },
  {
   "cell_type": "code",
   "execution_count": 133,
   "metadata": {},
   "outputs": [
    {
     "name": "stdout",
     "output_type": "stream",
     "text": [
      "ROI: 19.18%, Matches: 11104\n"
     ]
    }
   ],
   "source": [
    "df_others = df_2010_2019[(df_2010_2019['Pl0_Rank'] > 25) & (df_2010_2019['Pl1_Rank'] > 25)].copy()\n",
    "roi_others = round(100*df_others['Profit'].sum()/df_others.shape[0],2)\n",
    "print(\"ROI: {}%, Matches: {}\".format(roi_others,df_others.shape[0]))"
   ]
  },
  {
   "cell_type": "code",
   "execution_count": 134,
   "metadata": {},
   "outputs": [
    {
     "data": {
      "image/png": "[encoded data removed]",
      "text/plain": [
       "<Figure size 648x216 with 1 Axes>"
      ]
     },
     "metadata": {
      "needs_background": "light"
     },
     "output_type": "display_data"
    }
   ],
   "source": [
    "names = ['Top 5 Matches','Top 10 Matches','Out of Top 25 Matches']\n",
    "values = [roi_top5, roi_top10, roi_others]\n",
    "\n",
    "plt.figure(figsize=(9, 3))\n",
    "\n",
    "plt.bar(names, values)\n",
    "plt.xlabel(\"Ranking Groups\")\n",
    "plt.ylabel(\"ROI %\")\n",
    "plt.title(\"ROI Against Ranking Groups\")\n",
    "plt.show()"
   ]
  },
  {
   "cell_type": "code",
   "execution_count": 135,
   "metadata": {},
   "outputs": [
    {
     "name": "stdout",
     "output_type": "stream",
     "text": [
      "ROI: 21.48%, Matches: 576\n"
     ]
    }
   ],
   "source": [
    "df_top = df_2010_2019[\n",
    "    (df_2010_2019['The Final']+df_2010_2019['Semifinals']==1) \n",
    "    & (df_2010_2019['Grand Slam']+df_2010_2019['Tour Championships']+df_2010_2019['Premier']==1)\n",
    "].copy()\n",
    "roi_top = round(100*df_top['Profit'].sum()/df_top.shape[0],2)\n",
    "print(\"ROI: {}%, Matches: {}\".format(roi_top,df_top.shape[0]))"
   ]
  },
  {
   "cell_type": "code",
   "execution_count": 136,
   "metadata": {},
   "outputs": [
    {
     "name": "stdout",
     "output_type": "stream",
     "text": [
      "ROI: 20.91%, Matches: 7209\n"
     ]
    }
   ],
   "source": [
    "df_not_top = df_2010_2019[\n",
    "    (df_2010_2019['The Final']+df_2010_2019['Semifinals']==0) \n",
    "    & (df_2010_2019['Grand Slam']+df_2010_2019['Tour Championships']+df_2010_2019['Premier']==0)\n",
    "].copy()\n",
    "roi_not_top = round(100*df_not_top['Profit'].sum()/df_not_top.shape[0],2)\n",
    "print(\"ROI: {}%, Matches: {}\".format(roi_not_top,df_not_top.shape[0]))"
   ]
  },
  {
   "cell_type": "markdown",
   "metadata": {},
   "source": [
    "## Accuracy of Probabilities\n",
    "\n",
    "Next, we're going to take the fair odds derived by the predicted probabilities of the matches in the dataset and we're going to look if they reflect the frequency of an event occuring (for example we expect to see that events at odds 2 happen half of the time, etc.)\n",
    "Then, we're going to do the same thing for the average odds (incremented by 5%, to exclude the margin from our calculation)"
   ]
  },
  {
   "cell_type": "markdown",
   "metadata": {},
   "source": [
    "#### Our model's fair odds:"
   ]
  },
  {
   "cell_type": "code",
   "execution_count": 139,
   "metadata": {},
   "outputs": [
    {
     "name": "stdout",
     "output_type": "stream",
     "text": [
      "++++++++++++\n",
      "For Odds around 1.2 the ideal odd would have been 1.21, with a diff of 0.01\n",
      "Total matches:  2705\n",
      "++++++++++++\n",
      "For Odds around 1.3 the ideal odd would have been 1.33, with a diff of 0.03\n",
      "Total matches:  2823\n",
      "++++++++++++\n",
      "For Odds around 1.4 the ideal odd would have been 1.47, with a diff of 0.07\n",
      "Total matches:  2606\n",
      "++++++++++++\n",
      "For Odds around 1.5 the ideal odd would have been 1.57, with a diff of 0.07\n",
      "Total matches:  2355\n",
      "++++++++++++\n",
      "For Odds around 1.6 the ideal odd would have been 1.67, with a diff of 0.07\n",
      "Total matches:  2028\n",
      "++++++++++++\n",
      "For Odds around 1.7 the ideal odd would have been 1.79, with a diff of 0.09\n",
      "Total matches:  1897\n",
      "++++++++++++\n",
      "For Odds around 1.8 the ideal odd would have been 1.82, with a diff of 0.02\n",
      "Total matches:  1696\n",
      "++++++++++++\n",
      "For Odds around 1.9 the ideal odd would have been 1.9, with a diff of 0.0\n",
      "Total matches:  1525\n",
      "++++++++++++\n",
      "For Odds around 2.0 the ideal odd would have been 1.99, with a diff of 0.01\n",
      "Total matches:  1381\n",
      "++++++++++++\n",
      "For Odds around 2.1 the ideal odd would have been 2.13, with a diff of 0.03\n",
      "Total matches:  1099\n",
      "++++++++++++\n",
      "For Odds around 2.2 the ideal odd would have been 2.2, with a diff of 0.0\n",
      "Total matches:  1065\n",
      "++++++++++++\n",
      "For Odds around 2.3 the ideal odd would have been 2.16, with a diff of 0.14\n",
      "Total matches:  915\n",
      "++++++++++++\n",
      "For Odds around 2.4 the ideal odd would have been 2.17, with a diff of 0.23\n",
      "Total matches:  869\n",
      "++++++++++++\n",
      "For Odds around 2.5 the ideal odd would have been 2.42, with a diff of 0.08\n",
      "Total matches:  884\n",
      "++++++++++++\n",
      "For Odds around 2.6 the ideal odd would have been 2.48, with a diff of 0.12\n",
      "Total matches:  708\n",
      "++++++++++++\n",
      "For Odds around 2.7 the ideal odd would have been 2.39, with a diff of 0.31\n",
      "Total matches:  636\n",
      "++++++++++++\n",
      "For Odds around 2.8 the ideal odd would have been 2.75, with a diff of 0.05\n",
      "Total matches:  586\n",
      "++++++++++++\n",
      "For Odds around 2.9 the ideal odd would have been 2.57, with a diff of 0.33\n",
      "Total matches:  591\n",
      "++++++++++++\n",
      "For Odds around 3.0 the ideal odd would have been 2.75, with a diff of 0.25\n",
      "Total matches:  585\n",
      "++++++++++++\n",
      "For Odds around 3.1 the ideal odd would have been 2.89, with a diff of 0.21\n",
      "Total matches:  486\n",
      "++++++++++++\n",
      "For Odds around 3.2 the ideal odd would have been 2.81, with a diff of 0.39\n",
      "Total matches:  478\n",
      "++++++++++++\n",
      "For Odds around 3.3 the ideal odd would have been 2.85, with a diff of 0.45\n",
      "Total matches:  425\n",
      "++++++++++++\n",
      "For Odds around 3.4 the ideal odd would have been 3.08, with a diff of 0.32\n",
      "Total matches:  394\n",
      "++++++++++++\n",
      "For Odds around 3.5 the ideal odd would have been 3.01, with a diff of 0.49\n",
      "Total matches:  442\n",
      "++++++++++++\n",
      "For Odds around 3.6 the ideal odd would have been 3.05, with a diff of 0.55\n",
      "Total matches:  342\n",
      "++++++++++++\n",
      "For Odds around 3.7 the ideal odd would have been 3.74, with a diff of 0.04\n",
      "Total matches:  348\n",
      "++++++++++++\n",
      "For Odds around 3.8 the ideal odd would have been 3.31, with a diff of 0.49\n",
      "Total matches:  318\n",
      "++++++++++++\n",
      "For Odds around 3.9 the ideal odd would have been 4.33, with a diff of 0.43\n",
      "Total matches:  290\n",
      "++++++++++++\n",
      "For Odds around 4.0 the ideal odd would have been 3.37, with a diff of 0.63\n",
      "Total matches:  320\n",
      "++++++++++++\n",
      "For Odds around 4.1 the ideal odd would have been 3.35, with a diff of 0.75\n",
      "Total matches:  295\n",
      "++++++++++++\n",
      "For Odds around 4.2 the ideal odd would have been 3.94, with a diff of 0.26\n",
      "Total matches:  252\n",
      "++++++++++++\n",
      "For Odds around 4.3 the ideal odd would have been 3.56, with a diff of 0.74\n",
      "Total matches:  249\n",
      "++++++++++++\n",
      "For Odds around 4.4 the ideal odd would have been 4.19, with a diff of 0.21\n",
      "Total matches:  226\n",
      "++++++++++++\n",
      "For Odds around 4.5 the ideal odd would have been 4.47, with a diff of 0.03\n",
      "Total matches:  228\n",
      "++++++++++++\n",
      "For Odds around 4.6 the ideal odd would have been 3.79, with a diff of 0.81\n",
      "Total matches:  201\n",
      "++++++++++++\n",
      "For Odds around 4.7 the ideal odd would have been 4.62, with a diff of 0.08\n",
      "Total matches:  231\n",
      "++++++++++++\n",
      "For Odds around 4.8 the ideal odd would have been 4.14, with a diff of 0.66\n",
      "Total matches:  207\n",
      "++++++++++++\n",
      "For Odds around 4.9 the ideal odd would have been 4.08, with a diff of 0.82\n",
      "Total matches:  151\n",
      "++++++++++++\n",
      "For Odds around 5.0 the ideal odd would have been 5.86, with a diff of 0.86\n",
      "Total matches:  170\n",
      "Average distance between predicted odds and ideal odds has been 0.29\n"
     ]
    }
   ],
   "source": [
    "diff_tot = 0\n",
    "\n",
    "odd_list = []\n",
    "odd = 1.2\n",
    "while odd <= 5:\n",
    "    odd_list.append(round(odd,2))\n",
    "    odd += 0.1\n",
    "\n",
    "for odd in odd_list:\n",
    "    ones_p1 = betting_df[(betting_df[\"Fair odds for Pl1\"] >= odd-0.05) & (betting_df[\"Fair odds for Pl1\"] <= odd+0.05)][\"Winner\"].value_counts()[1]\n",
    "    zeros_p1 = betting_df[(betting_df[\"Fair odds for Pl1\"] >= odd-0.05) & (betting_df[\"Fair odds for Pl1\"] <= odd+0.05)][\"Winner\"].value_counts()[0]\n",
    "    \n",
    "    zeros_p0 = betting_df[(betting_df[\"Fair odds for Pl0\"] >= odd-0.05) & (betting_df[\"Fair odds for Pl0\"] <= odd+0.05)][\"Winner\"].value_counts()[0]\n",
    "    ones_p0 = betting_df[(betting_df[\"Fair odds for Pl0\"] >= odd-0.05) & (betting_df[\"Fair odds for Pl0\"] <= odd+0.05)][\"Winner\"].value_counts()[1]\n",
    "    \n",
    "\n",
    "    correct = (ones_p1+zeros_p0)/(ones_p1+zeros_p1+zeros_p0+ones_p0)\n",
    "    ideal_odds = round(1/correct,2)\n",
    "    diff = round(abs(ideal_odds-odd),2)\n",
    "    diff_tot += diff\n",
    "    print(\"++++++++++++\")\n",
    "    print(\"For Odds around {} the ideal odd would have been {}, with a diff of {}\".format(odd,ideal_odds,diff))\n",
    "    print(\"Total matches: \",ones_p1+zeros_p1+zeros_p0+ones_p0)\n",
    "    \n",
    "print(\"Average distance between predicted odds and ideal odds has been {}\".format(round(diff_tot/len(odd_list),2)))"
   ]
  },
  {
   "cell_type": "markdown",
   "metadata": {},
   "source": [
    "#### Bookmakers' turn"
   ]
  },
  {
   "cell_type": "code",
   "execution_count": 140,
   "metadata": {},
   "outputs": [
    {
     "name": "stdout",
     "output_type": "stream",
     "text": [
      "++++++++++++\n",
      "For Odds around 1.2 the ideal odd would have been 1.22, with a diff of 0.02\n",
      "Total matches:  1935\n",
      "++++++++++++\n",
      "For Odds around 1.3 the ideal odd would have been 1.29, with a diff of 0.01\n",
      "Total matches:  2240\n",
      "++++++++++++\n",
      "For Odds around 1.4 the ideal odd would have been 1.4, with a diff of 0.0\n",
      "Total matches:  2877\n",
      "++++++++++++\n",
      "For Odds around 1.5 the ideal odd would have been 1.5, with a diff of 0.0\n",
      "Total matches:  2425\n",
      "++++++++++++\n",
      "For Odds around 1.6 the ideal odd would have been 1.61, with a diff of 0.01\n",
      "Total matches:  2574\n",
      "++++++++++++\n",
      "For Odds around 1.7 the ideal odd would have been 1.72, with a diff of 0.02\n",
      "Total matches:  2106\n",
      "++++++++++++\n",
      "For Odds around 1.8 the ideal odd would have been 1.87, with a diff of 0.07\n",
      "Total matches:  2150\n",
      "++++++++++++\n",
      "For Odds around 1.9 the ideal odd would have been 1.88, with a diff of 0.02\n",
      "Total matches:  1500\n",
      "++++++++++++\n",
      "For Odds around 2.0 the ideal odd would have been 2.06, with a diff of 0.06\n",
      "Total matches:  1331\n",
      "++++++++++++\n",
      "For Odds around 2.1 the ideal odd would have been 2.18, with a diff of 0.08\n",
      "Total matches:  1260\n",
      "++++++++++++\n",
      "For Odds around 2.2 the ideal odd would have been 2.1, with a diff of 0.1\n",
      "Total matches:  1412\n",
      "++++++++++++\n",
      "For Odds around 2.3 the ideal odd would have been 2.32, with a diff of 0.02\n",
      "Total matches:  1136\n",
      "++++++++++++\n",
      "For Odds around 2.4 the ideal odd would have been 2.36, with a diff of 0.04\n",
      "Total matches:  1220\n",
      "++++++++++++\n",
      "For Odds around 2.5 the ideal odd would have been 2.49, with a diff of 0.01\n",
      "Total matches:  926\n",
      "++++++++++++\n",
      "For Odds around 2.6 the ideal odd would have been 2.54, with a diff of 0.06\n",
      "Total matches:  1013\n",
      "++++++++++++\n",
      "For Odds around 2.7 the ideal odd would have been 2.82, with a diff of 0.12\n",
      "Total matches:  797\n",
      "++++++++++++\n",
      "For Odds around 2.8 the ideal odd would have been 2.81, with a diff of 0.01\n",
      "Total matches:  859\n",
      "++++++++++++\n",
      "For Odds around 2.9 the ideal odd would have been 3.14, with a diff of 0.24\n",
      "Total matches:  672\n",
      "++++++++++++\n",
      "For Odds around 3.0 the ideal odd would have been 2.96, with a diff of 0.04\n",
      "Total matches:  668\n",
      "++++++++++++\n",
      "For Odds around 3.1 the ideal odd would have been 3.47, with a diff of 0.37\n",
      "Total matches:  548\n",
      "++++++++++++\n",
      "For Odds around 3.2 the ideal odd would have been 3.75, with a diff of 0.55\n",
      "Total matches:  559\n",
      "++++++++++++\n",
      "For Odds around 3.3 the ideal odd would have been 3.51, with a diff of 0.21\n",
      "Total matches:  506\n",
      "++++++++++++\n",
      "For Odds around 3.4 the ideal odd would have been 3.34, with a diff of 0.06\n",
      "Total matches:  448\n",
      "++++++++++++\n",
      "For Odds around 3.5 the ideal odd would have been 3.48, with a diff of 0.02\n",
      "Total matches:  466\n",
      "++++++++++++\n",
      "For Odds around 3.6 the ideal odd would have been 3.66, with a diff of 0.06\n",
      "Total matches:  340\n",
      "++++++++++++\n",
      "For Odds around 3.7 the ideal odd would have been 3.35, with a diff of 0.35\n",
      "Total matches:  355\n",
      "++++++++++++\n",
      "For Odds around 3.8 the ideal odd would have been 3.66, with a diff of 0.14\n",
      "Total matches:  289\n",
      "++++++++++++\n",
      "For Odds around 3.9 the ideal odd would have been 5.15, with a diff of 1.25\n",
      "Total matches:  304\n",
      "++++++++++++\n",
      "For Odds around 4.0 the ideal odd would have been 3.84, with a diff of 0.16\n",
      "Total matches:  246\n",
      "++++++++++++\n",
      "For Odds around 4.1 the ideal odd would have been 4.18, with a diff of 0.08\n",
      "Total matches:  259\n",
      "++++++++++++\n",
      "For Odds around 4.2 the ideal odd would have been 4.72, with a diff of 0.52\n",
      "Total matches:  222\n",
      "++++++++++++\n",
      "For Odds around 4.3 the ideal odd would have been 4.33, with a diff of 0.03\n",
      "Total matches:  225\n",
      "++++++++++++\n",
      "For Odds around 4.4 the ideal odd would have been 4.97, with a diff of 0.57\n",
      "Total matches:  184\n",
      "++++++++++++\n",
      "For Odds around 4.5 the ideal odd would have been 4.4, with a diff of 0.1\n",
      "Total matches:  189\n",
      "++++++++++++\n",
      "For Odds around 4.6 the ideal odd would have been 4.91, with a diff of 0.31\n",
      "Total matches:  172\n",
      "++++++++++++\n",
      "For Odds around 4.7 the ideal odd would have been 5.34, with a diff of 0.64\n",
      "Total matches:  155\n",
      "++++++++++++\n",
      "For Odds around 4.8 the ideal odd would have been 5.26, with a diff of 0.46\n",
      "Total matches:  142\n",
      "++++++++++++\n",
      "For Odds around 4.9 the ideal odd would have been 6.3, with a diff of 1.4\n",
      "Total matches:  126\n",
      "++++++++++++\n",
      "For Odds around 5.0 the ideal odd would have been 4.75, with a diff of 0.25\n",
      "Total matches:  133\n",
      "Average distance between predicted odds and ideal odds has been 0.22\n"
     ]
    }
   ],
   "source": [
    "diff_tot = 0\n",
    "\n",
    "odd_list = []\n",
    "odd = 1.2\n",
    "while odd <= 5:\n",
    "    odd_list.append(round(odd,2))\n",
    "    odd += 0.1\n",
    "\n",
    "for odd in odd_list:\n",
    "    ones_p1 = betting_df[(betting_df[\"Pl1 Avg odds\"]*1.05 >= odd-0.05) & (betting_df[\"Pl1 Avg odds\"]*1.05 <= odd+0.05)][\"Winner\"].value_counts()[1]\n",
    "    zeros_p1 = betting_df[(betting_df[\"Pl1 Avg odds\"]*1.05 >= odd-0.05) & (betting_df[\"Pl1 Avg odds\"]*1.05 <= odd+0.05)][\"Winner\"].value_counts()[0]\n",
    "    \n",
    "    zeros_p0 = betting_df[(betting_df[\"Pl0 Avg odds\"]*1.05 >= odd-0.05) & (betting_df[\"Pl0 Avg odds\"]*1.05 <= odd+0.05)][\"Winner\"].value_counts()[0]\n",
    "    ones_p0 = betting_df[(betting_df[\"Pl0 Avg odds\"]*1.05 >= odd-0.05) & (betting_df[\"Pl0 Avg odds\"]*1.05 <= odd+0.05)][\"Winner\"].value_counts()[1]\n",
    "    \n",
    "\n",
    "    correct = (ones_p1+zeros_p0)/(ones_p1+zeros_p1+zeros_p0+ones_p0)\n",
    "    ideal_odds = round(1/correct,2)\n",
    "    diff = round(abs(ideal_odds-odd),2)\n",
    "    diff_tot += diff\n",
    "    print(\"++++++++++++\")\n",
    "    print(\"For Odds around {} the ideal odd would have been {}, with a diff of {}\".format(odd,ideal_odds,diff))\n",
    "    print(\"Total matches: \",ones_p1+zeros_p1+zeros_p0+ones_p0)\n",
    "    \n",
    "print(\"Average distance between predicted odds and ideal odds has been {}\".format(round(diff_tot/len(odd_list),2)))"
   ]
  },
  {
   "cell_type": "markdown",
   "metadata": {},
   "source": [
    "In general, we see no big difference between our model probabilities picking and the bookmakers. In fact, if we take the average of the differences between ideal odds and real odds (in the case of bookmakers) / predicted odds (in the case of our model), they are somewhat similar (0.3 vs 0.21).\n",
    "\n",
    "Analyzing deeply, we can see that the probabilities for odds less than 2.2 / 2.4 are very accurate in both cases, and the majority of the big differences happen when we increase the odds.\n",
    "However, it should be noted that at big odds (thus odds for underdogs), our model generally underestimates the underdog and __increase his odds__ while it should have kept smaller odds for these players.\n",
    "Interestingly, the opposite happens for the bookmakers odds, who overestimates the underdogs and provide them with __lower odds__ than they should have."
   ]
  }
 ],
 "metadata": {
  "kernelspec": {
   "display_name": "Python 3",
   "language": "python",
   "name": "python3"
  },
  "language_info": {
   "codemirror_mode": {
    "name": "ipython",
    "version": 3
   },
   "file_extension": ".py",
   "mimetype": "text/x-python",
   "name": "python",
   "nbconvert_exporter": "python",
   "pygments_lexer": "ipython3",
   "version": "3.7.6"
  }
 },
 "nbformat": 4,
 "nbformat_minor": 4
}
