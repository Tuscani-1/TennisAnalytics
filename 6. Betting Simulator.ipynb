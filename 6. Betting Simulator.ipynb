{
 "cells": [
  {
   "cell_type": "markdown",
   "metadata": {},
   "source": [
    "# 6. Betting Simulator\n",
    "\n",
    "In this notebook, we're going to use the betting dataframe built in the last stage, to simulate bets on matches where we think to have an edge on the betting market (i.e. a value bet occurs when the real odds for an event are higher than the odds \"predicted\" by our model).\n",
    "\n",
    "Finally, we'll compare several betting strategies and we'll find out if it's possible to make a good ROI backtesting our betting strategies."
   ]
  },
  {
   "cell_type": "markdown",
   "metadata": {},
   "source": [
    "Let's import the relevant libraries:"
   ]
  },
  {
   "cell_type": "code",
   "execution_count": 1,
   "metadata": {},
   "outputs": [],
   "source": [
    "import pandas as pd\n",
    "import matplotlib.pyplot as plt\n",
    "import numpy as np"
   ]
  },
  {
   "cell_type": "markdown",
   "metadata": {},
   "source": [
    "Let's import the Betting Dataframe saved in the last notebook"
   ]
  },
  {
   "cell_type": "code",
   "execution_count": 2,
   "metadata": {},
   "outputs": [],
   "source": [
    "betting_df = pd.read_csv(\"csv/Betting_Data.csv\")"
   ]
  },
  {
   "cell_type": "code",
   "execution_count": 3,
   "metadata": {},
   "outputs": [
    {
     "data": {
      "text/html": [
       "<div>\n",
       "<style scoped>\n",
       "    .dataframe tbody tr th:only-of-type {\n",
       "        vertical-align: middle;\n",
       "    }\n",
       "\n",
       "    .dataframe tbody tr th {\n",
       "        vertical-align: top;\n",
       "    }\n",
       "\n",
       "    .dataframe thead th {\n",
       "        text-align: right;\n",
       "    }\n",
       "</style>\n",
       "<table border=\"1\" class=\"dataframe\">\n",
       "  <thead>\n",
       "    <tr style=\"text-align: right;\">\n",
       "      <th></th>\n",
       "      <th>Pl0</th>\n",
       "      <th>Pl1</th>\n",
       "      <th>Winner</th>\n",
       "      <th>Pl0 %</th>\n",
       "      <th>Pl1 %</th>\n",
       "      <th>Pl0 Avg odds</th>\n",
       "      <th>Pl1 Avg odds</th>\n",
       "      <th>Pl0 Max odds</th>\n",
       "      <th>Pl1 Max odds</th>\n",
       "      <th>Fair odds for Pl0</th>\n",
       "      <th>Fair odds for Pl1</th>\n",
       "      <th>Bet on Pl0 Value</th>\n",
       "      <th>Bet on Pl1 Value</th>\n",
       "    </tr>\n",
       "  </thead>\n",
       "  <tbody>\n",
       "    <tr>\n",
       "      <th>0</th>\n",
       "      <td>De Bakker T.</td>\n",
       "      <td>Falla A.</td>\n",
       "      <td>0.0</td>\n",
       "      <td>0.60</td>\n",
       "      <td>0.40</td>\n",
       "      <td>1.52</td>\n",
       "      <td>2.46</td>\n",
       "      <td>1.62</td>\n",
       "      <td>2.79</td>\n",
       "      <td>1.67</td>\n",
       "      <td>2.50</td>\n",
       "      <td>-0.029940</td>\n",
       "      <td>0.103943</td>\n",
       "    </tr>\n",
       "    <tr>\n",
       "      <th>1</th>\n",
       "      <td>Starace P.</td>\n",
       "      <td>Hajek J.</td>\n",
       "      <td>1.0</td>\n",
       "      <td>0.66</td>\n",
       "      <td>0.34</td>\n",
       "      <td>1.34</td>\n",
       "      <td>3.12</td>\n",
       "      <td>1.40</td>\n",
       "      <td>3.64</td>\n",
       "      <td>1.52</td>\n",
       "      <td>2.94</td>\n",
       "      <td>-0.078947</td>\n",
       "      <td>0.192308</td>\n",
       "    </tr>\n",
       "    <tr>\n",
       "      <th>2</th>\n",
       "      <td>Schwank E.</td>\n",
       "      <td>Fognini F.</td>\n",
       "      <td>0.0</td>\n",
       "      <td>0.35</td>\n",
       "      <td>0.65</td>\n",
       "      <td>1.99</td>\n",
       "      <td>1.77</td>\n",
       "      <td>2.14</td>\n",
       "      <td>1.85</td>\n",
       "      <td>2.86</td>\n",
       "      <td>1.54</td>\n",
       "      <td>-0.251748</td>\n",
       "      <td>0.167568</td>\n",
       "    </tr>\n",
       "    <tr>\n",
       "      <th>3</th>\n",
       "      <td>Rochus C.</td>\n",
       "      <td>Garcia-Lopez G.</td>\n",
       "      <td>1.0</td>\n",
       "      <td>0.31</td>\n",
       "      <td>0.69</td>\n",
       "      <td>3.02</td>\n",
       "      <td>1.36</td>\n",
       "      <td>3.25</td>\n",
       "      <td>1.45</td>\n",
       "      <td>3.23</td>\n",
       "      <td>1.45</td>\n",
       "      <td>0.006154</td>\n",
       "      <td>0.000000</td>\n",
       "    </tr>\n",
       "    <tr>\n",
       "      <th>4</th>\n",
       "      <td>Bellucci T.</td>\n",
       "      <td>Nieminen J.</td>\n",
       "      <td>0.0</td>\n",
       "      <td>0.57</td>\n",
       "      <td>0.43</td>\n",
       "      <td>1.46</td>\n",
       "      <td>2.63</td>\n",
       "      <td>1.50</td>\n",
       "      <td>3.09</td>\n",
       "      <td>1.75</td>\n",
       "      <td>2.33</td>\n",
       "      <td>-0.142857</td>\n",
       "      <td>0.245955</td>\n",
       "    </tr>\n",
       "    <tr>\n",
       "      <th>...</th>\n",
       "      <td>...</td>\n",
       "      <td>...</td>\n",
       "      <td>...</td>\n",
       "      <td>...</td>\n",
       "      <td>...</td>\n",
       "      <td>...</td>\n",
       "      <td>...</td>\n",
       "      <td>...</td>\n",
       "      <td>...</td>\n",
       "      <td>...</td>\n",
       "      <td>...</td>\n",
       "      <td>...</td>\n",
       "      <td>...</td>\n",
       "    </tr>\n",
       "    <tr>\n",
       "      <th>17099</th>\n",
       "      <td>Zverev A.</td>\n",
       "      <td>Youzhny M.</td>\n",
       "      <td>0.0</td>\n",
       "      <td>0.54</td>\n",
       "      <td>0.46</td>\n",
       "      <td>1.60</td>\n",
       "      <td>2.30</td>\n",
       "      <td>1.66</td>\n",
       "      <td>2.45</td>\n",
       "      <td>1.85</td>\n",
       "      <td>2.17</td>\n",
       "      <td>-0.102703</td>\n",
       "      <td>0.114286</td>\n",
       "    </tr>\n",
       "    <tr>\n",
       "      <th>17100</th>\n",
       "      <td>Troicki V.</td>\n",
       "      <td>Wawrinka S.</td>\n",
       "      <td>1.0</td>\n",
       "      <td>0.17</td>\n",
       "      <td>0.83</td>\n",
       "      <td>4.34</td>\n",
       "      <td>1.21</td>\n",
       "      <td>4.91</td>\n",
       "      <td>1.24</td>\n",
       "      <td>5.88</td>\n",
       "      <td>1.20</td>\n",
       "      <td>-0.164966</td>\n",
       "      <td>0.032258</td>\n",
       "    </tr>\n",
       "    <tr>\n",
       "      <th>17101</th>\n",
       "      <td>Zverev A.</td>\n",
       "      <td>Berdych T.</td>\n",
       "      <td>0.0</td>\n",
       "      <td>0.16</td>\n",
       "      <td>0.84</td>\n",
       "      <td>2.68</td>\n",
       "      <td>1.46</td>\n",
       "      <td>3.12</td>\n",
       "      <td>1.57</td>\n",
       "      <td>6.25</td>\n",
       "      <td>1.19</td>\n",
       "      <td>-0.500800</td>\n",
       "      <td>0.242038</td>\n",
       "    </tr>\n",
       "    <tr>\n",
       "      <th>17102</th>\n",
       "      <td>Bautista Agut R.</td>\n",
       "      <td>Wawrinka S.</td>\n",
       "      <td>1.0</td>\n",
       "      <td>0.27</td>\n",
       "      <td>0.73</td>\n",
       "      <td>3.40</td>\n",
       "      <td>1.31</td>\n",
       "      <td>3.80</td>\n",
       "      <td>1.41</td>\n",
       "      <td>3.70</td>\n",
       "      <td>1.37</td>\n",
       "      <td>0.026316</td>\n",
       "      <td>0.028369</td>\n",
       "    </tr>\n",
       "    <tr>\n",
       "      <th>17103</th>\n",
       "      <td>Zverev A.</td>\n",
       "      <td>Wawrinka S.</td>\n",
       "      <td>0.0</td>\n",
       "      <td>0.36</td>\n",
       "      <td>0.64</td>\n",
       "      <td>3.36</td>\n",
       "      <td>1.31</td>\n",
       "      <td>3.58</td>\n",
       "      <td>1.36</td>\n",
       "      <td>2.78</td>\n",
       "      <td>1.56</td>\n",
       "      <td>0.223464</td>\n",
       "      <td>-0.128205</td>\n",
       "    </tr>\n",
       "  </tbody>\n",
       "</table>\n",
       "<p>17104 rows × 13 columns</p>\n",
       "</div>"
      ],
      "text/plain": [
       "                    Pl0              Pl1  Winner  Pl0 %  Pl1 %  Pl0 Avg odds  \\\n",
       "0          De Bakker T.         Falla A.     0.0   0.60   0.40          1.52   \n",
       "1            Starace P.         Hajek J.     1.0   0.66   0.34          1.34   \n",
       "2            Schwank E.       Fognini F.     0.0   0.35   0.65          1.99   \n",
       "3             Rochus C.  Garcia-Lopez G.     1.0   0.31   0.69          3.02   \n",
       "4           Bellucci T.      Nieminen J.     0.0   0.57   0.43          1.46   \n",
       "...                 ...              ...     ...    ...    ...           ...   \n",
       "17099         Zverev A.       Youzhny M.     0.0   0.54   0.46          1.60   \n",
       "17100        Troicki V.      Wawrinka S.     1.0   0.17   0.83          4.34   \n",
       "17101         Zverev A.       Berdych T.     0.0   0.16   0.84          2.68   \n",
       "17102  Bautista Agut R.      Wawrinka S.     1.0   0.27   0.73          3.40   \n",
       "17103         Zverev A.      Wawrinka S.     0.0   0.36   0.64          3.36   \n",
       "\n",
       "       Pl1 Avg odds  Pl0 Max odds  Pl1 Max odds  Fair odds for Pl0  \\\n",
       "0              2.46          1.62          2.79               1.67   \n",
       "1              3.12          1.40          3.64               1.52   \n",
       "2              1.77          2.14          1.85               2.86   \n",
       "3              1.36          3.25          1.45               3.23   \n",
       "4              2.63          1.50          3.09               1.75   \n",
       "...             ...           ...           ...                ...   \n",
       "17099          2.30          1.66          2.45               1.85   \n",
       "17100          1.21          4.91          1.24               5.88   \n",
       "17101          1.46          3.12          1.57               6.25   \n",
       "17102          1.31          3.80          1.41               3.70   \n",
       "17103          1.31          3.58          1.36               2.78   \n",
       "\n",
       "       Fair odds for Pl1  Bet on Pl0 Value  Bet on Pl1 Value  \n",
       "0                   2.50         -0.029940          0.103943  \n",
       "1                   2.94         -0.078947          0.192308  \n",
       "2                   1.54         -0.251748          0.167568  \n",
       "3                   1.45          0.006154          0.000000  \n",
       "4                   2.33         -0.142857          0.245955  \n",
       "...                  ...               ...               ...  \n",
       "17099               2.17         -0.102703          0.114286  \n",
       "17100               1.20         -0.164966          0.032258  \n",
       "17101               1.19         -0.500800          0.242038  \n",
       "17102               1.37          0.026316          0.028369  \n",
       "17103               1.56          0.223464         -0.128205  \n",
       "\n",
       "[17104 rows x 13 columns]"
      ]
     },
     "execution_count": 3,
     "metadata": {},
     "output_type": "execute_result"
    }
   ],
   "source": [
    "betting_df"
   ]
  },
  {
   "cell_type": "markdown",
   "metadata": {},
   "source": [
    "Now it's time to simulate the bets!!\n",
    "\n",
    "We're going to start defining some functions that will place the bets and print informations like:\n",
    "- number of bets placed, won and lost\n",
    "- final margin between the initial bankroll and the bankroll after each bet has been placed\n",
    "- total amount of money invested (sum of stakes)\n",
    "- ROI, aka Return on Investment, expressed as: overall profit (or loss) / total amount of money invested"
   ]
  },
  {
   "cell_type": "code",
   "execution_count": 4,
   "metadata": {},
   "outputs": [],
   "source": [
    "\"\"\"\n",
    "This function simulates betting on value bets as defined in the dataframe where each bet is equal to the others \n",
    "and takes in input:\n",
    "- the initial bankroll\n",
    "- the stake (each bet has the same stake)\n",
    "- a bet_on_max_odds variable, that defaults to True and it's the criteria based upon we decide to bet on the maximum\n",
    "odds available or the average odds\n",
    "\"\"\"\n",
    "def betting_at_same_stake(initial_bankroll, stake, bet_on_max_odds=True):\n",
    "    \n",
    "    plot_df_list = []\n",
    "    bankroll = initial_bankroll\n",
    "    won_bets = 0\n",
    "    lost_bets = 0\n",
    "    total_bets = 0\n",
    "    for ix, row in betting_df.iterrows():\n",
    "        if bankroll < 0: break\n",
    "        \n",
    "        value_on_p0 = row['Bet on Pl0 Value']\n",
    "        value_on_p1 = row['Bet on Pl1 Value']\n",
    "        winner = row[\"Winner\"]\n",
    "        \n",
    "        if ix % 100 == 0: plot_df_list.append({\"Bets\":ix,\"Profit\":bankroll-initial_bankroll})\n",
    "            \n",
    "        if bet_on_max_odds: \n",
    "            real_odds_p0 = row['Pl0 Max odds']\n",
    "            real_odds_p1 = row['Pl1 Max odds']\n",
    "        else:\n",
    "            real_odds_p0 = row['Pl0 Avg odds']\n",
    "            real_odds_p1 = row['Pl1 Avg odds'] \n",
    "        \n",
    "        if value_on_p0 > 0:\n",
    "            total_bets += 1\n",
    "            if winner == 0:\n",
    "                bankroll += (real_odds_p0 - 1) * stake\n",
    "                won_bets += 1\n",
    "            else:\n",
    "                bankroll -= stake\n",
    "                lost_bets += 1\n",
    "        \n",
    "        if value_on_p1 > 0:\n",
    "            total_bets += 1\n",
    "            if winner == 1:\n",
    "                bankroll += (real_odds_p1 - 1) * stake\n",
    "                won_bets += 1\n",
    "            else:\n",
    "                bankroll -= stake\n",
    "                lost_bets += 1\n",
    "    \n",
    "    plot_df_list.append({\"Bets\":ix,\"Profit\":bankroll-initial_bankroll})\n",
    "    profit = round(bankroll - initial_bankroll,2)\n",
    "    investment = total_bets*stake\n",
    "    roi = round(100 * profit / investment, 2)\n",
    "    print(\"Total bets placed: {}\\nBets won: {}, bets lost: {}\\nProfit: {}\\nMoney invested: {}\\nROI: {}%\"\n",
    "           .format(total_bets, won_bets, lost_bets, profit, investment, roi))\n",
    "    plot_df = pd.DataFrame(plot_df_list)\n",
    "    plot_df.plot.line(x='Bets', y='Profit')"
   ]
  },
  {
   "cell_type": "code",
   "execution_count": 5,
   "metadata": {
    "scrolled": true
   },
   "outputs": [
    {
     "name": "stdout",
     "output_type": "stream",
     "text": [
      "Total bets placed: 17032\n",
      "Bets won: 9305, bets lost: 7727\n",
      "Profit: 16378.35\n",
      "Money invested: 85160\n",
      "ROI: 19.23%\n"
     ]
    },
    {
     "data": {
      "image/png": "[encoded data removed]",
      "text/plain": [
       "<Figure size 432x288 with 1 Axes>"
      ]
     },
     "metadata": {
      "needs_background": "light"
     },
     "output_type": "display_data"
    }
   ],
   "source": [
    "betting_at_same_stake(initial_bankroll=100, stake=5, bet_on_max_odds=True)"
   ]
  },
  {
   "cell_type": "markdown",
   "metadata": {},
   "source": [
    "Wow! We obtained an impressive 19.23% ROI!\n",
    "\n",
    "However, the first question that we have to ask ourself is: is this achievable in real life?!\n",
    "\n",
    "Well, the answer is no. And the reason is simple: betting at the highest available odds for each match is simply not possible,\n",
    "and the maximum odds in the dataframe are calculated between all of these bookmakers:\n",
    "\n",
    "Bet365, Bet&Win, Centrebet, Expekt, Ladbrokes, Gamebookers, Interwetten, Pinnacles Sports, Sportingbet, Stan James and Unibet."
   ]
  },
  {
   "cell_type": "markdown",
   "metadata": {},
   "source": [
    "So, let's simulate the same betting behaviour but on the Average odds available for each player.\n",
    "This way, we can achive a much more realistic outcome:"
   ]
  },
  {
   "cell_type": "code",
   "execution_count": 6,
   "metadata": {},
   "outputs": [
    {
     "name": "stdout",
     "output_type": "stream",
     "text": [
      "Total bets placed: 17032\n",
      "Bets won: 9305, bets lost: 7727\n",
      "Profit: 6142.6\n",
      "Money invested: 85160\n",
      "ROI: 7.21%\n"
     ]
    },
    {
     "data": {
      "image/png": "[encoded data removed]",
      "text/plain": [
       "<Figure size 432x288 with 1 Axes>"
      ]
     },
     "metadata": {
      "needs_background": "light"
     },
     "output_type": "display_data"
    }
   ],
   "source": [
    "betting_at_same_stake(initial_bankroll=100, stake=5, bet_on_max_odds=False)"
   ]
  },
  {
   "cell_type": "markdown",
   "metadata": {},
   "source": [
    "Well, the ROI has fallen from an impressive 19.23% to a much smaller 7.21%!\n",
    "\n",
    "Is this a bad result?! Not at all!\n",
    "\n",
    "In fact, risking only 5 units per bet, we started with a bankroll of 100 units and finished with more than 6000!\n",
    "And now the odds were much easier to find!"
   ]
  },
  {
   "cell_type": "markdown",
   "metadata": {},
   "source": [
    "## Where are the Bookmaker margins?"
   ]
  },
  {
   "cell_type": "markdown",
   "metadata": {},
   "source": [
    "We already discussed about the fact that betting always at the highest available odds would just be impossible.\n",
    "Let's calculate the bookmakers margin betting on the average odds and the maximum odds available for each match:"
   ]
  },
  {
   "cell_type": "code",
   "execution_count": 7,
   "metadata": {},
   "outputs": [],
   "source": [
    "\"\"\"\n",
    "This method calculates the mean bookmaker margin for each of the bets in the dataframe.\n",
    "If parameter max_odds = True, the maximum odds are considered. Otherwise, the margin is calculated on the average odds.\n",
    "\"\"\"\n",
    "def bookmaker_margin(max_odds=True):\n",
    "    total_margin = 0\n",
    "    for ix, row in betting_df.iterrows():\n",
    "        \n",
    "        if max_odds: \n",
    "            odds_p0 = row['Pl0 Max odds']\n",
    "            odds_p1 = row['Pl1 Max odds']\n",
    "        else:\n",
    "            odds_p0 = row['Pl0 Avg odds']\n",
    "            odds_p1 = row['Pl1 Avg odds'] \n",
    "            \n",
    "        total_margin += (1/odds_p0) + (1/odds_p1)\n",
    "    \n",
    "    return total_margin / betting_df.shape[0]"
   ]
  },
  {
   "cell_type": "code",
   "execution_count": 8,
   "metadata": {},
   "outputs": [],
   "source": [
    "mean_book_margin_at_max_odds = bookmaker_margin(max_odds = True)\n",
    "mean_book_margin_at_avg_odds = bookmaker_margin(max_odds = False)"
   ]
  },
  {
   "cell_type": "code",
   "execution_count": 9,
   "metadata": {},
   "outputs": [
    {
     "data": {
      "text/plain": [
       "0.9954792324661931"
      ]
     },
     "execution_count": 9,
     "metadata": {},
     "output_type": "execute_result"
    }
   ],
   "source": [
    "mean_book_margin_at_max_odds"
   ]
  },
  {
   "cell_type": "code",
   "execution_count": 10,
   "metadata": {},
   "outputs": [
    {
     "data": {
      "text/plain": [
       "1.060627574277833"
      ]
     },
     "execution_count": 10,
     "metadata": {},
     "output_type": "execute_result"
    }
   ],
   "source": [
    "mean_book_margin_at_avg_odds"
   ]
  },
  {
   "cell_type": "markdown",
   "metadata": {},
   "source": [
    "The mean bookmaker margin betting on the highest odds is so small that there isn't any margin!\n",
    "In fact it's less than 1!\n",
    "\n",
    "However, betting the average odds gives the bookmaker a mean margin around 6%, so very similar to the actual bookmakers margin that we can find in the \"real\" world.\n",
    "This emphasizes the fact that achieving around 7% ROI betting on \"real\" odds is really remarkable."
   ]
  },
  {
   "cell_type": "markdown",
   "metadata": {},
   "source": [
    "## Other Betting Strategies\n",
    "\n",
    "We know that betting the same amount of money on each bet is typical for occasional puntors. However, what about other betting strategies?\n",
    "Since we know there's room for profit, why not explore several betting strategies and compare the results?\n",
    "We'll analyze:\n",
    "- Fibonacci betting strategy\n",
    "- Martingale betting strategy\n",
    "- Kelly's criterion\n",
    "\n",
    "\n",
    "__Note__: from now on, we will use only the Average odds to achive a more realistic betting outcome."
   ]
  },
  {
   "cell_type": "markdown",
   "metadata": {},
   "source": [
    "### Fibonacci\n",
    "\n",
    "Let's start with the Fibonacci betting strategy.\n",
    "The Fibonacci betting system is a negative progression system, which means that you increase your wager each time you lose a bet.\n",
    "\n",
    "Suppose we have the fibonacci sequence starting from 1:\n",
    "\n",
    "1, 1, 2, 3, 5, 8, 13, 21, 34, 55, 89, 144, etc.\n",
    "\n",
    "In practice:\n",
    "- We choose 1 as initial stake and we make the first bet\n",
    "- Every time you lose a bet, move one number to the right, every time you win a bet, move two numbers to the left.\n"
   ]
  },
  {
   "cell_type": "markdown",
   "metadata": {},
   "source": [
    "Let's define the fibonacci method, using the golden rule."
   ]
  },
  {
   "cell_type": "code",
   "execution_count": 11,
   "metadata": {},
   "outputs": [],
   "source": [
    "from math import sqrt\n",
    "\n",
    "#uses golden rule\n",
    "def fibonacci(n):\n",
    "    return round(((1+sqrt(5))**n-(1-sqrt(5))**n)/(2**n*sqrt(5)))"
   ]
  },
  {
   "cell_type": "code",
   "execution_count": 12,
   "metadata": {},
   "outputs": [],
   "source": [
    "def betting_with_fibonacci(initial_bankroll):\n",
    "    plot_df_list = []\n",
    "    \n",
    "    bankroll = initial_bankroll\n",
    "    investment = 0\n",
    "    won_bets = 0\n",
    "    lost_bets = 0\n",
    "    total_bets = 0\n",
    "    current_fibonacci_index = 1\n",
    "    for ix, row in betting_df.iterrows():\n",
    "        if bankroll < 0: break\n",
    "        \n",
    "        value_on_p0 = row['Bet on Pl0 Value']\n",
    "        value_on_p1 = row['Bet on Pl1 Value']\n",
    "        winner = row[\"Winner\"]\n",
    "        \n",
    "        if ix % 100 == 0: plot_df_list.append({\"Bets\":ix,\"Profit\":bankroll-initial_bankroll})\n",
    "            \n",
    "        real_odds_p0 = row['Pl0 Avg odds']\n",
    "        real_odds_p1 = row['Pl1 Avg odds'] \n",
    "        \n",
    "        stake = fibonacci(current_fibonacci_index)\n",
    "        \n",
    "        if value_on_p0 > 0:\n",
    "            total_bets += 1\n",
    "            if winner == 0:\n",
    "                bankroll += (real_odds_p0 - 1) * stake\n",
    "                won_bets += 1\n",
    "                current_fibonacci_index = max(1, current_fibonacci_index-2)\n",
    "            else:\n",
    "                bankroll -= stake\n",
    "                lost_bets += 1\n",
    "                current_fibonacci_index += 1\n",
    "        \n",
    "        if value_on_p1 > 0:\n",
    "            total_bets += 1\n",
    "            if winner == 1:\n",
    "                bankroll += (real_odds_p1 - 1) * stake\n",
    "                won_bets += 1\n",
    "                current_fibonacci_index = max(1, current_fibonacci_index-2)\n",
    "            else:\n",
    "                bankroll -= stake\n",
    "                lost_bets += 1\n",
    "                current_fibonacci_index += 1\n",
    "\n",
    "        investment += stake\n",
    "    \n",
    "    plot_df_list.append({\"Bets\":ix,\"Profit\":bankroll-initial_bankroll})\n",
    "    profit = round(bankroll - initial_bankroll,2)\n",
    "    roi = round(100 * profit / investment, 2)\n",
    "    print(\"Total bets placed: {}\\nBets won: {}, bets lost: {}\\nProfit: {}\\nMoney invested: {}\\nROI: {}%\"\n",
    "           .format(total_bets, won_bets, lost_bets, profit, investment, roi))\n",
    "    plot_df = pd.DataFrame(plot_df_list)\n",
    "    plot_df.plot.line(x='Bets', y='Profit')"
   ]
  },
  {
   "cell_type": "code",
   "execution_count": 13,
   "metadata": {},
   "outputs": [
    {
     "name": "stdout",
     "output_type": "stream",
     "text": [
      "Total bets placed: 398\n",
      "Bets won: 195, bets lost: 203\n",
      "Profit: -106.6\n",
      "Money invested: 1135\n",
      "ROI: -9.39%\n"
     ]
    },
    {
     "data": {
      "image/png": "[encoded data removed]",
      "text/plain": [
       "<Figure size 432x288 with 1 Axes>"
      ]
     },
     "metadata": {
      "needs_background": "light"
     },
     "output_type": "display_data"
    }
   ],
   "source": [
    "betting_with_fibonacci(100)"
   ]
  },
  {
   "cell_type": "markdown",
   "metadata": {},
   "source": [
    "Well, that's not very incouraging!\n",
    "After 398 bets, we've run out of money to bet! This is a recurring problem of the negative progression strategies like Fibonacci.\n",
    "\n",
    "Let's see if with Martingale progression we are luckier!"
   ]
  },
  {
   "cell_type": "markdown",
   "metadata": {},
   "source": [
    "### Martingale\n",
    "\n",
    "This strategy defines a base minimum stake (we'll go with 1% of initial bankroll) and has only 2 rules:\n",
    "- Double up every time you lose\n",
    "- Stick to your base stake when you win"
   ]
  },
  {
   "cell_type": "code",
   "execution_count": 14,
   "metadata": {},
   "outputs": [],
   "source": [
    "def betting_with_martingale(initial_bankroll):\n",
    "    plot_df_list = []\n",
    "    \n",
    "    bankroll = initial_bankroll\n",
    "    investment = 0\n",
    "    won_bets = 0\n",
    "    lost_bets = 0\n",
    "    total_bets = 0\n",
    "    \n",
    "    initial_stake = round(initial_bankroll*1/100)\n",
    "    stake = initial_stake\n",
    "    \n",
    "    for ix, row in betting_df.iterrows():\n",
    "        if bankroll < 0: break\n",
    "        \n",
    "        value_on_p0 = row['Bet on Pl0 Value']\n",
    "        value_on_p1 = row['Bet on Pl1 Value']\n",
    "        winner = row[\"Winner\"]\n",
    "        \n",
    "        if ix % 100 == 0: plot_df_list.append({\"Bets\":ix,\"Profit\":bankroll-initial_bankroll})\n",
    "            \n",
    "        real_odds_p0 = row['Pl0 Avg odds']\n",
    "        real_odds_p1 = row['Pl1 Avg odds'] \n",
    "        \n",
    "        if value_on_p0 > 0:\n",
    "            total_bets += 1\n",
    "            if winner == 0:\n",
    "                bankroll += (real_odds_p0 - 1) * stake\n",
    "                won_bets += 1\n",
    "                stake = initial_stake\n",
    "            else:\n",
    "                bankroll -= stake\n",
    "                lost_bets += 1\n",
    "                stake *= 2\n",
    "        \n",
    "        if value_on_p1 > 0:\n",
    "            total_bets += 1\n",
    "            if winner == 1:\n",
    "                bankroll += (real_odds_p1 - 1) * stake\n",
    "                won_bets += 1\n",
    "                stake = initial_stake\n",
    "            else:\n",
    "                bankroll -= stake\n",
    "                lost_bets += 1\n",
    "                stake *= 2\n",
    "\n",
    "        investment += stake\n",
    "    \n",
    "    plot_df_list.append({\"Bets\":ix,\"Profit\":bankroll-initial_bankroll})\n",
    "    profit = round(bankroll - initial_bankroll,2)\n",
    "    roi = round(100 * profit / investment, 2)\n",
    "    print(\"Total bets placed: {}\\nBets won: {}, bets lost: {}\\nProfit: {}\\nMoney invested: {}\\nROI: {}%\"\n",
    "           .format(total_bets, won_bets, lost_bets, profit, investment, roi))\n",
    "    plot_df = pd.DataFrame(plot_df_list)\n",
    "    plot_df.plot.line(x='Bets', y='Profit')"
   ]
  },
  {
   "cell_type": "code",
   "execution_count": 15,
   "metadata": {},
   "outputs": [
    {
     "name": "stdout",
     "output_type": "stream",
     "text": [
      "Total bets placed: 382\n",
      "Bets won: 191, bets lost: 191\n",
      "Profit: -115.02\n",
      "Money invested: 1636\n",
      "ROI: -7.03%\n"
     ]
    },
    {
     "data": {
      "image/png": "[encoded data removed]",
      "text/plain": [
       "<Figure size 432x288 with 1 Axes>"
      ]
     },
     "metadata": {
      "needs_background": "light"
     },
     "output_type": "display_data"
    }
   ],
   "source": [
    "betting_with_martingale(100)"
   ]
  },
  {
   "cell_type": "markdown",
   "metadata": {},
   "source": [
    "As we can see, at the first big losing streak we've lost all our money! Much like the Fibonacci strategy, the Martingale's risky approach didn't pay out at all!"
   ]
  },
  {
   "cell_type": "markdown",
   "metadata": {},
   "source": [
    "### Kelly's Criterion\n",
    "\n",
    "The Kelly Criterion is a mathematical formula that can be applied to determine the optimal sum of money that should be invested or wagered on an opportunity. It takes into consideration the total amount of money that's available to use and the expected return.\n",
    "\n",
    "The formula to calculate the stake to use at each bet is the following:\n",
    "\n",
    "(bp – q) / b = f\n",
    "\n",
    "where:\n",
    "- b is the multiple of your stake you can win from the wager: it's equal to the odds minus 1.\n",
    "- p is the probability of the wager winning: the predicted chance to win the bet\n",
    "- q is the probability of the wager losing: simply equals to 1 - p\n",
    "- f is the fraction of your bankroll to stake on the wager"
   ]
  },
  {
   "cell_type": "markdown",
   "metadata": {},
   "source": [
    "Let's define a function that takes in input the probability of an event to occur and its odds, and returns a fraction of the bankroll to invest based on the Kelly's criterion."
   ]
  },
  {
   "cell_type": "code",
   "execution_count": 16,
   "metadata": {},
   "outputs": [],
   "source": [
    "def kelly(prob, odds):\n",
    "    return round((prob*odds - 1)/(odds - 1), 2)"
   ]
  },
  {
   "cell_type": "markdown",
   "metadata": {},
   "source": [
    "Now it's time to define the function that simulates these bets using the Kelly's criterion.\n",
    "However, we define a threshold for how a stake for each bet can be. This parameter, __max_stake_for_bet__, defaults to 100 but can be specified as input parameter of the function."
   ]
  },
  {
   "cell_type": "code",
   "execution_count": 17,
   "metadata": {},
   "outputs": [],
   "source": [
    "def betting_with_kelly(initial_bankroll, max_stake_for_bet=100):\n",
    "    plot_df_list = []\n",
    "    \n",
    "    bankroll = initial_bankroll\n",
    "    investment = 0\n",
    "    won_bets = 0\n",
    "    lost_bets = 0\n",
    "    total_bets = 0\n",
    "    \n",
    "    for ix, row in betting_df.iterrows():\n",
    "        if bankroll < 0: break\n",
    "        \n",
    "        value_on_p0 = row['Bet on Pl0 Value']\n",
    "        value_on_p1 = row['Bet on Pl1 Value']\n",
    "        winner = row[\"Winner\"]\n",
    "        \n",
    "        if ix % 100 == 0: plot_df_list.append({\"Bets\":ix,\"Profit\":bankroll-initial_bankroll})\n",
    "            \n",
    "        real_odds_p0 = row['Pl0 Avg odds']\n",
    "        real_odds_p1 = row['Pl1 Avg odds'] \n",
    "        \n",
    "        if value_on_p0 > 0:\n",
    "            stake = min(max_stake_for_bet, round(bankroll * kelly(row['Pl0 %'], real_odds_p0)))\n",
    "            if stake < 0: continue\n",
    "            investment += stake\n",
    "            total_bets += 1\n",
    "            if winner == 0:\n",
    "                bankroll += (real_odds_p0 - 1) * stake\n",
    "                won_bets += 1\n",
    "            else:\n",
    "                bankroll -= stake\n",
    "                lost_bets += 1\n",
    "        \n",
    "        if value_on_p1 > 0:\n",
    "            stake = min(max_stake_for_bet, round(bankroll * kelly(row['Pl1 %'], real_odds_p1)))\n",
    "            if stake < 0: continue\n",
    "            investment += stake\n",
    "            total_bets += 1\n",
    "            if winner == 1:\n",
    "                bankroll += (real_odds_p1 - 1) * stake\n",
    "                won_bets += 1\n",
    "            else:\n",
    "                bankroll -= stake\n",
    "                lost_bets += 1\n",
    "        \n",
    "    plot_df_list.append({\"Bets\":ix,\"Profit\":bankroll-initial_bankroll})\n",
    "    profit = round(bankroll - initial_bankroll,2)\n",
    "    roi = round(100 * profit / investment, 2)\n",
    "    print(\"Total bets placed: {}\\nBets won: {}, bets lost: {}\\nProfit: {}\\nMoney invested: {}\\nROI: {}%\"\n",
    "           .format(total_bets, won_bets, lost_bets, profit, investment, roi))\n",
    "    plot_df = pd.DataFrame(plot_df_list)\n",
    "    plot_df.plot.line(x='Bets', y='Profit')"
   ]
  },
  {
   "cell_type": "code",
   "execution_count": 18,
   "metadata": {},
   "outputs": [
    {
     "name": "stdout",
     "output_type": "stream",
     "text": [
      "Total bets placed: 13575\n",
      "Bets won: 7673, bets lost: 5902\n",
      "Profit: 185727.84\n",
      "Money invested: 1295832\n",
      "ROI: 14.33%\n"
     ]
    },
    {
     "data": {
      "image/png": "[encoded data removed]",
      "text/plain": [
       "<Figure size 432x288 with 1 Axes>"
      ]
     },
     "metadata": {
      "needs_background": "light"
     },
     "output_type": "display_data"
    }
   ],
   "source": [
    "betting_with_kelly(100, max_stake_for_bet=100)"
   ]
  },
  {
   "cell_type": "markdown",
   "metadata": {},
   "source": [
    "Well...This really is a remarkable result!\n",
    "Kelly's criterium squeezes out the margin that we found over the bookies, and improves our ROI to above 14%!\n",
    "\n",
    "It's clearly the best choice over the other betting strategies."
   ]
  },
  {
   "cell_type": "markdown",
   "metadata": {},
   "source": [
    "## Further analysis on Logistic Regression predictions\n",
    "\n",
    "At this point, we should be pretty confident that our Logistic Regression model does quite a good job at predicting the correct chances for each player to win a match.\n",
    "\n",
    "However, what happens if, rather than betting blindly on every bet that has value greater than 0, we define a value threshold, like 0.10, 0.25, etc.?\n",
    "How does this threshold affect the ROI?\n",
    "\n",
    "Let's find out!"
   ]
  },
  {
   "cell_type": "markdown",
   "metadata": {},
   "source": [
    "Let's define a function similar to the __betting_with_kelly__ used above, that takes in input this value threshold and returns the ROI:"
   ]
  },
  {
   "cell_type": "code",
   "execution_count": 19,
   "metadata": {},
   "outputs": [],
   "source": [
    "def betting_with_kelly_and_threshold(initial_bankroll, VALUE_THRESHOLD, max_stake_for_bet=100):    \n",
    "    bankroll = initial_bankroll\n",
    "    investment = 0\n",
    "    won_bets = 0\n",
    "    lost_bets = 0\n",
    "    total_bets = 0\n",
    "    \n",
    "    for ix, row in betting_df.iterrows():\n",
    "        if bankroll < 0: break\n",
    "        \n",
    "        value_on_p0 = row['Bet on Pl0 Value']\n",
    "        value_on_p1 = row['Bet on Pl1 Value']\n",
    "        winner = row[\"Winner\"]\n",
    "                    \n",
    "        real_odds_p0 = row['Pl0 Avg odds']\n",
    "        real_odds_p1 = row['Pl1 Avg odds'] \n",
    "        \n",
    "        if value_on_p0 > VALUE_THRESHOLD:\n",
    "            stake = min(max_stake_for_bet, round(bankroll * kelly(row['Pl0 %'], real_odds_p0)))\n",
    "            if stake < 0: continue\n",
    "            investment += stake\n",
    "            total_bets += 1\n",
    "            if winner == 0:\n",
    "                bankroll += (real_odds_p0 - 1) * stake\n",
    "                won_bets += 1\n",
    "            else:\n",
    "                bankroll -= stake\n",
    "                lost_bets += 1\n",
    "        \n",
    "        if value_on_p1 > VALUE_THRESHOLD:\n",
    "            stake = min(max_stake_for_bet, round(bankroll * kelly(row['Pl1 %'], real_odds_p1)))\n",
    "            if stake < 0: continue\n",
    "            investment += stake\n",
    "            total_bets += 1\n",
    "            if winner == 1:\n",
    "                bankroll += (real_odds_p1 - 1) * stake\n",
    "                won_bets += 1\n",
    "            else:\n",
    "                bankroll -= stake\n",
    "                lost_bets += 1\n",
    "        \n",
    "    profit = round(bankroll - initial_bankroll,2)\n",
    "    roi = round(100 * profit / investment, 2)\n",
    "    return roi"
   ]
  },
  {
   "cell_type": "markdown",
   "metadata": {},
   "source": [
    "Now, let's run this function with different value thresholds parameters, from 0 to 0.75, and let's compare the ROI for each run."
   ]
  },
  {
   "cell_type": "code",
   "execution_count": 20,
   "metadata": {},
   "outputs": [
    {
     "data": {
      "text/plain": [
       "<matplotlib.axes._subplots.AxesSubplot at 0x14a191bccc8>"
      ]
     },
     "execution_count": 20,
     "metadata": {},
     "output_type": "execute_result"
    },
    {
     "data": {
      "image/png": "[encoded data removed]",
      "text/plain": [
       "<Figure size 432x288 with 1 Axes>"
      ]
     },
     "metadata": {
      "needs_background": "light"
     },
     "output_type": "display_data"
    }
   ],
   "source": [
    "threshold_comparator_df_list = []\n",
    "for i in np.linspace(start=0, stop=0.75, num=7, endpoint=False):\n",
    "    value_threshold = round(i,1)\n",
    "    roi = betting_with_kelly_and_threshold(100, VALUE_THRESHOLD=value_threshold)\n",
    "    threshold_comparator_df_list.append({\"Value Threshold\":value_threshold, \"ROI\":roi})\n",
    "\n",
    "threshold_comparator_df = pd.DataFrame(threshold_comparator_df_list)\n",
    "threshold_comparator_df.plot.line(x='ROI', y='Value Threshold')"
   ]
  },
  {
   "cell_type": "markdown",
   "metadata": {},
   "source": [
    "It's clear from the above image that there's a positive relationship between the Value Threshold and the Return on our Investement! \n",
    "\n",
    "The dropoff with choosing a greater threshold is, of course, that there are less and less opportunities and matches to bet on!"
   ]
  },
  {
   "cell_type": "markdown",
   "metadata": {},
   "source": [
    "# Conclusion"
   ]
  },
  {
   "cell_type": "markdown",
   "metadata": {},
   "source": [
    "It's been a long journey but we've come to an end!\n",
    "\n",
    "Let's recap what we accomplished.\n",
    "Firstly, we obtained a tennis match dataset containing almost every match between 2000 and 2016, with many important features defined such as surface, court, round of tournament, tournament's category, ranking of the players and average/max odds for each player for as many as around 17000 matches!\n",
    "\n",
    "Then we preprocessed the data, and extended it calculating new features for each match like the surface perfomance for each player, the recent form of the players before their matches, how well they performed against opponents with similar rankings, etc.\n",
    "\n",
    "With this extended dataset, we trained some machine learning models to achieve the best classification accuracy (73%), and we decided to use our Logistic Regression model to predict the chances for each player to win any given match.\n",
    "\n",
    "Using these probabilities, and comparing them to the max and average odds available, we found value bets.\n",
    "\n",
    "So we used different betting strategies to backtest the model's predictions and their accuracy, and we've soon find out that using Kelly's criterion as betting strategy we could obtain a very high ROI, even with average odds, as we discussed in this notebook.\n",
    "\n",
    "Thanks for your attention,\n",
    "Andrea Corsetti"
   ]
  }
 ],
 "metadata": {
  "kernelspec": {
   "display_name": "Python 3",
   "language": "python",
   "name": "python3"
  },
  "language_info": {
   "codemirror_mode": {
    "name": "ipython",
    "version": 3
   },
   "file_extension": ".py",
   "mimetype": "text/x-python",
   "name": "python",
   "nbconvert_exporter": "python",
   "pygments_lexer": "ipython3",
   "version": "3.7.6"
  }
 },
 "nbformat": 4,
 "nbformat_minor": 4
}
