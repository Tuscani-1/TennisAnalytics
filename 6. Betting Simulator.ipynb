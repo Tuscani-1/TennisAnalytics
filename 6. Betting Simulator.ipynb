{
 "cells": [
  {
   "cell_type": "markdown",
   "metadata": {},
   "source": [
    "# 6. Betting Simulator\n",
    "\n",
    "In this notebook, we're going to use the betting dataframe built in the last stage, to simulate bets on matches where we think to have an edge on the betting market (i.e. a value bet occurs when the real odds for an event are higher than the odds \"predicted\" by our model).\n",
    "\n",
    "Finally, we'll compare several betting strategies and we'll find out if it's possible to make a good ROI backtesting our betting strategies."
   ]
  },
  {
   "cell_type": "markdown",
   "metadata": {},
   "source": [
    "Let's import the relevant libraries:"
   ]
  },
  {
   "cell_type": "code",
   "execution_count": 1,
   "metadata": {},
   "outputs": [],
   "source": [
    "import pandas as pd\n",
    "import matplotlib.pyplot as plt\n",
    "import numpy as np"
   ]
  },
  {
   "cell_type": "markdown",
   "metadata": {},
   "source": [
    "Let's import the Betting Dataframe saved in the last notebook"
   ]
  },
  {
   "cell_type": "code",
   "execution_count": 2,
   "metadata": {},
   "outputs": [],
   "source": [
    "betting_df = pd.read_csv(\"csv/Betting_Data.csv\")"
   ]
  },
  {
   "cell_type": "code",
   "execution_count": 3,
   "metadata": {},
   "outputs": [
    {
     "data": {
      "text/html": [
       "<div>\n",
       "<style scoped>\n",
       "    .dataframe tbody tr th:only-of-type {\n",
       "        vertical-align: middle;\n",
       "    }\n",
       "\n",
       "    .dataframe tbody tr th {\n",
       "        vertical-align: top;\n",
       "    }\n",
       "\n",
       "    .dataframe thead th {\n",
       "        text-align: right;\n",
       "    }\n",
       "</style>\n",
       "<table border=\"1\" class=\"dataframe\">\n",
       "  <thead>\n",
       "    <tr style=\"text-align: right;\">\n",
       "      <th></th>\n",
       "      <th>Date</th>\n",
       "      <th>Player 0</th>\n",
       "      <th>Player 1</th>\n",
       "      <th>Winner</th>\n",
       "      <th>Pl0_Rank</th>\n",
       "      <th>Pl1_Rank</th>\n",
       "      <th>Pl0 Avg odds</th>\n",
       "      <th>Pl1 Avg odds</th>\n",
       "      <th>Pl1 Max odds</th>\n",
       "      <th>Pl0 Max odds</th>\n",
       "      <th>...</th>\n",
       "      <th>Pl0 Perf. vs Similar Opponent</th>\n",
       "      <th>Pl1 Perf. vs Similar Opponent</th>\n",
       "      <th>Pl0 Surface Performance</th>\n",
       "      <th>Pl1 Surface Performance</th>\n",
       "      <th>Pl0 %</th>\n",
       "      <th>Pl1 %</th>\n",
       "      <th>Fair odds for Pl0</th>\n",
       "      <th>Fair odds for Pl1</th>\n",
       "      <th>Bet on Pl0 Value</th>\n",
       "      <th>Bet on Pl1 Value</th>\n",
       "    </tr>\n",
       "  </thead>\n",
       "  <tbody>\n",
       "    <tr>\n",
       "      <th>0</th>\n",
       "      <td>2010-04-19</td>\n",
       "      <td>De Bakker T.</td>\n",
       "      <td>Falla A.</td>\n",
       "      <td>0.0</td>\n",
       "      <td>67</td>\n",
       "      <td>58</td>\n",
       "      <td>1.52</td>\n",
       "      <td>2.46</td>\n",
       "      <td>2.79</td>\n",
       "      <td>1.62</td>\n",
       "      <td>...</td>\n",
       "      <td>0.50</td>\n",
       "      <td>0.39</td>\n",
       "      <td>0.46</td>\n",
       "      <td>0.39</td>\n",
       "      <td>0.619670</td>\n",
       "      <td>0.380330</td>\n",
       "      <td>1.61</td>\n",
       "      <td>2.63</td>\n",
       "      <td>-0.055901</td>\n",
       "      <td>-0.064639</td>\n",
       "    </tr>\n",
       "    <tr>\n",
       "      <th>1</th>\n",
       "      <td>2010-04-19</td>\n",
       "      <td>Starace P.</td>\n",
       "      <td>Hajek J.</td>\n",
       "      <td>1.0</td>\n",
       "      <td>61</td>\n",
       "      <td>86</td>\n",
       "      <td>1.34</td>\n",
       "      <td>3.12</td>\n",
       "      <td>3.64</td>\n",
       "      <td>1.40</td>\n",
       "      <td>...</td>\n",
       "      <td>0.52</td>\n",
       "      <td>0.40</td>\n",
       "      <td>0.52</td>\n",
       "      <td>0.39</td>\n",
       "      <td>0.671717</td>\n",
       "      <td>0.328283</td>\n",
       "      <td>1.49</td>\n",
       "      <td>3.05</td>\n",
       "      <td>-0.100671</td>\n",
       "      <td>0.022436</td>\n",
       "    </tr>\n",
       "    <tr>\n",
       "      <th>2</th>\n",
       "      <td>2010-04-19</td>\n",
       "      <td>Schwank E.</td>\n",
       "      <td>Fognini F.</td>\n",
       "      <td>0.0</td>\n",
       "      <td>59</td>\n",
       "      <td>74</td>\n",
       "      <td>1.99</td>\n",
       "      <td>1.77</td>\n",
       "      <td>1.85</td>\n",
       "      <td>2.14</td>\n",
       "      <td>...</td>\n",
       "      <td>0.46</td>\n",
       "      <td>0.60</td>\n",
       "      <td>0.45</td>\n",
       "      <td>0.58</td>\n",
       "      <td>0.326398</td>\n",
       "      <td>0.673602</td>\n",
       "      <td>3.06</td>\n",
       "      <td>1.48</td>\n",
       "      <td>-0.349673</td>\n",
       "      <td>0.163842</td>\n",
       "    </tr>\n",
       "    <tr>\n",
       "      <th>3</th>\n",
       "      <td>2010-04-19</td>\n",
       "      <td>Rochus C.</td>\n",
       "      <td>Garcia-Lopez G.</td>\n",
       "      <td>1.0</td>\n",
       "      <td>122</td>\n",
       "      <td>42</td>\n",
       "      <td>3.02</td>\n",
       "      <td>1.36</td>\n",
       "      <td>1.45</td>\n",
       "      <td>3.25</td>\n",
       "      <td>...</td>\n",
       "      <td>0.36</td>\n",
       "      <td>0.59</td>\n",
       "      <td>0.43</td>\n",
       "      <td>0.50</td>\n",
       "      <td>0.325714</td>\n",
       "      <td>0.674286</td>\n",
       "      <td>3.07</td>\n",
       "      <td>1.48</td>\n",
       "      <td>-0.016287</td>\n",
       "      <td>-0.081081</td>\n",
       "    </tr>\n",
       "    <tr>\n",
       "      <th>4</th>\n",
       "      <td>2010-04-19</td>\n",
       "      <td>Bellucci T.</td>\n",
       "      <td>Nieminen J.</td>\n",
       "      <td>0.0</td>\n",
       "      <td>33</td>\n",
       "      <td>64</td>\n",
       "      <td>1.46</td>\n",
       "      <td>2.63</td>\n",
       "      <td>3.09</td>\n",
       "      <td>1.50</td>\n",
       "      <td>...</td>\n",
       "      <td>0.57</td>\n",
       "      <td>0.46</td>\n",
       "      <td>0.53</td>\n",
       "      <td>0.53</td>\n",
       "      <td>0.521146</td>\n",
       "      <td>0.478854</td>\n",
       "      <td>1.92</td>\n",
       "      <td>2.09</td>\n",
       "      <td>-0.239583</td>\n",
       "      <td>0.205323</td>\n",
       "    </tr>\n",
       "    <tr>\n",
       "      <th>...</th>\n",
       "      <td>...</td>\n",
       "      <td>...</td>\n",
       "      <td>...</td>\n",
       "      <td>...</td>\n",
       "      <td>...</td>\n",
       "      <td>...</td>\n",
       "      <td>...</td>\n",
       "      <td>...</td>\n",
       "      <td>...</td>\n",
       "      <td>...</td>\n",
       "      <td>...</td>\n",
       "      <td>...</td>\n",
       "      <td>...</td>\n",
       "      <td>...</td>\n",
       "      <td>...</td>\n",
       "      <td>...</td>\n",
       "      <td>...</td>\n",
       "      <td>...</td>\n",
       "      <td>...</td>\n",
       "      <td>...</td>\n",
       "      <td>...</td>\n",
       "    </tr>\n",
       "    <tr>\n",
       "      <th>25349</th>\n",
       "      <td>2019-11-15</td>\n",
       "      <td>Nadal R.</td>\n",
       "      <td>Tsitsipas S.</td>\n",
       "      <td>0.0</td>\n",
       "      <td>1</td>\n",
       "      <td>6</td>\n",
       "      <td>1.41</td>\n",
       "      <td>2.93</td>\n",
       "      <td>3.30</td>\n",
       "      <td>1.48</td>\n",
       "      <td>...</td>\n",
       "      <td>0.50</td>\n",
       "      <td>0.67</td>\n",
       "      <td>0.67</td>\n",
       "      <td>0.80</td>\n",
       "      <td>0.262746</td>\n",
       "      <td>0.737254</td>\n",
       "      <td>3.81</td>\n",
       "      <td>1.36</td>\n",
       "      <td>-0.629921</td>\n",
       "      <td>0.535836</td>\n",
       "    </tr>\n",
       "    <tr>\n",
       "      <th>25350</th>\n",
       "      <td>2019-11-15</td>\n",
       "      <td>Medvedev D.</td>\n",
       "      <td>Zverev A.</td>\n",
       "      <td>1.0</td>\n",
       "      <td>4</td>\n",
       "      <td>7</td>\n",
       "      <td>1.90</td>\n",
       "      <td>1.92</td>\n",
       "      <td>2.24</td>\n",
       "      <td>2.06</td>\n",
       "      <td>...</td>\n",
       "      <td>0.00</td>\n",
       "      <td>1.00</td>\n",
       "      <td>0.00</td>\n",
       "      <td>0.50</td>\n",
       "      <td>0.019093</td>\n",
       "      <td>0.980907</td>\n",
       "      <td>52.38</td>\n",
       "      <td>1.02</td>\n",
       "      <td>-0.963727</td>\n",
       "      <td>0.468750</td>\n",
       "    </tr>\n",
       "    <tr>\n",
       "      <th>25351</th>\n",
       "      <td>2019-11-16</td>\n",
       "      <td>Tsitsipas S.</td>\n",
       "      <td>Federer R.</td>\n",
       "      <td>0.0</td>\n",
       "      <td>6</td>\n",
       "      <td>3</td>\n",
       "      <td>3.39</td>\n",
       "      <td>1.33</td>\n",
       "      <td>1.40</td>\n",
       "      <td>3.75</td>\n",
       "      <td>...</td>\n",
       "      <td>0.67</td>\n",
       "      <td>0.33</td>\n",
       "      <td>0.80</td>\n",
       "      <td>0.67</td>\n",
       "      <td>0.788123</td>\n",
       "      <td>0.211877</td>\n",
       "      <td>1.27</td>\n",
       "      <td>4.72</td>\n",
       "      <td>0.625369</td>\n",
       "      <td>-0.718220</td>\n",
       "    </tr>\n",
       "    <tr>\n",
       "      <th>25352</th>\n",
       "      <td>2019-11-16</td>\n",
       "      <td>Zverev A.</td>\n",
       "      <td>Thiem D.</td>\n",
       "      <td>1.0</td>\n",
       "      <td>7</td>\n",
       "      <td>5</td>\n",
       "      <td>2.06</td>\n",
       "      <td>1.78</td>\n",
       "      <td>1.87</td>\n",
       "      <td>2.20</td>\n",
       "      <td>...</td>\n",
       "      <td>0.00</td>\n",
       "      <td>0.33</td>\n",
       "      <td>0.50</td>\n",
       "      <td>0.60</td>\n",
       "      <td>0.254161</td>\n",
       "      <td>0.745839</td>\n",
       "      <td>3.93</td>\n",
       "      <td>1.34</td>\n",
       "      <td>-0.475827</td>\n",
       "      <td>0.247191</td>\n",
       "    </tr>\n",
       "    <tr>\n",
       "      <th>25353</th>\n",
       "      <td>2019-11-17</td>\n",
       "      <td>Tsitsipas S.</td>\n",
       "      <td>Thiem D.</td>\n",
       "      <td>0.0</td>\n",
       "      <td>6</td>\n",
       "      <td>5</td>\n",
       "      <td>1.96</td>\n",
       "      <td>1.86</td>\n",
       "      <td>1.93</td>\n",
       "      <td>2.05</td>\n",
       "      <td>...</td>\n",
       "      <td>1.00</td>\n",
       "      <td>0.33</td>\n",
       "      <td>0.80</td>\n",
       "      <td>0.60</td>\n",
       "      <td>0.906151</td>\n",
       "      <td>0.093849</td>\n",
       "      <td>1.10</td>\n",
       "      <td>10.66</td>\n",
       "      <td>0.438776</td>\n",
       "      <td>-0.825516</td>\n",
       "    </tr>\n",
       "  </tbody>\n",
       "</table>\n",
       "<p>25354 rows × 48 columns</p>\n",
       "</div>"
      ],
      "text/plain": [
       "             Date       Player 0         Player 1  Winner  Pl0_Rank  Pl1_Rank  \\\n",
       "0      2010-04-19   De Bakker T.         Falla A.     0.0        67        58   \n",
       "1      2010-04-19     Starace P.         Hajek J.     1.0        61        86   \n",
       "2      2010-04-19     Schwank E.       Fognini F.     0.0        59        74   \n",
       "3      2010-04-19      Rochus C.  Garcia-Lopez G.     1.0       122        42   \n",
       "4      2010-04-19    Bellucci T.      Nieminen J.     0.0        33        64   \n",
       "...           ...            ...              ...     ...       ...       ...   \n",
       "25349  2019-11-15      Nadal R.     Tsitsipas S.      0.0         1         6   \n",
       "25350  2019-11-15   Medvedev D.        Zverev A.      1.0         4         7   \n",
       "25351  2019-11-16  Tsitsipas S.       Federer R.      0.0         6         3   \n",
       "25352  2019-11-16     Zverev A.         Thiem D.      1.0         7         5   \n",
       "25353  2019-11-17  Tsitsipas S.         Thiem D.      0.0         6         5   \n",
       "\n",
       "       Pl0 Avg odds  Pl1 Avg odds  Pl1 Max odds  Pl0 Max odds  ...  \\\n",
       "0              1.52          2.46          2.79          1.62  ...   \n",
       "1              1.34          3.12          3.64          1.40  ...   \n",
       "2              1.99          1.77          1.85          2.14  ...   \n",
       "3              3.02          1.36          1.45          3.25  ...   \n",
       "4              1.46          2.63          3.09          1.50  ...   \n",
       "...             ...           ...           ...           ...  ...   \n",
       "25349          1.41          2.93          3.30          1.48  ...   \n",
       "25350          1.90          1.92          2.24          2.06  ...   \n",
       "25351          3.39          1.33          1.40          3.75  ...   \n",
       "25352          2.06          1.78          1.87          2.20  ...   \n",
       "25353          1.96          1.86          1.93          2.05  ...   \n",
       "\n",
       "       Pl0 Perf. vs Similar Opponent  Pl1 Perf. vs Similar Opponent  \\\n",
       "0                               0.50                           0.39   \n",
       "1                               0.52                           0.40   \n",
       "2                               0.46                           0.60   \n",
       "3                               0.36                           0.59   \n",
       "4                               0.57                           0.46   \n",
       "...                              ...                            ...   \n",
       "25349                           0.50                           0.67   \n",
       "25350                           0.00                           1.00   \n",
       "25351                           0.67                           0.33   \n",
       "25352                           0.00                           0.33   \n",
       "25353                           1.00                           0.33   \n",
       "\n",
       "       Pl0 Surface Performance  Pl1 Surface Performance     Pl0 %     Pl1 %  \\\n",
       "0                         0.46                     0.39  0.619670  0.380330   \n",
       "1                         0.52                     0.39  0.671717  0.328283   \n",
       "2                         0.45                     0.58  0.326398  0.673602   \n",
       "3                         0.43                     0.50  0.325714  0.674286   \n",
       "4                         0.53                     0.53  0.521146  0.478854   \n",
       "...                        ...                      ...       ...       ...   \n",
       "25349                     0.67                     0.80  0.262746  0.737254   \n",
       "25350                     0.00                     0.50  0.019093  0.980907   \n",
       "25351                     0.80                     0.67  0.788123  0.211877   \n",
       "25352                     0.50                     0.60  0.254161  0.745839   \n",
       "25353                     0.80                     0.60  0.906151  0.093849   \n",
       "\n",
       "       Fair odds for Pl0  Fair odds for Pl1  Bet on Pl0 Value  \\\n",
       "0                   1.61               2.63         -0.055901   \n",
       "1                   1.49               3.05         -0.100671   \n",
       "2                   3.06               1.48         -0.349673   \n",
       "3                   3.07               1.48         -0.016287   \n",
       "4                   1.92               2.09         -0.239583   \n",
       "...                  ...                ...               ...   \n",
       "25349               3.81               1.36         -0.629921   \n",
       "25350              52.38               1.02         -0.963727   \n",
       "25351               1.27               4.72          0.625369   \n",
       "25352               3.93               1.34         -0.475827   \n",
       "25353               1.10              10.66          0.438776   \n",
       "\n",
       "       Bet on Pl1 Value  \n",
       "0             -0.064639  \n",
       "1              0.022436  \n",
       "2              0.163842  \n",
       "3             -0.081081  \n",
       "4              0.205323  \n",
       "...                 ...  \n",
       "25349          0.535836  \n",
       "25350          0.468750  \n",
       "25351         -0.718220  \n",
       "25352          0.247191  \n",
       "25353         -0.825516  \n",
       "\n",
       "[25354 rows x 48 columns]"
      ]
     },
     "execution_count": 3,
     "metadata": {},
     "output_type": "execute_result"
    }
   ],
   "source": [
    "betting_df"
   ]
  },
  {
   "cell_type": "markdown",
   "metadata": {},
   "source": [
    "Now it's time to simulate the bets!!\n",
    "\n",
    "We're going to start defining some functions that will place the bets and print informations like:\n",
    "- number of bets placed, won and lost\n",
    "- final margin between the initial bankroll and the bankroll after each bet has been placed\n",
    "- total amount of money invested (sum of stakes)\n",
    "- ROI, aka Return on Investment, expressed as: overall profit (or loss) / total amount of money invested"
   ]
  },
  {
   "cell_type": "code",
   "execution_count": 4,
   "metadata": {},
   "outputs": [],
   "source": [
    "\"\"\"\n",
    "This function simulates betting on value bets as defined in the dataframe where each bet is equal to the others \n",
    "and takes in input:\n",
    "- the initial bankroll\n",
    "- the stake (each bet has the same stake)\n",
    "- a bet_on_max_odds variable, that defaults to True and it's the criteria based upon we decide to bet on the maximum\n",
    "odds available or the average odds\n",
    "\"\"\"\n",
    "def betting_at_same_stake(initial_bankroll, stake, bet_on_max_odds=True):\n",
    "    \n",
    "    plot_df_list = []\n",
    "    bankroll = initial_bankroll\n",
    "    won_bets = 0\n",
    "    lost_bets = 0\n",
    "    total_bets = 0\n",
    "    for ix, row in betting_df.iterrows():\n",
    "        if bankroll < 0: break\n",
    "        \n",
    "        value_on_p0 = row['Bet on Pl0 Value']\n",
    "        value_on_p1 = row['Bet on Pl1 Value']\n",
    "        winner = row[\"Winner\"]\n",
    "        \n",
    "        if ix % 100 == 0: plot_df_list.append({\"Bets\":ix,\"Profit\":bankroll-initial_bankroll})\n",
    "            \n",
    "        if bet_on_max_odds: \n",
    "            real_odds_p0 = row['Pl0 Max odds']\n",
    "            real_odds_p1 = row['Pl1 Max odds']\n",
    "        else:\n",
    "            real_odds_p0 = row['Pl0 Avg odds']\n",
    "            real_odds_p1 = row['Pl1 Avg odds'] \n",
    "        \n",
    "        if pd.isna(real_odds_p0) or pd.isna(real_odds_p1): continue\n",
    "        \n",
    "        if value_on_p0 > 0:\n",
    "            total_bets += 1\n",
    "            if winner == 0:\n",
    "                bankroll += (real_odds_p0 - 1) * stake\n",
    "                won_bets += 1\n",
    "            else:\n",
    "                bankroll -= stake\n",
    "                lost_bets += 1\n",
    "        \n",
    "        if value_on_p1 > 0:\n",
    "            total_bets += 1\n",
    "            if winner == 1:\n",
    "                bankroll += (real_odds_p1 - 1) * stake\n",
    "                won_bets += 1\n",
    "            else:\n",
    "                bankroll -= stake\n",
    "                lost_bets += 1\n",
    "    \n",
    "    plot_df_list.append({\"Bets\":ix,\"Profit\":bankroll-initial_bankroll})\n",
    "    profit = round(bankroll - initial_bankroll,2)\n",
    "    investment = total_bets*stake\n",
    "    roi = round(100 * profit / investment, 2)\n",
    "    print(\"Total bets placed: {}\\nBets won: {}, bets lost: {}\\nProfit: {}\\nMoney invested: {}\\nROI: {}%\"\n",
    "           .format(total_bets, won_bets, lost_bets, profit, investment, roi))\n",
    "    plot_df = pd.DataFrame(plot_df_list)\n",
    "    plot_df.plot.line(x='Bets', y='Profit')"
   ]
  },
  {
   "cell_type": "code",
   "execution_count": 5,
   "metadata": {
    "scrolled": true
   },
   "outputs": [
    {
     "name": "stdout",
     "output_type": "stream",
     "text": [
      "Total bets placed: 19808\n",
      "Bets won: 10942, bets lost: 8866\n",
      "Profit: 23602.95\n",
      "Money invested: 99040\n",
      "ROI: 23.83%\n"
     ]
    },
    {
     "data": {
      "image/png": "[encoded data removed]",
      "text/plain": [
       "<Figure size 432x288 with 1 Axes>"
      ]
     },
     "metadata": {
      "needs_background": "light"
     },
     "output_type": "display_data"
    }
   ],
   "source": [
    "betting_at_same_stake(initial_bankroll=100, stake=5, bet_on_max_odds=True)"
   ]
  },
  {
   "cell_type": "markdown",
   "metadata": {},
   "source": [
    "Wow! We obtained an impressive 23.83% ROI!\n",
    "\n",
    "However, the first question that we have to ask ourself is: is this achievable in real life?!\n",
    "\n",
    "Well, the answer is no. And the reason is simple: betting at the highest available odds for each match is simply not possible,\n",
    "and the maximum odds in the dataframe are calculated between all of these bookmakers:\n",
    "\n",
    "Bet365, Bet&Win, Centrebet, Expekt, Ladbrokes, Gamebookers, Interwetten, Pinnacles Sports, Sportingbet, Stan James and Unibet."
   ]
  },
  {
   "cell_type": "markdown",
   "metadata": {},
   "source": [
    "So, let's simulate the same betting behaviour but on the Average odds available for each player.\n",
    "This way, we can achive a much more realistic outcome:"
   ]
  },
  {
   "cell_type": "code",
   "execution_count": 6,
   "metadata": {},
   "outputs": [
    {
     "name": "stdout",
     "output_type": "stream",
     "text": [
      "Total bets placed: 19808\n",
      "Bets won: 10942, bets lost: 8866\n",
      "Profit: 12230.65\n",
      "Money invested: 99040\n",
      "ROI: 12.35%\n"
     ]
    },
    {
     "data": {
      "image/png": "[encoded data removed]",
      "text/plain": [
       "<Figure size 432x288 with 1 Axes>"
      ]
     },
     "metadata": {
      "needs_background": "light"
     },
     "output_type": "display_data"
    }
   ],
   "source": [
    "betting_at_same_stake(initial_bankroll=100, stake=5, bet_on_max_odds=False)"
   ]
  },
  {
   "cell_type": "markdown",
   "metadata": {},
   "source": [
    "Well, the ROI has fallen from an impressive 23.83% to a much smaller 12.35%!\n",
    "\n",
    "Is this a bad result?! Not at all!\n",
    "\n",
    "In fact, risking only 5 units per bet, we started with a bankroll of 100 units and finished with more than 12000!\n",
    "And now the odds were much easier to find!"
   ]
  },
  {
   "cell_type": "markdown",
   "metadata": {},
   "source": [
    "## Where are the Bookmaker margins?"
   ]
  },
  {
   "cell_type": "markdown",
   "metadata": {},
   "source": [
    "We already discussed about the fact that betting always at the highest available odds would just be impossible.\n",
    "Let's calculate the bookmakers margin betting on the average odds and the maximum odds available for each match:"
   ]
  },
  {
   "cell_type": "code",
   "execution_count": 7,
   "metadata": {},
   "outputs": [],
   "source": [
    "\"\"\"\n",
    "This method calculates the mean bookmaker margin for each of the bets in the dataframe.\n",
    "If parameter max_odds = True, the maximum odds are considered. Otherwise, the margin is calculated on the average odds.\n",
    "\"\"\"\n",
    "def bookmaker_margin(max_odds=True):\n",
    "    total_margin = 0\n",
    "    for ix, row in betting_df.iterrows():\n",
    "        \n",
    "        if max_odds: \n",
    "            odds_p0 = row['Pl0 Max odds']\n",
    "            odds_p1 = row['Pl1 Max odds']\n",
    "        else:\n",
    "            odds_p0 = row['Pl0 Avg odds']\n",
    "            odds_p1 = row['Pl1 Avg odds'] \n",
    "            \n",
    "        total_margin += (1/odds_p0) + (1/odds_p1)\n",
    "    \n",
    "    return total_margin / betting_df.shape[0]"
   ]
  },
  {
   "cell_type": "code",
   "execution_count": 8,
   "metadata": {},
   "outputs": [],
   "source": [
    "mean_book_margin_at_max_odds = bookmaker_margin(max_odds = True)\n",
    "mean_book_margin_at_avg_odds = bookmaker_margin(max_odds = False)"
   ]
  },
  {
   "cell_type": "code",
   "execution_count": 9,
   "metadata": {},
   "outputs": [
    {
     "data": {
      "text/plain": [
       "0.9965733894097268"
      ]
     },
     "execution_count": 9,
     "metadata": {},
     "output_type": "execute_result"
    }
   ],
   "source": [
    "mean_book_margin_at_max_odds"
   ]
  },
  {
   "cell_type": "code",
   "execution_count": 10,
   "metadata": {},
   "outputs": [
    {
     "data": {
      "text/plain": [
       "1.0582522071928147"
      ]
     },
     "execution_count": 10,
     "metadata": {},
     "output_type": "execute_result"
    }
   ],
   "source": [
    "mean_book_margin_at_avg_odds"
   ]
  },
  {
   "cell_type": "markdown",
   "metadata": {},
   "source": [
    "The mean bookmaker margin betting on the highest odds is so small that there isn't any margin!\n",
    "In fact it's less than 1!\n",
    "\n",
    "However, betting the average odds gives the bookmaker a mean margin around 6%, so very similar to the actual bookmakers margin that we can find in the \"real\" world.\n",
    "This emphasizes the fact that achieving around 7% ROI betting on \"real\" odds is really remarkable."
   ]
  },
  {
   "cell_type": "markdown",
   "metadata": {},
   "source": [
    "## Other Betting Strategies\n",
    "\n",
    "We know that betting the same amount of money on each bet is typical for occasional puntors. However, what about other betting strategies?\n",
    "Since we know there's room for profit, why not explore several betting strategies and compare the results?\n",
    "We'll analyze:\n",
    "- Fibonacci betting strategy\n",
    "- Martingale betting strategy\n",
    "- Kelly's criterion\n",
    "\n",
    "\n",
    "__Note__: from now on, we will use only the Average odds to achive a more realistic betting outcome."
   ]
  },
  {
   "cell_type": "markdown",
   "metadata": {},
   "source": [
    "### Fibonacci\n",
    "\n",
    "Let's start with the Fibonacci betting strategy.\n",
    "The Fibonacci betting system is a negative progression system, which means that you increase your wager each time you lose a bet.\n",
    "\n",
    "Suppose we have the fibonacci sequence starting from 1:\n",
    "\n",
    "1, 1, 2, 3, 5, 8, 13, 21, 34, 55, 89, 144, etc.\n",
    "\n",
    "In practice:\n",
    "- We choose 1 as initial stake and we make the first bet\n",
    "- Every time you lose a bet, move one number to the right, every time you win a bet, move two numbers to the left.\n"
   ]
  },
  {
   "cell_type": "markdown",
   "metadata": {},
   "source": [
    "Let's define the fibonacci method, using the golden rule."
   ]
  },
  {
   "cell_type": "code",
   "execution_count": 11,
   "metadata": {},
   "outputs": [],
   "source": [
    "from math import sqrt\n",
    "\n",
    "#uses golden rule\n",
    "def fibonacci(n):\n",
    "    return round(((1+sqrt(5))**n-(1-sqrt(5))**n)/(2**n*sqrt(5)))"
   ]
  },
  {
   "cell_type": "code",
   "execution_count": 12,
   "metadata": {},
   "outputs": [],
   "source": [
    "def betting_with_fibonacci(initial_bankroll):\n",
    "    plot_df_list = []\n",
    "    \n",
    "    bankroll = initial_bankroll\n",
    "    investment = 0\n",
    "    won_bets = 0\n",
    "    lost_bets = 0\n",
    "    total_bets = 0\n",
    "    current_fibonacci_index = 1\n",
    "    for ix, row in betting_df.iterrows():\n",
    "        if bankroll < 0: break\n",
    "        \n",
    "        value_on_p0 = row['Bet on Pl0 Value']\n",
    "        value_on_p1 = row['Bet on Pl1 Value']\n",
    "        winner = row[\"Winner\"]\n",
    "        \n",
    "        if ix % 100 == 0: plot_df_list.append({\"Bets\":ix,\"Profit\":bankroll-initial_bankroll})\n",
    "            \n",
    "        real_odds_p0 = row['Pl0 Avg odds']\n",
    "        real_odds_p1 = row['Pl1 Avg odds'] \n",
    "        \n",
    "        if pd.isna(real_odds_p0) or pd.isna(real_odds_p1): continue\n",
    "        \n",
    "        stake = fibonacci(current_fibonacci_index)\n",
    "        \n",
    "        if value_on_p0 > 0:\n",
    "            total_bets += 1\n",
    "            if winner == 0:\n",
    "                bankroll += (real_odds_p0 - 1) * stake\n",
    "                won_bets += 1\n",
    "                current_fibonacci_index = max(1, current_fibonacci_index-2)\n",
    "            else:\n",
    "                bankroll -= stake\n",
    "                lost_bets += 1\n",
    "                current_fibonacci_index += 1\n",
    "        \n",
    "        if value_on_p1 > 0:\n",
    "            total_bets += 1\n",
    "            if winner == 1:\n",
    "                bankroll += (real_odds_p1 - 1) * stake\n",
    "                won_bets += 1\n",
    "                current_fibonacci_index = max(1, current_fibonacci_index-2)\n",
    "            else:\n",
    "                bankroll -= stake\n",
    "                lost_bets += 1\n",
    "                current_fibonacci_index += 1\n",
    "\n",
    "        investment += stake\n",
    "    \n",
    "    plot_df_list.append({\"Bets\":ix,\"Profit\":bankroll-initial_bankroll})\n",
    "    profit = round(bankroll - initial_bankroll,2)\n",
    "    roi = round(100 * profit / investment, 2)\n",
    "    print(\"Total bets placed: {}\\nBets won: {}, bets lost: {}\\nProfit: {}\\nMoney invested: {}\\nROI: {}%\"\n",
    "           .format(total_bets, won_bets, lost_bets, profit, investment, roi))\n",
    "    plot_df = pd.DataFrame(plot_df_list)\n",
    "    plot_df.plot.line(x='Bets', y='Profit')"
   ]
  },
  {
   "cell_type": "code",
   "execution_count": 13,
   "metadata": {},
   "outputs": [
    {
     "name": "stdout",
     "output_type": "stream",
     "text": [
      "Total bets placed: 38\n",
      "Bets won: 17, bets lost: 21\n",
      "Profit: -181.56\n",
      "Money invested: 729\n",
      "ROI: -24.91%\n"
     ]
    },
    {
     "data": {
      "image/png": "[encoded data removed]",
      "text/plain": [
       "<Figure size 432x288 with 1 Axes>"
      ]
     },
     "metadata": {
      "needs_background": "light"
     },
     "output_type": "display_data"
    }
   ],
   "source": [
    "betting_with_fibonacci(100)"
   ]
  },
  {
   "cell_type": "markdown",
   "metadata": {},
   "source": [
    "Well, that's not very incouraging!\n",
    "After 38 bets, we've run out of money to bet! This is a recurring problem of the negative progression strategies like Fibonacci.\n",
    "\n",
    "Let's see if with Martingale progression we are luckier!"
   ]
  },
  {
   "cell_type": "markdown",
   "metadata": {},
   "source": [
    "### Martingale\n",
    "\n",
    "This strategy defines a base minimum stake (we'll go with 1% of initial bankroll) and has only 2 rules:\n",
    "- Double up every time you lose\n",
    "- Stick to your base stake when you win"
   ]
  },
  {
   "cell_type": "code",
   "execution_count": 14,
   "metadata": {},
   "outputs": [],
   "source": [
    "def betting_with_martingale(initial_bankroll):\n",
    "    plot_df_list = []\n",
    "    \n",
    "    bankroll = initial_bankroll\n",
    "    investment = 0\n",
    "    won_bets = 0\n",
    "    lost_bets = 0\n",
    "    total_bets = 0\n",
    "    \n",
    "    initial_stake = round(initial_bankroll*1/100)\n",
    "    stake = initial_stake\n",
    "    \n",
    "    for ix, row in betting_df.iterrows():\n",
    "        if bankroll < 0: break\n",
    "        \n",
    "        value_on_p0 = row['Bet on Pl0 Value']\n",
    "        value_on_p1 = row['Bet on Pl1 Value']\n",
    "        winner = row[\"Winner\"]\n",
    "        \n",
    "        if ix % 100 == 0: plot_df_list.append({\"Bets\":ix,\"Profit\":bankroll-initial_bankroll})\n",
    "            \n",
    "        real_odds_p0 = row['Pl0 Avg odds']\n",
    "        real_odds_p1 = row['Pl1 Avg odds'] \n",
    "        \n",
    "        if pd.isna(real_odds_p0) or pd.isna(real_odds_p1): continue\n",
    "            \n",
    "        if value_on_p0 > 0:\n",
    "            total_bets += 1\n",
    "            if winner == 0:\n",
    "                bankroll += (real_odds_p0 - 1) * stake\n",
    "                won_bets += 1\n",
    "                stake = initial_stake\n",
    "            else:\n",
    "                bankroll -= stake\n",
    "                lost_bets += 1\n",
    "                stake *= 2\n",
    "        \n",
    "        if value_on_p1 > 0:\n",
    "            total_bets += 1\n",
    "            if winner == 1:\n",
    "                bankroll += (real_odds_p1 - 1) * stake\n",
    "                won_bets += 1\n",
    "                stake = initial_stake\n",
    "            else:\n",
    "                bankroll -= stake\n",
    "                lost_bets += 1\n",
    "                stake *= 2\n",
    "\n",
    "        investment += stake\n",
    "    \n",
    "    plot_df_list.append({\"Bets\":ix,\"Profit\":bankroll-initial_bankroll})\n",
    "    profit = round(bankroll - initial_bankroll,2)\n",
    "    roi = round(100 * profit / investment, 2)\n",
    "    print(\"Total bets placed: {}\\nBets won: {}, bets lost: {}\\nProfit: {}\\nMoney invested: {}\\nROI: {}%\"\n",
    "           .format(total_bets, won_bets, lost_bets, profit, investment, roi))\n",
    "    plot_df = pd.DataFrame(plot_df_list)\n",
    "    plot_df.plot.line(x='Bets', y='Profit')"
   ]
  },
  {
   "cell_type": "code",
   "execution_count": 15,
   "metadata": {},
   "outputs": [
    {
     "name": "stdout",
     "output_type": "stream",
     "text": [
      "Total bets placed: 4042\n",
      "Bets won: 2179, bets lost: 1863\n",
      "Profit: -336.45\n",
      "Money invested: 25760\n",
      "ROI: -1.31%\n"
     ]
    },
    {
     "data": {
      "image/png": "[encoded data removed]",
      "text/plain": [
       "<Figure size 432x288 with 1 Axes>"
      ]
     },
     "metadata": {
      "needs_background": "light"
     },
     "output_type": "display_data"
    }
   ],
   "source": [
    "betting_with_martingale(100)"
   ]
  },
  {
   "cell_type": "markdown",
   "metadata": {},
   "source": [
    "As we can see, at the first big losing streak we've lost all our money! Much like the Fibonacci strategy, the Martingale's risky approach didn't pay out at all!"
   ]
  },
  {
   "cell_type": "markdown",
   "metadata": {},
   "source": [
    "### Kelly's Criterion\n",
    "\n",
    "The Kelly Criterion is a mathematical formula that can be applied to determine the optimal sum of money that should be invested or wagered on an opportunity. It takes into consideration the total amount of money that's available to use and the expected return.\n",
    "\n",
    "The formula to calculate the stake to use at each bet is the following:\n",
    "\n",
    "(bp – q) / b = f\n",
    "\n",
    "where:\n",
    "- b is the multiple of your stake you can win from the wager: it's equal to the odds minus 1.\n",
    "- p is the probability of the wager winning: the predicted chance to win the bet\n",
    "- q is the probability of the wager losing: simply equals to 1 - p\n",
    "- f is the fraction of your bankroll to stake on the wager"
   ]
  },
  {
   "cell_type": "markdown",
   "metadata": {},
   "source": [
    "Let's define a function that takes in input the probability of an event to occur and its odds, and returns a fraction of the bankroll to invest based on the Kelly's criterion."
   ]
  },
  {
   "cell_type": "code",
   "execution_count": 16,
   "metadata": {},
   "outputs": [],
   "source": [
    "def kelly(prob, odds):\n",
    "    return round((prob*odds - 1)/(odds - 1), 2)"
   ]
  },
  {
   "cell_type": "markdown",
   "metadata": {},
   "source": [
    "Now it's time to define the function that simulates these bets using the Kelly's criterion.\n",
    "However, we define a threshold for how a stake for each bet can be. This parameter, __max_stake_for_bet__, defaults to 100 but can be specified as input parameter of the function."
   ]
  },
  {
   "cell_type": "code",
   "execution_count": 17,
   "metadata": {},
   "outputs": [],
   "source": [
    "def betting_with_kelly(initial_bankroll, max_stake_for_bet=100):\n",
    "    plot_df_list = []\n",
    "    \n",
    "    bankroll = initial_bankroll\n",
    "    investment = 0\n",
    "    won_bets = 0\n",
    "    lost_bets = 0\n",
    "    total_bets = 0\n",
    "    \n",
    "    for ix, row in betting_df.iterrows():\n",
    "        if bankroll < 0: break\n",
    "        \n",
    "        value_on_p0 = row['Bet on Pl0 Value']\n",
    "        value_on_p1 = row['Bet on Pl1 Value']\n",
    "        winner = row[\"Winner\"]\n",
    "        \n",
    "        if ix % 100 == 0: plot_df_list.append({\"Bets\":ix,\"Profit\":bankroll-initial_bankroll})\n",
    "            \n",
    "        real_odds_p0 = row['Pl0 Avg odds']\n",
    "        real_odds_p1 = row['Pl1 Avg odds'] \n",
    "        \n",
    "        if pd.isna(real_odds_p0) or pd.isna(real_odds_p1): continue\n",
    "            \n",
    "        if value_on_p0 > 0:\n",
    "            stake = min(max_stake_for_bet, round(bankroll * kelly(row['Pl0 %'], real_odds_p0)))\n",
    "            if stake < 0: continue\n",
    "            investment += stake\n",
    "            total_bets += 1\n",
    "            if winner == 0:\n",
    "                bankroll += (real_odds_p0 - 1) * stake\n",
    "                won_bets += 1\n",
    "            else:\n",
    "                bankroll -= stake\n",
    "                lost_bets += 1\n",
    "        \n",
    "        if value_on_p1 > 0:\n",
    "            stake = min(max_stake_for_bet, round(bankroll * kelly(row['Pl1 %'], real_odds_p1)))\n",
    "            if stake < 0: continue\n",
    "            investment += stake\n",
    "            total_bets += 1\n",
    "            if winner == 1:\n",
    "                bankroll += (real_odds_p1 - 1) * stake\n",
    "                won_bets += 1\n",
    "            else:\n",
    "                bankroll -= stake\n",
    "                lost_bets += 1\n",
    "        \n",
    "    plot_df_list.append({\"Bets\":ix,\"Profit\":bankroll-initial_bankroll})\n",
    "    profit = round(bankroll - initial_bankroll,2)\n",
    "    roi = round(100 * profit / investment, 2)\n",
    "    print(\"Total bets placed: {}\\nBets won: {}, bets lost: {}\\nProfit: {}\\nMoney invested: {}\\nROI: {}%\"\n",
    "           .format(total_bets, won_bets, lost_bets, profit, investment, roi))\n",
    "    plot_df = pd.DataFrame(plot_df_list)\n",
    "    plot_df.plot.line(x='Bets', y='Profit')"
   ]
  },
  {
   "cell_type": "code",
   "execution_count": 18,
   "metadata": {},
   "outputs": [
    {
     "name": "stdout",
     "output_type": "stream",
     "text": [
      "Total bets placed: 19808\n",
      "Bets won: 10942, bets lost: 8866\n",
      "Profit: 248376.14\n",
      "Money invested: 1945034\n",
      "ROI: 12.77%\n"
     ]
    },
    {
     "data": {
      "image/png": "[encoded data removed]",
      "text/plain": [
       "<Figure size 432x288 with 1 Axes>"
      ]
     },
     "metadata": {
      "needs_background": "light"
     },
     "output_type": "display_data"
    }
   ],
   "source": [
    "betting_with_kelly(100)"
   ]
  },
  {
   "cell_type": "markdown",
   "metadata": {},
   "source": [
    "Well...This really is a remarkable result!\n",
    "The ROI didn't change much, but the overall profit exploded :) \n",
    "That's becase Kelly's criterium is really helpful to pick the best amount of money to invest in each single bet!\n",
    "\n",
    "It's clearly the best choice over the other betting strategies."
   ]
  },
  {
   "cell_type": "markdown",
   "metadata": {},
   "source": [
    "## Further analysis on value predictions\n",
    "\n",
    "At this point, we should be pretty confident that our model does quite a good job at predicting the correct chances for each player to win a match.\n",
    "\n",
    "However, what happens if, rather than betting blindly on every bet that has value greater than 0, we define a value threshold, like 0.10, 0.25, etc.?\n",
    "How does this threshold affect the ROI?\n",
    "\n",
    "Let's find out!"
   ]
  },
  {
   "cell_type": "markdown",
   "metadata": {},
   "source": [
    "Let's define a function similar to the __betting_with_kelly__ used above, that takes in input this value threshold and returns the ROI:"
   ]
  },
  {
   "cell_type": "code",
   "execution_count": 19,
   "metadata": {},
   "outputs": [],
   "source": [
    "def betting_with_kelly_and_threshold(initial_bankroll, VALUE_THRESHOLD, max_stake_for_bet=100):    \n",
    "    bankroll = initial_bankroll\n",
    "    investment = 0\n",
    "    won_bets = 0\n",
    "    lost_bets = 0\n",
    "    total_bets = 0\n",
    "    \n",
    "    for ix, row in betting_df.iterrows():\n",
    "        if bankroll < 0: break\n",
    "        \n",
    "        value_on_p0 = row['Bet on Pl0 Value']\n",
    "        value_on_p1 = row['Bet on Pl1 Value']\n",
    "        winner = row[\"Winner\"]\n",
    "                    \n",
    "        real_odds_p0 = row['Pl0 Avg odds']\n",
    "        real_odds_p1 = row['Pl1 Avg odds'] \n",
    "        \n",
    "        if pd.isna(real_odds_p0) or pd.isna(real_odds_p1): continue\n",
    "            \n",
    "        if value_on_p0 > VALUE_THRESHOLD:\n",
    "            stake = min(max_stake_for_bet, round(bankroll * kelly(row['Pl0 %'], real_odds_p0)))\n",
    "            if stake < 0: continue\n",
    "            investment += stake\n",
    "            total_bets += 1\n",
    "            if winner == 0:\n",
    "                bankroll += (real_odds_p0 - 1) * stake\n",
    "                won_bets += 1\n",
    "            else:\n",
    "                bankroll -= stake\n",
    "                lost_bets += 1\n",
    "        \n",
    "        if value_on_p1 > VALUE_THRESHOLD:\n",
    "            stake = min(max_stake_for_bet, round(bankroll * kelly(row['Pl1 %'], real_odds_p1)))\n",
    "            if stake < 0: continue\n",
    "            investment += stake\n",
    "            total_bets += 1\n",
    "            if winner == 1:\n",
    "                bankroll += (real_odds_p1 - 1) * stake\n",
    "                won_bets += 1\n",
    "            else:\n",
    "                bankroll -= stake\n",
    "                lost_bets += 1\n",
    "        \n",
    "    profit = round(bankroll - initial_bankroll,2)\n",
    "    roi = round(100 * profit / investment, 2)\n",
    "    return roi"
   ]
  },
  {
   "cell_type": "markdown",
   "metadata": {},
   "source": [
    "Now, let's run this function with different value thresholds parameters, and let's compare the ROI for each run."
   ]
  },
  {
   "cell_type": "code",
   "execution_count": 20,
   "metadata": {},
   "outputs": [
    {
     "data": {
      "text/plain": [
       "<matplotlib.axes._subplots.AxesSubplot at 0x19d6faeb408>"
      ]
     },
     "execution_count": 20,
     "metadata": {},
     "output_type": "execute_result"
    },
    {
     "data": {
      "image/png": "[encoded data removed]",
      "text/plain": [
       "<Figure size 432x288 with 1 Axes>"
      ]
     },
     "metadata": {
      "needs_background": "light"
     },
     "output_type": "display_data"
    }
   ],
   "source": [
    "threshold_comparator_df_list = []\n",
    "for i in np.linspace(start=0, stop=0.6, num=6, endpoint=False):\n",
    "    value_threshold = round(i,1)\n",
    "    roi = betting_with_kelly_and_threshold(100, VALUE_THRESHOLD=value_threshold)\n",
    "    threshold_comparator_df_list.append({\"Value Threshold\":value_threshold, \"ROI\":roi})\n",
    "\n",
    "threshold_comparator_df = pd.DataFrame(threshold_comparator_df_list)\n",
    "threshold_comparator_df.plot.line(x='ROI', y='Value Threshold')"
   ]
  },
  {
   "cell_type": "markdown",
   "metadata": {},
   "source": [
    "It's clear from the above image that there's a positive relationship between the Value Threshold and the Return on our Investement! \n",
    "\n",
    "The dropoff with choosing a greater threshold is, of course, that there are less and less opportunities and matches to bet on!"
   ]
  },
  {
   "cell_type": "markdown",
   "metadata": {},
   "source": [
    "# Conclusion"
   ]
  },
  {
   "cell_type": "markdown",
   "metadata": {},
   "source": [
    "It's been a long journey but we've come to an end!\n",
    "\n",
    "Let's recap what we accomplished.\n",
    "Firstly, we obtained a tennis match dataset containing almost every match between 2000 and 2019, with many important features defined such as surface, court, round of tournament, tournament's category, ranking of the players and average/max odds for each player for as many as around 25000 matches!\n",
    "\n",
    "Then we preprocessed the data, and extended it calculating new features for each match like the surface perfomance for each player, the recent form of the players before their matches, how well they performed against opponents with similar rankings, etc.\n",
    "\n",
    "With this extended dataset, we trained some machine learning models and we picked the best to predict the chances for each player to win any given match.\n",
    "\n",
    "Using these probabilities, and comparing them to the max and average odds available, we found value bets.\n",
    "\n",
    "So we used different betting strategies to backtest the model's predictions and their accuracy, and we've soon find out that using Kelly's criterion as betting strategy we could obtain a very high ROI, even with average odds, as we discussed in this notebook.\n",
    "\n",
    "Thanks for your attention,\n",
    "Andrea Corsetti"
   ]
  }
 ],
 "metadata": {
  "kernelspec": {
   "display_name": "Python 3",
   "language": "python",
   "name": "python3"
  },
  "language_info": {
   "codemirror_mode": {
    "name": "ipython",
    "version": 3
   },
   "file_extension": ".py",
   "mimetype": "text/x-python",
   "name": "python",
   "nbconvert_exporter": "python",
   "pygments_lexer": "ipython3",
   "version": "3.7.6"
  }
 },
 "nbformat": 4,
 "nbformat_minor": 4
}
