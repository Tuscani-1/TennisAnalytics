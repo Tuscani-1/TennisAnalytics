{
 "cells": [
  {
   "cell_type": "markdown",
   "metadata": {},
   "source": [
    "# 5. Value Betting Calculator\n",
    "\n",
    "In this notebook we'll make use of our match dataset and the Logistc Regression model we've built in the last stage, to predict the chances for each player to win in any given match.\n",
    "\n",
    "We'll then compare these chances with the odds available for those matches, and build a Dataframe where each row will contain information regarding which player we would have to bet on!\n",
    "\n",
    "\n",
    "\n",
    "trying to simulate bets on matches where we think to have an edge on the betting market (i.e. a value bet occurs when the real odds for an event are higher than the odds \"predicted\" by our model).\n",
    "\n",
    "Finally, we'll compare several betting strategies and we'll find out if it's possible to make a good ROI backtesting our betting strategies."
   ]
  },
  {
   "cell_type": "markdown",
   "metadata": {},
   "source": [
    "Let's import the libraries needed for this notebook:"
   ]
  },
  {
   "cell_type": "code",
   "execution_count": 1,
   "metadata": {},
   "outputs": [],
   "source": [
    "import pandas as pd\n",
    "from math import exp\n",
    "import pickle"
   ]
  },
  {
   "cell_type": "markdown",
   "metadata": {},
   "source": [
    "Now, we'll load the Logistc Regression model trained in last notebook:"
   ]
  },
  {
   "cell_type": "code",
   "execution_count": 2,
   "metadata": {},
   "outputs": [],
   "source": [
    "lreg = pickle.load(open(\"logistic_regression.lr\", 'rb'))"
   ]
  },
  {
   "cell_type": "markdown",
   "metadata": {},
   "source": [
    "Let's take a look at the coefficients and the intercept of this model:"
   ]
  },
  {
   "cell_type": "code",
   "execution_count": 3,
   "metadata": {
    "scrolled": true
   },
   "outputs": [
    {
     "data": {
      "text/plain": [
       "array([[-0.00820549,  0.01828819,  0.0182351 , -0.00366707, -0.03013789,\n",
       "         0.02565256,  0.01003487,  0.01715352, -0.01469755,  0.0393068 ,\n",
       "        -0.04171493, -0.00705053,  0.01603137, -0.07591471,  0.01989064,\n",
       "        -0.03044798,  0.08453897, -0.01250299,  0.01553793,  0.36270172,\n",
       "        -0.2729425 ,  0.27082261,  0.31381609, -0.5232965 , -2.46044923,\n",
       "         2.23443672, -3.02157641,  3.38983883]])"
      ]
     },
     "execution_count": 3,
     "metadata": {},
     "output_type": "execute_result"
    }
   ],
   "source": [
    "lreg.coef_"
   ]
  },
  {
   "cell_type": "code",
   "execution_count": 4,
   "metadata": {},
   "outputs": [
    {
     "data": {
      "text/plain": [
       "array([0.01187192])"
      ]
     },
     "execution_count": 4,
     "metadata": {},
     "output_type": "execute_result"
    }
   ],
   "source": [
    "lreg.intercept_"
   ]
  },
  {
   "cell_type": "markdown",
   "metadata": {},
   "source": [
    "Now, let's open the Coefficients dataframe saved in the last notebook, and let's create a dictionary object based on the dataframe, where the key is going to be the attribute name and the value will be the attribute's coefficient:"
   ]
  },
  {
   "cell_type": "code",
   "execution_count": 5,
   "metadata": {},
   "outputs": [],
   "source": [
    "coefs_df = pd.read_csv(\"csv/Coefficients.csv\")"
   ]
  },
  {
   "cell_type": "code",
   "execution_count": 6,
   "metadata": {},
   "outputs": [
    {
     "data": {
      "text/html": [
       "<div>\n",
       "<style scoped>\n",
       "    .dataframe tbody tr th:only-of-type {\n",
       "        vertical-align: middle;\n",
       "    }\n",
       "\n",
       "    .dataframe tbody tr th {\n",
       "        vertical-align: top;\n",
       "    }\n",
       "\n",
       "    .dataframe thead th {\n",
       "        text-align: right;\n",
       "    }\n",
       "</style>\n",
       "<table border=\"1\" class=\"dataframe\">\n",
       "  <thead>\n",
       "    <tr style=\"text-align: right;\">\n",
       "      <th></th>\n",
       "      <th>Column</th>\n",
       "      <th>Coef</th>\n",
       "    </tr>\n",
       "  </thead>\n",
       "  <tbody>\n",
       "    <tr>\n",
       "      <th>0</th>\n",
       "      <td>Indoor</td>\n",
       "      <td>-0.008205</td>\n",
       "    </tr>\n",
       "    <tr>\n",
       "      <th>1</th>\n",
       "      <td>Outdoor</td>\n",
       "      <td>0.018288</td>\n",
       "    </tr>\n",
       "    <tr>\n",
       "      <th>2</th>\n",
       "      <td>Carpet</td>\n",
       "      <td>0.018235</td>\n",
       "    </tr>\n",
       "    <tr>\n",
       "      <th>3</th>\n",
       "      <td>Clay</td>\n",
       "      <td>-0.003667</td>\n",
       "    </tr>\n",
       "    <tr>\n",
       "      <th>4</th>\n",
       "      <td>Grass</td>\n",
       "      <td>-0.030138</td>\n",
       "    </tr>\n",
       "  </tbody>\n",
       "</table>\n",
       "</div>"
      ],
      "text/plain": [
       "    Column      Coef\n",
       "0   Indoor -0.008205\n",
       "1  Outdoor  0.018288\n",
       "2   Carpet  0.018235\n",
       "3     Clay -0.003667\n",
       "4    Grass -0.030138"
      ]
     },
     "execution_count": 6,
     "metadata": {},
     "output_type": "execute_result"
    }
   ],
   "source": [
    "coefs_df.head()"
   ]
  },
  {
   "cell_type": "code",
   "execution_count": 7,
   "metadata": {},
   "outputs": [],
   "source": [
    "coefs_map = {}\n",
    "for ix, row in coefs_df.iterrows():\n",
    "\n",
    "    attribute = row['Column']\n",
    "    attribute_coef = row['Coef']\n",
    "\n",
    "    coefs_map[attribute] = attribute_coef"
   ]
  },
  {
   "cell_type": "code",
   "execution_count": 8,
   "metadata": {
    "scrolled": false
   },
   "outputs": [
    {
     "data": {
      "text/plain": [
       "{'Indoor': -0.008205490055114922,\n",
       " 'Outdoor': 0.018288190776828448,\n",
       " 'Carpet': 0.018235098719900585,\n",
       " 'Clay': -0.0036670657947837455,\n",
       " 'Grass': -0.030137893520682982,\n",
       " 'Hard': 0.02565256131728023,\n",
       " 'ATP250': 0.010034866580374424,\n",
       " 'ATP500': 0.017153517648049232,\n",
       " 'Grand Slam': -0.014697553313709538,\n",
       " 'Masters 1000': 0.03930679973658772,\n",
       " 'Masters Cup': -0.04171492992958769,\n",
       " '1st Round': -0.007050532204758627,\n",
       " '2nd Round': 0.0160313689626121,\n",
       " '3rd Round': -0.07591470921881736,\n",
       " '4th Round': 0.019890644865569376,\n",
       " 'Quarterfinals': -0.03044797716182537,\n",
       " 'Round Robin': 0.08453897012931598,\n",
       " 'Semifinals': -0.012502992714257024,\n",
       " 'The Final': 0.01553792806387606,\n",
       " 'Rank Index': 0.3627017152187937,\n",
       " 'Pl0 Recent Form': -0.27294250215186305,\n",
       " 'Pl0 Form': 0.2708226143231703,\n",
       " 'Pl1 Recent Form': 0.3138160892166305,\n",
       " 'Pl1 Form': -0.5232964971778234,\n",
       " 'Pl0 Perf. vs Similar Opponent': -2.4604492270974863,\n",
       " 'Pl1 Perf. vs Similar Opponent': 2.234436723553626,\n",
       " 'Pl0 Surface Performance': -3.0215764061759263,\n",
       " 'Pl1 Surface Performance': 3.389838827303445}"
      ]
     },
     "execution_count": 8,
     "metadata": {},
     "output_type": "execute_result"
    }
   ],
   "source": [
    "coefs_map"
   ]
  },
  {
   "cell_type": "markdown",
   "metadata": {},
   "source": [
    "Let's make a quick analysis on the greatest indicators for player 1 to win a match against player 0.\n",
    "Let's see which attributes matter the most:"
   ]
  },
  {
   "cell_type": "code",
   "execution_count": 9,
   "metadata": {
    "scrolled": true
   },
   "outputs": [
    {
     "data": {
      "text/html": [
       "<div>\n",
       "<style scoped>\n",
       "    .dataframe tbody tr th:only-of-type {\n",
       "        vertical-align: middle;\n",
       "    }\n",
       "\n",
       "    .dataframe tbody tr th {\n",
       "        vertical-align: top;\n",
       "    }\n",
       "\n",
       "    .dataframe thead th {\n",
       "        text-align: right;\n",
       "    }\n",
       "</style>\n",
       "<table border=\"1\" class=\"dataframe\">\n",
       "  <thead>\n",
       "    <tr style=\"text-align: right;\">\n",
       "      <th></th>\n",
       "      <th>Column</th>\n",
       "      <th>Coef</th>\n",
       "    </tr>\n",
       "  </thead>\n",
       "  <tbody>\n",
       "    <tr>\n",
       "      <th>27</th>\n",
       "      <td>Pl1 Surface Performance</td>\n",
       "      <td>3.389839</td>\n",
       "    </tr>\n",
       "    <tr>\n",
       "      <th>25</th>\n",
       "      <td>Pl1 Perf. vs Similar Opponent</td>\n",
       "      <td>2.234437</td>\n",
       "    </tr>\n",
       "    <tr>\n",
       "      <th>19</th>\n",
       "      <td>Rank Index</td>\n",
       "      <td>0.362702</td>\n",
       "    </tr>\n",
       "    <tr>\n",
       "      <th>22</th>\n",
       "      <td>Pl1 Recent Form</td>\n",
       "      <td>0.313816</td>\n",
       "    </tr>\n",
       "    <tr>\n",
       "      <th>21</th>\n",
       "      <td>Pl0 Form</td>\n",
       "      <td>0.270823</td>\n",
       "    </tr>\n",
       "    <tr>\n",
       "      <th>20</th>\n",
       "      <td>Pl0 Recent Form</td>\n",
       "      <td>-0.272943</td>\n",
       "    </tr>\n",
       "    <tr>\n",
       "      <th>23</th>\n",
       "      <td>Pl1 Form</td>\n",
       "      <td>-0.523296</td>\n",
       "    </tr>\n",
       "    <tr>\n",
       "      <th>24</th>\n",
       "      <td>Pl0 Perf. vs Similar Opponent</td>\n",
       "      <td>-2.460449</td>\n",
       "    </tr>\n",
       "    <tr>\n",
       "      <th>26</th>\n",
       "      <td>Pl0 Surface Performance</td>\n",
       "      <td>-3.021576</td>\n",
       "    </tr>\n",
       "  </tbody>\n",
       "</table>\n",
       "</div>"
      ],
      "text/plain": [
       "                           Column      Coef\n",
       "27        Pl1 Surface Performance  3.389839\n",
       "25  Pl1 Perf. vs Similar Opponent  2.234437\n",
       "19                     Rank Index  0.362702\n",
       "22                Pl1 Recent Form  0.313816\n",
       "21                       Pl0 Form  0.270823\n",
       "20                Pl0 Recent Form -0.272943\n",
       "23                       Pl1 Form -0.523296\n",
       "24  Pl0 Perf. vs Similar Opponent -2.460449\n",
       "26        Pl0 Surface Performance -3.021576"
      ]
     },
     "execution_count": 9,
     "metadata": {},
     "output_type": "execute_result"
    }
   ],
   "source": [
    "coefs_df[abs(coefs_df['Coef']) > 0.1].sort_values('Coef', ascending = False)"
   ]
  },
  {
   "cell_type": "markdown",
   "metadata": {},
   "source": [
    "We can see that the most important features are:\n",
    "- Player performance on specific surface\n",
    "- Player performance against similar ranked opponents\n",
    "- The opponent's form\n",
    "- The rank index\n",
    "- The players recent form"
   ]
  },
  {
   "cell_type": "markdown",
   "metadata": {},
   "source": [
    "Let's load our matches Dataset"
   ]
  },
  {
   "cell_type": "code",
   "execution_count": 10,
   "metadata": {},
   "outputs": [],
   "source": [
    "df = pd.read_csv(\"csv/FeatureCalculated_Data.csv\")"
   ]
  },
  {
   "cell_type": "markdown",
   "metadata": {},
   "source": [
    "Now our goal is to build another Dataframe, containing the informations about the the players, who wins each match, the average and maximum odds available for each player, and we'll use the logistic regression coefficients (and the intercept) to calculate the predicted chances to win for each player:"
   ]
  },
  {
   "cell_type": "code",
   "execution_count": 11,
   "metadata": {},
   "outputs": [],
   "source": [
    "betting_data_df = df[(df[\"Avg_Pl0\"] > 1) & (df[\"Avg_Pl1\"] > 1) & (df[\"Max_Pl0\"] > 1) & (df[\"Max_Pl1\"] > 1)]\n",
    "\n",
    "betting_df_list = []\n",
    "for ix, irow in betting_data_df.iterrows():\n",
    "\n",
    "    current_linear_combination = lreg.intercept_[0]\n",
    "    for attribute in list(coefs_map.keys()):\n",
    "        attr_value = irow[attribute]\n",
    "        attr_weighted = attr_value * coefs_map.get(attribute)\n",
    "        current_linear_combination += attr_weighted\n",
    "    \n",
    "    prob_p1_win = round(exp(current_linear_combination) / (1 + exp(current_linear_combination)), 2)\n",
    "    prob_p0_win = round(1 - prob_p1_win, 2)\n",
    "\n",
    "    betting_df_list.append(   {\"Date\": irow['Date'], \"Pl0\":irow['Player 0'], \"Pl1\":irow['Player 1'], \"Winner\":irow['Won'], \"Pl0 %\":prob_p0_win, \"Pl1 %\":prob_p1_win, \\\n",
    "                              \"Pl0 Avg odds\": irow['Avg_Pl0'], \"Pl1 Avg odds\": irow['Avg_Pl1'], \"Pl0 Max odds\": irow['Max_Pl0'],\n",
    "                               \"Pl1 Max odds\": irow['Max_Pl1']\n",
    "                              })\n",
    "    \n",
    "betting_df = pd.DataFrame(betting_df_list)"
   ]
  },
  {
   "cell_type": "code",
   "execution_count": 12,
   "metadata": {
    "scrolled": true
   },
   "outputs": [
    {
     "data": {
      "text/html": [
       "<div>\n",
       "<style scoped>\n",
       "    .dataframe tbody tr th:only-of-type {\n",
       "        vertical-align: middle;\n",
       "    }\n",
       "\n",
       "    .dataframe tbody tr th {\n",
       "        vertical-align: top;\n",
       "    }\n",
       "\n",
       "    .dataframe thead th {\n",
       "        text-align: right;\n",
       "    }\n",
       "</style>\n",
       "<table border=\"1\" class=\"dataframe\">\n",
       "  <thead>\n",
       "    <tr style=\"text-align: right;\">\n",
       "      <th></th>\n",
       "      <th>Date</th>\n",
       "      <th>Pl0</th>\n",
       "      <th>Pl1</th>\n",
       "      <th>Winner</th>\n",
       "      <th>Pl0 %</th>\n",
       "      <th>Pl1 %</th>\n",
       "      <th>Pl0 Avg odds</th>\n",
       "      <th>Pl1 Avg odds</th>\n",
       "      <th>Pl0 Max odds</th>\n",
       "      <th>Pl1 Max odds</th>\n",
       "    </tr>\n",
       "  </thead>\n",
       "  <tbody>\n",
       "    <tr>\n",
       "      <th>0</th>\n",
       "      <td>2010-04-19</td>\n",
       "      <td>De Bakker T.</td>\n",
       "      <td>Falla A.</td>\n",
       "      <td>0.0</td>\n",
       "      <td>0.62</td>\n",
       "      <td>0.38</td>\n",
       "      <td>1.52</td>\n",
       "      <td>2.46</td>\n",
       "      <td>1.62</td>\n",
       "      <td>2.79</td>\n",
       "    </tr>\n",
       "    <tr>\n",
       "      <th>1</th>\n",
       "      <td>2010-04-19</td>\n",
       "      <td>Starace P.</td>\n",
       "      <td>Hajek J.</td>\n",
       "      <td>1.0</td>\n",
       "      <td>0.67</td>\n",
       "      <td>0.33</td>\n",
       "      <td>1.34</td>\n",
       "      <td>3.12</td>\n",
       "      <td>1.40</td>\n",
       "      <td>3.64</td>\n",
       "    </tr>\n",
       "    <tr>\n",
       "      <th>2</th>\n",
       "      <td>2010-04-19</td>\n",
       "      <td>Schwank E.</td>\n",
       "      <td>Fognini F.</td>\n",
       "      <td>0.0</td>\n",
       "      <td>0.33</td>\n",
       "      <td>0.67</td>\n",
       "      <td>1.99</td>\n",
       "      <td>1.77</td>\n",
       "      <td>2.14</td>\n",
       "      <td>1.85</td>\n",
       "    </tr>\n",
       "    <tr>\n",
       "      <th>3</th>\n",
       "      <td>2010-04-19</td>\n",
       "      <td>Rochus C.</td>\n",
       "      <td>Garcia-Lopez G.</td>\n",
       "      <td>1.0</td>\n",
       "      <td>0.33</td>\n",
       "      <td>0.67</td>\n",
       "      <td>3.02</td>\n",
       "      <td>1.36</td>\n",
       "      <td>3.25</td>\n",
       "      <td>1.45</td>\n",
       "    </tr>\n",
       "    <tr>\n",
       "      <th>4</th>\n",
       "      <td>2010-04-19</td>\n",
       "      <td>Bellucci T.</td>\n",
       "      <td>Nieminen J.</td>\n",
       "      <td>0.0</td>\n",
       "      <td>0.52</td>\n",
       "      <td>0.48</td>\n",
       "      <td>1.46</td>\n",
       "      <td>2.63</td>\n",
       "      <td>1.50</td>\n",
       "      <td>3.09</td>\n",
       "    </tr>\n",
       "  </tbody>\n",
       "</table>\n",
       "</div>"
      ],
      "text/plain": [
       "         Date           Pl0              Pl1  Winner  Pl0 %  Pl1 %  \\\n",
       "0  2010-04-19  De Bakker T.         Falla A.     0.0   0.62   0.38   \n",
       "1  2010-04-19    Starace P.         Hajek J.     1.0   0.67   0.33   \n",
       "2  2010-04-19    Schwank E.       Fognini F.     0.0   0.33   0.67   \n",
       "3  2010-04-19     Rochus C.  Garcia-Lopez G.     1.0   0.33   0.67   \n",
       "4  2010-04-19   Bellucci T.      Nieminen J.     0.0   0.52   0.48   \n",
       "\n",
       "   Pl0 Avg odds  Pl1 Avg odds  Pl0 Max odds  Pl1 Max odds  \n",
       "0          1.52          2.46          1.62          2.79  \n",
       "1          1.34          3.12          1.40          3.64  \n",
       "2          1.99          1.77          2.14          1.85  \n",
       "3          3.02          1.36          3.25          1.45  \n",
       "4          1.46          2.63          1.50          3.09  "
      ]
     },
     "execution_count": 12,
     "metadata": {},
     "output_type": "execute_result"
    }
   ],
   "source": [
    "betting_df.head()"
   ]
  },
  {
   "cell_type": "markdown",
   "metadata": {},
   "source": [
    "Let's define a helper funxtion that takes a change in input and returns the 'fair' odds for that chance value."
   ]
  },
  {
   "cell_type": "code",
   "execution_count": 13,
   "metadata": {},
   "outputs": [],
   "source": [
    "def right_odds(chance):\n",
    "    return round(1/chance,2)"
   ]
  },
  {
   "cell_type": "markdown",
   "metadata": {},
   "source": [
    "Now, we have everything we need to make decisions based on which player, for each match, we get the most value betting on!\n",
    "In fact, next we're going to append to this betting dataframe another 4 columns.\n",
    "\n",
    "The fair odds for both player 0 and player 1, based on the chances of each player to win according to the Logistic Regression model, and the value that we would get betting on each player at the max odds available!"
   ]
  },
  {
   "cell_type": "code",
   "execution_count": 14,
   "metadata": {},
   "outputs": [],
   "source": [
    "for ix, row in betting_df.iterrows():\n",
    "    right_odds_p0 = right_odds(row['Pl0 %'])\n",
    "    right_odds_p1 = right_odds(row['Pl1 %'])\n",
    "    bet_value_p0 = (row['Pl0 Max odds'] - right_odds_p0)/max(right_odds_p0,row['Pl0 Max odds'])\n",
    "    bet_value_p1 = (row['Pl1 Max odds'] - right_odds_p1)/max(right_odds_p1,row['Pl1 Max odds'])\n",
    "    betting_df.at[ix, 'Fair odds for Pl0'] = right_odds_p0\n",
    "    betting_df.at[ix, 'Fair odds for Pl1'] = right_odds_p1\n",
    "    betting_df.at[ix, 'Bet on Pl0 Value'] = bet_value_p0\n",
    "    betting_df.at[ix, 'Bet on Pl1 Value'] = bet_value_p1"
   ]
  },
  {
   "cell_type": "code",
   "execution_count": 15,
   "metadata": {
    "scrolled": true
   },
   "outputs": [
    {
     "data": {
      "text/html": [
       "<div>\n",
       "<style scoped>\n",
       "    .dataframe tbody tr th:only-of-type {\n",
       "        vertical-align: middle;\n",
       "    }\n",
       "\n",
       "    .dataframe tbody tr th {\n",
       "        vertical-align: top;\n",
       "    }\n",
       "\n",
       "    .dataframe thead th {\n",
       "        text-align: right;\n",
       "    }\n",
       "</style>\n",
       "<table border=\"1\" class=\"dataframe\">\n",
       "  <thead>\n",
       "    <tr style=\"text-align: right;\">\n",
       "      <th></th>\n",
       "      <th>Date</th>\n",
       "      <th>Pl0</th>\n",
       "      <th>Pl1</th>\n",
       "      <th>Winner</th>\n",
       "      <th>Pl0 %</th>\n",
       "      <th>Pl1 %</th>\n",
       "      <th>Pl0 Avg odds</th>\n",
       "      <th>Pl1 Avg odds</th>\n",
       "      <th>Pl0 Max odds</th>\n",
       "      <th>Pl1 Max odds</th>\n",
       "      <th>Fair odds for Pl0</th>\n",
       "      <th>Fair odds for Pl1</th>\n",
       "      <th>Bet on Pl0 Value</th>\n",
       "      <th>Bet on Pl1 Value</th>\n",
       "    </tr>\n",
       "  </thead>\n",
       "  <tbody>\n",
       "    <tr>\n",
       "      <th>0</th>\n",
       "      <td>2010-04-19</td>\n",
       "      <td>De Bakker T.</td>\n",
       "      <td>Falla A.</td>\n",
       "      <td>0.0</td>\n",
       "      <td>0.62</td>\n",
       "      <td>0.38</td>\n",
       "      <td>1.52</td>\n",
       "      <td>2.46</td>\n",
       "      <td>1.62</td>\n",
       "      <td>2.79</td>\n",
       "      <td>1.61</td>\n",
       "      <td>2.63</td>\n",
       "      <td>0.006173</td>\n",
       "      <td>0.057348</td>\n",
       "    </tr>\n",
       "    <tr>\n",
       "      <th>1</th>\n",
       "      <td>2010-04-19</td>\n",
       "      <td>Starace P.</td>\n",
       "      <td>Hajek J.</td>\n",
       "      <td>1.0</td>\n",
       "      <td>0.67</td>\n",
       "      <td>0.33</td>\n",
       "      <td>1.34</td>\n",
       "      <td>3.12</td>\n",
       "      <td>1.40</td>\n",
       "      <td>3.64</td>\n",
       "      <td>1.49</td>\n",
       "      <td>3.03</td>\n",
       "      <td>-0.060403</td>\n",
       "      <td>0.167582</td>\n",
       "    </tr>\n",
       "    <tr>\n",
       "      <th>2</th>\n",
       "      <td>2010-04-19</td>\n",
       "      <td>Schwank E.</td>\n",
       "      <td>Fognini F.</td>\n",
       "      <td>0.0</td>\n",
       "      <td>0.33</td>\n",
       "      <td>0.67</td>\n",
       "      <td>1.99</td>\n",
       "      <td>1.77</td>\n",
       "      <td>2.14</td>\n",
       "      <td>1.85</td>\n",
       "      <td>3.03</td>\n",
       "      <td>1.49</td>\n",
       "      <td>-0.293729</td>\n",
       "      <td>0.194595</td>\n",
       "    </tr>\n",
       "    <tr>\n",
       "      <th>3</th>\n",
       "      <td>2010-04-19</td>\n",
       "      <td>Rochus C.</td>\n",
       "      <td>Garcia-Lopez G.</td>\n",
       "      <td>1.0</td>\n",
       "      <td>0.33</td>\n",
       "      <td>0.67</td>\n",
       "      <td>3.02</td>\n",
       "      <td>1.36</td>\n",
       "      <td>3.25</td>\n",
       "      <td>1.45</td>\n",
       "      <td>3.03</td>\n",
       "      <td>1.49</td>\n",
       "      <td>0.067692</td>\n",
       "      <td>-0.026846</td>\n",
       "    </tr>\n",
       "    <tr>\n",
       "      <th>4</th>\n",
       "      <td>2010-04-19</td>\n",
       "      <td>Bellucci T.</td>\n",
       "      <td>Nieminen J.</td>\n",
       "      <td>0.0</td>\n",
       "      <td>0.52</td>\n",
       "      <td>0.48</td>\n",
       "      <td>1.46</td>\n",
       "      <td>2.63</td>\n",
       "      <td>1.50</td>\n",
       "      <td>3.09</td>\n",
       "      <td>1.92</td>\n",
       "      <td>2.08</td>\n",
       "      <td>-0.218750</td>\n",
       "      <td>0.326861</td>\n",
       "    </tr>\n",
       "    <tr>\n",
       "      <th>...</th>\n",
       "      <td>...</td>\n",
       "      <td>...</td>\n",
       "      <td>...</td>\n",
       "      <td>...</td>\n",
       "      <td>...</td>\n",
       "      <td>...</td>\n",
       "      <td>...</td>\n",
       "      <td>...</td>\n",
       "      <td>...</td>\n",
       "      <td>...</td>\n",
       "      <td>...</td>\n",
       "      <td>...</td>\n",
       "      <td>...</td>\n",
       "      <td>...</td>\n",
       "    </tr>\n",
       "    <tr>\n",
       "      <th>25349</th>\n",
       "      <td>2019-11-15</td>\n",
       "      <td>Nadal R.</td>\n",
       "      <td>Tsitsipas S.</td>\n",
       "      <td>0.0</td>\n",
       "      <td>0.26</td>\n",
       "      <td>0.74</td>\n",
       "      <td>1.41</td>\n",
       "      <td>2.93</td>\n",
       "      <td>1.48</td>\n",
       "      <td>3.30</td>\n",
       "      <td>3.85</td>\n",
       "      <td>1.35</td>\n",
       "      <td>-0.615584</td>\n",
       "      <td>0.590909</td>\n",
       "    </tr>\n",
       "    <tr>\n",
       "      <th>25350</th>\n",
       "      <td>2019-11-15</td>\n",
       "      <td>Medvedev D.</td>\n",
       "      <td>Zverev A.</td>\n",
       "      <td>1.0</td>\n",
       "      <td>0.02</td>\n",
       "      <td>0.98</td>\n",
       "      <td>1.90</td>\n",
       "      <td>1.92</td>\n",
       "      <td>2.06</td>\n",
       "      <td>2.24</td>\n",
       "      <td>50.00</td>\n",
       "      <td>1.02</td>\n",
       "      <td>-0.958800</td>\n",
       "      <td>0.544643</td>\n",
       "    </tr>\n",
       "    <tr>\n",
       "      <th>25351</th>\n",
       "      <td>2019-11-16</td>\n",
       "      <td>Tsitsipas S.</td>\n",
       "      <td>Federer R.</td>\n",
       "      <td>0.0</td>\n",
       "      <td>0.79</td>\n",
       "      <td>0.21</td>\n",
       "      <td>3.39</td>\n",
       "      <td>1.33</td>\n",
       "      <td>3.75</td>\n",
       "      <td>1.40</td>\n",
       "      <td>1.27</td>\n",
       "      <td>4.76</td>\n",
       "      <td>0.661333</td>\n",
       "      <td>-0.705882</td>\n",
       "    </tr>\n",
       "    <tr>\n",
       "      <th>25352</th>\n",
       "      <td>2019-11-16</td>\n",
       "      <td>Zverev A.</td>\n",
       "      <td>Thiem D.</td>\n",
       "      <td>1.0</td>\n",
       "      <td>0.25</td>\n",
       "      <td>0.75</td>\n",
       "      <td>2.06</td>\n",
       "      <td>1.78</td>\n",
       "      <td>2.20</td>\n",
       "      <td>1.87</td>\n",
       "      <td>4.00</td>\n",
       "      <td>1.33</td>\n",
       "      <td>-0.450000</td>\n",
       "      <td>0.288770</td>\n",
       "    </tr>\n",
       "    <tr>\n",
       "      <th>25353</th>\n",
       "      <td>2019-11-17</td>\n",
       "      <td>Tsitsipas S.</td>\n",
       "      <td>Thiem D.</td>\n",
       "      <td>0.0</td>\n",
       "      <td>0.91</td>\n",
       "      <td>0.09</td>\n",
       "      <td>1.96</td>\n",
       "      <td>1.86</td>\n",
       "      <td>2.05</td>\n",
       "      <td>1.93</td>\n",
       "      <td>1.10</td>\n",
       "      <td>11.11</td>\n",
       "      <td>0.463415</td>\n",
       "      <td>-0.826283</td>\n",
       "    </tr>\n",
       "  </tbody>\n",
       "</table>\n",
       "<p>25354 rows × 14 columns</p>\n",
       "</div>"
      ],
      "text/plain": [
       "             Date            Pl0              Pl1  Winner  Pl0 %  Pl1 %  \\\n",
       "0      2010-04-19   De Bakker T.         Falla A.     0.0   0.62   0.38   \n",
       "1      2010-04-19     Starace P.         Hajek J.     1.0   0.67   0.33   \n",
       "2      2010-04-19     Schwank E.       Fognini F.     0.0   0.33   0.67   \n",
       "3      2010-04-19      Rochus C.  Garcia-Lopez G.     1.0   0.33   0.67   \n",
       "4      2010-04-19    Bellucci T.      Nieminen J.     0.0   0.52   0.48   \n",
       "...           ...            ...              ...     ...    ...    ...   \n",
       "25349  2019-11-15      Nadal R.     Tsitsipas S.      0.0   0.26   0.74   \n",
       "25350  2019-11-15   Medvedev D.        Zverev A.      1.0   0.02   0.98   \n",
       "25351  2019-11-16  Tsitsipas S.       Federer R.      0.0   0.79   0.21   \n",
       "25352  2019-11-16     Zverev A.         Thiem D.      1.0   0.25   0.75   \n",
       "25353  2019-11-17  Tsitsipas S.         Thiem D.      0.0   0.91   0.09   \n",
       "\n",
       "       Pl0 Avg odds  Pl1 Avg odds  Pl0 Max odds  Pl1 Max odds  \\\n",
       "0              1.52          2.46          1.62          2.79   \n",
       "1              1.34          3.12          1.40          3.64   \n",
       "2              1.99          1.77          2.14          1.85   \n",
       "3              3.02          1.36          3.25          1.45   \n",
       "4              1.46          2.63          1.50          3.09   \n",
       "...             ...           ...           ...           ...   \n",
       "25349          1.41          2.93          1.48          3.30   \n",
       "25350          1.90          1.92          2.06          2.24   \n",
       "25351          3.39          1.33          3.75          1.40   \n",
       "25352          2.06          1.78          2.20          1.87   \n",
       "25353          1.96          1.86          2.05          1.93   \n",
       "\n",
       "       Fair odds for Pl0  Fair odds for Pl1  Bet on Pl0 Value  \\\n",
       "0                   1.61               2.63          0.006173   \n",
       "1                   1.49               3.03         -0.060403   \n",
       "2                   3.03               1.49         -0.293729   \n",
       "3                   3.03               1.49          0.067692   \n",
       "4                   1.92               2.08         -0.218750   \n",
       "...                  ...                ...               ...   \n",
       "25349               3.85               1.35         -0.615584   \n",
       "25350              50.00               1.02         -0.958800   \n",
       "25351               1.27               4.76          0.661333   \n",
       "25352               4.00               1.33         -0.450000   \n",
       "25353               1.10              11.11          0.463415   \n",
       "\n",
       "       Bet on Pl1 Value  \n",
       "0              0.057348  \n",
       "1              0.167582  \n",
       "2              0.194595  \n",
       "3             -0.026846  \n",
       "4              0.326861  \n",
       "...                 ...  \n",
       "25349          0.590909  \n",
       "25350          0.544643  \n",
       "25351         -0.705882  \n",
       "25352          0.288770  \n",
       "25353         -0.826283  \n",
       "\n",
       "[25354 rows x 14 columns]"
      ]
     },
     "execution_count": 15,
     "metadata": {},
     "output_type": "execute_result"
    }
   ],
   "source": [
    "betting_df"
   ]
  },
  {
   "cell_type": "markdown",
   "metadata": {},
   "source": [
    "We just obtained 17104 matches where we can bet on the player who's value is higher!\n",
    "Let's save this dataframe!"
   ]
  },
  {
   "cell_type": "code",
   "execution_count": 16,
   "metadata": {},
   "outputs": [],
   "source": [
    "betting_df.to_csv(\"csv/Betting_Data.csv\", index=False)"
   ]
  }
 ],
 "metadata": {
  "kernelspec": {
   "display_name": "Python 3",
   "language": "python",
   "name": "python3"
  },
  "language_info": {
   "codemirror_mode": {
    "name": "ipython",
    "version": 3
   },
   "file_extension": ".py",
   "mimetype": "text/x-python",
   "name": "python",
   "nbconvert_exporter": "python",
   "pygments_lexer": "ipython3",
   "version": "3.7.6"
  }
 },
 "nbformat": 4,
 "nbformat_minor": 4
}
