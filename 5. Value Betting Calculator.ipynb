{
 "cells": [
  {
   "cell_type": "markdown",
   "metadata": {},
   "source": [
    "# 5. Value Betting Calculator\n",
    "\n",
    "In this notebook we'll make use of our match dataset and machine learning model we've built in the last stage, to predict the chances for each player to win in any given match.\n",
    "\n",
    "We'll then compare these chances with the odds available for those matches, and build a Dataframe where each row will contain information regarding which player we would have to bet on!"
   ]
  },
  {
   "cell_type": "markdown",
   "metadata": {},
   "source": [
    "Let's import the libraries needed for this notebook:"
   ]
  },
  {
   "cell_type": "code",
   "execution_count": 1,
   "metadata": {},
   "outputs": [],
   "source": [
    "import pandas as pd\n",
    "from math import exp\n",
    "import pickle"
   ]
  },
  {
   "cell_type": "markdown",
   "metadata": {},
   "source": [
    "Now, we'll load the model trained in last notebook:"
   ]
  },
  {
   "cell_type": "code",
   "execution_count": 2,
   "metadata": {},
   "outputs": [],
   "source": [
    "model = pickle.load(open(\"logistic_regression.lr\", 'rb'))"
   ]
  },
  {
   "cell_type": "markdown",
   "metadata": {},
   "source": [
    "Now, let's open the Coefficients dataframe saved in the last notebook, and let's create a dictionary object based on the dataframe, where the key is going to be the attribute name and the value will be the attribute's coefficient:"
   ]
  },
  {
   "cell_type": "code",
   "execution_count": 3,
   "metadata": {},
   "outputs": [],
   "source": [
    "coefs_df = pd.read_csv(\"csv/Coefficients.csv\")"
   ]
  },
  {
   "cell_type": "code",
   "execution_count": 4,
   "metadata": {},
   "outputs": [
    {
     "data": {
      "text/html": [
       "<div>\n",
       "<style scoped>\n",
       "    .dataframe tbody tr th:only-of-type {\n",
       "        vertical-align: middle;\n",
       "    }\n",
       "\n",
       "    .dataframe tbody tr th {\n",
       "        vertical-align: top;\n",
       "    }\n",
       "\n",
       "    .dataframe thead th {\n",
       "        text-align: right;\n",
       "    }\n",
       "</style>\n",
       "<table border=\"1\" class=\"dataframe\">\n",
       "  <thead>\n",
       "    <tr style=\"text-align: right;\">\n",
       "      <th></th>\n",
       "      <th>Column</th>\n",
       "      <th>Coef</th>\n",
       "    </tr>\n",
       "  </thead>\n",
       "  <tbody>\n",
       "    <tr>\n",
       "      <th>0</th>\n",
       "      <td>Indoor</td>\n",
       "      <td>-0.008205</td>\n",
       "    </tr>\n",
       "    <tr>\n",
       "      <th>1</th>\n",
       "      <td>Outdoor</td>\n",
       "      <td>0.018288</td>\n",
       "    </tr>\n",
       "    <tr>\n",
       "      <th>2</th>\n",
       "      <td>Carpet</td>\n",
       "      <td>0.018235</td>\n",
       "    </tr>\n",
       "    <tr>\n",
       "      <th>3</th>\n",
       "      <td>Clay</td>\n",
       "      <td>-0.003667</td>\n",
       "    </tr>\n",
       "    <tr>\n",
       "      <th>4</th>\n",
       "      <td>Grass</td>\n",
       "      <td>-0.030138</td>\n",
       "    </tr>\n",
       "  </tbody>\n",
       "</table>\n",
       "</div>"
      ],
      "text/plain": [
       "    Column      Coef\n",
       "0   Indoor -0.008205\n",
       "1  Outdoor  0.018288\n",
       "2   Carpet  0.018235\n",
       "3     Clay -0.003667\n",
       "4    Grass -0.030138"
      ]
     },
     "execution_count": 4,
     "metadata": {},
     "output_type": "execute_result"
    }
   ],
   "source": [
    "coefs_df.head()"
   ]
  },
  {
   "cell_type": "code",
   "execution_count": 5,
   "metadata": {},
   "outputs": [],
   "source": [
    "coefs_map = {}\n",
    "for ix, row in coefs_df.iterrows():\n",
    "\n",
    "    attribute = row['Column']\n",
    "    attribute_coef = row['Coef']\n",
    "\n",
    "    coefs_map[attribute] = attribute_coef"
   ]
  },
  {
   "cell_type": "code",
   "execution_count": 6,
   "metadata": {
    "scrolled": false
   },
   "outputs": [
    {
     "data": {
      "text/plain": [
       "{'Indoor': -0.008205490055114922,\n",
       " 'Outdoor': 0.018288190776828448,\n",
       " 'Carpet': 0.018235098719900585,\n",
       " 'Clay': -0.0036670657947837455,\n",
       " 'Grass': -0.030137893520682982,\n",
       " 'Hard': 0.02565256131728023,\n",
       " 'ATP250': 0.010034866580374424,\n",
       " 'ATP500': 0.017153517648049232,\n",
       " 'Grand Slam': -0.014697553313709538,\n",
       " 'Masters 1000': 0.03930679973658772,\n",
       " 'Masters Cup': -0.04171492992958769,\n",
       " '1st Round': -0.007050532204758627,\n",
       " '2nd Round': 0.0160313689626121,\n",
       " '3rd Round': -0.07591470921881736,\n",
       " '4th Round': 0.019890644865569376,\n",
       " 'Quarterfinals': -0.03044797716182537,\n",
       " 'Round Robin': 0.08453897012931598,\n",
       " 'Semifinals': -0.012502992714257024,\n",
       " 'The Final': 0.01553792806387606,\n",
       " 'Rank Index': 0.3627017152187937,\n",
       " 'Pl0 Recent Form': -0.27294250215186305,\n",
       " 'Pl0 Form': 0.2708226143231703,\n",
       " 'Pl1 Recent Form': 0.3138160892166305,\n",
       " 'Pl1 Form': -0.5232964971778234,\n",
       " 'Pl0 Perf. vs Similar Opponent': -2.4604492270974863,\n",
       " 'Pl1 Perf. vs Similar Opponent': 2.234436723553626,\n",
       " 'Pl0 Surface Performance': -3.0215764061759263,\n",
       " 'Pl1 Surface Performance': 3.389838827303445}"
      ]
     },
     "execution_count": 6,
     "metadata": {},
     "output_type": "execute_result"
    }
   ],
   "source": [
    "coefs_map"
   ]
  },
  {
   "cell_type": "markdown",
   "metadata": {},
   "source": [
    "Let's make a quick analysis on the greatest indicators for player 1 to win a match against player 0.\n",
    "Let's see which attributes matter the most:"
   ]
  },
  {
   "cell_type": "code",
   "execution_count": 7,
   "metadata": {
    "scrolled": true
   },
   "outputs": [
    {
     "data": {
      "text/html": [
       "<div>\n",
       "<style scoped>\n",
       "    .dataframe tbody tr th:only-of-type {\n",
       "        vertical-align: middle;\n",
       "    }\n",
       "\n",
       "    .dataframe tbody tr th {\n",
       "        vertical-align: top;\n",
       "    }\n",
       "\n",
       "    .dataframe thead th {\n",
       "        text-align: right;\n",
       "    }\n",
       "</style>\n",
       "<table border=\"1\" class=\"dataframe\">\n",
       "  <thead>\n",
       "    <tr style=\"text-align: right;\">\n",
       "      <th></th>\n",
       "      <th>Column</th>\n",
       "      <th>Coef</th>\n",
       "    </tr>\n",
       "  </thead>\n",
       "  <tbody>\n",
       "    <tr>\n",
       "      <th>27</th>\n",
       "      <td>Pl1 Surface Performance</td>\n",
       "      <td>3.389839</td>\n",
       "    </tr>\n",
       "    <tr>\n",
       "      <th>25</th>\n",
       "      <td>Pl1 Perf. vs Similar Opponent</td>\n",
       "      <td>2.234437</td>\n",
       "    </tr>\n",
       "    <tr>\n",
       "      <th>19</th>\n",
       "      <td>Rank Index</td>\n",
       "      <td>0.362702</td>\n",
       "    </tr>\n",
       "    <tr>\n",
       "      <th>22</th>\n",
       "      <td>Pl1 Recent Form</td>\n",
       "      <td>0.313816</td>\n",
       "    </tr>\n",
       "    <tr>\n",
       "      <th>21</th>\n",
       "      <td>Pl0 Form</td>\n",
       "      <td>0.270823</td>\n",
       "    </tr>\n",
       "    <tr>\n",
       "      <th>20</th>\n",
       "      <td>Pl0 Recent Form</td>\n",
       "      <td>-0.272943</td>\n",
       "    </tr>\n",
       "    <tr>\n",
       "      <th>23</th>\n",
       "      <td>Pl1 Form</td>\n",
       "      <td>-0.523296</td>\n",
       "    </tr>\n",
       "    <tr>\n",
       "      <th>24</th>\n",
       "      <td>Pl0 Perf. vs Similar Opponent</td>\n",
       "      <td>-2.460449</td>\n",
       "    </tr>\n",
       "    <tr>\n",
       "      <th>26</th>\n",
       "      <td>Pl0 Surface Performance</td>\n",
       "      <td>-3.021576</td>\n",
       "    </tr>\n",
       "  </tbody>\n",
       "</table>\n",
       "</div>"
      ],
      "text/plain": [
       "                           Column      Coef\n",
       "27        Pl1 Surface Performance  3.389839\n",
       "25  Pl1 Perf. vs Similar Opponent  2.234437\n",
       "19                     Rank Index  0.362702\n",
       "22                Pl1 Recent Form  0.313816\n",
       "21                       Pl0 Form  0.270823\n",
       "20                Pl0 Recent Form -0.272943\n",
       "23                       Pl1 Form -0.523296\n",
       "24  Pl0 Perf. vs Similar Opponent -2.460449\n",
       "26        Pl0 Surface Performance -3.021576"
      ]
     },
     "execution_count": 7,
     "metadata": {},
     "output_type": "execute_result"
    }
   ],
   "source": [
    "coefs_df[abs(coefs_df['Coef']) > 0.1].sort_values('Coef', ascending = False)"
   ]
  },
  {
   "cell_type": "markdown",
   "metadata": {},
   "source": [
    "We can see that the most important features are:\n",
    "- Player performance on specific surface\n",
    "- Player performance against similar ranked opponents\n",
    "- The opponent's form\n",
    "- The rank index\n",
    "- The players recent form"
   ]
  },
  {
   "cell_type": "markdown",
   "metadata": {},
   "source": [
    "Let's load our matches Dataset"
   ]
  },
  {
   "cell_type": "code",
   "execution_count": 8,
   "metadata": {},
   "outputs": [],
   "source": [
    "df = pd.read_csv(\"csv/FeatureCalculated_Data.csv\")"
   ]
  },
  {
   "cell_type": "markdown",
   "metadata": {},
   "source": [
    "Now our goal is to build another Dataframe, containing the informations about the the players, who wins each match, the average and maximum odds available for each player, and we'll use our loaded model to calculate the predicted chances to win for each player:"
   ]
  },
  {
   "cell_type": "code",
   "execution_count": 9,
   "metadata": {},
   "outputs": [],
   "source": [
    "betting_data_df = df[(df[\"Avg_Pl0\"] > 1) & (df[\"Avg_Pl1\"] > 1) & (df[\"Max_Pl0\"] > 1) & (df[\"Max_Pl1\"] > 1)]"
   ]
  },
  {
   "cell_type": "code",
   "execution_count": 10,
   "metadata": {},
   "outputs": [],
   "source": [
    "inputs = betting_data_df.iloc[:, 10:]"
   ]
  },
  {
   "cell_type": "code",
   "execution_count": 11,
   "metadata": {},
   "outputs": [],
   "source": [
    "predicted_outputs = model.predict_proba(inputs)"
   ]
  },
  {
   "cell_type": "code",
   "execution_count": 12,
   "metadata": {},
   "outputs": [
    {
     "name": "stderr",
     "output_type": "stream",
     "text": [
      "C:\\Users\\acorsett\\python_installation\\envs\\py3-TF2.0\\lib\\site-packages\\pandas\\core\\indexing.py:844: SettingWithCopyWarning: \n",
      "A value is trying to be set on a copy of a slice from a DataFrame.\n",
      "Try using .loc[row_indexer,col_indexer] = value instead\n",
      "\n",
      "See the caveats in the documentation: https://pandas.pydata.org/pandas-docs/stable/user_guide/indexing.html#returning-a-view-versus-a-copy\n",
      "  self.obj[key] = _infer_fill_value(value)\n",
      "C:\\Users\\acorsett\\python_installation\\envs\\py3-TF2.0\\lib\\site-packages\\pandas\\core\\indexing.py:965: SettingWithCopyWarning: \n",
      "A value is trying to be set on a copy of a slice from a DataFrame.\n",
      "Try using .loc[row_indexer,col_indexer] = value instead\n",
      "\n",
      "See the caveats in the documentation: https://pandas.pydata.org/pandas-docs/stable/user_guide/indexing.html#returning-a-view-versus-a-copy\n",
      "  self.obj[item] = s\n"
     ]
    }
   ],
   "source": [
    "index = 0\n",
    "for ix, row in betting_data_df.iterrows():\n",
    "    prob_pl0 = predicted_outputs[index][0] \n",
    "    prob_pl1 = predicted_outputs[index][1] \n",
    "    betting_data_df.at[ix, 'Pl0 %'] = prob_pl0\n",
    "    betting_data_df.at[ix, 'Pl1 %'] = prob_pl1\n",
    "    index += 1"
   ]
  },
  {
   "cell_type": "code",
   "execution_count": 13,
   "metadata": {},
   "outputs": [
    {
     "data": {
      "text/html": [
       "<div>\n",
       "<style scoped>\n",
       "    .dataframe tbody tr th:only-of-type {\n",
       "        vertical-align: middle;\n",
       "    }\n",
       "\n",
       "    .dataframe tbody tr th {\n",
       "        vertical-align: top;\n",
       "    }\n",
       "\n",
       "    .dataframe thead th {\n",
       "        text-align: right;\n",
       "    }\n",
       "</style>\n",
       "<table border=\"1\" class=\"dataframe\">\n",
       "  <thead>\n",
       "    <tr style=\"text-align: right;\">\n",
       "      <th></th>\n",
       "      <th>Avg_Pl1</th>\n",
       "      <th>Avg_Pl0</th>\n",
       "      <th>Date</th>\n",
       "      <th>Pl1_Rank</th>\n",
       "      <th>Player 1</th>\n",
       "      <th>Max_Pl1</th>\n",
       "      <th>Max_Pl0</th>\n",
       "      <th>Pl0_Rank</th>\n",
       "      <th>Player 0</th>\n",
       "      <th>Won</th>\n",
       "      <th>...</th>\n",
       "      <th>Pl0 Recent Form</th>\n",
       "      <th>Pl0 Form</th>\n",
       "      <th>Pl1 Recent Form</th>\n",
       "      <th>Pl1 Form</th>\n",
       "      <th>Pl0 Perf. vs Similar Opponent</th>\n",
       "      <th>Pl1 Perf. vs Similar Opponent</th>\n",
       "      <th>Pl0 Surface Performance</th>\n",
       "      <th>Pl1 Surface Performance</th>\n",
       "      <th>Pl0 %</th>\n",
       "      <th>Pl1 %</th>\n",
       "    </tr>\n",
       "  </thead>\n",
       "  <tbody>\n",
       "    <tr>\n",
       "      <th>29521</th>\n",
       "      <td>2.46</td>\n",
       "      <td>1.52</td>\n",
       "      <td>2010-04-19</td>\n",
       "      <td>58</td>\n",
       "      <td>Falla A.</td>\n",
       "      <td>2.79</td>\n",
       "      <td>1.62</td>\n",
       "      <td>67</td>\n",
       "      <td>De Bakker T.</td>\n",
       "      <td>0.0</td>\n",
       "      <td>...</td>\n",
       "      <td>0.57</td>\n",
       "      <td>0.50</td>\n",
       "      <td>0.43</td>\n",
       "      <td>0.40</td>\n",
       "      <td>0.50</td>\n",
       "      <td>0.39</td>\n",
       "      <td>0.46</td>\n",
       "      <td>0.39</td>\n",
       "      <td>0.619670</td>\n",
       "      <td>0.380330</td>\n",
       "    </tr>\n",
       "    <tr>\n",
       "      <th>29522</th>\n",
       "      <td>3.12</td>\n",
       "      <td>1.34</td>\n",
       "      <td>2010-04-19</td>\n",
       "      <td>86</td>\n",
       "      <td>Hajek J.</td>\n",
       "      <td>3.64</td>\n",
       "      <td>1.40</td>\n",
       "      <td>61</td>\n",
       "      <td>Starace P.</td>\n",
       "      <td>1.0</td>\n",
       "      <td>...</td>\n",
       "      <td>0.43</td>\n",
       "      <td>0.35</td>\n",
       "      <td>0.14</td>\n",
       "      <td>0.30</td>\n",
       "      <td>0.52</td>\n",
       "      <td>0.40</td>\n",
       "      <td>0.52</td>\n",
       "      <td>0.39</td>\n",
       "      <td>0.671717</td>\n",
       "      <td>0.328283</td>\n",
       "    </tr>\n",
       "    <tr>\n",
       "      <th>29523</th>\n",
       "      <td>1.77</td>\n",
       "      <td>1.99</td>\n",
       "      <td>2010-04-19</td>\n",
       "      <td>74</td>\n",
       "      <td>Fognini F.</td>\n",
       "      <td>1.85</td>\n",
       "      <td>2.14</td>\n",
       "      <td>59</td>\n",
       "      <td>Schwank E.</td>\n",
       "      <td>0.0</td>\n",
       "      <td>...</td>\n",
       "      <td>0.43</td>\n",
       "      <td>0.35</td>\n",
       "      <td>0.14</td>\n",
       "      <td>0.30</td>\n",
       "      <td>0.46</td>\n",
       "      <td>0.60</td>\n",
       "      <td>0.45</td>\n",
       "      <td>0.58</td>\n",
       "      <td>0.326398</td>\n",
       "      <td>0.673602</td>\n",
       "    </tr>\n",
       "    <tr>\n",
       "      <th>29524</th>\n",
       "      <td>1.36</td>\n",
       "      <td>3.02</td>\n",
       "      <td>2010-04-19</td>\n",
       "      <td>42</td>\n",
       "      <td>Garcia-Lopez G.</td>\n",
       "      <td>1.45</td>\n",
       "      <td>3.25</td>\n",
       "      <td>122</td>\n",
       "      <td>Rochus C.</td>\n",
       "      <td>1.0</td>\n",
       "      <td>...</td>\n",
       "      <td>0.00</td>\n",
       "      <td>0.10</td>\n",
       "      <td>0.43</td>\n",
       "      <td>0.35</td>\n",
       "      <td>0.36</td>\n",
       "      <td>0.59</td>\n",
       "      <td>0.43</td>\n",
       "      <td>0.50</td>\n",
       "      <td>0.325714</td>\n",
       "      <td>0.674286</td>\n",
       "    </tr>\n",
       "    <tr>\n",
       "      <th>29525</th>\n",
       "      <td>2.63</td>\n",
       "      <td>1.46</td>\n",
       "      <td>2010-04-19</td>\n",
       "      <td>64</td>\n",
       "      <td>Nieminen J.</td>\n",
       "      <td>3.09</td>\n",
       "      <td>1.50</td>\n",
       "      <td>33</td>\n",
       "      <td>Bellucci T.</td>\n",
       "      <td>0.0</td>\n",
       "      <td>...</td>\n",
       "      <td>0.43</td>\n",
       "      <td>0.65</td>\n",
       "      <td>0.57</td>\n",
       "      <td>0.45</td>\n",
       "      <td>0.57</td>\n",
       "      <td>0.46</td>\n",
       "      <td>0.53</td>\n",
       "      <td>0.53</td>\n",
       "      <td>0.521146</td>\n",
       "      <td>0.478854</td>\n",
       "    </tr>\n",
       "  </tbody>\n",
       "</table>\n",
       "<p>5 rows × 40 columns</p>\n",
       "</div>"
      ],
      "text/plain": [
       "       Avg_Pl1  Avg_Pl0        Date  Pl1_Rank         Player 1  Max_Pl1  \\\n",
       "29521     2.46     1.52  2010-04-19        58         Falla A.     2.79   \n",
       "29522     3.12     1.34  2010-04-19        86         Hajek J.     3.64   \n",
       "29523     1.77     1.99  2010-04-19        74       Fognini F.     1.85   \n",
       "29524     1.36     3.02  2010-04-19        42  Garcia-Lopez G.     1.45   \n",
       "29525     2.63     1.46  2010-04-19        64      Nieminen J.     3.09   \n",
       "\n",
       "       Max_Pl0  Pl0_Rank      Player 0  Won  ...  Pl0 Recent Form  Pl0 Form  \\\n",
       "29521     1.62        67  De Bakker T.  0.0  ...             0.57      0.50   \n",
       "29522     1.40        61    Starace P.  1.0  ...             0.43      0.35   \n",
       "29523     2.14        59    Schwank E.  0.0  ...             0.43      0.35   \n",
       "29524     3.25       122     Rochus C.  1.0  ...             0.00      0.10   \n",
       "29525     1.50        33   Bellucci T.  0.0  ...             0.43      0.65   \n",
       "\n",
       "       Pl1 Recent Form  Pl1 Form  Pl0 Perf. vs Similar Opponent  \\\n",
       "29521             0.43      0.40                           0.50   \n",
       "29522             0.14      0.30                           0.52   \n",
       "29523             0.14      0.30                           0.46   \n",
       "29524             0.43      0.35                           0.36   \n",
       "29525             0.57      0.45                           0.57   \n",
       "\n",
       "       Pl1 Perf. vs Similar Opponent  Pl0 Surface Performance  \\\n",
       "29521                           0.39                     0.46   \n",
       "29522                           0.40                     0.52   \n",
       "29523                           0.60                     0.45   \n",
       "29524                           0.59                     0.43   \n",
       "29525                           0.46                     0.53   \n",
       "\n",
       "       Pl1 Surface Performance     Pl0 %     Pl1 %  \n",
       "29521                     0.39  0.619670  0.380330  \n",
       "29522                     0.39  0.671717  0.328283  \n",
       "29523                     0.58  0.326398  0.673602  \n",
       "29524                     0.50  0.325714  0.674286  \n",
       "29525                     0.53  0.521146  0.478854  \n",
       "\n",
       "[5 rows x 40 columns]"
      ]
     },
     "execution_count": 13,
     "metadata": {},
     "output_type": "execute_result"
    }
   ],
   "source": [
    "betting_data_df.head()"
   ]
  },
  {
   "cell_type": "markdown",
   "metadata": {},
   "source": [
    "Let's define a helper funxtion that takes a change in input and returns the 'fair' odds for that chance value."
   ]
  },
  {
   "cell_type": "code",
   "execution_count": 14,
   "metadata": {},
   "outputs": [],
   "source": [
    "def right_odds(chance):\n",
    "    return round(1/chance,2)"
   ]
  },
  {
   "cell_type": "markdown",
   "metadata": {},
   "source": [
    "Now, we have everything we need to make decisions based on which player, for each match, we get the most value betting on!\n",
    "In fact, next we're going to append to this betting dataframe another 4 columns.\n",
    "\n",
    "The fair odds for both player 0 and player 1, based on the chances of each player to win according to the model, and the value that we would get betting on each player at the max odds available!"
   ]
  },
  {
   "cell_type": "code",
   "execution_count": 15,
   "metadata": {},
   "outputs": [
    {
     "name": "stderr",
     "output_type": "stream",
     "text": [
      "C:\\Users\\acorsett\\python_installation\\envs\\py3-TF2.0\\lib\\site-packages\\pandas\\core\\indexing.py:844: SettingWithCopyWarning: \n",
      "A value is trying to be set on a copy of a slice from a DataFrame.\n",
      "Try using .loc[row_indexer,col_indexer] = value instead\n",
      "\n",
      "See the caveats in the documentation: https://pandas.pydata.org/pandas-docs/stable/user_guide/indexing.html#returning-a-view-versus-a-copy\n",
      "  self.obj[key] = _infer_fill_value(value)\n",
      "C:\\Users\\acorsett\\python_installation\\envs\\py3-TF2.0\\lib\\site-packages\\pandas\\core\\indexing.py:965: SettingWithCopyWarning: \n",
      "A value is trying to be set on a copy of a slice from a DataFrame.\n",
      "Try using .loc[row_indexer,col_indexer] = value instead\n",
      "\n",
      "See the caveats in the documentation: https://pandas.pydata.org/pandas-docs/stable/user_guide/indexing.html#returning-a-view-versus-a-copy\n",
      "  self.obj[item] = s\n"
     ]
    }
   ],
   "source": [
    "for ix, row in betting_data_df.iterrows():\n",
    "    right_odds_p0 = right_odds(row['Pl0 %'])\n",
    "    right_odds_p1 = right_odds(row['Pl1 %'])\n",
    "    bet_value_p0 = (row['Max_Pl0'] - right_odds_p0)/max(right_odds_p0,row['Max_Pl0'])\n",
    "    bet_value_p1 = (row['Max_Pl1'] - right_odds_p1)/max(right_odds_p1,row['Max_Pl1'])\n",
    "    betting_data_df.at[ix, 'Fair odds for Pl0'] = right_odds_p0\n",
    "    betting_data_df.at[ix, 'Fair odds for Pl1'] = right_odds_p1\n",
    "    betting_data_df.at[ix, 'Bet on Pl0 Value'] = bet_value_p0\n",
    "    betting_data_df.at[ix, 'Bet on Pl1 Value'] = bet_value_p1"
   ]
  },
  {
   "cell_type": "code",
   "execution_count": 18,
   "metadata": {
    "scrolled": false
   },
   "outputs": [
    {
     "data": {
      "text/html": [
       "<div>\n",
       "<style scoped>\n",
       "    .dataframe tbody tr th:only-of-type {\n",
       "        vertical-align: middle;\n",
       "    }\n",
       "\n",
       "    .dataframe tbody tr th {\n",
       "        vertical-align: top;\n",
       "    }\n",
       "\n",
       "    .dataframe thead th {\n",
       "        text-align: right;\n",
       "    }\n",
       "</style>\n",
       "<table border=\"1\" class=\"dataframe\">\n",
       "  <thead>\n",
       "    <tr style=\"text-align: right;\">\n",
       "      <th></th>\n",
       "      <th>Avg_Pl1</th>\n",
       "      <th>Avg_Pl0</th>\n",
       "      <th>Date</th>\n",
       "      <th>Pl1_Rank</th>\n",
       "      <th>Player 1</th>\n",
       "      <th>Max_Pl1</th>\n",
       "      <th>Max_Pl0</th>\n",
       "      <th>Pl0_Rank</th>\n",
       "      <th>Player 0</th>\n",
       "      <th>Won</th>\n",
       "      <th>...</th>\n",
       "      <th>Pl0 Perf. vs Similar Opponent</th>\n",
       "      <th>Pl1 Perf. vs Similar Opponent</th>\n",
       "      <th>Pl0 Surface Performance</th>\n",
       "      <th>Pl1 Surface Performance</th>\n",
       "      <th>Pl0 %</th>\n",
       "      <th>Pl1 %</th>\n",
       "      <th>Fair odds for Pl0</th>\n",
       "      <th>Fair odds for Pl1</th>\n",
       "      <th>Bet on Pl0 Value</th>\n",
       "      <th>Bet on Pl1 Value</th>\n",
       "    </tr>\n",
       "  </thead>\n",
       "  <tbody>\n",
       "    <tr>\n",
       "      <th>29521</th>\n",
       "      <td>2.46</td>\n",
       "      <td>1.52</td>\n",
       "      <td>2010-04-19</td>\n",
       "      <td>58</td>\n",
       "      <td>Falla A.</td>\n",
       "      <td>2.79</td>\n",
       "      <td>1.62</td>\n",
       "      <td>67</td>\n",
       "      <td>De Bakker T.</td>\n",
       "      <td>0.0</td>\n",
       "      <td>...</td>\n",
       "      <td>0.50</td>\n",
       "      <td>0.39</td>\n",
       "      <td>0.46</td>\n",
       "      <td>0.39</td>\n",
       "      <td>0.619670</td>\n",
       "      <td>0.380330</td>\n",
       "      <td>1.61</td>\n",
       "      <td>2.63</td>\n",
       "      <td>0.006173</td>\n",
       "      <td>0.057348</td>\n",
       "    </tr>\n",
       "    <tr>\n",
       "      <th>29522</th>\n",
       "      <td>3.12</td>\n",
       "      <td>1.34</td>\n",
       "      <td>2010-04-19</td>\n",
       "      <td>86</td>\n",
       "      <td>Hajek J.</td>\n",
       "      <td>3.64</td>\n",
       "      <td>1.40</td>\n",
       "      <td>61</td>\n",
       "      <td>Starace P.</td>\n",
       "      <td>1.0</td>\n",
       "      <td>...</td>\n",
       "      <td>0.52</td>\n",
       "      <td>0.40</td>\n",
       "      <td>0.52</td>\n",
       "      <td>0.39</td>\n",
       "      <td>0.671717</td>\n",
       "      <td>0.328283</td>\n",
       "      <td>1.49</td>\n",
       "      <td>3.05</td>\n",
       "      <td>-0.060403</td>\n",
       "      <td>0.162088</td>\n",
       "    </tr>\n",
       "    <tr>\n",
       "      <th>29523</th>\n",
       "      <td>1.77</td>\n",
       "      <td>1.99</td>\n",
       "      <td>2010-04-19</td>\n",
       "      <td>74</td>\n",
       "      <td>Fognini F.</td>\n",
       "      <td>1.85</td>\n",
       "      <td>2.14</td>\n",
       "      <td>59</td>\n",
       "      <td>Schwank E.</td>\n",
       "      <td>0.0</td>\n",
       "      <td>...</td>\n",
       "      <td>0.46</td>\n",
       "      <td>0.60</td>\n",
       "      <td>0.45</td>\n",
       "      <td>0.58</td>\n",
       "      <td>0.326398</td>\n",
       "      <td>0.673602</td>\n",
       "      <td>3.06</td>\n",
       "      <td>1.48</td>\n",
       "      <td>-0.300654</td>\n",
       "      <td>0.200000</td>\n",
       "    </tr>\n",
       "    <tr>\n",
       "      <th>29524</th>\n",
       "      <td>1.36</td>\n",
       "      <td>3.02</td>\n",
       "      <td>2010-04-19</td>\n",
       "      <td>42</td>\n",
       "      <td>Garcia-Lopez G.</td>\n",
       "      <td>1.45</td>\n",
       "      <td>3.25</td>\n",
       "      <td>122</td>\n",
       "      <td>Rochus C.</td>\n",
       "      <td>1.0</td>\n",
       "      <td>...</td>\n",
       "      <td>0.36</td>\n",
       "      <td>0.59</td>\n",
       "      <td>0.43</td>\n",
       "      <td>0.50</td>\n",
       "      <td>0.325714</td>\n",
       "      <td>0.674286</td>\n",
       "      <td>3.07</td>\n",
       "      <td>1.48</td>\n",
       "      <td>0.055385</td>\n",
       "      <td>-0.020270</td>\n",
       "    </tr>\n",
       "    <tr>\n",
       "      <th>29525</th>\n",
       "      <td>2.63</td>\n",
       "      <td>1.46</td>\n",
       "      <td>2010-04-19</td>\n",
       "      <td>64</td>\n",
       "      <td>Nieminen J.</td>\n",
       "      <td>3.09</td>\n",
       "      <td>1.50</td>\n",
       "      <td>33</td>\n",
       "      <td>Bellucci T.</td>\n",
       "      <td>0.0</td>\n",
       "      <td>...</td>\n",
       "      <td>0.57</td>\n",
       "      <td>0.46</td>\n",
       "      <td>0.53</td>\n",
       "      <td>0.53</td>\n",
       "      <td>0.521146</td>\n",
       "      <td>0.478854</td>\n",
       "      <td>1.92</td>\n",
       "      <td>2.09</td>\n",
       "      <td>-0.218750</td>\n",
       "      <td>0.323625</td>\n",
       "    </tr>\n",
       "  </tbody>\n",
       "</table>\n",
       "<p>5 rows × 44 columns</p>\n",
       "</div>"
      ],
      "text/plain": [
       "       Avg_Pl1  Avg_Pl0        Date  Pl1_Rank         Player 1  Max_Pl1  \\\n",
       "29521     2.46     1.52  2010-04-19        58         Falla A.     2.79   \n",
       "29522     3.12     1.34  2010-04-19        86         Hajek J.     3.64   \n",
       "29523     1.77     1.99  2010-04-19        74       Fognini F.     1.85   \n",
       "29524     1.36     3.02  2010-04-19        42  Garcia-Lopez G.     1.45   \n",
       "29525     2.63     1.46  2010-04-19        64      Nieminen J.     3.09   \n",
       "\n",
       "       Max_Pl0  Pl0_Rank      Player 0  Won  ...  \\\n",
       "29521     1.62        67  De Bakker T.  0.0  ...   \n",
       "29522     1.40        61    Starace P.  1.0  ...   \n",
       "29523     2.14        59    Schwank E.  0.0  ...   \n",
       "29524     3.25       122     Rochus C.  1.0  ...   \n",
       "29525     1.50        33   Bellucci T.  0.0  ...   \n",
       "\n",
       "       Pl0 Perf. vs Similar Opponent  Pl1 Perf. vs Similar Opponent  \\\n",
       "29521                           0.50                           0.39   \n",
       "29522                           0.52                           0.40   \n",
       "29523                           0.46                           0.60   \n",
       "29524                           0.36                           0.59   \n",
       "29525                           0.57                           0.46   \n",
       "\n",
       "       Pl0 Surface Performance  Pl1 Surface Performance     Pl0 %     Pl1 %  \\\n",
       "29521                     0.46                     0.39  0.619670  0.380330   \n",
       "29522                     0.52                     0.39  0.671717  0.328283   \n",
       "29523                     0.45                     0.58  0.326398  0.673602   \n",
       "29524                     0.43                     0.50  0.325714  0.674286   \n",
       "29525                     0.53                     0.53  0.521146  0.478854   \n",
       "\n",
       "       Fair odds for Pl0  Fair odds for Pl1  Bet on Pl0 Value  \\\n",
       "29521               1.61               2.63          0.006173   \n",
       "29522               1.49               3.05         -0.060403   \n",
       "29523               3.06               1.48         -0.300654   \n",
       "29524               3.07               1.48          0.055385   \n",
       "29525               1.92               2.09         -0.218750   \n",
       "\n",
       "       Bet on Pl1 Value  \n",
       "29521          0.057348  \n",
       "29522          0.162088  \n",
       "29523          0.200000  \n",
       "29524         -0.020270  \n",
       "29525          0.323625  \n",
       "\n",
       "[5 rows x 44 columns]"
      ]
     },
     "execution_count": 18,
     "metadata": {},
     "output_type": "execute_result"
    }
   ],
   "source": [
    "betting_data_df.head()"
   ]
  },
  {
   "cell_type": "code",
   "execution_count": 20,
   "metadata": {},
   "outputs": [
    {
     "name": "stderr",
     "output_type": "stream",
     "text": [
      "C:\\Users\\acorsett\\python_installation\\envs\\py3-TF2.0\\lib\\site-packages\\pandas\\core\\frame.py:4133: SettingWithCopyWarning: \n",
      "A value is trying to be set on a copy of a slice from a DataFrame\n",
      "\n",
      "See the caveats in the documentation: https://pandas.pydata.org/pandas-docs/stable/user_guide/indexing.html#returning-a-view-versus-a-copy\n",
      "  errors=errors,\n"
     ]
    }
   ],
   "source": [
    "betting_data_df.rename(columns={\"Avg_Pl1\":\"Pl1 Avg odds\", \"Avg_Pl0\":\"Pl0 Avg odds\", \"Max_Pl1\":\"Pl1 Max odds\", \n",
    "                                \"Max_Pl0\":\"Pl0 Max odds\", \"Won\":\"Winner\"},inplace = True)"
   ]
  },
  {
   "cell_type": "markdown",
   "metadata": {},
   "source": [
    "We just obtained 17104 matches where we can bet on the player who's value is higher!\n",
    "Let's save this dataframe!"
   ]
  },
  {
   "cell_type": "code",
   "execution_count": 21,
   "metadata": {},
   "outputs": [],
   "source": [
    "betting_data_df.to_csv(\"csv/Betting_Data.csv\", index=False)"
   ]
  }
 ],
 "metadata": {
  "kernelspec": {
   "display_name": "Python 3",
   "language": "python",
   "name": "python3"
  },
  "language_info": {
   "codemirror_mode": {
    "name": "ipython",
    "version": 3
   },
   "file_extension": ".py",
   "mimetype": "text/x-python",
   "name": "python",
   "nbconvert_exporter": "python",
   "pygments_lexer": "ipython3",
   "version": "3.7.6"
  }
 },
 "nbformat": 4,
 "nbformat_minor": 4
}
