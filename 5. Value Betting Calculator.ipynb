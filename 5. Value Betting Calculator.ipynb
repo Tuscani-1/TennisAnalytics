{
 "cells": [
  {
   "cell_type": "markdown",
   "metadata": {},
   "source": [
    "# 5. Value Betting Calculator\n",
    "\n",
    "In this notebook we'll make use of our match dataset and the Logistc Regression model we've built in the last stage, to predict the chances for each player to win in any given match.\n",
    "\n",
    "We'll then compare these chances with the odds available for those matches, and build a Dataframe where each row will contain information regarding which player we would have to bet on!\n",
    "\n",
    "\n",
    "\n",
    "trying to simulate bets on matches where we think to have an edge on the betting market (i.e. a value bet occurs when the real odds for an event are higher than the odds \"predicted\" by our model).\n",
    "\n",
    "Finally, we'll compare several betting strategies and we'll find out if it's possible to make a good ROI backtesting our betting strategies."
   ]
  },
  {
   "cell_type": "markdown",
   "metadata": {},
   "source": [
    "Let's import the libraries needed for this notebook:"
   ]
  },
  {
   "cell_type": "code",
   "execution_count": 1,
   "metadata": {},
   "outputs": [],
   "source": [
    "import pandas as pd\n",
    "from math import exp\n",
    "import pickle"
   ]
  },
  {
   "cell_type": "markdown",
   "metadata": {},
   "source": [
    "Now, we'll load the Logistc Regression model trained in last notebook:"
   ]
  },
  {
   "cell_type": "code",
   "execution_count": 2,
   "metadata": {},
   "outputs": [],
   "source": [
    "lreg = pickle.load(open(\"logistic_regression.lr\", 'rb'))"
   ]
  },
  {
   "cell_type": "markdown",
   "metadata": {},
   "source": [
    "Let's take a look at the coefficients and the intercept of this model:"
   ]
  },
  {
   "cell_type": "code",
   "execution_count": 3,
   "metadata": {
    "scrolled": true
   },
   "outputs": [
    {
     "data": {
      "text/plain": [
       "array([[-7.38667203e-03,  1.06399179e-02,  8.41853267e-03,\n",
       "        -4.02306203e-03, -2.89954052e-02,  2.78531804e-02,\n",
       "         1.23497635e-02,  1.69745683e-02, -1.69951653e-02,\n",
       "         4.06163471e-02, -4.96922677e-02,  0.00000000e+00,\n",
       "        -6.24767193e-03,  1.52472500e-02, -7.32217665e-02,\n",
       "         2.36171291e-02, -2.90847929e-02,  8.68967594e-02,\n",
       "        -1.51170519e-02,  1.16339053e-03,  3.24765632e-01,\n",
       "        -2.70326405e-01,  4.75992371e-01,  1.78567091e-01,\n",
       "        -5.97096237e-01, -2.48846237e+00,  2.26352399e+00,\n",
       "        -3.03947649e+00,  3.43256601e+00]])"
      ]
     },
     "execution_count": 3,
     "metadata": {},
     "output_type": "execute_result"
    }
   ],
   "source": [
    "lreg.coef_"
   ]
  },
  {
   "cell_type": "code",
   "execution_count": 4,
   "metadata": {},
   "outputs": [
    {
     "data": {
      "text/plain": [
       "array([0.00433278])"
      ]
     },
     "execution_count": 4,
     "metadata": {},
     "output_type": "execute_result"
    }
   ],
   "source": [
    "lreg.intercept_"
   ]
  },
  {
   "cell_type": "markdown",
   "metadata": {},
   "source": [
    "Now, let's open the Coefficients dataframe saved in the last notebook, and let's create a dictionary object based on the dataframe, where the key is going to be the attribute name and the value will be the attribute's coefficient:"
   ]
  },
  {
   "cell_type": "code",
   "execution_count": 5,
   "metadata": {},
   "outputs": [],
   "source": [
    "coefs_df = pd.read_csv(\"csv/Coefficients.csv\")"
   ]
  },
  {
   "cell_type": "code",
   "execution_count": 6,
   "metadata": {},
   "outputs": [
    {
     "data": {
      "text/html": [
       "<div>\n",
       "<style scoped>\n",
       "    .dataframe tbody tr th:only-of-type {\n",
       "        vertical-align: middle;\n",
       "    }\n",
       "\n",
       "    .dataframe tbody tr th {\n",
       "        vertical-align: top;\n",
       "    }\n",
       "\n",
       "    .dataframe thead th {\n",
       "        text-align: right;\n",
       "    }\n",
       "</style>\n",
       "<table border=\"1\" class=\"dataframe\">\n",
       "  <thead>\n",
       "    <tr style=\"text-align: right;\">\n",
       "      <th></th>\n",
       "      <th>Column</th>\n",
       "      <th>Coef</th>\n",
       "    </tr>\n",
       "  </thead>\n",
       "  <tbody>\n",
       "    <tr>\n",
       "      <th>0</th>\n",
       "      <td>Indoor</td>\n",
       "      <td>-0.007387</td>\n",
       "    </tr>\n",
       "    <tr>\n",
       "      <th>1</th>\n",
       "      <td>Outdoor</td>\n",
       "      <td>0.010640</td>\n",
       "    </tr>\n",
       "    <tr>\n",
       "      <th>2</th>\n",
       "      <td>Carpet</td>\n",
       "      <td>0.008419</td>\n",
       "    </tr>\n",
       "    <tr>\n",
       "      <th>3</th>\n",
       "      <td>Clay</td>\n",
       "      <td>-0.004023</td>\n",
       "    </tr>\n",
       "    <tr>\n",
       "      <th>4</th>\n",
       "      <td>Grass</td>\n",
       "      <td>-0.028995</td>\n",
       "    </tr>\n",
       "  </tbody>\n",
       "</table>\n",
       "</div>"
      ],
      "text/plain": [
       "    Column      Coef\n",
       "0   Indoor -0.007387\n",
       "1  Outdoor  0.010640\n",
       "2   Carpet  0.008419\n",
       "3     Clay -0.004023\n",
       "4    Grass -0.028995"
      ]
     },
     "execution_count": 6,
     "metadata": {},
     "output_type": "execute_result"
    }
   ],
   "source": [
    "coefs_df.head()"
   ]
  },
  {
   "cell_type": "code",
   "execution_count": 7,
   "metadata": {},
   "outputs": [],
   "source": [
    "coefs_map = {}\n",
    "for ix, row in coefs_df.iterrows():\n",
    "\n",
    "    attribute = row['Column']\n",
    "    attribute_coef = row['Coef']\n",
    "\n",
    "    coefs_map[attribute] = attribute_coef"
   ]
  },
  {
   "cell_type": "code",
   "execution_count": 8,
   "metadata": {
    "scrolled": false
   },
   "outputs": [
    {
     "data": {
      "text/plain": [
       "{'Indoor': -0.0073866720346099715,\n",
       " 'Outdoor': 0.010639917903172487,\n",
       " 'Carpet': 0.008418532672556997,\n",
       " 'Clay': -0.004023062033578142,\n",
       " 'Grass': -0.028995405210230762,\n",
       " 'Hard': 0.027853180439818367,\n",
       " 'ATP250': 0.01234976349121474,\n",
       " 'ATP500': 0.016974568291650945,\n",
       " 'Grand Slam': -0.016995165311491058,\n",
       " 'Masters 1000': 0.04061634710986834,\n",
       " 'Masters Cup': -0.049692267712689565,\n",
       " '0th Round': 0.0,\n",
       " '1st Round': -0.00624767192967942,\n",
       " '2nd Round': 0.015247250031749909,\n",
       " '3rd Round': -0.07322176649015735,\n",
       " '4th Round': 0.02361712906780745,\n",
       " 'Quarterfinals': -0.02908479289950005,\n",
       " 'Round Robin': 0.0868967594291554,\n",
       " 'Semifinals': -0.015117051870574869,\n",
       " 'The Final': 0.0011633905297499774,\n",
       " 'Rank Index': 0.32476563162455485,\n",
       " 'Pl0 Recent Form': -0.2703264053963188,\n",
       " 'Pl0 Form': 0.4759923706696832,\n",
       " 'Pl1 Recent Form': 0.1785670912193669,\n",
       " 'Pl1 Form': -0.5970962366116814,\n",
       " 'Pl0 Perf. vs Similar Opponent': -2.4884623654880484,\n",
       " 'Pl1 Perf. vs Similar Opponent': 2.2635239881411184,\n",
       " 'Pl0 Surface Performance': -3.0394764936223386,\n",
       " 'Pl1 Surface Performance': 3.4325660130101783}"
      ]
     },
     "execution_count": 8,
     "metadata": {},
     "output_type": "execute_result"
    }
   ],
   "source": [
    "coefs_map"
   ]
  },
  {
   "cell_type": "markdown",
   "metadata": {},
   "source": [
    "Let's make a quick analysis on the greatest indicators for player 1 to win a match against player 0.\n",
    "Let's see which attributes matter the most:"
   ]
  },
  {
   "cell_type": "code",
   "execution_count": 19,
   "metadata": {
    "scrolled": true
   },
   "outputs": [
    {
     "data": {
      "text/html": [
       "<div>\n",
       "<style scoped>\n",
       "    .dataframe tbody tr th:only-of-type {\n",
       "        vertical-align: middle;\n",
       "    }\n",
       "\n",
       "    .dataframe tbody tr th {\n",
       "        vertical-align: top;\n",
       "    }\n",
       "\n",
       "    .dataframe thead th {\n",
       "        text-align: right;\n",
       "    }\n",
       "</style>\n",
       "<table border=\"1\" class=\"dataframe\">\n",
       "  <thead>\n",
       "    <tr style=\"text-align: right;\">\n",
       "      <th></th>\n",
       "      <th>Column</th>\n",
       "      <th>Coef</th>\n",
       "    </tr>\n",
       "  </thead>\n",
       "  <tbody>\n",
       "    <tr>\n",
       "      <th>28</th>\n",
       "      <td>Pl1 Surface Performance</td>\n",
       "      <td>3.432566</td>\n",
       "    </tr>\n",
       "    <tr>\n",
       "      <th>26</th>\n",
       "      <td>Pl1 Perf. vs Similar Opponent</td>\n",
       "      <td>2.263524</td>\n",
       "    </tr>\n",
       "    <tr>\n",
       "      <th>22</th>\n",
       "      <td>Pl0 Form</td>\n",
       "      <td>0.475992</td>\n",
       "    </tr>\n",
       "    <tr>\n",
       "      <th>20</th>\n",
       "      <td>Rank Index</td>\n",
       "      <td>0.324766</td>\n",
       "    </tr>\n",
       "    <tr>\n",
       "      <th>23</th>\n",
       "      <td>Pl1 Recent Form</td>\n",
       "      <td>0.178567</td>\n",
       "    </tr>\n",
       "    <tr>\n",
       "      <th>21</th>\n",
       "      <td>Pl0 Recent Form</td>\n",
       "      <td>-0.270326</td>\n",
       "    </tr>\n",
       "    <tr>\n",
       "      <th>24</th>\n",
       "      <td>Pl1 Form</td>\n",
       "      <td>-0.597096</td>\n",
       "    </tr>\n",
       "    <tr>\n",
       "      <th>25</th>\n",
       "      <td>Pl0 Perf. vs Similar Opponent</td>\n",
       "      <td>-2.488462</td>\n",
       "    </tr>\n",
       "    <tr>\n",
       "      <th>27</th>\n",
       "      <td>Pl0 Surface Performance</td>\n",
       "      <td>-3.039476</td>\n",
       "    </tr>\n",
       "  </tbody>\n",
       "</table>\n",
       "</div>"
      ],
      "text/plain": [
       "                           Column      Coef\n",
       "28        Pl1 Surface Performance  3.432566\n",
       "26  Pl1 Perf. vs Similar Opponent  2.263524\n",
       "22                       Pl0 Form  0.475992\n",
       "20                     Rank Index  0.324766\n",
       "23                Pl1 Recent Form  0.178567\n",
       "21                Pl0 Recent Form -0.270326\n",
       "24                       Pl1 Form -0.597096\n",
       "25  Pl0 Perf. vs Similar Opponent -2.488462\n",
       "27        Pl0 Surface Performance -3.039476"
      ]
     },
     "execution_count": 19,
     "metadata": {},
     "output_type": "execute_result"
    }
   ],
   "source": [
    "coefs_df[abs(coefs_df['Coef']) > 0.1].sort_values('Coef', ascending = False)"
   ]
  },
  {
   "cell_type": "markdown",
   "metadata": {},
   "source": [
    "We can see that the most important features are:\n",
    "- Player performance on specific surface\n",
    "- Player performance against similar ranked opponents\n",
    "- The opponent's form\n",
    "- The rank index\n",
    "- The players recent form"
   ]
  },
  {
   "cell_type": "markdown",
   "metadata": {},
   "source": [
    "Let's load our matches Dataset"
   ]
  },
  {
   "cell_type": "code",
   "execution_count": 10,
   "metadata": {},
   "outputs": [],
   "source": [
    "df = pd.read_csv(\"csv/FeatureCalculated_Data.csv\")"
   ]
  },
  {
   "cell_type": "markdown",
   "metadata": {},
   "source": [
    "Now our goal is to build another Dataframe, containing the informations about the the players, who wins each match, the average and maximum odds available for each player, and we'll use the logistic regression coefficients (and the intercept) to calculate the predicted chances to win for each player:"
   ]
  },
  {
   "cell_type": "code",
   "execution_count": 11,
   "metadata": {},
   "outputs": [],
   "source": [
    "betting_data_df = df[(df[\"Avg_Pl0\"] > 1) & (df[\"Avg_Pl1\"] > 1) & (df[\"Max_Pl0\"] > 1) & (df[\"Max_Pl1\"] > 1)]\n",
    "\n",
    "betting_df_list = []\n",
    "for ix, irow in betting_data_df.iterrows():\n",
    "\n",
    "    current_linear_combination = lreg.intercept_[0]\n",
    "    for attribute in list(coefs_map.keys()):\n",
    "        attr_value = irow[attribute]\n",
    "        attr_weighted = attr_value * coefs_map.get(attribute)\n",
    "        current_linear_combination += attr_weighted\n",
    "    \n",
    "    prob_p1_win = round(exp(current_linear_combination) / (1 + exp(current_linear_combination)), 2)\n",
    "    prob_p0_win = round(1 - prob_p1_win, 2)\n",
    "\n",
    "    betting_df_list.append(   {\"Pl0\":irow['Player 0'], \"Pl1\":irow['Player 1'], \"Winner\":irow['Won'], \"Pl0 %\":prob_p0_win, \"Pl1 %\":prob_p1_win, \\\n",
    "                              \"Pl0 Avg odds\": irow['Avg_Pl0'], \"Pl1 Avg odds\": irow['Avg_Pl1'], \"Pl0 Max odds\": irow['Max_Pl0'],\n",
    "                               \"Pl1 Max odds\": irow['Max_Pl1']\n",
    "                              })\n",
    "    \n",
    "betting_df = pd.DataFrame(betting_df_list)"
   ]
  },
  {
   "cell_type": "code",
   "execution_count": 12,
   "metadata": {
    "scrolled": true
   },
   "outputs": [
    {
     "data": {
      "text/html": [
       "<div>\n",
       "<style scoped>\n",
       "    .dataframe tbody tr th:only-of-type {\n",
       "        vertical-align: middle;\n",
       "    }\n",
       "\n",
       "    .dataframe tbody tr th {\n",
       "        vertical-align: top;\n",
       "    }\n",
       "\n",
       "    .dataframe thead th {\n",
       "        text-align: right;\n",
       "    }\n",
       "</style>\n",
       "<table border=\"1\" class=\"dataframe\">\n",
       "  <thead>\n",
       "    <tr style=\"text-align: right;\">\n",
       "      <th></th>\n",
       "      <th>Pl0</th>\n",
       "      <th>Pl1</th>\n",
       "      <th>Winner</th>\n",
       "      <th>Pl0 %</th>\n",
       "      <th>Pl1 %</th>\n",
       "      <th>Pl0 Avg odds</th>\n",
       "      <th>Pl1 Avg odds</th>\n",
       "      <th>Pl0 Max odds</th>\n",
       "      <th>Pl1 Max odds</th>\n",
       "    </tr>\n",
       "  </thead>\n",
       "  <tbody>\n",
       "    <tr>\n",
       "      <th>0</th>\n",
       "      <td>De Bakker T.</td>\n",
       "      <td>Falla A.</td>\n",
       "      <td>0.0</td>\n",
       "      <td>0.62</td>\n",
       "      <td>0.38</td>\n",
       "      <td>1.52</td>\n",
       "      <td>2.46</td>\n",
       "      <td>1.62</td>\n",
       "      <td>2.79</td>\n",
       "    </tr>\n",
       "    <tr>\n",
       "      <th>1</th>\n",
       "      <td>Starace P.</td>\n",
       "      <td>Hajek J.</td>\n",
       "      <td>1.0</td>\n",
       "      <td>0.67</td>\n",
       "      <td>0.33</td>\n",
       "      <td>1.34</td>\n",
       "      <td>3.12</td>\n",
       "      <td>1.40</td>\n",
       "      <td>3.64</td>\n",
       "    </tr>\n",
       "    <tr>\n",
       "      <th>2</th>\n",
       "      <td>Schwank E.</td>\n",
       "      <td>Fognini F.</td>\n",
       "      <td>0.0</td>\n",
       "      <td>0.35</td>\n",
       "      <td>0.65</td>\n",
       "      <td>1.99</td>\n",
       "      <td>1.77</td>\n",
       "      <td>2.14</td>\n",
       "      <td>1.85</td>\n",
       "    </tr>\n",
       "    <tr>\n",
       "      <th>3</th>\n",
       "      <td>Rochus C.</td>\n",
       "      <td>Garcia-Lopez G.</td>\n",
       "      <td>1.0</td>\n",
       "      <td>0.32</td>\n",
       "      <td>0.68</td>\n",
       "      <td>3.02</td>\n",
       "      <td>1.36</td>\n",
       "      <td>3.25</td>\n",
       "      <td>1.45</td>\n",
       "    </tr>\n",
       "    <tr>\n",
       "      <th>4</th>\n",
       "      <td>Bellucci T.</td>\n",
       "      <td>Nieminen J.</td>\n",
       "      <td>0.0</td>\n",
       "      <td>0.58</td>\n",
       "      <td>0.42</td>\n",
       "      <td>1.46</td>\n",
       "      <td>2.63</td>\n",
       "      <td>1.50</td>\n",
       "      <td>3.09</td>\n",
       "    </tr>\n",
       "  </tbody>\n",
       "</table>\n",
       "</div>"
      ],
      "text/plain": [
       "            Pl0              Pl1  Winner  Pl0 %  Pl1 %  Pl0 Avg odds  \\\n",
       "0  De Bakker T.         Falla A.     0.0   0.62   0.38          1.52   \n",
       "1    Starace P.         Hajek J.     1.0   0.67   0.33          1.34   \n",
       "2    Schwank E.       Fognini F.     0.0   0.35   0.65          1.99   \n",
       "3     Rochus C.  Garcia-Lopez G.     1.0   0.32   0.68          3.02   \n",
       "4   Bellucci T.      Nieminen J.     0.0   0.58   0.42          1.46   \n",
       "\n",
       "   Pl1 Avg odds  Pl0 Max odds  Pl1 Max odds  \n",
       "0          2.46          1.62          2.79  \n",
       "1          3.12          1.40          3.64  \n",
       "2          1.77          2.14          1.85  \n",
       "3          1.36          3.25          1.45  \n",
       "4          2.63          1.50          3.09  "
      ]
     },
     "execution_count": 12,
     "metadata": {},
     "output_type": "execute_result"
    }
   ],
   "source": [
    "betting_df.head()"
   ]
  },
  {
   "cell_type": "markdown",
   "metadata": {},
   "source": [
    "Let's define a helper funxtion that takes a change in input and returns the 'fair' odds for that chance value."
   ]
  },
  {
   "cell_type": "code",
   "execution_count": 13,
   "metadata": {},
   "outputs": [],
   "source": [
    "def right_odds(chance):\n",
    "    return round(1/chance,2)"
   ]
  },
  {
   "cell_type": "markdown",
   "metadata": {},
   "source": [
    "Now, we have everything we need to make decisions based on which player, for each match, we get the most value betting on!\n",
    "In fact, next we're going to append to this betting dataframe another 4 columns.\n",
    "\n",
    "The fair odds for both player 0 and player 1, based on the chances of each player to win according to the Logistic Regression model, and the value that we would get betting on each player at the max odds available!"
   ]
  },
  {
   "cell_type": "code",
   "execution_count": 14,
   "metadata": {},
   "outputs": [],
   "source": [
    "for ix, row in betting_df.iterrows():\n",
    "    right_odds_p0 = right_odds(row['Pl0 %'])\n",
    "    right_odds_p1 = right_odds(row['Pl1 %'])\n",
    "    bet_value_p0 = (row['Pl0 Max odds'] - right_odds_p0)/max(right_odds_p0,row['Pl0 Max odds'])\n",
    "    bet_value_p1 = (row['Pl1 Max odds'] - right_odds_p1)/max(right_odds_p1,row['Pl1 Max odds'])\n",
    "    betting_df.at[ix, 'Fair odds for Pl0'] = right_odds_p0\n",
    "    betting_df.at[ix, 'Fair odds for Pl1'] = right_odds_p1\n",
    "    betting_df.at[ix, 'Bet on Pl0 Value'] = bet_value_p0\n",
    "    betting_df.at[ix, 'Bet on Pl1 Value'] = bet_value_p1"
   ]
  },
  {
   "cell_type": "code",
   "execution_count": 15,
   "metadata": {
    "scrolled": true
   },
   "outputs": [
    {
     "data": {
      "text/html": [
       "<div>\n",
       "<style scoped>\n",
       "    .dataframe tbody tr th:only-of-type {\n",
       "        vertical-align: middle;\n",
       "    }\n",
       "\n",
       "    .dataframe tbody tr th {\n",
       "        vertical-align: top;\n",
       "    }\n",
       "\n",
       "    .dataframe thead th {\n",
       "        text-align: right;\n",
       "    }\n",
       "</style>\n",
       "<table border=\"1\" class=\"dataframe\">\n",
       "  <thead>\n",
       "    <tr style=\"text-align: right;\">\n",
       "      <th></th>\n",
       "      <th>Pl0</th>\n",
       "      <th>Pl1</th>\n",
       "      <th>Winner</th>\n",
       "      <th>Pl0 %</th>\n",
       "      <th>Pl1 %</th>\n",
       "      <th>Pl0 Avg odds</th>\n",
       "      <th>Pl1 Avg odds</th>\n",
       "      <th>Pl0 Max odds</th>\n",
       "      <th>Pl1 Max odds</th>\n",
       "      <th>Fair odds for Pl0</th>\n",
       "      <th>Fair odds for Pl1</th>\n",
       "      <th>Bet on Pl0 Value</th>\n",
       "      <th>Bet on Pl1 Value</th>\n",
       "    </tr>\n",
       "  </thead>\n",
       "  <tbody>\n",
       "    <tr>\n",
       "      <th>0</th>\n",
       "      <td>De Bakker T.</td>\n",
       "      <td>Falla A.</td>\n",
       "      <td>0.0</td>\n",
       "      <td>0.62</td>\n",
       "      <td>0.38</td>\n",
       "      <td>1.52</td>\n",
       "      <td>2.46</td>\n",
       "      <td>1.62</td>\n",
       "      <td>2.79</td>\n",
       "      <td>1.61</td>\n",
       "      <td>2.63</td>\n",
       "      <td>0.006173</td>\n",
       "      <td>0.057348</td>\n",
       "    </tr>\n",
       "    <tr>\n",
       "      <th>1</th>\n",
       "      <td>Starace P.</td>\n",
       "      <td>Hajek J.</td>\n",
       "      <td>1.0</td>\n",
       "      <td>0.67</td>\n",
       "      <td>0.33</td>\n",
       "      <td>1.34</td>\n",
       "      <td>3.12</td>\n",
       "      <td>1.40</td>\n",
       "      <td>3.64</td>\n",
       "      <td>1.49</td>\n",
       "      <td>3.03</td>\n",
       "      <td>-0.060403</td>\n",
       "      <td>0.167582</td>\n",
       "    </tr>\n",
       "    <tr>\n",
       "      <th>2</th>\n",
       "      <td>Schwank E.</td>\n",
       "      <td>Fognini F.</td>\n",
       "      <td>0.0</td>\n",
       "      <td>0.35</td>\n",
       "      <td>0.65</td>\n",
       "      <td>1.99</td>\n",
       "      <td>1.77</td>\n",
       "      <td>2.14</td>\n",
       "      <td>1.85</td>\n",
       "      <td>2.86</td>\n",
       "      <td>1.54</td>\n",
       "      <td>-0.251748</td>\n",
       "      <td>0.167568</td>\n",
       "    </tr>\n",
       "    <tr>\n",
       "      <th>3</th>\n",
       "      <td>Rochus C.</td>\n",
       "      <td>Garcia-Lopez G.</td>\n",
       "      <td>1.0</td>\n",
       "      <td>0.32</td>\n",
       "      <td>0.68</td>\n",
       "      <td>3.02</td>\n",
       "      <td>1.36</td>\n",
       "      <td>3.25</td>\n",
       "      <td>1.45</td>\n",
       "      <td>3.12</td>\n",
       "      <td>1.47</td>\n",
       "      <td>0.040000</td>\n",
       "      <td>-0.013605</td>\n",
       "    </tr>\n",
       "    <tr>\n",
       "      <th>4</th>\n",
       "      <td>Bellucci T.</td>\n",
       "      <td>Nieminen J.</td>\n",
       "      <td>0.0</td>\n",
       "      <td>0.58</td>\n",
       "      <td>0.42</td>\n",
       "      <td>1.46</td>\n",
       "      <td>2.63</td>\n",
       "      <td>1.50</td>\n",
       "      <td>3.09</td>\n",
       "      <td>1.72</td>\n",
       "      <td>2.38</td>\n",
       "      <td>-0.127907</td>\n",
       "      <td>0.229773</td>\n",
       "    </tr>\n",
       "    <tr>\n",
       "      <th>...</th>\n",
       "      <td>...</td>\n",
       "      <td>...</td>\n",
       "      <td>...</td>\n",
       "      <td>...</td>\n",
       "      <td>...</td>\n",
       "      <td>...</td>\n",
       "      <td>...</td>\n",
       "      <td>...</td>\n",
       "      <td>...</td>\n",
       "      <td>...</td>\n",
       "      <td>...</td>\n",
       "      <td>...</td>\n",
       "      <td>...</td>\n",
       "    </tr>\n",
       "    <tr>\n",
       "      <th>17099</th>\n",
       "      <td>Zverev A.</td>\n",
       "      <td>Youzhny M.</td>\n",
       "      <td>0.0</td>\n",
       "      <td>0.56</td>\n",
       "      <td>0.44</td>\n",
       "      <td>1.60</td>\n",
       "      <td>2.30</td>\n",
       "      <td>1.66</td>\n",
       "      <td>2.45</td>\n",
       "      <td>1.79</td>\n",
       "      <td>2.27</td>\n",
       "      <td>-0.072626</td>\n",
       "      <td>0.073469</td>\n",
       "    </tr>\n",
       "    <tr>\n",
       "      <th>17100</th>\n",
       "      <td>Troicki V.</td>\n",
       "      <td>Wawrinka S.</td>\n",
       "      <td>1.0</td>\n",
       "      <td>0.18</td>\n",
       "      <td>0.82</td>\n",
       "      <td>4.34</td>\n",
       "      <td>1.21</td>\n",
       "      <td>4.91</td>\n",
       "      <td>1.24</td>\n",
       "      <td>5.56</td>\n",
       "      <td>1.22</td>\n",
       "      <td>-0.116906</td>\n",
       "      <td>0.016129</td>\n",
       "    </tr>\n",
       "    <tr>\n",
       "      <th>17101</th>\n",
       "      <td>Zverev A.</td>\n",
       "      <td>Berdych T.</td>\n",
       "      <td>0.0</td>\n",
       "      <td>0.17</td>\n",
       "      <td>0.83</td>\n",
       "      <td>2.68</td>\n",
       "      <td>1.46</td>\n",
       "      <td>3.12</td>\n",
       "      <td>1.57</td>\n",
       "      <td>5.88</td>\n",
       "      <td>1.20</td>\n",
       "      <td>-0.469388</td>\n",
       "      <td>0.235669</td>\n",
       "    </tr>\n",
       "    <tr>\n",
       "      <th>17102</th>\n",
       "      <td>Bautista Agut R.</td>\n",
       "      <td>Wawrinka S.</td>\n",
       "      <td>1.0</td>\n",
       "      <td>0.28</td>\n",
       "      <td>0.72</td>\n",
       "      <td>3.40</td>\n",
       "      <td>1.31</td>\n",
       "      <td>3.80</td>\n",
       "      <td>1.41</td>\n",
       "      <td>3.57</td>\n",
       "      <td>1.39</td>\n",
       "      <td>0.060526</td>\n",
       "      <td>0.014184</td>\n",
       "    </tr>\n",
       "    <tr>\n",
       "      <th>17103</th>\n",
       "      <td>Zverev A.</td>\n",
       "      <td>Wawrinka S.</td>\n",
       "      <td>0.0</td>\n",
       "      <td>0.37</td>\n",
       "      <td>0.63</td>\n",
       "      <td>3.36</td>\n",
       "      <td>1.31</td>\n",
       "      <td>3.58</td>\n",
       "      <td>1.36</td>\n",
       "      <td>2.70</td>\n",
       "      <td>1.59</td>\n",
       "      <td>0.245810</td>\n",
       "      <td>-0.144654</td>\n",
       "    </tr>\n",
       "  </tbody>\n",
       "</table>\n",
       "<p>17104 rows × 13 columns</p>\n",
       "</div>"
      ],
      "text/plain": [
       "                    Pl0              Pl1  Winner  Pl0 %  Pl1 %  Pl0 Avg odds  \\\n",
       "0          De Bakker T.         Falla A.     0.0   0.62   0.38          1.52   \n",
       "1            Starace P.         Hajek J.     1.0   0.67   0.33          1.34   \n",
       "2            Schwank E.       Fognini F.     0.0   0.35   0.65          1.99   \n",
       "3             Rochus C.  Garcia-Lopez G.     1.0   0.32   0.68          3.02   \n",
       "4           Bellucci T.      Nieminen J.     0.0   0.58   0.42          1.46   \n",
       "...                 ...              ...     ...    ...    ...           ...   \n",
       "17099         Zverev A.       Youzhny M.     0.0   0.56   0.44          1.60   \n",
       "17100        Troicki V.      Wawrinka S.     1.0   0.18   0.82          4.34   \n",
       "17101         Zverev A.       Berdych T.     0.0   0.17   0.83          2.68   \n",
       "17102  Bautista Agut R.      Wawrinka S.     1.0   0.28   0.72          3.40   \n",
       "17103         Zverev A.      Wawrinka S.     0.0   0.37   0.63          3.36   \n",
       "\n",
       "       Pl1 Avg odds  Pl0 Max odds  Pl1 Max odds  Fair odds for Pl0  \\\n",
       "0              2.46          1.62          2.79               1.61   \n",
       "1              3.12          1.40          3.64               1.49   \n",
       "2              1.77          2.14          1.85               2.86   \n",
       "3              1.36          3.25          1.45               3.12   \n",
       "4              2.63          1.50          3.09               1.72   \n",
       "...             ...           ...           ...                ...   \n",
       "17099          2.30          1.66          2.45               1.79   \n",
       "17100          1.21          4.91          1.24               5.56   \n",
       "17101          1.46          3.12          1.57               5.88   \n",
       "17102          1.31          3.80          1.41               3.57   \n",
       "17103          1.31          3.58          1.36               2.70   \n",
       "\n",
       "       Fair odds for Pl1  Bet on Pl0 Value  Bet on Pl1 Value  \n",
       "0                   2.63          0.006173          0.057348  \n",
       "1                   3.03         -0.060403          0.167582  \n",
       "2                   1.54         -0.251748          0.167568  \n",
       "3                   1.47          0.040000         -0.013605  \n",
       "4                   2.38         -0.127907          0.229773  \n",
       "...                  ...               ...               ...  \n",
       "17099               2.27         -0.072626          0.073469  \n",
       "17100               1.22         -0.116906          0.016129  \n",
       "17101               1.20         -0.469388          0.235669  \n",
       "17102               1.39          0.060526          0.014184  \n",
       "17103               1.59          0.245810         -0.144654  \n",
       "\n",
       "[17104 rows x 13 columns]"
      ]
     },
     "execution_count": 15,
     "metadata": {},
     "output_type": "execute_result"
    }
   ],
   "source": [
    "betting_df"
   ]
  },
  {
   "cell_type": "markdown",
   "metadata": {},
   "source": [
    "We just obtained 17104 matches where we can bet on the player who's value is higher!\n",
    "Let's save this dataframe!"
   ]
  },
  {
   "cell_type": "code",
   "execution_count": 16,
   "metadata": {},
   "outputs": [],
   "source": [
    "betting_df.to_csv(\"csv/Betting_Data.csv\", index=False)"
   ]
  }
 ],
 "metadata": {
  "kernelspec": {
   "display_name": "Python 3",
   "language": "python",
   "name": "python3"
  },
  "language_info": {
   "codemirror_mode": {
    "name": "ipython",
    "version": 3
   },
   "file_extension": ".py",
   "mimetype": "text/x-python",
   "name": "python",
   "nbconvert_exporter": "python",
   "pygments_lexer": "ipython3",
   "version": "3.7.6"
  }
 },
 "nbformat": 4,
 "nbformat_minor": 4
}
